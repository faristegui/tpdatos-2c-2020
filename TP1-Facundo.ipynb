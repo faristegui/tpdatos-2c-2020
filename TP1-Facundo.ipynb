{
 "cells": [
  {
   "cell_type": "code",
   "execution_count": 1,
   "metadata": {},
   "outputs": [],
   "source": [
    "import pandas as pd\n",
    "import matplotlib.pyplot as plt\n",
    "import numpy as np"
   ]
  },
  {
   "cell_type": "code",
   "execution_count": 2,
   "metadata": {},
   "outputs": [],
   "source": [
    "df_oportunidades = pd.read_csv('data/Entrenamieto_ECI_2020.csv')"
   ]
  },
  {
   "cell_type": "code",
   "execution_count": 3,
   "metadata": {},
   "outputs": [
    {
     "data": {
      "text/html": [
       "<div>\n",
       "<style scoped>\n",
       "    .dataframe tbody tr th:only-of-type {\n",
       "        vertical-align: middle;\n",
       "    }\n",
       "\n",
       "    .dataframe tbody tr th {\n",
       "        vertical-align: top;\n",
       "    }\n",
       "\n",
       "    .dataframe thead th {\n",
       "        text-align: right;\n",
       "    }\n",
       "</style>\n",
       "<table border=\"1\" class=\"dataframe\">\n",
       "  <thead>\n",
       "    <tr style=\"text-align: right;\">\n",
       "      <th></th>\n",
       "      <th>ID</th>\n",
       "      <th>Region</th>\n",
       "      <th>Territory</th>\n",
       "      <th>Pricing, Delivery_Terms_Quote_Appr</th>\n",
       "      <th>Pricing, Delivery_Terms_Approved</th>\n",
       "      <th>Bureaucratic_Code_0_Approval</th>\n",
       "      <th>Bureaucratic_Code_0_Approved</th>\n",
       "      <th>Submitted_for_Approval</th>\n",
       "      <th>Bureaucratic_Code</th>\n",
       "      <th>Account_Created_Date</th>\n",
       "      <th>...</th>\n",
       "      <th>Delivery_Quarter</th>\n",
       "      <th>Delivery_Year</th>\n",
       "      <th>Actual_Delivery_Date</th>\n",
       "      <th>TRF</th>\n",
       "      <th>Total_Amount_Currency</th>\n",
       "      <th>Total_Amount</th>\n",
       "      <th>Total_Taxable_Amount_Currency</th>\n",
       "      <th>Total_Taxable_Amount</th>\n",
       "      <th>Stage</th>\n",
       "      <th>Prod_Category_A</th>\n",
       "    </tr>\n",
       "  </thead>\n",
       "  <tbody>\n",
       "    <tr>\n",
       "      <th>0</th>\n",
       "      <td>27761</td>\n",
       "      <td>EMEA</td>\n",
       "      <td>None</td>\n",
       "      <td>1</td>\n",
       "      <td>1</td>\n",
       "      <td>1</td>\n",
       "      <td>1</td>\n",
       "      <td>0</td>\n",
       "      <td>Bureaucratic_Code_4</td>\n",
       "      <td>6/16/2015</td>\n",
       "      <td>...</td>\n",
       "      <td>Q2</td>\n",
       "      <td>2016</td>\n",
       "      <td>NaT</td>\n",
       "      <td>10</td>\n",
       "      <td>EUR</td>\n",
       "      <td>5272800.0</td>\n",
       "      <td>EUR</td>\n",
       "      <td>5272800.0</td>\n",
       "      <td>Closed Lost</td>\n",
       "      <td>Prod_Category_A_None</td>\n",
       "    </tr>\n",
       "    <tr>\n",
       "      <th>1</th>\n",
       "      <td>27760</td>\n",
       "      <td>EMEA</td>\n",
       "      <td>None</td>\n",
       "      <td>0</td>\n",
       "      <td>0</td>\n",
       "      <td>0</td>\n",
       "      <td>0</td>\n",
       "      <td>0</td>\n",
       "      <td>Bureaucratic_Code_4</td>\n",
       "      <td>6/16/2015</td>\n",
       "      <td>...</td>\n",
       "      <td>Q1</td>\n",
       "      <td>2016</td>\n",
       "      <td>NaT</td>\n",
       "      <td>0</td>\n",
       "      <td>EUR</td>\n",
       "      <td>48230.0</td>\n",
       "      <td>EUR</td>\n",
       "      <td>48230.0</td>\n",
       "      <td>Closed Won</td>\n",
       "      <td>Prod_Category_A_None</td>\n",
       "    </tr>\n",
       "    <tr>\n",
       "      <th>2</th>\n",
       "      <td>27446</td>\n",
       "      <td>Americas</td>\n",
       "      <td>NW America</td>\n",
       "      <td>0</td>\n",
       "      <td>0</td>\n",
       "      <td>0</td>\n",
       "      <td>0</td>\n",
       "      <td>0</td>\n",
       "      <td>Bureaucratic_Code_4</td>\n",
       "      <td>4/21/2015</td>\n",
       "      <td>...</td>\n",
       "      <td>Q1</td>\n",
       "      <td>2016</td>\n",
       "      <td>NaT</td>\n",
       "      <td>0</td>\n",
       "      <td>USD</td>\n",
       "      <td>83865.6</td>\n",
       "      <td>USD</td>\n",
       "      <td>83865.6</td>\n",
       "      <td>Closed Won</td>\n",
       "      <td>Prod_Category_A_None</td>\n",
       "    </tr>\n",
       "    <tr>\n",
       "      <th>3</th>\n",
       "      <td>16808</td>\n",
       "      <td>Americas</td>\n",
       "      <td>NW America</td>\n",
       "      <td>1</td>\n",
       "      <td>0</td>\n",
       "      <td>1</td>\n",
       "      <td>0</td>\n",
       "      <td>0</td>\n",
       "      <td>Bureaucratic_Code_5</td>\n",
       "      <td>7/27/2013</td>\n",
       "      <td>...</td>\n",
       "      <td>Q1</td>\n",
       "      <td>2018</td>\n",
       "      <td>NaT</td>\n",
       "      <td>14</td>\n",
       "      <td>USD</td>\n",
       "      <td>7421881.5</td>\n",
       "      <td>USD</td>\n",
       "      <td>7421881.5</td>\n",
       "      <td>Closed Lost</td>\n",
       "      <td>Prod_Category_A_None</td>\n",
       "    </tr>\n",
       "    <tr>\n",
       "      <th>4</th>\n",
       "      <td>16805</td>\n",
       "      <td>Americas</td>\n",
       "      <td>NW America</td>\n",
       "      <td>1</td>\n",
       "      <td>0</td>\n",
       "      <td>1</td>\n",
       "      <td>0</td>\n",
       "      <td>0</td>\n",
       "      <td>Bureaucratic_Code_5</td>\n",
       "      <td>7/27/2013</td>\n",
       "      <td>...</td>\n",
       "      <td>Q1</td>\n",
       "      <td>2018</td>\n",
       "      <td>NaT</td>\n",
       "      <td>25</td>\n",
       "      <td>USD</td>\n",
       "      <td>13357192.5</td>\n",
       "      <td>USD</td>\n",
       "      <td>13357192.5</td>\n",
       "      <td>Closed Lost</td>\n",
       "      <td>Prod_Category_A_None</td>\n",
       "    </tr>\n",
       "  </tbody>\n",
       "</table>\n",
       "<p>5 rows × 52 columns</p>\n",
       "</div>"
      ],
      "text/plain": [
       "      ID    Region   Territory  Pricing, Delivery_Terms_Quote_Appr  \\\n",
       "0  27761      EMEA        None                                   1   \n",
       "1  27760      EMEA        None                                   0   \n",
       "2  27446  Americas  NW America                                   0   \n",
       "3  16808  Americas  NW America                                   1   \n",
       "4  16805  Americas  NW America                                   1   \n",
       "\n",
       "   Pricing, Delivery_Terms_Approved  Bureaucratic_Code_0_Approval  \\\n",
       "0                                 1                             1   \n",
       "1                                 0                             0   \n",
       "2                                 0                             0   \n",
       "3                                 0                             1   \n",
       "4                                 0                             1   \n",
       "\n",
       "   Bureaucratic_Code_0_Approved  Submitted_for_Approval    Bureaucratic_Code  \\\n",
       "0                             1                       0  Bureaucratic_Code_4   \n",
       "1                             0                       0  Bureaucratic_Code_4   \n",
       "2                             0                       0  Bureaucratic_Code_4   \n",
       "3                             0                       0  Bureaucratic_Code_5   \n",
       "4                             0                       0  Bureaucratic_Code_5   \n",
       "\n",
       "  Account_Created_Date  ... Delivery_Quarter Delivery_Year  \\\n",
       "0            6/16/2015  ...               Q2          2016   \n",
       "1            6/16/2015  ...               Q1          2016   \n",
       "2            4/21/2015  ...               Q1          2016   \n",
       "3            7/27/2013  ...               Q1          2018   \n",
       "4            7/27/2013  ...               Q1          2018   \n",
       "\n",
       "  Actual_Delivery_Date TRF  Total_Amount_Currency Total_Amount  \\\n",
       "0                  NaT  10                    EUR    5272800.0   \n",
       "1                  NaT   0                    EUR      48230.0   \n",
       "2                  NaT   0                    USD      83865.6   \n",
       "3                  NaT  14                    USD    7421881.5   \n",
       "4                  NaT  25                    USD   13357192.5   \n",
       "\n",
       "  Total_Taxable_Amount_Currency Total_Taxable_Amount        Stage  \\\n",
       "0                           EUR            5272800.0  Closed Lost   \n",
       "1                           EUR              48230.0   Closed Won   \n",
       "2                           USD              83865.6   Closed Won   \n",
       "3                           USD            7421881.5  Closed Lost   \n",
       "4                           USD           13357192.5  Closed Lost   \n",
       "\n",
       "        Prod_Category_A  \n",
       "0  Prod_Category_A_None  \n",
       "1  Prod_Category_A_None  \n",
       "2  Prod_Category_A_None  \n",
       "3  Prod_Category_A_None  \n",
       "4  Prod_Category_A_None  \n",
       "\n",
       "[5 rows x 52 columns]"
      ]
     },
     "execution_count": 3,
     "metadata": {},
     "output_type": "execute_result"
    }
   ],
   "source": [
    "df_oportunidades.head()"
   ]
  },
  {
   "cell_type": "code",
   "execution_count": 4,
   "metadata": {
    "scrolled": true
   },
   "outputs": [
    {
     "data": {
      "text/plain": [
       "Index(['ID', 'Region', 'Territory', 'Pricing, Delivery_Terms_Quote_Appr',\n",
       "       'Pricing, Delivery_Terms_Approved', 'Bureaucratic_Code_0_Approval',\n",
       "       'Bureaucratic_Code_0_Approved', 'Submitted_for_Approval',\n",
       "       'Bureaucratic_Code', 'Account_Created_Date', 'Source ',\n",
       "       'Billing_Country', 'Account_Name', 'Opportunity_Name', 'Opportunity_ID',\n",
       "       'Sales_Contract_No', 'Account_Owner', 'Opportunity_Owner',\n",
       "       'Account_Type', 'Opportunity_Type', 'Quote_Type', 'Delivery_Terms',\n",
       "       'Opportunity_Created_Date', 'Brand', 'Product_Type', 'Size',\n",
       "       'Product_Category_B', 'Price', 'Currency', 'Last_Activity',\n",
       "       'Quote_Expiry_Date', 'Last_Modified_Date', 'Last_Modified_By',\n",
       "       'Product_Family', 'Product_Name', 'ASP_Currency', 'ASP',\n",
       "       'ASP_(converted)_Currency', 'ASP_(converted)',\n",
       "       'Planned_Delivery_Start_Date', 'Planned_Delivery_End_Date', 'Month',\n",
       "       'Delivery_Quarter', 'Delivery_Year', 'Actual_Delivery_Date', 'TRF',\n",
       "       'Total_Amount_Currency', 'Total_Amount',\n",
       "       'Total_Taxable_Amount_Currency', 'Total_Taxable_Amount', 'Stage',\n",
       "       'Prod_Category_A'],\n",
       "      dtype='object')"
      ]
     },
     "execution_count": 4,
     "metadata": {},
     "output_type": "execute_result"
    }
   ],
   "source": [
    "df_oportunidades.columns"
   ]
  },
  {
   "cell_type": "code",
   "execution_count": 5,
   "metadata": {},
   "outputs": [
    {
     "data": {
      "text/html": [
       "<div>\n",
       "<style scoped>\n",
       "    .dataframe tbody tr th:only-of-type {\n",
       "        vertical-align: middle;\n",
       "    }\n",
       "\n",
       "    .dataframe tbody tr th {\n",
       "        vertical-align: top;\n",
       "    }\n",
       "\n",
       "    .dataframe thead th {\n",
       "        text-align: right;\n",
       "    }\n",
       "</style>\n",
       "<table border=\"1\" class=\"dataframe\">\n",
       "  <thead>\n",
       "    <tr style=\"text-align: right;\">\n",
       "      <th></th>\n",
       "      <th>ID</th>\n",
       "      <th>Pricing, Delivery_Terms_Quote_Appr</th>\n",
       "      <th>Pricing, Delivery_Terms_Approved</th>\n",
       "      <th>Bureaucratic_Code_0_Approval</th>\n",
       "      <th>Bureaucratic_Code_0_Approved</th>\n",
       "      <th>Submitted_for_Approval</th>\n",
       "      <th>Opportunity_ID</th>\n",
       "      <th>ASP</th>\n",
       "      <th>ASP_(converted)</th>\n",
       "      <th>Delivery_Year</th>\n",
       "      <th>TRF</th>\n",
       "      <th>Total_Amount</th>\n",
       "      <th>Total_Taxable_Amount</th>\n",
       "    </tr>\n",
       "  </thead>\n",
       "  <tbody>\n",
       "    <tr>\n",
       "      <th>count</th>\n",
       "      <td>16947.000000</td>\n",
       "      <td>16947.000000</td>\n",
       "      <td>16947.000000</td>\n",
       "      <td>16947.000000</td>\n",
       "      <td>16947.000000</td>\n",
       "      <td>16947.0</td>\n",
       "      <td>16947.000000</td>\n",
       "      <td>13738.000000</td>\n",
       "      <td>13738.000000</td>\n",
       "      <td>16947.000000</td>\n",
       "      <td>16947.000000</td>\n",
       "      <td>1.688800e+04</td>\n",
       "      <td>1.694700e+04</td>\n",
       "    </tr>\n",
       "    <tr>\n",
       "      <th>mean</th>\n",
       "      <td>17666.650440</td>\n",
       "      <td>0.807990</td>\n",
       "      <td>0.583584</td>\n",
       "      <td>0.475482</td>\n",
       "      <td>0.318876</td>\n",
       "      <td>0.0</td>\n",
       "      <td>5335.940225</td>\n",
       "      <td>7.012128</td>\n",
       "      <td>0.432554</td>\n",
       "      <td>2017.137428</td>\n",
       "      <td>2.338172</td>\n",
       "      <td>1.993659e+06</td>\n",
       "      <td>3.224117e+06</td>\n",
       "    </tr>\n",
       "    <tr>\n",
       "      <th>std</th>\n",
       "      <td>6940.859372</td>\n",
       "      <td>0.393893</td>\n",
       "      <td>0.492979</td>\n",
       "      <td>0.499413</td>\n",
       "      <td>0.466055</td>\n",
       "      <td>0.0</td>\n",
       "      <td>3324.723809</td>\n",
       "      <td>18.858359</td>\n",
       "      <td>0.758659</td>\n",
       "      <td>0.829603</td>\n",
       "      <td>12.169339</td>\n",
       "      <td>1.848426e+07</td>\n",
       "      <td>2.030360e+07</td>\n",
       "    </tr>\n",
       "    <tr>\n",
       "      <th>min</th>\n",
       "      <td>4854.000000</td>\n",
       "      <td>0.000000</td>\n",
       "      <td>0.000000</td>\n",
       "      <td>0.000000</td>\n",
       "      <td>0.000000</td>\n",
       "      <td>0.0</td>\n",
       "      <td>0.000000</td>\n",
       "      <td>0.000000</td>\n",
       "      <td>0.000000</td>\n",
       "      <td>2016.000000</td>\n",
       "      <td>0.000000</td>\n",
       "      <td>0.000000e+00</td>\n",
       "      <td>0.000000e+00</td>\n",
       "    </tr>\n",
       "    <tr>\n",
       "      <th>25%</th>\n",
       "      <td>11953.000000</td>\n",
       "      <td>1.000000</td>\n",
       "      <td>0.000000</td>\n",
       "      <td>0.000000</td>\n",
       "      <td>0.000000</td>\n",
       "      <td>0.0</td>\n",
       "      <td>2448.500000</td>\n",
       "      <td>0.360000</td>\n",
       "      <td>0.373260</td>\n",
       "      <td>2016.000000</td>\n",
       "      <td>0.000000</td>\n",
       "      <td>2.677500e+04</td>\n",
       "      <td>8.546580e+04</td>\n",
       "    </tr>\n",
       "    <tr>\n",
       "      <th>50%</th>\n",
       "      <td>18114.000000</td>\n",
       "      <td>1.000000</td>\n",
       "      <td>1.000000</td>\n",
       "      <td>0.000000</td>\n",
       "      <td>0.000000</td>\n",
       "      <td>0.0</td>\n",
       "      <td>5306.000000</td>\n",
       "      <td>0.400000</td>\n",
       "      <td>0.412850</td>\n",
       "      <td>2017.000000</td>\n",
       "      <td>0.000000</td>\n",
       "      <td>1.072500e+05</td>\n",
       "      <td>3.760672e+05</td>\n",
       "    </tr>\n",
       "    <tr>\n",
       "      <th>75%</th>\n",
       "      <td>23845.500000</td>\n",
       "      <td>1.000000</td>\n",
       "      <td>1.000000</td>\n",
       "      <td>1.000000</td>\n",
       "      <td>1.000000</td>\n",
       "      <td>0.0</td>\n",
       "      <td>7698.000000</td>\n",
       "      <td>0.505000</td>\n",
       "      <td>0.476490</td>\n",
       "      <td>2018.000000</td>\n",
       "      <td>1.000000</td>\n",
       "      <td>4.603898e+05</td>\n",
       "      <td>1.037450e+06</td>\n",
       "    </tr>\n",
       "    <tr>\n",
       "      <th>max</th>\n",
       "      <td>28773.000000</td>\n",
       "      <td>1.000000</td>\n",
       "      <td>1.000000</td>\n",
       "      <td>1.000000</td>\n",
       "      <td>1.000000</td>\n",
       "      <td>0.0</td>\n",
       "      <td>12803.000000</td>\n",
       "      <td>80.000000</td>\n",
       "      <td>67.000000</td>\n",
       "      <td>2020.000000</td>\n",
       "      <td>500.000000</td>\n",
       "      <td>1.320000e+09</td>\n",
       "      <td>1.356339e+09</td>\n",
       "    </tr>\n",
       "  </tbody>\n",
       "</table>\n",
       "</div>"
      ],
      "text/plain": [
       "                 ID  Pricing, Delivery_Terms_Quote_Appr  \\\n",
       "count  16947.000000                        16947.000000   \n",
       "mean   17666.650440                            0.807990   \n",
       "std     6940.859372                            0.393893   \n",
       "min     4854.000000                            0.000000   \n",
       "25%    11953.000000                            1.000000   \n",
       "50%    18114.000000                            1.000000   \n",
       "75%    23845.500000                            1.000000   \n",
       "max    28773.000000                            1.000000   \n",
       "\n",
       "       Pricing, Delivery_Terms_Approved  Bureaucratic_Code_0_Approval  \\\n",
       "count                      16947.000000                  16947.000000   \n",
       "mean                           0.583584                      0.475482   \n",
       "std                            0.492979                      0.499413   \n",
       "min                            0.000000                      0.000000   \n",
       "25%                            0.000000                      0.000000   \n",
       "50%                            1.000000                      0.000000   \n",
       "75%                            1.000000                      1.000000   \n",
       "max                            1.000000                      1.000000   \n",
       "\n",
       "       Bureaucratic_Code_0_Approved  Submitted_for_Approval  Opportunity_ID  \\\n",
       "count                  16947.000000                 16947.0    16947.000000   \n",
       "mean                       0.318876                     0.0     5335.940225   \n",
       "std                        0.466055                     0.0     3324.723809   \n",
       "min                        0.000000                     0.0        0.000000   \n",
       "25%                        0.000000                     0.0     2448.500000   \n",
       "50%                        0.000000                     0.0     5306.000000   \n",
       "75%                        1.000000                     0.0     7698.000000   \n",
       "max                        1.000000                     0.0    12803.000000   \n",
       "\n",
       "                ASP  ASP_(converted)  Delivery_Year           TRF  \\\n",
       "count  13738.000000     13738.000000   16947.000000  16947.000000   \n",
       "mean       7.012128         0.432554    2017.137428      2.338172   \n",
       "std       18.858359         0.758659       0.829603     12.169339   \n",
       "min        0.000000         0.000000    2016.000000      0.000000   \n",
       "25%        0.360000         0.373260    2016.000000      0.000000   \n",
       "50%        0.400000         0.412850    2017.000000      0.000000   \n",
       "75%        0.505000         0.476490    2018.000000      1.000000   \n",
       "max       80.000000        67.000000    2020.000000    500.000000   \n",
       "\n",
       "       Total_Amount  Total_Taxable_Amount  \n",
       "count  1.688800e+04          1.694700e+04  \n",
       "mean   1.993659e+06          3.224117e+06  \n",
       "std    1.848426e+07          2.030360e+07  \n",
       "min    0.000000e+00          0.000000e+00  \n",
       "25%    2.677500e+04          8.546580e+04  \n",
       "50%    1.072500e+05          3.760672e+05  \n",
       "75%    4.603898e+05          1.037450e+06  \n",
       "max    1.320000e+09          1.356339e+09  "
      ]
     },
     "execution_count": 5,
     "metadata": {},
     "output_type": "execute_result"
    }
   ],
   "source": [
    "df_oportunidades.describe()"
   ]
  },
  {
   "cell_type": "code",
   "execution_count": 44,
   "metadata": {},
   "outputs": [],
   "source": [
    "df_oportunidades.dropna(inplace=True)"
   ]
  },
  {
   "cell_type": "code",
   "execution_count": 60,
   "metadata": {
    "scrolled": false
   },
   "outputs": [
    {
     "data": {
      "text/html": [
       "<div>\n",
       "<style scoped>\n",
       "    .dataframe tbody tr th:only-of-type {\n",
       "        vertical-align: middle;\n",
       "    }\n",
       "\n",
       "    .dataframe tbody tr th {\n",
       "        vertical-align: top;\n",
       "    }\n",
       "\n",
       "    .dataframe thead th {\n",
       "        text-align: right;\n",
       "    }\n",
       "</style>\n",
       "<table border=\"1\" class=\"dataframe\">\n",
       "  <thead>\n",
       "    <tr style=\"text-align: right;\">\n",
       "      <th></th>\n",
       "      <th>ID</th>\n",
       "      <th>Pricing, Delivery_Terms_Quote_Appr</th>\n",
       "      <th>Pricing, Delivery_Terms_Approved</th>\n",
       "      <th>Bureaucratic_Code_0_Approval</th>\n",
       "      <th>Bureaucratic_Code_0_Approved</th>\n",
       "      <th>Submitted_for_Approval</th>\n",
       "      <th>Opportunity_ID</th>\n",
       "      <th>ASP</th>\n",
       "      <th>ASP_(converted)</th>\n",
       "      <th>Delivery_Year</th>\n",
       "      <th>TRF</th>\n",
       "      <th>Total_Amount</th>\n",
       "      <th>Total_Taxable_Amount</th>\n",
       "    </tr>\n",
       "  </thead>\n",
       "  <tbody>\n",
       "    <tr>\n",
       "      <th>count</th>\n",
       "      <td>13684.000000</td>\n",
       "      <td>13684.000000</td>\n",
       "      <td>13684.000000</td>\n",
       "      <td>13684.000000</td>\n",
       "      <td>13684.000000</td>\n",
       "      <td>13684.0</td>\n",
       "      <td>13684.000000</td>\n",
       "      <td>13684.000000</td>\n",
       "      <td>13684.000000</td>\n",
       "      <td>13684.000000</td>\n",
       "      <td>13684.000000</td>\n",
       "      <td>1.368400e+04</td>\n",
       "      <td>1.368400e+04</td>\n",
       "    </tr>\n",
       "    <tr>\n",
       "      <th>mean</th>\n",
       "      <td>16482.372406</td>\n",
       "      <td>0.774993</td>\n",
       "      <td>0.568840</td>\n",
       "      <td>0.530327</td>\n",
       "      <td>0.362979</td>\n",
       "      <td>0.0</td>\n",
       "      <td>5400.808243</td>\n",
       "      <td>7.004230</td>\n",
       "      <td>0.431282</td>\n",
       "      <td>2017.220184</td>\n",
       "      <td>2.824978</td>\n",
       "      <td>2.440420e+06</td>\n",
       "      <td>3.640489e+06</td>\n",
       "    </tr>\n",
       "    <tr>\n",
       "      <th>std</th>\n",
       "      <td>6531.039649</td>\n",
       "      <td>0.417602</td>\n",
       "      <td>0.495257</td>\n",
       "      <td>0.499098</td>\n",
       "      <td>0.480876</td>\n",
       "      <td>0.0</td>\n",
       "      <td>3188.518793</td>\n",
       "      <td>18.838014</td>\n",
       "      <td>0.759576</td>\n",
       "      <td>0.809737</td>\n",
       "      <td>13.360199</td>\n",
       "      <td>2.050742e+07</td>\n",
       "      <td>2.243690e+07</td>\n",
       "    </tr>\n",
       "    <tr>\n",
       "      <th>min</th>\n",
       "      <td>4854.000000</td>\n",
       "      <td>0.000000</td>\n",
       "      <td>0.000000</td>\n",
       "      <td>0.000000</td>\n",
       "      <td>0.000000</td>\n",
       "      <td>0.0</td>\n",
       "      <td>0.000000</td>\n",
       "      <td>0.000000</td>\n",
       "      <td>0.000000</td>\n",
       "      <td>2016.000000</td>\n",
       "      <td>0.000000</td>\n",
       "      <td>0.000000e+00</td>\n",
       "      <td>0.000000e+00</td>\n",
       "    </tr>\n",
       "    <tr>\n",
       "      <th>25%</th>\n",
       "      <td>11059.750000</td>\n",
       "      <td>1.000000</td>\n",
       "      <td>0.000000</td>\n",
       "      <td>0.000000</td>\n",
       "      <td>0.000000</td>\n",
       "      <td>0.0</td>\n",
       "      <td>2742.000000</td>\n",
       "      <td>0.360000</td>\n",
       "      <td>0.373260</td>\n",
       "      <td>2017.000000</td>\n",
       "      <td>0.000000</td>\n",
       "      <td>6.361149e+04</td>\n",
       "      <td>7.790250e+04</td>\n",
       "    </tr>\n",
       "    <tr>\n",
       "      <th>50%</th>\n",
       "      <td>16724.500000</td>\n",
       "      <td>1.000000</td>\n",
       "      <td>1.000000</td>\n",
       "      <td>1.000000</td>\n",
       "      <td>0.000000</td>\n",
       "      <td>0.0</td>\n",
       "      <td>5306.500000</td>\n",
       "      <td>0.400000</td>\n",
       "      <td>0.412850</td>\n",
       "      <td>2017.000000</td>\n",
       "      <td>0.000000</td>\n",
       "      <td>1.535070e+05</td>\n",
       "      <td>2.435469e+05</td>\n",
       "    </tr>\n",
       "    <tr>\n",
       "      <th>75%</th>\n",
       "      <td>21668.250000</td>\n",
       "      <td>1.000000</td>\n",
       "      <td>1.000000</td>\n",
       "      <td>1.000000</td>\n",
       "      <td>1.000000</td>\n",
       "      <td>0.0</td>\n",
       "      <td>7769.000000</td>\n",
       "      <td>0.505000</td>\n",
       "      <td>0.476490</td>\n",
       "      <td>2018.000000</td>\n",
       "      <td>1.000000</td>\n",
       "      <td>7.040736e+05</td>\n",
       "      <td>1.021989e+06</td>\n",
       "    </tr>\n",
       "    <tr>\n",
       "      <th>max</th>\n",
       "      <td>28773.000000</td>\n",
       "      <td>1.000000</td>\n",
       "      <td>1.000000</td>\n",
       "      <td>1.000000</td>\n",
       "      <td>1.000000</td>\n",
       "      <td>0.0</td>\n",
       "      <td>12803.000000</td>\n",
       "      <td>80.000000</td>\n",
       "      <td>67.000000</td>\n",
       "      <td>2020.000000</td>\n",
       "      <td>500.000000</td>\n",
       "      <td>1.320000e+09</td>\n",
       "      <td>1.356339e+09</td>\n",
       "    </tr>\n",
       "  </tbody>\n",
       "</table>\n",
       "</div>"
      ],
      "text/plain": [
       "                 ID  Pricing, Delivery_Terms_Quote_Appr  \\\n",
       "count  13684.000000                        13684.000000   \n",
       "mean   16482.372406                            0.774993   \n",
       "std     6531.039649                            0.417602   \n",
       "min     4854.000000                            0.000000   \n",
       "25%    11059.750000                            1.000000   \n",
       "50%    16724.500000                            1.000000   \n",
       "75%    21668.250000                            1.000000   \n",
       "max    28773.000000                            1.000000   \n",
       "\n",
       "       Pricing, Delivery_Terms_Approved  Bureaucratic_Code_0_Approval  \\\n",
       "count                      13684.000000                  13684.000000   \n",
       "mean                           0.568840                      0.530327   \n",
       "std                            0.495257                      0.499098   \n",
       "min                            0.000000                      0.000000   \n",
       "25%                            0.000000                      0.000000   \n",
       "50%                            1.000000                      1.000000   \n",
       "75%                            1.000000                      1.000000   \n",
       "max                            1.000000                      1.000000   \n",
       "\n",
       "       Bureaucratic_Code_0_Approved  Submitted_for_Approval  Opportunity_ID  \\\n",
       "count                  13684.000000                 13684.0    13684.000000   \n",
       "mean                       0.362979                     0.0     5400.808243   \n",
       "std                        0.480876                     0.0     3188.518793   \n",
       "min                        0.000000                     0.0        0.000000   \n",
       "25%                        0.000000                     0.0     2742.000000   \n",
       "50%                        0.000000                     0.0     5306.500000   \n",
       "75%                        1.000000                     0.0     7769.000000   \n",
       "max                        1.000000                     0.0    12803.000000   \n",
       "\n",
       "                ASP  ASP_(converted)  Delivery_Year           TRF  \\\n",
       "count  13684.000000     13684.000000   13684.000000  13684.000000   \n",
       "mean       7.004230         0.431282    2017.220184      2.824978   \n",
       "std       18.838014         0.759576       0.809737     13.360199   \n",
       "min        0.000000         0.000000    2016.000000      0.000000   \n",
       "25%        0.360000         0.373260    2017.000000      0.000000   \n",
       "50%        0.400000         0.412850    2017.000000      0.000000   \n",
       "75%        0.505000         0.476490    2018.000000      1.000000   \n",
       "max       80.000000        67.000000    2020.000000    500.000000   \n",
       "\n",
       "       Total_Amount  Total_Taxable_Amount  \n",
       "count  1.368400e+04          1.368400e+04  \n",
       "mean   2.440420e+06          3.640489e+06  \n",
       "std    2.050742e+07          2.243690e+07  \n",
       "min    0.000000e+00          0.000000e+00  \n",
       "25%    6.361149e+04          7.790250e+04  \n",
       "50%    1.535070e+05          2.435469e+05  \n",
       "75%    7.040736e+05          1.021989e+06  \n",
       "max    1.320000e+09          1.356339e+09  "
      ]
     },
     "execution_count": 60,
     "metadata": {},
     "output_type": "execute_result"
    }
   ],
   "source": [
    "df_oportunidades.describe()"
   ]
  },
  {
   "cell_type": "markdown",
   "metadata": {},
   "source": [
    "### Veo si el campo Opportunity_Name y Opportunity_ID identifican la oportunidad inequivocamente"
   ]
  },
  {
   "cell_type": "code",
   "execution_count": 101,
   "metadata": {},
   "outputs": [],
   "source": [
    "oportunidades = df_oportunidades.groupby(['Opportunity_ID','Region'])['Region'].count().to_frame()\n",
    "oportunidades_name = df_oportunidades.groupby(['Opportunity_Name','Region'])['Region'].count().to_frame()"
   ]
  },
  {
   "cell_type": "code",
   "execution_count": 102,
   "metadata": {},
   "outputs": [],
   "source": [
    "oportunidades = oportunidades.rename(columns={\"Region\": \"total\"}).reset_index()\n",
    "oportunidades_name = oportunidades_name.rename(columns={\"Region\": \"total\"}).reset_index()"
   ]
  },
  {
   "cell_type": "code",
   "execution_count": 103,
   "metadata": {},
   "outputs": [
    {
     "data": {
      "text/html": [
       "<div>\n",
       "<style scoped>\n",
       "    .dataframe tbody tr th:only-of-type {\n",
       "        vertical-align: middle;\n",
       "    }\n",
       "\n",
       "    .dataframe tbody tr th {\n",
       "        vertical-align: top;\n",
       "    }\n",
       "\n",
       "    .dataframe thead th {\n",
       "        text-align: right;\n",
       "    }\n",
       "</style>\n",
       "<table border=\"1\" class=\"dataframe\">\n",
       "  <thead>\n",
       "    <tr style=\"text-align: right;\">\n",
       "      <th></th>\n",
       "      <th>Opportunity_ID</th>\n",
       "      <th>Region</th>\n",
       "      <th>total</th>\n",
       "    </tr>\n",
       "  </thead>\n",
       "  <tbody>\n",
       "    <tr>\n",
       "      <th>0</th>\n",
       "      <td>0</td>\n",
       "      <td>EMEA</td>\n",
       "      <td>1</td>\n",
       "    </tr>\n",
       "    <tr>\n",
       "      <th>1</th>\n",
       "      <td>1</td>\n",
       "      <td>EMEA</td>\n",
       "      <td>1</td>\n",
       "    </tr>\n",
       "    <tr>\n",
       "      <th>2</th>\n",
       "      <td>2</td>\n",
       "      <td>Americas</td>\n",
       "      <td>1</td>\n",
       "    </tr>\n",
       "    <tr>\n",
       "      <th>3</th>\n",
       "      <td>3</td>\n",
       "      <td>Americas</td>\n",
       "      <td>1</td>\n",
       "    </tr>\n",
       "    <tr>\n",
       "      <th>4</th>\n",
       "      <td>4</td>\n",
       "      <td>Americas</td>\n",
       "      <td>1</td>\n",
       "    </tr>\n",
       "  </tbody>\n",
       "</table>\n",
       "</div>"
      ],
      "text/plain": [
       "   Opportunity_ID    Region  total\n",
       "0               0      EMEA      1\n",
       "1               1      EMEA      1\n",
       "2               2  Americas      1\n",
       "3               3  Americas      1\n",
       "4               4  Americas      1"
      ]
     },
     "execution_count": 103,
     "metadata": {},
     "output_type": "execute_result"
    }
   ],
   "source": [
    "oportunidades.head()"
   ]
  },
  {
   "cell_type": "code",
   "execution_count": 164,
   "metadata": {},
   "outputs": [
    {
     "data": {
      "text/plain": [
       "9789"
      ]
     },
     "execution_count": 164,
     "metadata": {},
     "output_type": "execute_result"
    }
   ],
   "source": [
    "len(oportunidades)"
   ]
  },
  {
   "cell_type": "code",
   "execution_count": 109,
   "metadata": {},
   "outputs": [
    {
     "data": {
      "text/plain": [
       "EMEA           3235\n",
       "Americas       2429\n",
       "APAC           2079\n",
       "Japan          1897\n",
       "Middle East     149\n",
       "Name: Region, dtype: int64"
      ]
     },
     "execution_count": 109,
     "metadata": {},
     "output_type": "execute_result"
    }
   ],
   "source": [
    "oportunidades_region = oportunidades['Region'].value_counts()\n",
    "oportunidades_region"
   ]
  },
  {
   "cell_type": "code",
   "execution_count": 110,
   "metadata": {
    "scrolled": false
   },
   "outputs": [
    {
     "data": {
      "image/png": "[encoded data removed]",
      "text/plain": [
       "<Figure size 720x576 with 1 Axes>"
      ]
     },
     "metadata": {
      "needs_background": "light"
     },
     "output_type": "display_data"
    }
   ],
   "source": [
    "paired_colors = plt.cm.Pastel1(range(len(oportunidades_region)))\n",
    "oportunidades_region.plot(kind='bar', rot=0, figsize=(10,8), color=paired_colors, fontsize=14, label='index')\n",
    "plt.grid(color='grey', linestyle='-', linewidth=0.2, alpha=0.3)\n",
    "plt.title('Oportunidades según la Region', fontsize=24);\n",
    "plt.xlabel('Region', fontsize=20);\n",
    "\n",
    "plt.ylabel('Oportunidades', fontsize=20);"
   ]
  },
  {
   "cell_type": "code",
   "execution_count": 173,
   "metadata": {},
   "outputs": [
    {
     "data": {
      "text/html": [
       "<div>\n",
       "<style scoped>\n",
       "    .dataframe tbody tr th:only-of-type {\n",
       "        vertical-align: middle;\n",
       "    }\n",
       "\n",
       "    .dataframe tbody tr th {\n",
       "        vertical-align: top;\n",
       "    }\n",
       "\n",
       "    .dataframe thead th {\n",
       "        text-align: right;\n",
       "    }\n",
       "</style>\n",
       "<table border=\"1\" class=\"dataframe\">\n",
       "  <thead>\n",
       "    <tr style=\"text-align: right;\">\n",
       "      <th></th>\n",
       "      <th>Stage</th>\n",
       "      <th>Opportunity_ID</th>\n",
       "      <th>total</th>\n",
       "    </tr>\n",
       "  </thead>\n",
       "  <tbody>\n",
       "    <tr>\n",
       "      <th>0</th>\n",
       "      <td>Closed Lost</td>\n",
       "      <td>4669</td>\n",
       "      <td>4669</td>\n",
       "    </tr>\n",
       "    <tr>\n",
       "      <th>1</th>\n",
       "      <td>Closed Won</td>\n",
       "      <td>5070</td>\n",
       "      <td>5070</td>\n",
       "    </tr>\n",
       "    <tr>\n",
       "      <th>2</th>\n",
       "      <td>Negotiation</td>\n",
       "      <td>11</td>\n",
       "      <td>11</td>\n",
       "    </tr>\n",
       "    <tr>\n",
       "      <th>3</th>\n",
       "      <td>Proposal</td>\n",
       "      <td>30</td>\n",
       "      <td>30</td>\n",
       "    </tr>\n",
       "    <tr>\n",
       "      <th>4</th>\n",
       "      <td>Qualification</td>\n",
       "      <td>9</td>\n",
       "      <td>9</td>\n",
       "    </tr>\n",
       "  </tbody>\n",
       "</table>\n",
       "</div>"
      ],
      "text/plain": [
       "           Stage  Opportunity_ID  total\n",
       "0    Closed Lost            4669   4669\n",
       "1     Closed Won            5070   5070\n",
       "2    Negotiation              11     11\n",
       "3       Proposal              30     30\n",
       "4  Qualification               9      9"
      ]
     },
     "execution_count": 173,
     "metadata": {},
     "output_type": "execute_result"
    }
   ],
   "source": [
    "oportunidades_stage = df_oportunidades[['Opportunity_ID','Stage']]\\\n",
    "        .groupby(['Opportunity_ID','Stage'])['Stage'].count().to_frame().rename(columns={\"Stage\": \"total\"})\\\n",
    "        .reset_index()\n",
    "cantidad_oportunidades = oportunidades_stage.groupby(['Stage']).count().reset_index()\n",
    "cant = len(oportunidades_stage)\n",
    "cantidad_oportunidades"
   ]
  },
  {
   "cell_type": "code",
   "execution_count": 174,
   "metadata": {},
   "outputs": [
    {
     "data": {
      "text/html": [
       "<div>\n",
       "<style scoped>\n",
       "    .dataframe tbody tr th:only-of-type {\n",
       "        vertical-align: middle;\n",
       "    }\n",
       "\n",
       "    .dataframe tbody tr th {\n",
       "        vertical-align: top;\n",
       "    }\n",
       "\n",
       "    .dataframe thead th {\n",
       "        text-align: right;\n",
       "    }\n",
       "</style>\n",
       "<table border=\"1\" class=\"dataframe\">\n",
       "  <thead>\n",
       "    <tr style=\"text-align: right;\">\n",
       "      <th></th>\n",
       "      <th>Stage</th>\n",
       "      <th>Opportunity_ID</th>\n",
       "      <th>total</th>\n",
       "    </tr>\n",
       "  </thead>\n",
       "  <tbody>\n",
       "    <tr>\n",
       "      <th>0</th>\n",
       "      <td>Closed Lost</td>\n",
       "      <td>4669</td>\n",
       "      <td>9789</td>\n",
       "    </tr>\n",
       "    <tr>\n",
       "      <th>1</th>\n",
       "      <td>Closed Won</td>\n",
       "      <td>5070</td>\n",
       "      <td>9789</td>\n",
       "    </tr>\n",
       "    <tr>\n",
       "      <th>2</th>\n",
       "      <td>Negotiation</td>\n",
       "      <td>11</td>\n",
       "      <td>9789</td>\n",
       "    </tr>\n",
       "    <tr>\n",
       "      <th>3</th>\n",
       "      <td>Proposal</td>\n",
       "      <td>30</td>\n",
       "      <td>9789</td>\n",
       "    </tr>\n",
       "    <tr>\n",
       "      <th>4</th>\n",
       "      <td>Qualification</td>\n",
       "      <td>9</td>\n",
       "      <td>9789</td>\n",
       "    </tr>\n",
       "  </tbody>\n",
       "</table>\n",
       "</div>"
      ],
      "text/plain": [
       "           Stage  Opportunity_ID  total\n",
       "0    Closed Lost            4669   9789\n",
       "1     Closed Won            5070   9789\n",
       "2    Negotiation              11   9789\n",
       "3       Proposal              30   9789\n",
       "4  Qualification               9   9789"
      ]
     },
     "execution_count": 174,
     "metadata": {},
     "output_type": "execute_result"
    }
   ],
   "source": [
    "cantidad_oportunidades['total'] = cant\n",
    "cantidad_oportunidades"
   ]
  },
  {
   "cell_type": "code",
   "execution_count": 176,
   "metadata": {},
   "outputs": [],
   "source": [
    "cantidad_oportunidades['porcentaje'] = cantidad_oportunidades['Opportunity_ID']*100/cantidad_oportunidades['total']"
   ]
  },
  {
   "cell_type": "code",
   "execution_count": 179,
   "metadata": {},
   "outputs": [
    {
     "data": {
      "text/html": [
       "<div>\n",
       "<style scoped>\n",
       "    .dataframe tbody tr th:only-of-type {\n",
       "        vertical-align: middle;\n",
       "    }\n",
       "\n",
       "    .dataframe tbody tr th {\n",
       "        vertical-align: top;\n",
       "    }\n",
       "\n",
       "    .dataframe thead th {\n",
       "        text-align: right;\n",
       "    }\n",
       "</style>\n",
       "<table border=\"1\" class=\"dataframe\">\n",
       "  <thead>\n",
       "    <tr style=\"text-align: right;\">\n",
       "      <th></th>\n",
       "      <th>Stage</th>\n",
       "      <th>Opportunity_ID</th>\n",
       "      <th>total</th>\n",
       "      <th>porcentaje</th>\n",
       "    </tr>\n",
       "  </thead>\n",
       "  <tbody>\n",
       "    <tr>\n",
       "      <th>0</th>\n",
       "      <td>Closed Lost</td>\n",
       "      <td>4669</td>\n",
       "      <td>9789</td>\n",
       "      <td>47.696394</td>\n",
       "    </tr>\n",
       "    <tr>\n",
       "      <th>1</th>\n",
       "      <td>Closed Won</td>\n",
       "      <td>5070</td>\n",
       "      <td>9789</td>\n",
       "      <td>51.792829</td>\n",
       "    </tr>\n",
       "    <tr>\n",
       "      <th>2</th>\n",
       "      <td>Negotiation</td>\n",
       "      <td>11</td>\n",
       "      <td>9789</td>\n",
       "      <td>0.112371</td>\n",
       "    </tr>\n",
       "    <tr>\n",
       "      <th>3</th>\n",
       "      <td>Proposal</td>\n",
       "      <td>30</td>\n",
       "      <td>9789</td>\n",
       "      <td>0.306466</td>\n",
       "    </tr>\n",
       "    <tr>\n",
       "      <th>4</th>\n",
       "      <td>Qualification</td>\n",
       "      <td>9</td>\n",
       "      <td>9789</td>\n",
       "      <td>0.091940</td>\n",
       "    </tr>\n",
       "  </tbody>\n",
       "</table>\n",
       "</div>"
      ],
      "text/plain": [
       "           Stage  Opportunity_ID  total  porcentaje\n",
       "0    Closed Lost            4669   9789   47.696394\n",
       "1     Closed Won            5070   9789   51.792829\n",
       "2    Negotiation              11   9789    0.112371\n",
       "3       Proposal              30   9789    0.306466\n",
       "4  Qualification               9   9789    0.091940"
      ]
     },
     "execution_count": 179,
     "metadata": {},
     "output_type": "execute_result"
    }
   ],
   "source": [
    "cantidad_oportunidades"
   ]
  },
  {
   "cell_type": "code",
   "execution_count": 180,
   "metadata": {},
   "outputs": [
    {
     "data": {
      "image/png": "[encoded data removed]",
      "text/plain": [
       "<Figure size 432x288 with 1 Axes>"
      ]
     },
     "metadata": {},
     "output_type": "display_data"
    }
   ],
   "source": [
    "stages = ['Closed Lost 47.70%', 'Closed Won 51.79%', 'Negotiation 0.11%', 'Proposal 0.31%', 'Qualification 0.09%']\n",
    "p_colors = plt.cm.tab20(range(len(stages)))\n",
    "plt.pie(cantidad_oportunidades['Opportunity_ID'], radius=3, colors=p_colors)\n",
    "plt.legend(stages)\n",
    "plt.show()"
   ]
  },
  {
   "cell_type": "markdown",
   "metadata": {},
   "source": [
    "## ¿Quienes son las familias de productos con más oportunidades?"
   ]
  },
  {
   "cell_type": "code",
   "execution_count": 184,
   "metadata": {},
   "outputs": [
    {
     "data": {
      "text/plain": [
       "Product_Family_77     1323\n",
       "Product_Family_133    1249\n",
       "Product_Family_132     763\n",
       "Product_Family_212     636\n",
       "Product_Family_100     619\n",
       "Product_Family_85      593\n",
       "Product_Family_115     539\n",
       "Product_Family_109     499\n",
       "Product_Family_208     478\n",
       "Product_Family_128     436\n",
       "Name: Product_Family, dtype: int64"
      ]
     },
     "execution_count": 184,
     "metadata": {},
     "output_type": "execute_result"
    }
   ],
   "source": [
    "top10_familias_prod = df_oportunidades['Product_Family'].value_counts().nlargest(10)\n",
    "\n",
    "top10_familias_prod"
   ]
  },
  {
   "cell_type": "code",
   "execution_count": 185,
   "metadata": {},
   "outputs": [
    {
     "data": {
      "image/png": "[encoded data removed]",
      "text/plain": [
       "<Figure size 720x576 with 1 Axes>"
      ]
     },
     "metadata": {
      "needs_background": "light"
     },
     "output_type": "display_data"
    }
   ],
   "source": [
    "p_colors = plt.cm.tab20(range(len(top10_familias_prod)))\n",
    "\n",
    "top10_familias_prod.sort_values(ascending=True).plot(kind='barh', rot=0, figsize=(10,8), color=p_colors, fontsize=14)\n",
    "plt.grid(color='grey', linestyle='-', linewidth=0.1, alpha=0.3)\n",
    "plt.title('TOP 10 Oportunidades según familia de producto', fontsize=24);\n",
    "plt.xlabel('Oportunidades', fontsize=20);\n",
    "\n",
    "plt.ylabel('Familia de productos', fontsize=20);"
   ]
  },
  {
   "cell_type": "code",
   "execution_count": 249,
   "metadata": {},
   "outputs": [
    {
     "data": {
      "text/plain": [
       "68.000    124\n",
       "75.000     95\n",
       "78.000     78\n",
       "0.530      60\n",
       "0.550      52\n",
       "         ... \n",
       "0.435       1\n",
       "47.000      1\n",
       "61.000      1\n",
       "1.000       1\n",
       "44.000      1\n",
       "Name: ASP, Length: 101, dtype: int64"
      ]
     },
     "execution_count": 249,
     "metadata": {},
     "output_type": "execute_result"
    }
   ],
   "source": [
    "familia_77 = df_oportunidades[df_oportunidades['Product_Family'] == 'Product_Family_77']\n",
    "\n",
    "familia_77['ASP'].value_counts()"
   ]
  },
  {
   "cell_type": "code",
   "execution_count": 235,
   "metadata": {},
   "outputs": [
    {
     "data": {
      "text/plain": [
       "1    666\n",
       "0    583\n",
       "Name: Pricing, Delivery_Terms_Approved, dtype: int64"
      ]
     },
     "execution_count": 235,
     "metadata": {},
     "output_type": "execute_result"
    }
   ],
   "source": [
    "familia_133 = df_oportunidades[df_oportunidades['Product_Family'] == 'Product_Family_133']\n",
    "familia_133['Pricing, Delivery_Terms_Approved'].value_counts()"
   ]
  },
  {
   "cell_type": "code",
   "execution_count": 232,
   "metadata": {},
   "outputs": [
    {
     "data": {
      "text/plain": [
       "1    599\n",
       "0    164\n",
       "Name: Pricing, Delivery_Terms_Quote_Appr, dtype: int64"
      ]
     },
     "execution_count": 232,
     "metadata": {},
     "output_type": "execute_result"
    }
   ],
   "source": [
    "familia_132 = df_oportunidades[df_oportunidades['Product_Family'] == 'Product_Family_132']\n",
    "familia_132['Pricing, Delivery_Terms_Quote_Appr'].value_counts()"
   ]
  },
  {
   "cell_type": "markdown",
   "metadata": {},
   "source": [
    "## ¿Cuales son los productos con más oportunidades de venta?"
   ]
  },
  {
   "cell_type": "code",
   "execution_count": 9,
   "metadata": {},
   "outputs": [
    {
     "data": {
      "image/png": "[encoded data removed]",
      "text/plain": [
       "<Figure size 720x576 with 1 Axes>"
      ]
     },
     "metadata": {
      "needs_background": "light"
     },
     "output_type": "display_data"
    }
   ],
   "source": [
    "top10_nombre_prod = df_oportunidades['Product_Name'].value_counts().nlargest(10)\n",
    "\n",
    "p_colors = plt.cm.tab10(range(len(top10_nombre_prod)))\n",
    "\n",
    "top10_nombre_prod.sort_values(ascending=True).plot(kind='barh',color=p_colors, rot=0, figsize=(10,8), fontsize=14)\n",
    "plt.grid(color='grey', linestyle='-', linewidth=0.1, alpha=0.3)\n",
    "plt.title('TOP 10 productos con más oportunidades', fontsize=24);\n",
    "plt.xlabel('Oportunidades', fontsize=20);\n",
    "\n",
    "plt.ylabel('Productos', fontsize=20);"
   ]
  },
  {
   "cell_type": "markdown",
   "metadata": {},
   "source": [
    "## ¿Influye le precio del producto en que se concrete la oportunidad?"
   ]
  },
  {
   "cell_type": "markdown",
   "metadata": {},
   "source": [
    "La mayoría de los valores son None y Other. No se puede sacar conclusiones acerca del valor."
   ]
  },
  {
   "cell_type": "code",
   "execution_count": 10,
   "metadata": {},
   "outputs": [
    {
     "data": {
      "text/plain": [
       "None     12765\n",
       "Other      585\n",
       "0.24        27\n",
       "0.28        20\n",
       "0.27        18\n",
       "0.41        17\n",
       "0.29        17\n",
       "0.32        15\n",
       "0.35        14\n",
       "0.23        13\n",
       "0.33        12\n",
       "0.38        12\n",
       "0.34        11\n",
       "0.26        11\n",
       "0.3         11\n",
       "0.42        10\n",
       "0.31        10\n",
       "0.245        8\n",
       "0.305        7\n",
       "0.25         7\n",
       "0.325        6\n",
       "0.225        6\n",
       "0.335        6\n",
       "0.22         6\n",
       "0.2          5\n",
       "0.39         5\n",
       "0.36         4\n",
       "0.285        4\n",
       "0.45         4\n",
       "0.275        4\n",
       "0.37         4\n",
       "0.265        3\n",
       "0.255        3\n",
       "0.295        3\n",
       "0.47         3\n",
       "0.355        3\n",
       "0.235        2\n",
       "0.445        2\n",
       "0.215        2\n",
       "0.315        2\n",
       "0.345        2\n",
       "0.375        2\n",
       "0.44         2\n",
       "0.4          2\n",
       "0.465        1\n",
       "0.52         1\n",
       "0.365        1\n",
       "0.48         1\n",
       "0.55         1\n",
       "0.56         1\n",
       "0.505        1\n",
       "0.49         1\n",
       "0.21         1\n",
       "Name: Price, dtype: int64"
      ]
     },
     "execution_count": 10,
     "metadata": {},
     "output_type": "execute_result"
    }
   ],
   "source": [
    "df_oportunidades['Price'].value_counts()"
   ]
  },
  {
   "cell_type": "code",
   "execution_count": 11,
   "metadata": {},
   "outputs": [],
   "source": [
    "grupo_anio = df_oportunidades.groupby(['Delivery_Year','Stage']).agg({'Territory':'count'}).reset_index()\n",
    "\n",
    "estados_por_anio = grupo_anio.pivot_table(index=[\"Stage\"],values=[\"Territory\"],columns=[\"Delivery_Year\"])"
   ]
  },
  {
   "cell_type": "code",
   "execution_count": 14,
   "metadata": {
    "scrolled": true
   },
   "outputs": [
    {
     "data": {
      "text/html": [
       "<div>\n",
       "<style scoped>\n",
       "    .dataframe tbody tr th:only-of-type {\n",
       "        vertical-align: middle;\n",
       "    }\n",
       "\n",
       "    .dataframe tbody tr th {\n",
       "        vertical-align: top;\n",
       "    }\n",
       "\n",
       "    .dataframe thead th {\n",
       "        text-align: right;\n",
       "    }\n",
       "</style>\n",
       "<table border=\"1\" class=\"dataframe\">\n",
       "  <thead>\n",
       "    <tr style=\"text-align: right;\">\n",
       "      <th>Delivery_Year</th>\n",
       "      <th>2016</th>\n",
       "      <th>2017</th>\n",
       "      <th>2018</th>\n",
       "      <th>2019</th>\n",
       "      <th>2020</th>\n",
       "    </tr>\n",
       "    <tr>\n",
       "      <th>Stage</th>\n",
       "      <th></th>\n",
       "      <th></th>\n",
       "      <th></th>\n",
       "      <th></th>\n",
       "      <th></th>\n",
       "    </tr>\n",
       "  </thead>\n",
       "  <tbody>\n",
       "    <tr>\n",
       "      <th>Closed Lost</th>\n",
       "      <td>1289</td>\n",
       "      <td>2159</td>\n",
       "      <td>2403</td>\n",
       "      <td>244</td>\n",
       "      <td>0</td>\n",
       "    </tr>\n",
       "    <tr>\n",
       "      <th>Closed Won</th>\n",
       "      <td>1595</td>\n",
       "      <td>3156</td>\n",
       "      <td>2682</td>\n",
       "      <td>97</td>\n",
       "      <td>0</td>\n",
       "    </tr>\n",
       "    <tr>\n",
       "      <th>Negotiation</th>\n",
       "      <td>0</td>\n",
       "      <td>0</td>\n",
       "      <td>0</td>\n",
       "      <td>14</td>\n",
       "      <td>0</td>\n",
       "    </tr>\n",
       "    <tr>\n",
       "      <th>Proposal</th>\n",
       "      <td>0</td>\n",
       "      <td>1</td>\n",
       "      <td>0</td>\n",
       "      <td>22</td>\n",
       "      <td>11</td>\n",
       "    </tr>\n",
       "    <tr>\n",
       "      <th>Qualification</th>\n",
       "      <td>0</td>\n",
       "      <td>0</td>\n",
       "      <td>0</td>\n",
       "      <td>8</td>\n",
       "      <td>3</td>\n",
       "    </tr>\n",
       "  </tbody>\n",
       "</table>\n",
       "</div>"
      ],
      "text/plain": [
       "Delivery_Year  2016  2017  2018  2019  2020\n",
       "Stage                                      \n",
       "Closed Lost    1289  2159  2403   244     0\n",
       "Closed Won     1595  3156  2682    97     0\n",
       "Negotiation       0     0     0    14     0\n",
       "Proposal          0     1     0    22    11\n",
       "Qualification     0     0     0     8     3"
      ]
     },
     "execution_count": 14,
     "metadata": {},
     "output_type": "execute_result"
    }
   ],
   "source": [
    "estados_anio = estados_por_anio.fillna(0).astype('int32')\n",
    "\n",
    "estados_anio.columns = estados_anio.columns.droplevel()\n",
    "\n",
    "#estados_anio.reset_index(inplace=True)\n",
    "\n",
    "estados_anio"
   ]
  },
  {
   "cell_type": "code",
   "execution_count": 34,
   "metadata": {},
   "outputs": [
    {
     "data": {
      "image/png": "[encoded data removed]",
      "text/plain": [
       "<Figure size 1080x864 with 1 Axes>"
      ]
     },
     "metadata": {
      "needs_background": "light"
     },
     "output_type": "display_data"
    }
   ],
   "source": [
    "barWidth = 0.1\n",
    "# Set position of bar on X axis\n",
    "r1 = np.arange(len(estados_anio))\n",
    "r2 = [x + barWidth for x in r1]\n",
    "r3 = [x + barWidth for x in r2]\n",
    "r4 = [x + barWidth for x in r3]\n",
    "r5 = [x + barWidth for x in r4]\n",
    "\n",
    "plt.bar(r1, estados_anio.iloc[0], color='#FF1E13', width=barWidth, edgecolor='white', label='Closed Lost')\n",
    "plt.bar(r2, estados_anio.iloc[1], color='#0ED810', width=barWidth, edgecolor='white', label='Closed Won')\n",
    "plt.bar(r3, estados_anio.iloc[2], color='#2d7f5e', width=barWidth, edgecolor='white', label='Negotiation')\n",
    "plt.bar(r4, estados_anio.iloc[3], color='#2d3f2e', width=barWidth, edgecolor='white', label='Proposal')\n",
    "plt.bar(r5, estados_anio.iloc[4], color='#232f5a', width=barWidth, edgecolor='white', label='Qualification')\n",
    "plt.rcParams[\"figure.figsize\"] = (15,14)\n",
    "plt.xlabel('group', fontweight='bold')\n",
    "plt.xticks([r + barWidth for r in range(len(estados_anio))], ['2016', '2017', '2018', '2019', '2020'])\n",
    "plt.legend()\n",
    "plt.show()\n"
   ]
  }
 ],
 "metadata": {
  "kernelspec": {
   "display_name": "Python 3",
   "language": "python",
   "name": "python3"
  },
  "language_info": {
   "codemirror_mode": {
    "name": "ipython",
    "version": 3
   },
   "file_extension": ".py",
   "mimetype": "text/x-python",
   "name": "python",
   "nbconvert_exporter": "python",
   "pygments_lexer": "ipython3",
   "version": "3.7.6"
  }
 },
 "nbformat": 4,
 "nbformat_minor": 4
}
