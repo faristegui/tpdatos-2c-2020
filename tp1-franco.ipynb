{
 "cells": [
  {
   "cell_type": "code",
   "execution_count": 1,
   "metadata": {},
   "outputs": [],
   "source": [
    "import pandas as pd\n",
    "import numpy as np\n",
    "from os import path\n",
    "\n",
    "# plots\n",
    "import matplotlib.pyplot as plt\n",
    "import matplotlib.colors as mcolors\n",
    "import seaborn as sns\n",
    "%matplotlib inline\n",
    "data_frame = pd.read_csv('data/Entrenamieto_ECI_2020.csv')"
   ]
  },
  {
   "cell_type": "code",
   "execution_count": 2,
   "metadata": {},
   "outputs": [],
   "source": [
    "data_frame[\"Opportunity_Created_Date\"] = pd.to_datetime(data_frame[\"Opportunity_Created_Date\"], errors=\"coerce\")\n",
    "data_frame[\"Planned_Delivery_Start_Date\"] = pd.to_datetime(data_frame[\"Planned_Delivery_Start_Date\"], errors=\"coerce\")\n",
    "data_frame[\"Planned_Delivery_End_Date\"] = pd.to_datetime(data_frame[\"Planned_Delivery_End_Date\"], errors=\"coerce\")\n",
    "data_frame[\"Quote_Expiry_Date\"] = pd.to_datetime(data_frame[\"Quote_Expiry_Date\"], errors=\"coerce\")\n",
    "data_frame[\"Last_Modified_Date\"] = pd.to_datetime(data_frame[\"Last_Modified_Date\"], errors=\"coerce\")\n",
    "data_frame[\"Account_Created_Date\"] = pd.to_datetime(data_frame[\"Account_Created_Date\"], errors=\"coerce\")\n",
    "\n",
    "\n",
    "dateColumns = [\"Opportunity_Created_Date\", \"Planned_Delivery_Start_Date\", \"Planned_Delivery_End_Date\", \"Quote_Expiry_Date\", \"Last_Modified_Date\", \"Account_Created_Date\"]\n",
    "\n",
    "grouped = data_frame.groupby(['Opportunity_Name', 'Opportunity_Created_Date', \"Planned_Delivery_Start_Date\", \"Planned_Delivery_End_Date\", \"Stage\"]).agg({\"Territory\": \"count\"}).reset_index()"
   ]
  },
  {
   "cell_type": "code",
   "execution_count": 3,
   "metadata": {},
   "outputs": [
    {
     "data": {
      "text/plain": [
       "Closed Lost      2844\n",
       "Closed Won       1053\n",
       "Proposal           28\n",
       "Qualification       9\n",
       "Negotiation         6\n",
       "Name: Stage, dtype: int64"
      ]
     },
     "execution_count": 3,
     "metadata": {},
     "output_type": "execute_result"
    }
   ],
   "source": [
    "grouped = grouped.drop(8401)\n",
    "grouped.filter(grouped[\"Opportunity_Created_Date\"] < grouped[\"Planned_Delivery_Start_Date\"])\n",
    "grouped[\"delay\"] = grouped['Planned_Delivery_Start_Date'].sub(grouped['Opportunity_Created_Date'], axis=0)/ np.timedelta64(1, 'D')\n",
    "grouped[\"delay_over_mean\"] = grouped[\"delay\"] > grouped[\"delay\"].mean()\n",
    "grouped.loc[grouped[\"delay_over_mean\"] == True].Stage.value_counts()"
   ]
  },
  {
   "cell_type": "code",
   "execution_count": 4,
   "metadata": {
    "scrolled": true
   },
   "outputs": [
    {
     "data": {
      "text/html": [
       "<div>\n",
       "<style scoped>\n",
       "    .dataframe tbody tr th:only-of-type {\n",
       "        vertical-align: middle;\n",
       "    }\n",
       "\n",
       "    .dataframe tbody tr th {\n",
       "        vertical-align: top;\n",
       "    }\n",
       "\n",
       "    .dataframe thead th {\n",
       "        text-align: right;\n",
       "    }\n",
       "</style>\n",
       "<table border=\"1\" class=\"dataframe\">\n",
       "  <thead>\n",
       "    <tr style=\"text-align: right;\">\n",
       "      <th>Stage</th>\n",
       "      <th>Closed Lost</th>\n",
       "      <th>Closed Won</th>\n",
       "      <th>win_rate_territory</th>\n",
       "    </tr>\n",
       "    <tr>\n",
       "      <th>Region</th>\n",
       "      <th></th>\n",
       "      <th></th>\n",
       "      <th></th>\n",
       "    </tr>\n",
       "  </thead>\n",
       "  <tbody>\n",
       "    <tr>\n",
       "      <th>Japan</th>\n",
       "      <td>595</td>\n",
       "      <td>1290</td>\n",
       "      <td>0.684350</td>\n",
       "    </tr>\n",
       "    <tr>\n",
       "      <th>APAC</th>\n",
       "      <td>924</td>\n",
       "      <td>1155</td>\n",
       "      <td>0.555556</td>\n",
       "    </tr>\n",
       "    <tr>\n",
       "      <th>EMEA</th>\n",
       "      <td>1737</td>\n",
       "      <td>1500</td>\n",
       "      <td>0.463392</td>\n",
       "    </tr>\n",
       "    <tr>\n",
       "      <th>Americas</th>\n",
       "      <td>1358</td>\n",
       "      <td>1094</td>\n",
       "      <td>0.446166</td>\n",
       "    </tr>\n",
       "    <tr>\n",
       "      <th>Middle East</th>\n",
       "      <td>105</td>\n",
       "      <td>33</td>\n",
       "      <td>0.239130</td>\n",
       "    </tr>\n",
       "  </tbody>\n",
       "</table>\n",
       "</div>"
      ],
      "text/plain": [
       "Stage        Closed Lost  Closed Won  win_rate_territory\n",
       "Region                                                  \n",
       "Japan                595        1290            0.684350\n",
       "APAC                 924        1155            0.555556\n",
       "EMEA                1737        1500            0.463392\n",
       "Americas            1358        1094            0.446166\n",
       "Middle East          105          33            0.239130"
      ]
     },
     "execution_count": 4,
     "metadata": {},
     "output_type": "execute_result"
    }
   ],
   "source": [
    "#WIN-RATE BY TERRITORY\n",
    "closed = data_frame[data_frame[\"Stage\"].str.contains(\"Closed\")]\n",
    "groupedTerritory = closed.groupby(['Opportunity_Name', \"Region\", \"Territory\", \"Stage\"]).agg({\"ID\": \"count\"}).reset_index()\n",
    "groupedTerritory = groupedTerritory.groupby([\"Region\", \"Stage\"]).agg({\"ID\": \"count\"})\n",
    "groupedTerritory = groupedTerritory.pivot_table(columns=\"Stage\", index=\"Region\", values=\"ID\", aggfunc=\"sum\")\n",
    "groupedTerritory[\"Closed Won\"] = groupedTerritory[\"Closed Won\"].fillna(0)\n",
    "groupedTerritory[\"Closed Lost\"] = groupedTerritory[\"Closed Lost\"].fillna(0)\n",
    "groupedTerritory[\"win_rate_territory\"] = groupedTerritory[\"Closed Won\"] / (groupedTerritory[\"Closed Won\"] + groupedTerritory[\"Closed Lost\"])\n",
    "groupedTerritory.nlargest(20, \"win_rate_territory\")\n",
    "\n"
   ]
  },
  {
   "cell_type": "code",
   "execution_count": 5,
   "metadata": {},
   "outputs": [
    {
     "data": {
      "text/plain": [
       "Closed Lost    1036\n",
       "Name: Stage, dtype: int64"
      ]
     },
     "execution_count": 5,
     "metadata": {},
     "output_type": "execute_result"
    }
   ],
   "source": [
    "#TODOS LOS BRAND DISTINTOS DE NONE Y OTHER SON LOST\n",
    "notNone = data_frame[(data_frame[\"Brand\"] != \"None\")]\n",
    "notNone.Stage.value_counts()\n",
    "#data_frame[\"Brand\"].value_counts()"
   ]
  },
  {
   "cell_type": "code",
   "execution_count": 6,
   "metadata": {},
   "outputs": [
    {
     "data": {
      "text/plain": [
       "Text(0, 0.5, 'Win Rate')"
      ]
     },
     "execution_count": 6,
     "metadata": {},
     "output_type": "execute_result"
    },
    {
     "data": {
      "image/png": "[encoded data removed]",
      "text/plain": [
       "<Figure size 432x288 with 1 Axes>"
      ]
     },
     "metadata": {
      "needs_background": "light"
     },
     "output_type": "display_data"
    }
   ],
   "source": [
    "#RELACION WINRATE TIEMPO DEMORA\n",
    "\n",
    "grouped = grouped[grouped[\"Opportunity_Created_Date\"] < grouped[\"Planned_Delivery_End_Date\"]]\n",
    "grouped[\"delay\"] = grouped['Planned_Delivery_End_Date'].sub(grouped['Opportunity_Created_Date'], axis=0)/ np.timedelta64(1, 'D')\n",
    "#grouped.plot(kind='scatter', x='delay', y='Stage', color='red')\n",
    "s = grouped.groupby([\"delay\", \"Stage\"]).agg({\"Planned_Delivery_End_Date\":\"count\"}).reset_index()\n",
    "se = s.groupby([\"delay\"]).apply(lambda x: x[x.Stage==\"Closed Won\"]['Planned_Delivery_End_Date'] / x['Planned_Delivery_End_Date'].sum()).reset_index()\n",
    "se = se[se[\"delay\"] < 240]\n",
    "\n",
    "meanDelay = []\n",
    "rangei = 0\n",
    "rangef = 7\n",
    "\n",
    "for i in range(len(se[\"Planned_Delivery_End_Date\"])):\n",
    "    val = 0\n",
    "    if (rangef > len(se[\"Planned_Delivery_End_Date\"])):\n",
    "        rangef -= 1\n",
    "    for j in range (rangei, rangef):\n",
    "        val += se[\"Planned_Delivery_End_Date\"][j]\n",
    "    meanDelay.append(val / (rangef - rangei) )\n",
    "    rangei = rangei + 1\n",
    "    rangef = rangef + 1\n",
    "se[\"sevenDaysMean\"] = pd.Series(meanDelay)\n",
    "ax = se.plot(x='delay', y=\"sevenDaysMean\", kind= \"line\", color='red')\n",
    "se.plot(x='delay', y='Planned_Delivery_End_Date', kind= \"line\", color='lightblue', ax=ax)\n",
    "ax.set_xlabel(\"Días de demora\")\n",
    "ax.set_ylabel(\"Win Rate\")"
   ]
  },
  {
   "cell_type": "code",
   "execution_count": 7,
   "metadata": {},
   "outputs": [
    {
     "data": {
      "text/plain": [
       "<AxesSubplot:xlabel='duracionPresupuesto'>"
      ]
     },
     "execution_count": 7,
     "metadata": {},
     "output_type": "execute_result"
    },
    {
     "data": {
      "image/png": "[encoded data removed]",
      "text/plain": [
       "<Figure size 432x288 with 1 Axes>"
      ]
     },
     "metadata": {
      "needs_background": "light"
     },
     "output_type": "display_data"
    }
   ],
   "source": [
    "#WINRATE RELACION DURACION PRESUPUESTO\n",
    "\n",
    "groupedPresupuesto = data_frame.groupby(['Opportunity_Name','Opportunity_Created_Date', 'Quote_Expiry_Date', \"Quote_Type\", \"Stage\"]).agg({\"Territory\": \"count\"}).reset_index()\n",
    "groupedPresupuesto = groupedPresupuesto[groupedPresupuesto['Quote_Expiry_Date'] > groupedPresupuesto['Opportunity_Created_Date']]\n",
    "groupedPresupuesto[\"duracionPresupuesto\"] = groupedPresupuesto['Quote_Expiry_Date'].sub(groupedPresupuesto['Opportunity_Created_Date'], axis=0)/ np.timedelta64(1, 'D')\n",
    "\n",
    "\n",
    "s1 = groupedPresupuesto.groupby([\"duracionPresupuesto\", \"Stage\"]).agg({\"Quote_Expiry_Date\":\"count\"}).reset_index()\n",
    "se2 = s1.groupby([\"duracionPresupuesto\"]).apply(lambda x: x[x.Stage==\"Closed Won\"]['Quote_Expiry_Date'] / x['Quote_Expiry_Date'].sum()).reset_index()\n",
    "se2 = se2[se2[\"duracionPresupuesto\"] < 45]\n",
    "\n",
    "se2.plot(x='duracionPresupuesto', y=\"Quote_Expiry_Date\", kind= \"line\", color='red')\n",
    "\n",
    "#groupedPresupuesto.groupby(['duracionPresupuesto',\"Quote_Type\"]).count()\n"
   ]
  },
  {
   "cell_type": "code",
   "execution_count": 8,
   "metadata": {},
   "outputs": [
    {
     "data": {
      "text/plain": [
       "Closed Won     86\n",
       "Closed Lost    84\n",
       "Name: Stage, dtype: int64"
      ]
     },
     "execution_count": 8,
     "metadata": {},
     "output_type": "execute_result"
    }
   ],
   "source": [
    "#PRODUCTOS POR OPORTUNIDAD // QUOTE TYPE\n",
    "\n",
    "productsByOpportunity = data_frame.groupby(['Opportunity_Name', 'Stage']).agg({\"ID\":\"count\"}).reset_index()\n",
    "productsByOpportunity.columns = [\"Opportunity_Name\", \"Resultado\", \"Cantidad\"]\n",
    "productsByOpportunity.groupby(\"Cantidad\")\n",
    "\n",
    "data_frame.Quote_Expiry_Date.isnull().value_counts()\n",
    "data_frame[data_frame[\"Quote_Type\"] == \"Binding\"].Stage.value_counts()\n"
   ]
  },
  {
   "cell_type": "code",
   "execution_count": 9,
   "metadata": {},
   "outputs": [
    {
     "name": "stderr",
     "output_type": "stream",
     "text": [
      "<ipython-input-9-697f3719fb24>:4: SettingWithCopyWarning: \n",
      "A value is trying to be set on a copy of a slice from a DataFrame.\n",
      "Try using .loc[row_indexer,col_indexer] = value instead\n",
      "\n",
      "See the caveats in the documentation: https://pandas.pydata.org/pandas-docs/stable/user_guide/indexing.html#returning-a-view-versus-a-copy\n",
      "  correctDates[\"daysInSystemBeforeOpportunity\"] = np.floor(correctDates[\"Opportunity_Created_Date\"].sub(correctDates[\"Account_Created_Date\"], axis=0)/ np.timedelta64(1, 'M'))\n"
     ]
    },
    {
     "data": {
      "text/plain": [
       "<AxesSubplot:xlabel='daysInSystemBeforeOpportunity'>"
      ]
     },
     "execution_count": 9,
     "metadata": {},
     "output_type": "execute_result"
    },
    {
     "data": {
      "image/png": "[encoded data removed]",
      "text/plain": [
       "<Figure size 432x288 with 1 Axes>"
      ]
     },
     "metadata": {
      "needs_background": "light"
     },
     "output_type": "display_data"
    }
   ],
   "source": [
    "#RELACION WIN RATE CON MESES EN LA PLATAFORMA\n",
    "\n",
    "correctDates = data_frame[data_frame[\"Account_Created_Date\"] <= data_frame[\"Opportunity_Created_Date\"]]\n",
    "correctDates[\"daysInSystemBeforeOpportunity\"] = np.floor(correctDates[\"Opportunity_Created_Date\"].sub(correctDates[\"Account_Created_Date\"], axis=0)/ np.timedelta64(1, 'M'))\n",
    "correctDates[\"daysInSystemBeforeOpportunity\"].value_counts()\n",
    "\n",
    "grp = correctDates.groupby([\"daysInSystemBeforeOpportunity\", \"Stage\"]).agg({\"ID\": \"count\"}).reset_index()\n",
    "grp = grp.groupby([\"daysInSystemBeforeOpportunity\"]).apply(lambda x: x[x.Stage==\"Closed Won\"]['ID'] / x['ID'].sum()).reset_index()\n",
    "\n",
    "meanDelay = []\n",
    "rangei = 0\n",
    "rangef = 3\n",
    "\n",
    "for i in range(len(grp[\"ID\"])):\n",
    "    val = 0\n",
    "    if (rangef > len(grp[\"ID\"])):\n",
    "        rangef -= 1\n",
    "    for j in range (rangei, rangef):\n",
    "        val += grp[\"ID\"][j]\n",
    "    meanDelay.append(val / (rangef - rangei) )\n",
    "    rangei = rangei + 1\n",
    "    rangef = rangef + 1\n",
    "grp[\"sevenDaysMean\"] = pd.Series(meanDelay)\n",
    "\n",
    "#ax = correctDates[\"daysInSystemBeforeOpportunity\"].plot.hist(bins=60, color=\"lightblue\")\n",
    "grp.plot(x=\"daysInSystemBeforeOpportunity\", y=\"sevenDaysMean\", kind=\"line\")\n",
    "\n"
   ]
  },
  {
   "cell_type": "code",
   "execution_count": 10,
   "metadata": {},
   "outputs": [
    {
     "data": {
      "text/plain": [
       "<AxesSubplot:>"
      ]
     },
     "execution_count": 10,
     "metadata": {},
     "output_type": "execute_result"
    },
    {
     "data": {
      "image/png": "[encoded data removed]",
      "text/plain": [
       "<Figure size 432x288 with 1 Axes>"
      ]
     },
     "metadata": {
      "needs_background": "light"
     },
     "output_type": "display_data"
    }
   ],
   "source": [
    "#RANGO DE DELIVERY\n",
    "#FILTRAR CLOSED\n",
    "data_frame[\"Delivery_Range\"] = data_frame[\"Planned_Delivery_End_Date\"].sub(data_frame[\"Planned_Delivery_Start_Date\"], axis=0)/ np.timedelta64(1, 'D')\n",
    "closedOpportunities = data_frame[data_frame[\"Stage\"].str.contains(\"Closed\")]\n",
    "#largestDeliveryRange = data_frame[closedOpportunities[\"Delivery_Range\"] > 0]\n",
    "#largestDeliveryRange.Stage.value_counts().plot.bar()\n",
    "\n",
    "smallestDeliveryRange = closedOpportunities[closedOpportunities[\"Delivery_Range\"] == 0]\n",
    "smallestDeliveryRange.Stage.value_counts().plot.bar()\n"
   ]
  },
  {
   "cell_type": "code",
   "execution_count": 11,
   "metadata": {},
   "outputs": [
    {
     "data": {
      "text/html": [
       "<div>\n",
       "<style scoped>\n",
       "    .dataframe tbody tr th:only-of-type {\n",
       "        vertical-align: middle;\n",
       "    }\n",
       "\n",
       "    .dataframe tbody tr th {\n",
       "        vertical-align: top;\n",
       "    }\n",
       "\n",
       "    .dataframe thead th {\n",
       "        text-align: right;\n",
       "    }\n",
       "</style>\n",
       "<table border=\"1\" class=\"dataframe\">\n",
       "  <thead>\n",
       "    <tr style=\"text-align: right;\">\n",
       "      <th></th>\n",
       "      <th>9067</th>\n",
       "    </tr>\n",
       "  </thead>\n",
       "  <tbody>\n",
       "    <tr>\n",
       "      <th>ID</th>\n",
       "      <td>28250</td>\n",
       "    </tr>\n",
       "    <tr>\n",
       "      <th>Region</th>\n",
       "      <td>Americas</td>\n",
       "    </tr>\n",
       "    <tr>\n",
       "      <th>Territory</th>\n",
       "      <td>SW America</td>\n",
       "    </tr>\n",
       "    <tr>\n",
       "      <th>Pricing, Delivery_Terms_Quote_Appr</th>\n",
       "      <td>1</td>\n",
       "    </tr>\n",
       "    <tr>\n",
       "      <th>Pricing, Delivery_Terms_Approved</th>\n",
       "      <td>0</td>\n",
       "    </tr>\n",
       "    <tr>\n",
       "      <th>Bureaucratic_Code_0_Approval</th>\n",
       "      <td>0</td>\n",
       "    </tr>\n",
       "    <tr>\n",
       "      <th>Bureaucratic_Code_0_Approved</th>\n",
       "      <td>0</td>\n",
       "    </tr>\n",
       "    <tr>\n",
       "      <th>Submitted_for_Approval</th>\n",
       "      <td>0</td>\n",
       "    </tr>\n",
       "    <tr>\n",
       "      <th>Bureaucratic_Code</th>\n",
       "      <td>Bureaucratic_Code_5</td>\n",
       "    </tr>\n",
       "    <tr>\n",
       "      <th>Account_Created_Date</th>\n",
       "      <td>2015-07-30 00:00:00</td>\n",
       "    </tr>\n",
       "    <tr>\n",
       "      <th>Source</th>\n",
       "      <td>Source_7</td>\n",
       "    </tr>\n",
       "    <tr>\n",
       "      <th>Billing_Country</th>\n",
       "      <td>United States</td>\n",
       "    </tr>\n",
       "    <tr>\n",
       "      <th>Account_Name</th>\n",
       "      <td>Account_Name_265</td>\n",
       "    </tr>\n",
       "    <tr>\n",
       "      <th>Opportunity_Name</th>\n",
       "      <td>Opportunity_Name_112</td>\n",
       "    </tr>\n",
       "    <tr>\n",
       "      <th>Opportunity_ID</th>\n",
       "      <td>5671</td>\n",
       "    </tr>\n",
       "    <tr>\n",
       "      <th>Sales_Contract_No</th>\n",
       "      <td>None</td>\n",
       "    </tr>\n",
       "    <tr>\n",
       "      <th>Account_Owner</th>\n",
       "      <td>Person_Name_8</td>\n",
       "    </tr>\n",
       "    <tr>\n",
       "      <th>Opportunity_Owner</th>\n",
       "      <td>Person_Name_8</td>\n",
       "    </tr>\n",
       "    <tr>\n",
       "      <th>Account_Type</th>\n",
       "      <td>Account_Type_0</td>\n",
       "    </tr>\n",
       "    <tr>\n",
       "      <th>Opportunity_Type</th>\n",
       "      <td>Opportunity_Type_1</td>\n",
       "    </tr>\n",
       "    <tr>\n",
       "      <th>Quote_Type</th>\n",
       "      <td>Non Binding</td>\n",
       "    </tr>\n",
       "    <tr>\n",
       "      <th>Delivery_Terms</th>\n",
       "      <td>Delivery_Terms_1</td>\n",
       "    </tr>\n",
       "    <tr>\n",
       "      <th>Opportunity_Created_Date</th>\n",
       "      <td>2017-07-22 00:00:00</td>\n",
       "    </tr>\n",
       "    <tr>\n",
       "      <th>Brand</th>\n",
       "      <td>None</td>\n",
       "    </tr>\n",
       "    <tr>\n",
       "      <th>Product_Type</th>\n",
       "      <td>None</td>\n",
       "    </tr>\n",
       "    <tr>\n",
       "      <th>Size</th>\n",
       "      <td>None</td>\n",
       "    </tr>\n",
       "    <tr>\n",
       "      <th>Product_Category_B</th>\n",
       "      <td>None</td>\n",
       "    </tr>\n",
       "    <tr>\n",
       "      <th>Price</th>\n",
       "      <td>None</td>\n",
       "    </tr>\n",
       "    <tr>\n",
       "      <th>Currency</th>\n",
       "      <td>None</td>\n",
       "    </tr>\n",
       "    <tr>\n",
       "      <th>Last_Activity</th>\n",
       "      <td>NaT</td>\n",
       "    </tr>\n",
       "    <tr>\n",
       "      <th>Quote_Expiry_Date</th>\n",
       "      <td>2017-08-31 00:00:00</td>\n",
       "    </tr>\n",
       "    <tr>\n",
       "      <th>Last_Modified_Date</th>\n",
       "      <td>2018-02-08 00:00:00</td>\n",
       "    </tr>\n",
       "    <tr>\n",
       "      <th>Last_Modified_By</th>\n",
       "      <td>Person_Name_47</td>\n",
       "    </tr>\n",
       "    <tr>\n",
       "      <th>Product_Family</th>\n",
       "      <td>Product_Family_209</td>\n",
       "    </tr>\n",
       "    <tr>\n",
       "      <th>Product_Name</th>\n",
       "      <td>Product_Name_431</td>\n",
       "    </tr>\n",
       "    <tr>\n",
       "      <th>ASP_Currency</th>\n",
       "      <td>USD</td>\n",
       "    </tr>\n",
       "    <tr>\n",
       "      <th>ASP</th>\n",
       "      <td>0.425</td>\n",
       "    </tr>\n",
       "    <tr>\n",
       "      <th>ASP_(converted)_Currency</th>\n",
       "      <td>USD</td>\n",
       "    </tr>\n",
       "    <tr>\n",
       "      <th>ASP_(converted)</th>\n",
       "      <td>0.425</td>\n",
       "    </tr>\n",
       "    <tr>\n",
       "      <th>Planned_Delivery_Start_Date</th>\n",
       "      <td>2017-12-17 00:00:00</td>\n",
       "    </tr>\n",
       "    <tr>\n",
       "      <th>Planned_Delivery_End_Date</th>\n",
       "      <td>2017-12-30 00:00:00</td>\n",
       "    </tr>\n",
       "    <tr>\n",
       "      <th>Month</th>\n",
       "      <td>2017 - 12</td>\n",
       "    </tr>\n",
       "    <tr>\n",
       "      <th>Delivery_Quarter</th>\n",
       "      <td>Q4</td>\n",
       "    </tr>\n",
       "    <tr>\n",
       "      <th>Delivery_Year</th>\n",
       "      <td>2017</td>\n",
       "    </tr>\n",
       "    <tr>\n",
       "      <th>Actual_Delivery_Date</th>\n",
       "      <td>NaT</td>\n",
       "    </tr>\n",
       "    <tr>\n",
       "      <th>TRF</th>\n",
       "      <td>2</td>\n",
       "    </tr>\n",
       "    <tr>\n",
       "      <th>Total_Amount_Currency</th>\n",
       "      <td>USD</td>\n",
       "    </tr>\n",
       "    <tr>\n",
       "      <th>Total_Amount</th>\n",
       "      <td>774180</td>\n",
       "    </tr>\n",
       "    <tr>\n",
       "      <th>Total_Taxable_Amount_Currency</th>\n",
       "      <td>USD</td>\n",
       "    </tr>\n",
       "    <tr>\n",
       "      <th>Total_Taxable_Amount</th>\n",
       "      <td>774180</td>\n",
       "    </tr>\n",
       "    <tr>\n",
       "      <th>Stage</th>\n",
       "      <td>Closed Lost</td>\n",
       "    </tr>\n",
       "    <tr>\n",
       "      <th>Prod_Category_A</th>\n",
       "      <td>Prod_Category_A_None</td>\n",
       "    </tr>\n",
       "    <tr>\n",
       "      <th>Delivery_Range</th>\n",
       "      <td>13</td>\n",
       "    </tr>\n",
       "  </tbody>\n",
       "</table>\n",
       "</div>"
      ],
      "text/plain": [
       "                                                    9067\n",
       "ID                                                 28250\n",
       "Region                                          Americas\n",
       "Territory                                     SW America\n",
       "Pricing, Delivery_Terms_Quote_Appr                     1\n",
       "Pricing, Delivery_Terms_Approved                       0\n",
       "Bureaucratic_Code_0_Approval                           0\n",
       "Bureaucratic_Code_0_Approved                           0\n",
       "Submitted_for_Approval                                 0\n",
       "Bureaucratic_Code                    Bureaucratic_Code_5\n",
       "Account_Created_Date                 2015-07-30 00:00:00\n",
       "Source                                          Source_7\n",
       "Billing_Country                            United States\n",
       "Account_Name                            Account_Name_265\n",
       "Opportunity_Name                    Opportunity_Name_112\n",
       "Opportunity_ID                                      5671\n",
       "Sales_Contract_No                                   None\n",
       "Account_Owner                              Person_Name_8\n",
       "Opportunity_Owner                          Person_Name_8\n",
       "Account_Type                              Account_Type_0\n",
       "Opportunity_Type                      Opportunity_Type_1\n",
       "Quote_Type                                   Non Binding\n",
       "Delivery_Terms                          Delivery_Terms_1\n",
       "Opportunity_Created_Date             2017-07-22 00:00:00\n",
       "Brand                                               None\n",
       "Product_Type                                        None\n",
       "Size                                                None\n",
       "Product_Category_B                                  None\n",
       "Price                                               None\n",
       "Currency                                            None\n",
       "Last_Activity                                        NaT\n",
       "Quote_Expiry_Date                    2017-08-31 00:00:00\n",
       "Last_Modified_Date                   2018-02-08 00:00:00\n",
       "Last_Modified_By                          Person_Name_47\n",
       "Product_Family                        Product_Family_209\n",
       "Product_Name                            Product_Name_431\n",
       "ASP_Currency                                         USD\n",
       "ASP                                                0.425\n",
       "ASP_(converted)_Currency                             USD\n",
       "ASP_(converted)                                    0.425\n",
       "Planned_Delivery_Start_Date          2017-12-17 00:00:00\n",
       "Planned_Delivery_End_Date            2017-12-30 00:00:00\n",
       "Month                                          2017 - 12\n",
       "Delivery_Quarter                                      Q4\n",
       "Delivery_Year                                       2017\n",
       "Actual_Delivery_Date                                 NaT\n",
       "TRF                                                    2\n",
       "Total_Amount_Currency                                USD\n",
       "Total_Amount                                      774180\n",
       "Total_Taxable_Amount_Currency                        USD\n",
       "Total_Taxable_Amount                              774180\n",
       "Stage                                        Closed Lost\n",
       "Prod_Category_A                     Prod_Category_A_None\n",
       "Delivery_Range                                        13"
      ]
     },
     "execution_count": 11,
     "metadata": {},
     "output_type": "execute_result"
    }
   ],
   "source": [
    "data_frame[data_frame[\"Opportunity_Name\"] == \"Opportunity_Name_112\"].T\n"
   ]
  },
  {
   "cell_type": "code",
   "execution_count": 12,
   "metadata": {},
   "outputs": [
    {
     "data": {
      "text/plain": [
       "<AxesSubplot:>"
      ]
     },
     "execution_count": 12,
     "metadata": {},
     "output_type": "execute_result"
    },
    {
     "data": {
      "image/png": "[encoded data removed]",
      "text/plain": [
       "<Figure size 432x288 with 1 Axes>"
      ]
     },
     "metadata": {
      "needs_background": "light"
     },
     "output_type": "display_data"
    }
   ],
   "source": [
    "smallestDeliveryRange[\"Region\"].value_counts().plot.bar()"
   ]
  },
  {
   "cell_type": "code",
   "execution_count": 13,
   "metadata": {},
   "outputs": [
    {
     "data": {
      "text/plain": [
       "<AxesSubplot:>"
      ]
     },
     "execution_count": 13,
     "metadata": {},
     "output_type": "execute_result"
    },
    {
     "data": {
      "image/png": "[encoded data removed]",
      "text/plain": [
       "<Figure size 432x288 with 1 Axes>"
      ]
     },
     "metadata": {
      "needs_background": "light"
     },
     "output_type": "display_data"
    }
   ],
   "source": [
    "data_frame[\"Delivery_Range\"] = data_frame[\"Planned_Delivery_End_Date\"].sub(data_frame[\"Planned_Delivery_Start_Date\"], axis=0)/ np.timedelta64(1, 'D')\n",
    "closedOpportunities = data_frame[data_frame[\"Stage\"].str.contains(\"Closed\")]\n",
    "largestDeliveryRange = closedOpportunities[closedOpportunities[\"Delivery_Range\"] < 7]\n",
    "largestDeliveryRange[\"Region\"].value_counts().plot.bar()"
   ]
  },
  {
   "cell_type": "code",
   "execution_count": 14,
   "metadata": {},
   "outputs": [
    {
     "data": {
      "text/plain": [
       "<AxesSubplot:xlabel='Region'>"
      ]
     },
     "execution_count": 14,
     "metadata": {},
     "output_type": "execute_result"
    },
    {
     "data": {
      "image/png": "[encoded data removed]",
      "text/plain": [
       "<Figure size 432x288 with 1 Axes>"
      ]
     },
     "metadata": {
      "needs_background": "light"
     },
     "output_type": "display_data"
    }
   ],
   "source": [
    "smallestByRegion = smallestDeliveryRange.groupby([\"Region\", \"Stage\"]).agg({\"ID\":\"count\"}).reset_index()\n",
    "smallestWinRate = smallestByRegion.groupby(\"Region\").apply(lambda x: x[x.Stage==\"Closed Won\"]['ID'] / x['ID'].sum()).reset_index()\n",
    "smallestWinRate.plot(x=\"Region\", y=\"ID\", kind=\"bar\")"
   ]
  },
  {
   "cell_type": "code",
   "execution_count": 15,
   "metadata": {},
   "outputs": [
    {
     "data": {
      "text/plain": [
       "Closed Won       4083\n",
       "Closed Lost      3346\n",
       "Proposal           12\n",
       "Negotiation         7\n",
       "Qualification       2\n",
       "Name: Stage, dtype: int64"
      ]
     },
     "execution_count": 15,
     "metadata": {},
     "output_type": "execute_result"
    }
   ],
   "source": [
    "#EN SOURCE HAY ALGO\n",
    "notNullSource = data_frame[data_frame['Source '] != \"None\"]\n",
    "notNullSource.Stage.value_counts()"
   ]
  },
  {
   "cell_type": "code",
   "execution_count": 16,
   "metadata": {},
   "outputs": [
    {
     "data": {
      "text/html": [
       "<div>\n",
       "<style scoped>\n",
       "    .dataframe tbody tr th:only-of-type {\n",
       "        vertical-align: middle;\n",
       "    }\n",
       "\n",
       "    .dataframe tbody tr th {\n",
       "        vertical-align: top;\n",
       "    }\n",
       "\n",
       "    .dataframe thead th {\n",
       "        text-align: right;\n",
       "    }\n",
       "</style>\n",
       "<table border=\"1\" class=\"dataframe\">\n",
       "  <thead>\n",
       "    <tr style=\"text-align: right;\">\n",
       "      <th></th>\n",
       "      <th>0</th>\n",
       "      <th>1</th>\n",
       "      <th>2</th>\n",
       "      <th>7</th>\n",
       "    </tr>\n",
       "  </thead>\n",
       "  <tbody>\n",
       "    <tr>\n",
       "      <th>ID</th>\n",
       "      <td>27761</td>\n",
       "      <td>27760</td>\n",
       "      <td>27446</td>\n",
       "      <td>27455</td>\n",
       "    </tr>\n",
       "    <tr>\n",
       "      <th>Region</th>\n",
       "      <td>EMEA</td>\n",
       "      <td>EMEA</td>\n",
       "      <td>Americas</td>\n",
       "      <td>Americas</td>\n",
       "    </tr>\n",
       "    <tr>\n",
       "      <th>Territory</th>\n",
       "      <td>None</td>\n",
       "      <td>None</td>\n",
       "      <td>NW America</td>\n",
       "      <td>NW America</td>\n",
       "    </tr>\n",
       "    <tr>\n",
       "      <th>Pricing, Delivery_Terms_Quote_Appr</th>\n",
       "      <td>1</td>\n",
       "      <td>0</td>\n",
       "      <td>0</td>\n",
       "      <td>1</td>\n",
       "    </tr>\n",
       "    <tr>\n",
       "      <th>Pricing, Delivery_Terms_Approved</th>\n",
       "      <td>1</td>\n",
       "      <td>0</td>\n",
       "      <td>0</td>\n",
       "      <td>1</td>\n",
       "    </tr>\n",
       "    <tr>\n",
       "      <th>Bureaucratic_Code_0_Approval</th>\n",
       "      <td>1</td>\n",
       "      <td>0</td>\n",
       "      <td>0</td>\n",
       "      <td>1</td>\n",
       "    </tr>\n",
       "    <tr>\n",
       "      <th>Bureaucratic_Code_0_Approved</th>\n",
       "      <td>1</td>\n",
       "      <td>0</td>\n",
       "      <td>0</td>\n",
       "      <td>1</td>\n",
       "    </tr>\n",
       "    <tr>\n",
       "      <th>Submitted_for_Approval</th>\n",
       "      <td>0</td>\n",
       "      <td>0</td>\n",
       "      <td>0</td>\n",
       "      <td>0</td>\n",
       "    </tr>\n",
       "    <tr>\n",
       "      <th>Bureaucratic_Code</th>\n",
       "      <td>Bureaucratic_Code_4</td>\n",
       "      <td>Bureaucratic_Code_4</td>\n",
       "      <td>Bureaucratic_Code_4</td>\n",
       "      <td>Bureaucratic_Code_4</td>\n",
       "    </tr>\n",
       "    <tr>\n",
       "      <th>Account_Created_Date</th>\n",
       "      <td>2015-06-16 00:00:00</td>\n",
       "      <td>2015-06-16 00:00:00</td>\n",
       "      <td>2015-04-21 00:00:00</td>\n",
       "      <td>2015-04-21 00:00:00</td>\n",
       "    </tr>\n",
       "    <tr>\n",
       "      <th>Source</th>\n",
       "      <td>None</td>\n",
       "      <td>None</td>\n",
       "      <td>Source_7</td>\n",
       "      <td>Source_7</td>\n",
       "    </tr>\n",
       "    <tr>\n",
       "      <th>Billing_Country</th>\n",
       "      <td>Netherlands</td>\n",
       "      <td>Netherlands</td>\n",
       "      <td>United States</td>\n",
       "      <td>United States</td>\n",
       "    </tr>\n",
       "    <tr>\n",
       "      <th>Account_Name</th>\n",
       "      <td>Account_Name_619</td>\n",
       "      <td>Account_Name_619</td>\n",
       "      <td>Account_Name_1794</td>\n",
       "      <td>Account_Name_1794</td>\n",
       "    </tr>\n",
       "    <tr>\n",
       "      <th>Opportunity_Name</th>\n",
       "      <td>Opportunity_Name_12598</td>\n",
       "      <td>Opportunity_Name_12600</td>\n",
       "      <td>Opportunity_Name_469</td>\n",
       "      <td>Opportunity_Name_8227</td>\n",
       "    </tr>\n",
       "    <tr>\n",
       "      <th>Opportunity_ID</th>\n",
       "      <td>0</td>\n",
       "      <td>1</td>\n",
       "      <td>2</td>\n",
       "      <td>7</td>\n",
       "    </tr>\n",
       "    <tr>\n",
       "      <th>Sales_Contract_No</th>\n",
       "      <td>None</td>\n",
       "      <td>39</td>\n",
       "      <td>760</td>\n",
       "      <td>None</td>\n",
       "    </tr>\n",
       "    <tr>\n",
       "      <th>Account_Owner</th>\n",
       "      <td>Person_Name_51</td>\n",
       "      <td>Person_Name_51</td>\n",
       "      <td>Person_Name_64</td>\n",
       "      <td>Person_Name_64</td>\n",
       "    </tr>\n",
       "    <tr>\n",
       "      <th>Opportunity_Owner</th>\n",
       "      <td>Person_Name_18</td>\n",
       "      <td>Person_Name_20</td>\n",
       "      <td>Person_Name_8</td>\n",
       "      <td>Person_Name_8</td>\n",
       "    </tr>\n",
       "    <tr>\n",
       "      <th>Account_Type</th>\n",
       "      <td>Account_Type_2</td>\n",
       "      <td>Account_Type_2</td>\n",
       "      <td>Account_Type_5</td>\n",
       "      <td>Account_Type_5</td>\n",
       "    </tr>\n",
       "    <tr>\n",
       "      <th>Opportunity_Type</th>\n",
       "      <td>Opportunity_Type_1</td>\n",
       "      <td>Opportunity_Type_1</td>\n",
       "      <td>Opportunity_Type_1</td>\n",
       "      <td>Opportunity_Type_1</td>\n",
       "    </tr>\n",
       "    <tr>\n",
       "      <th>Quote_Type</th>\n",
       "      <td>Non Binding</td>\n",
       "      <td>Non Binding</td>\n",
       "      <td>Non Binding</td>\n",
       "      <td>Non Binding</td>\n",
       "    </tr>\n",
       "    <tr>\n",
       "      <th>Delivery_Terms</th>\n",
       "      <td>Delivery_Terms_2</td>\n",
       "      <td>Delivery_Terms_2</td>\n",
       "      <td>Delivery_Terms_4</td>\n",
       "      <td>Delivery_Terms_4</td>\n",
       "    </tr>\n",
       "    <tr>\n",
       "      <th>Opportunity_Created_Date</th>\n",
       "      <td>2015-12-07 00:00:00</td>\n",
       "      <td>2015-12-07 00:00:00</td>\n",
       "      <td>2015-12-08 00:00:00</td>\n",
       "      <td>2015-12-09 00:00:00</td>\n",
       "    </tr>\n",
       "    <tr>\n",
       "      <th>Brand</th>\n",
       "      <td>None</td>\n",
       "      <td>None</td>\n",
       "      <td>None</td>\n",
       "      <td>None</td>\n",
       "    </tr>\n",
       "    <tr>\n",
       "      <th>Product_Type</th>\n",
       "      <td>None</td>\n",
       "      <td>None</td>\n",
       "      <td>None</td>\n",
       "      <td>None</td>\n",
       "    </tr>\n",
       "    <tr>\n",
       "      <th>Size</th>\n",
       "      <td>None</td>\n",
       "      <td>None</td>\n",
       "      <td>None</td>\n",
       "      <td>None</td>\n",
       "    </tr>\n",
       "    <tr>\n",
       "      <th>Product_Category_B</th>\n",
       "      <td>None</td>\n",
       "      <td>None</td>\n",
       "      <td>None</td>\n",
       "      <td>None</td>\n",
       "    </tr>\n",
       "    <tr>\n",
       "      <th>Price</th>\n",
       "      <td>None</td>\n",
       "      <td>None</td>\n",
       "      <td>None</td>\n",
       "      <td>None</td>\n",
       "    </tr>\n",
       "    <tr>\n",
       "      <th>Currency</th>\n",
       "      <td>None</td>\n",
       "      <td>None</td>\n",
       "      <td>None</td>\n",
       "      <td>None</td>\n",
       "    </tr>\n",
       "    <tr>\n",
       "      <th>Last_Activity</th>\n",
       "      <td>NaT</td>\n",
       "      <td>NaT</td>\n",
       "      <td>NaT</td>\n",
       "      <td>NaT</td>\n",
       "    </tr>\n",
       "    <tr>\n",
       "      <th>Quote_Expiry_Date</th>\n",
       "      <td>2016-01-30 00:00:00</td>\n",
       "      <td>2016-01-20 00:00:00</td>\n",
       "      <td>2016-09-30 00:00:00</td>\n",
       "      <td>2016-01-07 00:00:00</td>\n",
       "    </tr>\n",
       "    <tr>\n",
       "      <th>Last_Modified_Date</th>\n",
       "      <td>2016-06-13 00:00:00</td>\n",
       "      <td>2016-01-15 00:00:00</td>\n",
       "      <td>2016-09-29 00:00:00</td>\n",
       "      <td>2015-12-09 00:00:00</td>\n",
       "    </tr>\n",
       "    <tr>\n",
       "      <th>Last_Modified_By</th>\n",
       "      <td>Person_Name_18</td>\n",
       "      <td>Person_Name_20</td>\n",
       "      <td>Person_Name_8</td>\n",
       "      <td>Person_Name_8</td>\n",
       "    </tr>\n",
       "    <tr>\n",
       "      <th>Product_Family</th>\n",
       "      <td>Product_Family_77</td>\n",
       "      <td>Product_Family_77</td>\n",
       "      <td>Product_Family_81</td>\n",
       "      <td>Product_Family_143</td>\n",
       "    </tr>\n",
       "    <tr>\n",
       "      <th>Product_Name</th>\n",
       "      <td>Product_Name_99</td>\n",
       "      <td>Product_Name_100</td>\n",
       "      <td>Product_Name_91</td>\n",
       "      <td>Product_Name_251</td>\n",
       "    </tr>\n",
       "    <tr>\n",
       "      <th>ASP_Currency</th>\n",
       "      <td>EUR</td>\n",
       "      <td>EUR</td>\n",
       "      <td>USD</td>\n",
       "      <td>USD</td>\n",
       "    </tr>\n",
       "    <tr>\n",
       "      <th>ASP</th>\n",
       "      <td>0.52</td>\n",
       "      <td>0.53</td>\n",
       "      <td>0.48</td>\n",
       "      <td>0.48</td>\n",
       "    </tr>\n",
       "    <tr>\n",
       "      <th>ASP_(converted)_Currency</th>\n",
       "      <td>USD</td>\n",
       "      <td>USD</td>\n",
       "      <td>USD</td>\n",
       "      <td>USD</td>\n",
       "    </tr>\n",
       "    <tr>\n",
       "      <th>ASP_(converted)</th>\n",
       "      <td>0.58817</td>\n",
       "      <td>0.59948</td>\n",
       "      <td>0.48</td>\n",
       "      <td>0.48</td>\n",
       "    </tr>\n",
       "    <tr>\n",
       "      <th>Planned_Delivery_Start_Date</th>\n",
       "      <td>2016-05-01 00:00:00</td>\n",
       "      <td>2016-01-18 00:00:00</td>\n",
       "      <td>2016-01-25 00:00:00</td>\n",
       "      <td>2016-01-25 00:00:00</td>\n",
       "    </tr>\n",
       "    <tr>\n",
       "      <th>Planned_Delivery_End_Date</th>\n",
       "      <td>2016-06-30 00:00:00</td>\n",
       "      <td>2016-01-20 00:00:00</td>\n",
       "      <td>2016-01-25 00:00:00</td>\n",
       "      <td>2016-01-25 00:00:00</td>\n",
       "    </tr>\n",
       "    <tr>\n",
       "      <th>Month</th>\n",
       "      <td>2016 - 5</td>\n",
       "      <td>2016 - 1</td>\n",
       "      <td>2016 - 1</td>\n",
       "      <td>2016 - 1</td>\n",
       "    </tr>\n",
       "    <tr>\n",
       "      <th>Delivery_Quarter</th>\n",
       "      <td>Q2</td>\n",
       "      <td>Q1</td>\n",
       "      <td>Q1</td>\n",
       "      <td>Q1</td>\n",
       "    </tr>\n",
       "    <tr>\n",
       "      <th>Delivery_Year</th>\n",
       "      <td>2016</td>\n",
       "      <td>2016</td>\n",
       "      <td>2016</td>\n",
       "      <td>2016</td>\n",
       "    </tr>\n",
       "    <tr>\n",
       "      <th>Actual_Delivery_Date</th>\n",
       "      <td>NaT</td>\n",
       "      <td>NaT</td>\n",
       "      <td>NaT</td>\n",
       "      <td>NaT</td>\n",
       "    </tr>\n",
       "    <tr>\n",
       "      <th>TRF</th>\n",
       "      <td>10</td>\n",
       "      <td>0</td>\n",
       "      <td>0</td>\n",
       "      <td>0</td>\n",
       "    </tr>\n",
       "    <tr>\n",
       "      <th>Total_Amount_Currency</th>\n",
       "      <td>EUR</td>\n",
       "      <td>EUR</td>\n",
       "      <td>USD</td>\n",
       "      <td>USD</td>\n",
       "    </tr>\n",
       "    <tr>\n",
       "      <th>Total_Amount</th>\n",
       "      <td>5.2728e+06</td>\n",
       "      <td>48230</td>\n",
       "      <td>83865.6</td>\n",
       "      <td>50688</td>\n",
       "    </tr>\n",
       "    <tr>\n",
       "      <th>Total_Taxable_Amount_Currency</th>\n",
       "      <td>EUR</td>\n",
       "      <td>EUR</td>\n",
       "      <td>USD</td>\n",
       "      <td>USD</td>\n",
       "    </tr>\n",
       "    <tr>\n",
       "      <th>Total_Taxable_Amount</th>\n",
       "      <td>5.2728e+06</td>\n",
       "      <td>48230</td>\n",
       "      <td>83865.6</td>\n",
       "      <td>50688</td>\n",
       "    </tr>\n",
       "    <tr>\n",
       "      <th>Stage</th>\n",
       "      <td>Closed Lost</td>\n",
       "      <td>Closed Won</td>\n",
       "      <td>Closed Won</td>\n",
       "      <td>Closed Won</td>\n",
       "    </tr>\n",
       "    <tr>\n",
       "      <th>Prod_Category_A</th>\n",
       "      <td>Prod_Category_A_None</td>\n",
       "      <td>Prod_Category_A_None</td>\n",
       "      <td>Prod_Category_A_None</td>\n",
       "      <td>Prod_Category_A_None</td>\n",
       "    </tr>\n",
       "    <tr>\n",
       "      <th>Delivery_Range</th>\n",
       "      <td>60</td>\n",
       "      <td>2</td>\n",
       "      <td>0</td>\n",
       "      <td>0</td>\n",
       "    </tr>\n",
       "  </tbody>\n",
       "</table>\n",
       "</div>"
      ],
      "text/plain": [
       "                                                         0  \\\n",
       "ID                                                   27761   \n",
       "Region                                                EMEA   \n",
       "Territory                                             None   \n",
       "Pricing, Delivery_Terms_Quote_Appr                       1   \n",
       "Pricing, Delivery_Terms_Approved                         1   \n",
       "Bureaucratic_Code_0_Approval                             1   \n",
       "Bureaucratic_Code_0_Approved                             1   \n",
       "Submitted_for_Approval                                   0   \n",
       "Bureaucratic_Code                      Bureaucratic_Code_4   \n",
       "Account_Created_Date                   2015-06-16 00:00:00   \n",
       "Source                                                None   \n",
       "Billing_Country                                Netherlands   \n",
       "Account_Name                              Account_Name_619   \n",
       "Opportunity_Name                    Opportunity_Name_12598   \n",
       "Opportunity_ID                                           0   \n",
       "Sales_Contract_No                                     None   \n",
       "Account_Owner                               Person_Name_51   \n",
       "Opportunity_Owner                           Person_Name_18   \n",
       "Account_Type                                Account_Type_2   \n",
       "Opportunity_Type                        Opportunity_Type_1   \n",
       "Quote_Type                                     Non Binding   \n",
       "Delivery_Terms                            Delivery_Terms_2   \n",
       "Opportunity_Created_Date               2015-12-07 00:00:00   \n",
       "Brand                                                 None   \n",
       "Product_Type                                          None   \n",
       "Size                                                  None   \n",
       "Product_Category_B                                    None   \n",
       "Price                                                 None   \n",
       "Currency                                              None   \n",
       "Last_Activity                                          NaT   \n",
       "Quote_Expiry_Date                      2016-01-30 00:00:00   \n",
       "Last_Modified_Date                     2016-06-13 00:00:00   \n",
       "Last_Modified_By                            Person_Name_18   \n",
       "Product_Family                           Product_Family_77   \n",
       "Product_Name                               Product_Name_99   \n",
       "ASP_Currency                                           EUR   \n",
       "ASP                                                   0.52   \n",
       "ASP_(converted)_Currency                               USD   \n",
       "ASP_(converted)                                    0.58817   \n",
       "Planned_Delivery_Start_Date            2016-05-01 00:00:00   \n",
       "Planned_Delivery_End_Date              2016-06-30 00:00:00   \n",
       "Month                                             2016 - 5   \n",
       "Delivery_Quarter                                        Q2   \n",
       "Delivery_Year                                         2016   \n",
       "Actual_Delivery_Date                                   NaT   \n",
       "TRF                                                     10   \n",
       "Total_Amount_Currency                                  EUR   \n",
       "Total_Amount                                    5.2728e+06   \n",
       "Total_Taxable_Amount_Currency                          EUR   \n",
       "Total_Taxable_Amount                            5.2728e+06   \n",
       "Stage                                          Closed Lost   \n",
       "Prod_Category_A                       Prod_Category_A_None   \n",
       "Delivery_Range                                          60   \n",
       "\n",
       "                                                         1  \\\n",
       "ID                                                   27760   \n",
       "Region                                                EMEA   \n",
       "Territory                                             None   \n",
       "Pricing, Delivery_Terms_Quote_Appr                       0   \n",
       "Pricing, Delivery_Terms_Approved                         0   \n",
       "Bureaucratic_Code_0_Approval                             0   \n",
       "Bureaucratic_Code_0_Approved                             0   \n",
       "Submitted_for_Approval                                   0   \n",
       "Bureaucratic_Code                      Bureaucratic_Code_4   \n",
       "Account_Created_Date                   2015-06-16 00:00:00   \n",
       "Source                                                None   \n",
       "Billing_Country                                Netherlands   \n",
       "Account_Name                              Account_Name_619   \n",
       "Opportunity_Name                    Opportunity_Name_12600   \n",
       "Opportunity_ID                                           1   \n",
       "Sales_Contract_No                                       39   \n",
       "Account_Owner                               Person_Name_51   \n",
       "Opportunity_Owner                           Person_Name_20   \n",
       "Account_Type                                Account_Type_2   \n",
       "Opportunity_Type                        Opportunity_Type_1   \n",
       "Quote_Type                                     Non Binding   \n",
       "Delivery_Terms                            Delivery_Terms_2   \n",
       "Opportunity_Created_Date               2015-12-07 00:00:00   \n",
       "Brand                                                 None   \n",
       "Product_Type                                          None   \n",
       "Size                                                  None   \n",
       "Product_Category_B                                    None   \n",
       "Price                                                 None   \n",
       "Currency                                              None   \n",
       "Last_Activity                                          NaT   \n",
       "Quote_Expiry_Date                      2016-01-20 00:00:00   \n",
       "Last_Modified_Date                     2016-01-15 00:00:00   \n",
       "Last_Modified_By                            Person_Name_20   \n",
       "Product_Family                           Product_Family_77   \n",
       "Product_Name                              Product_Name_100   \n",
       "ASP_Currency                                           EUR   \n",
       "ASP                                                   0.53   \n",
       "ASP_(converted)_Currency                               USD   \n",
       "ASP_(converted)                                    0.59948   \n",
       "Planned_Delivery_Start_Date            2016-01-18 00:00:00   \n",
       "Planned_Delivery_End_Date              2016-01-20 00:00:00   \n",
       "Month                                             2016 - 1   \n",
       "Delivery_Quarter                                        Q1   \n",
       "Delivery_Year                                         2016   \n",
       "Actual_Delivery_Date                                   NaT   \n",
       "TRF                                                      0   \n",
       "Total_Amount_Currency                                  EUR   \n",
       "Total_Amount                                         48230   \n",
       "Total_Taxable_Amount_Currency                          EUR   \n",
       "Total_Taxable_Amount                                 48230   \n",
       "Stage                                           Closed Won   \n",
       "Prod_Category_A                       Prod_Category_A_None   \n",
       "Delivery_Range                                           2   \n",
       "\n",
       "                                                       2  \\\n",
       "ID                                                 27446   \n",
       "Region                                          Americas   \n",
       "Territory                                     NW America   \n",
       "Pricing, Delivery_Terms_Quote_Appr                     0   \n",
       "Pricing, Delivery_Terms_Approved                       0   \n",
       "Bureaucratic_Code_0_Approval                           0   \n",
       "Bureaucratic_Code_0_Approved                           0   \n",
       "Submitted_for_Approval                                 0   \n",
       "Bureaucratic_Code                    Bureaucratic_Code_4   \n",
       "Account_Created_Date                 2015-04-21 00:00:00   \n",
       "Source                                          Source_7   \n",
       "Billing_Country                            United States   \n",
       "Account_Name                           Account_Name_1794   \n",
       "Opportunity_Name                    Opportunity_Name_469   \n",
       "Opportunity_ID                                         2   \n",
       "Sales_Contract_No                                    760   \n",
       "Account_Owner                             Person_Name_64   \n",
       "Opportunity_Owner                          Person_Name_8   \n",
       "Account_Type                              Account_Type_5   \n",
       "Opportunity_Type                      Opportunity_Type_1   \n",
       "Quote_Type                                   Non Binding   \n",
       "Delivery_Terms                          Delivery_Terms_4   \n",
       "Opportunity_Created_Date             2015-12-08 00:00:00   \n",
       "Brand                                               None   \n",
       "Product_Type                                        None   \n",
       "Size                                                None   \n",
       "Product_Category_B                                  None   \n",
       "Price                                               None   \n",
       "Currency                                            None   \n",
       "Last_Activity                                        NaT   \n",
       "Quote_Expiry_Date                    2016-09-30 00:00:00   \n",
       "Last_Modified_Date                   2016-09-29 00:00:00   \n",
       "Last_Modified_By                           Person_Name_8   \n",
       "Product_Family                         Product_Family_81   \n",
       "Product_Name                             Product_Name_91   \n",
       "ASP_Currency                                         USD   \n",
       "ASP                                                 0.48   \n",
       "ASP_(converted)_Currency                             USD   \n",
       "ASP_(converted)                                     0.48   \n",
       "Planned_Delivery_Start_Date          2016-01-25 00:00:00   \n",
       "Planned_Delivery_End_Date            2016-01-25 00:00:00   \n",
       "Month                                           2016 - 1   \n",
       "Delivery_Quarter                                      Q1   \n",
       "Delivery_Year                                       2016   \n",
       "Actual_Delivery_Date                                 NaT   \n",
       "TRF                                                    0   \n",
       "Total_Amount_Currency                                USD   \n",
       "Total_Amount                                     83865.6   \n",
       "Total_Taxable_Amount_Currency                        USD   \n",
       "Total_Taxable_Amount                             83865.6   \n",
       "Stage                                         Closed Won   \n",
       "Prod_Category_A                     Prod_Category_A_None   \n",
       "Delivery_Range                                         0   \n",
       "\n",
       "                                                        7  \n",
       "ID                                                  27455  \n",
       "Region                                           Americas  \n",
       "Territory                                      NW America  \n",
       "Pricing, Delivery_Terms_Quote_Appr                      1  \n",
       "Pricing, Delivery_Terms_Approved                        1  \n",
       "Bureaucratic_Code_0_Approval                            1  \n",
       "Bureaucratic_Code_0_Approved                            1  \n",
       "Submitted_for_Approval                                  0  \n",
       "Bureaucratic_Code                     Bureaucratic_Code_4  \n",
       "Account_Created_Date                  2015-04-21 00:00:00  \n",
       "Source                                           Source_7  \n",
       "Billing_Country                             United States  \n",
       "Account_Name                            Account_Name_1794  \n",
       "Opportunity_Name                    Opportunity_Name_8227  \n",
       "Opportunity_ID                                          7  \n",
       "Sales_Contract_No                                    None  \n",
       "Account_Owner                              Person_Name_64  \n",
       "Opportunity_Owner                           Person_Name_8  \n",
       "Account_Type                               Account_Type_5  \n",
       "Opportunity_Type                       Opportunity_Type_1  \n",
       "Quote_Type                                    Non Binding  \n",
       "Delivery_Terms                           Delivery_Terms_4  \n",
       "Opportunity_Created_Date              2015-12-09 00:00:00  \n",
       "Brand                                                None  \n",
       "Product_Type                                         None  \n",
       "Size                                                 None  \n",
       "Product_Category_B                                   None  \n",
       "Price                                                None  \n",
       "Currency                                             None  \n",
       "Last_Activity                                         NaT  \n",
       "Quote_Expiry_Date                     2016-01-07 00:00:00  \n",
       "Last_Modified_Date                    2015-12-09 00:00:00  \n",
       "Last_Modified_By                            Person_Name_8  \n",
       "Product_Family                         Product_Family_143  \n",
       "Product_Name                             Product_Name_251  \n",
       "ASP_Currency                                          USD  \n",
       "ASP                                                  0.48  \n",
       "ASP_(converted)_Currency                              USD  \n",
       "ASP_(converted)                                      0.48  \n",
       "Planned_Delivery_Start_Date           2016-01-25 00:00:00  \n",
       "Planned_Delivery_End_Date             2016-01-25 00:00:00  \n",
       "Month                                            2016 - 1  \n",
       "Delivery_Quarter                                       Q1  \n",
       "Delivery_Year                                        2016  \n",
       "Actual_Delivery_Date                                  NaT  \n",
       "TRF                                                     0  \n",
       "Total_Amount_Currency                                 USD  \n",
       "Total_Amount                                        50688  \n",
       "Total_Taxable_Amount_Currency                         USD  \n",
       "Total_Taxable_Amount                                50688  \n",
       "Stage                                          Closed Won  \n",
       "Prod_Category_A                      Prod_Category_A_None  \n",
       "Delivery_Range                                          0  "
      ]
     },
     "execution_count": 16,
     "metadata": {},
     "output_type": "execute_result"
    }
   ],
   "source": [
    "data_frame[data_frame[\"Opportunity_Owner\"] != data_frame[\"Account_Owner\"]].head(4).T"
   ]
  },
  {
   "cell_type": "code",
   "execution_count": 17,
   "metadata": {},
   "outputs": [],
   "source": [
    "opportunitiesBySeller = data_frame.groupby([\"Opportunity_Owner\"]).agg({\"Opportunity_ID\": pd.Series.nunique})\n",
    "#opportunitiesBySeller.nlargest(10, \"Opportunity_ID\").plot.barh()\n",
    "sarasa = data_frame.groupby([\"Opportunity_Name\", \"Opportunity_Owner\", \"Total_Taxable_Amount\", \"Stage\"]).agg({\"Opportunity_ID\": pd.Series.nunique}).reset_index()\n",
    "meanAmountBySeller = sarasa.groupby(\"Opportunity_Owner\").agg({\"Total_Taxable_Amount\": \"mean\", \"Opportunity_ID\":\"count\"}).reset_index()"
   ]
  },
  {
   "cell_type": "code",
   "execution_count": 18,
   "metadata": {},
   "outputs": [
    {
     "data": {
      "text/plain": [
       "<AxesSubplot:xlabel='winrate', ylabel='Quantity'>"
      ]
     },
     "execution_count": 18,
     "metadata": {},
     "output_type": "execute_result"
    },
    {
     "data": {
      "image/png": "[encoded data removed]",
      "text/plain": [
       "<Figure size 432x288 with 1 Axes>"
      ]
     },
     "metadata": {
      "needs_background": "light"
     },
     "output_type": "display_data"
    }
   ],
   "source": [
    "winRateBySeller = sarasa.groupby([\"Opportunity_Owner\"]).apply(lambda x: len(x[x.Stage==\"Closed Won\"]) / len(x)).reset_index()\n",
    "\n",
    "merged = winRateBySeller.merge(meanAmountBySeller, on=\"Opportunity_Owner\")\n",
    "merged.columns = ['Opportunity_Owner', \"winrate\", 'Total_Taxable_Amount', 'Quantity']\n",
    "merged.plot(x=\"winrate\", y=\"Quantity\", kind=\"scatter\")"
   ]
  },
  {
   "cell_type": "code",
   "execution_count": 19,
   "metadata": {},
   "outputs": [
    {
     "data": {
      "text/plain": [
       "Index(['ID', 'Region', 'Territory', 'Pricing, Delivery_Terms_Quote_Appr',\n",
       "       'Pricing, Delivery_Terms_Approved', 'Bureaucratic_Code_0_Approval',\n",
       "       'Bureaucratic_Code_0_Approved', 'Submitted_for_Approval',\n",
       "       'Bureaucratic_Code', 'Account_Created_Date', 'Source ',\n",
       "       'Billing_Country', 'Account_Name', 'Opportunity_Name', 'Opportunity_ID',\n",
       "       'Sales_Contract_No', 'Account_Owner', 'Opportunity_Owner',\n",
       "       'Account_Type', 'Opportunity_Type', 'Quote_Type', 'Delivery_Terms',\n",
       "       'Opportunity_Created_Date', 'Brand', 'Product_Type', 'Size',\n",
       "       'Product_Category_B', 'Price', 'Currency', 'Last_Activity',\n",
       "       'Quote_Expiry_Date', 'Last_Modified_Date', 'Last_Modified_By',\n",
       "       'Product_Family', 'Product_Name', 'ASP_Currency', 'ASP',\n",
       "       'ASP_(converted)_Currency', 'ASP_(converted)',\n",
       "       'Planned_Delivery_Start_Date', 'Planned_Delivery_End_Date', 'Month',\n",
       "       'Delivery_Quarter', 'Delivery_Year', 'Actual_Delivery_Date', 'TRF',\n",
       "       'Total_Amount_Currency', 'Total_Amount',\n",
       "       'Total_Taxable_Amount_Currency', 'Total_Taxable_Amount', 'Stage',\n",
       "       'Prod_Category_A', 'Delivery_Range'],\n",
       "      dtype='object')"
      ]
     },
     "execution_count": 19,
     "metadata": {},
     "output_type": "execute_result"
    }
   ],
   "source": [
    "data_frame.columns"
   ]
  },
  {
   "cell_type": "code",
   "execution_count": 20,
   "metadata": {},
   "outputs": [
    {
     "data": {
      "text/plain": [
       "<AxesSubplot:title={'center':'10 familias de producto mas recurrentes'}>"
      ]
     },
     "execution_count": 20,
     "metadata": {},
     "output_type": "execute_result"
    },
    {
     "data": {
      "image/png": "[encoded data removed]",
      "text/plain": [
       "<Figure size 720x720 with 1 Axes>"
      ]
     },
     "metadata": {
      "needs_background": "light"
     },
     "output_type": "display_data"
    }
   ],
   "source": [
    "df_family = data_frame['Product_Family'].value_counts().nlargest(10)\n",
    "df_family.sort_values(ascending=True).plot.barh(title='10 familias de producto mas recurrentes', figsize=(10,10), color='lightblue')"
   ]
  },
  {
   "cell_type": "code",
   "execution_count": 21,
   "metadata": {},
   "outputs": [
    {
     "data": {
      "text/plain": [
       "<AxesSubplot:title={'center':'10 familias de producto mas recurrentes'}>"
      ]
     },
     "execution_count": 21,
     "metadata": {},
     "output_type": "execute_result"
    },
    {
     "data": {
      "image/png": "[encoded data removed]",
      "text/plain": [
       "<Figure size 720x720 with 1 Axes>"
      ]
     },
     "metadata": {
      "needs_background": "light"
     },
     "output_type": "display_data"
    }
   ],
   "source": [
    "df_sellers = data_frame['Opportunity_Owner'].value_counts().nlargest(10)\n",
    "df_sellers.sort_values(ascending=True).plot.barh(title='10 familias de producto mas recurrentes', figsize=(10,10), color='lightblue')"
   ]
  },
  {
   "cell_type": "code",
   "execution_count": null,
   "metadata": {},
   "outputs": [],
   "source": []
  },
  {
   "cell_type": "code",
   "execution_count": 22,
   "metadata": {},
   "outputs": [
    {
     "data": {
      "text/plain": [
       "<AxesSubplot:title={'center':'mayor cantidad de familias de productos distintas vendidas por un vendedor (top 10)'}, xlabel='Opportunity_Owner'>"
      ]
     },
     "execution_count": 22,
     "metadata": {},
     "output_type": "execute_result"
    },
    {
     "data": {
      "image/png": "[encoded data removed]",
      "text/plain": [
       "<Figure size 1440x576 with 1 Axes>"
      ]
     },
     "metadata": {
      "needs_background": "light"
     },
     "output_type": "display_data"
    }
   ],
   "source": [
    "opportunitiesByFamily = data_frame.groupby(['Opportunity_Owner']).agg({'Opportunity_ID':pd.Series.nunique,'Product_Family':pd.Series.nunique})\n",
    "opportunitiesByFamily.columns = ['Opportunity_count', 'Product_Family_count']\n",
    "opportunitiesByFamily.reset_index().sort_values(by='Product_Family_count',ascending=False).nlargest(10,columns='Product_Family_count').plot.bar(legend=False,figsize=(20,8),rot=75,x='Opportunity_Owner', y='Product_Family_count',title='mayor cantidad de familias de productos distintas vendidas por un vendedor (top 10)')"
   ]
  },
  {
   "cell_type": "code",
   "execution_count": null,
   "metadata": {},
   "outputs": [],
   "source": []
  },
  {
   "cell_type": "code",
   "execution_count": 23,
   "metadata": {},
   "outputs": [
    {
     "data": {
      "text/plain": [
       "<AxesSubplot:title={'center':'mayor cantidad de vendedores distintos por familia de producto (top 10)'}, xlabel='Product_Family'>"
      ]
     },
     "execution_count": 23,
     "metadata": {},
     "output_type": "execute_result"
    },
    {
     "data": {
      "image/png": "[encoded data removed]",
      "text/plain": [
       "<Figure size 1440x576 with 1 Axes>"
      ]
     },
     "metadata": {
      "needs_background": "light"
     },
     "output_type": "display_data"
    }
   ],
   "source": [
    "opportunitiesByFamily = data_frame.groupby(['Product_Family']).agg({'Opportunity_ID':pd.Series.nunique,'Opportunity_Owner':pd.Series.nunique})\n",
    "opportunitiesByFamily.columns = ['Opportunity_count', 'Owner_count']\n",
    "opportunitiesByFamily.reset_index().sort_values(by='Owner_count',ascending=False).nlargest(10,columns='Owner_count').plot.bar(legend=False,figsize=(20,8),rot=75,x='Product_Family', y='Owner_count',title='mayor cantidad de vendedores distintos por familia de producto (top 10)')"
   ]
  },
  {
   "cell_type": "code",
   "execution_count": null,
   "metadata": {},
   "outputs": [],
   "source": []
  },
  {
   "cell_type": "code",
   "execution_count": 24,
   "metadata": {},
   "outputs": [
    {
     "data": {
      "text/plain": [
       "<AxesSubplot:title={'center':'Vendedores con mayor cantidad de regiones'}, xlabel='Opportunity_Owner'>"
      ]
     },
     "execution_count": 24,
     "metadata": {},
     "output_type": "execute_result"
    },
    {
     "data": {
      "image/png": "[encoded data removed]",
      "text/plain": [
       "<Figure size 1440x576 with 1 Axes>"
      ]
     },
     "metadata": {
      "needs_background": "light"
     },
     "output_type": "display_data"
    }
   ],
   "source": [
    "opportunitiesByFamily = data_frame.groupby(['Opportunity_Owner']).agg({'Opportunity_ID':pd.Series.nunique,'Region':pd.Series.nunique})\n",
    "opportunitiesByFamily.columns = ['Opportunity_count', 'Region_count']\n",
    "opportunitiesByFamily.reset_index().sort_values(by='Region_count',ascending=False).nlargest(10,columns='Region_count').plot\\\n",
    ".bar(legend=False,figsize=(20,8),rot=75,x='Opportunity_Owner', y='Region_count',title='Vendedores con mayor cantidad de regiones')"
   ]
  },
  {
   "cell_type": "code",
   "execution_count": null,
   "metadata": {},
   "outputs": [],
   "source": []
  },
  {
   "cell_type": "code",
   "execution_count": 25,
   "metadata": {},
   "outputs": [
    {
     "data": {
      "text/plain": [
       "<AxesSubplot:xlabel='Region'>"
      ]
     },
     "execution_count": 25,
     "metadata": {},
     "output_type": "execute_result"
    },
    {
     "data": {
      "image/png": "[encoded data removed]",
      "text/plain": [
       "<Figure size 1080x432 with 1 Axes>"
      ]
     },
     "metadata": {
      "needs_background": "light"
     },
     "output_type": "display_data"
    }
   ],
   "source": [
    "opportunitiesByFamily = data_frame.groupby(['Region']).agg({'Opportunity_Owner':pd.Series.nunique})\n",
    "opportunitiesByFamily.columns = ['Opportunity_count']\n",
    "opportunitiesByFamily.sort_values(by='Opportunity_count',ascending=False).plot.bar(legend=False,figsize=(15,6),rot=75)"
   ]
  },
  {
   "cell_type": "code",
   "execution_count": null,
   "metadata": {},
   "outputs": [],
   "source": []
  },
  {
   "cell_type": "code",
   "execution_count": 26,
   "metadata": {},
   "outputs": [
    {
     "data": {
      "text/plain": [
       "None         9497\n",
       "Source_7     2965\n",
       "Source_9     1459\n",
       "Source_11    1421\n",
       "Source_13     786\n",
       "Source_3      418\n",
       "Source_1      137\n",
       "Source_10     106\n",
       "Source_2       86\n",
       "Source_4       43\n",
       "Source_6       19\n",
       "Source_0        7\n",
       "Source_12       2\n",
       "Source_5        1\n",
       "Name: Source , dtype: int64"
      ]
     },
     "execution_count": 26,
     "metadata": {},
     "output_type": "execute_result"
    }
   ],
   "source": [
    "data_frame['Source '].value_counts()"
   ]
  },
  {
   "cell_type": "code",
   "execution_count": 27,
   "metadata": {},
   "outputs": [
    {
     "data": {
      "text/plain": [
       "<AxesSubplot:title={'center':'cantidad de vendedores distintos por fuente de oportunidad'}, ylabel='Source'>"
      ]
     },
     "execution_count": 27,
     "metadata": {},
     "output_type": "execute_result"
    },
    {
     "data": {
      "image/png": "[encoded data removed]",
      "text/plain": [
       "<Figure size 1080x432 with 1 Axes>"
      ]
     },
     "metadata": {
      "needs_background": "light"
     },
     "output_type": "display_data"
    }
   ],
   "source": [
    "opportunitiesByFamily = data_frame.groupby(['Source ']).agg({'Opportunity_Owner':pd.Series.nunique}).reset_index().loc[1:,:]\n",
    "opportunitiesByFamily.columns = ['Source','Opportunity_count']\n",
    "opportunitiesByFamily.sort_values(by='Opportunity_count',ascending=False).plot.barh(x='Source',y='Opportunity_count',legend=False,figsize=(15,6),\\\n",
    "                                                                                  title='cantidad de vendedores distintos por fuente de oportunidad')"
   ]
  },
  {
   "cell_type": "code",
   "execution_count": 28,
   "metadata": {},
   "outputs": [
    {
     "data": {
      "text/plain": [
       "<AxesSubplot:title={'center':'Vendedores con mayor variedad de fuentes de venta'}, ylabel='Opportunity_Owner'>"
      ]
     },
     "execution_count": 28,
     "metadata": {},
     "output_type": "execute_result"
    },
    {
     "data": {
      "image/png": "[encoded data removed]",
      "text/plain": [
       "<Figure size 1080x432 with 1 Axes>"
      ]
     },
     "metadata": {
      "needs_background": "light"
     },
     "output_type": "display_data"
    }
   ],
   "source": [
    "opportunitiesByFamily = data_frame.groupby(['Opportunity_Owner']).agg({'Source ':pd.Series.nunique}).reset_index().loc[1:,:]\n",
    "opportunitiesByFamily.columns = ['Opportunity_Owner','Source_count']\n",
    "opportunitiesByFamily.sort_values(by='Source_count',ascending=False).nlargest(15,'Source_count').plot.barh(x='Opportunity_Owner',y='Source_count',legend=False,figsize=(15,6),\\\n",
    "                                                                                  title='Vendedores con mayor variedad de fuentes de venta')"
   ]
  },
  {
   "cell_type": "code",
   "execution_count": null,
   "metadata": {},
   "outputs": [],
   "source": []
  },
  {
   "cell_type": "code",
   "execution_count": 29,
   "metadata": {},
   "outputs": [],
   "source": [
    "aux = data_frame.loc[data_frame['TRF'] != 0,:].groupby('Region').agg({'TRF':'mean'})"
   ]
  },
  {
   "cell_type": "code",
   "execution_count": 30,
   "metadata": {},
   "outputs": [
    {
     "data": {
      "text/html": [
       "<div>\n",
       "<style scoped>\n",
       "    .dataframe tbody tr th:only-of-type {\n",
       "        vertical-align: middle;\n",
       "    }\n",
       "\n",
       "    .dataframe tbody tr th {\n",
       "        vertical-align: top;\n",
       "    }\n",
       "\n",
       "    .dataframe thead th {\n",
       "        text-align: right;\n",
       "    }\n",
       "</style>\n",
       "<table border=\"1\" class=\"dataframe\">\n",
       "  <thead>\n",
       "    <tr style=\"text-align: right;\">\n",
       "      <th></th>\n",
       "      <th>TRF</th>\n",
       "    </tr>\n",
       "    <tr>\n",
       "      <th>Region</th>\n",
       "      <th></th>\n",
       "    </tr>\n",
       "  </thead>\n",
       "  <tbody>\n",
       "    <tr>\n",
       "      <th>APAC</th>\n",
       "      <td>11.465812</td>\n",
       "    </tr>\n",
       "    <tr>\n",
       "      <th>Americas</th>\n",
       "      <td>8.354573</td>\n",
       "    </tr>\n",
       "    <tr>\n",
       "      <th>EMEA</th>\n",
       "      <td>6.066032</td>\n",
       "    </tr>\n",
       "    <tr>\n",
       "      <th>Japan</th>\n",
       "      <td>4.107759</td>\n",
       "    </tr>\n",
       "    <tr>\n",
       "      <th>Middle East</th>\n",
       "      <td>11.226667</td>\n",
       "    </tr>\n",
       "  </tbody>\n",
       "</table>\n",
       "</div>"
      ],
      "text/plain": [
       "                   TRF\n",
       "Region                \n",
       "APAC         11.465812\n",
       "Americas      8.354573\n",
       "EMEA          6.066032\n",
       "Japan         4.107759\n",
       "Middle East  11.226667"
      ]
     },
     "execution_count": 30,
     "metadata": {},
     "output_type": "execute_result"
    }
   ],
   "source": [
    "aux"
   ]
  },
  {
   "cell_type": "code",
   "execution_count": 31,
   "metadata": {},
   "outputs": [
    {
     "data": {
      "image/png": "[encoded data removed]",
      "text/plain": [
       "<Figure size 720x720 with 1 Axes>"
      ]
     },
     "metadata": {
      "needs_background": "light"
     },
     "output_type": "display_data"
    }
   ],
   "source": [
    "RegionName = [\"APAC\",\"Americas\",\"EMEA\",\"Japan\",\"Middle East\",\"APAC\"]\n",
    "\n",
    "TRFbyRegion = data_frame.loc[data_frame['TRF'] != 0,:].groupby('Region').agg({'TRF':'mean'}).reset_index()\n",
    "\n",
    "angulos = [n / float(5) * 2 * np.pi for n in range(5)]\n",
    "angulos += angulos[:1]\n",
    "\n",
    "TRFList = list(TRFbyRegion[\"TRF\"])\n",
    "TRFList += TRFList[:1]\n",
    "\n",
    "plt.figure(figsize=(10,10))\n",
    "plt.polar(angulos, TRFList, marker=\"*\")\n",
    "plt.fill(angulos, TRFList, alpha=0.3)\n",
    "plt.xticks(angulos, RegionName)\n",
    "\n",
    "plt.yticks(size=8, color=\"#484545\")\n",
    "\n",
    "plt.show()"
   ]
  },
  {
   "cell_type": "code",
   "execution_count": null,
   "metadata": {},
   "outputs": [],
   "source": []
  },
  {
   "cell_type": "code",
   "execution_count": 32,
   "metadata": {},
   "outputs": [
    {
     "data": {
      "text/html": [
       "<div>\n",
       "<style scoped>\n",
       "    .dataframe tbody tr th:only-of-type {\n",
       "        vertical-align: middle;\n",
       "    }\n",
       "\n",
       "    .dataframe tbody tr th {\n",
       "        vertical-align: top;\n",
       "    }\n",
       "\n",
       "    .dataframe thead th {\n",
       "        text-align: right;\n",
       "    }\n",
       "</style>\n",
       "<table border=\"1\" class=\"dataframe\">\n",
       "  <thead>\n",
       "    <tr style=\"text-align: right;\">\n",
       "      <th></th>\n",
       "      <th>ID</th>\n",
       "      <th>Region</th>\n",
       "      <th>Territory</th>\n",
       "      <th>Pricing, Delivery_Terms_Quote_Appr</th>\n",
       "      <th>Pricing, Delivery_Terms_Approved</th>\n",
       "      <th>Bureaucratic_Code_0_Approval</th>\n",
       "      <th>Bureaucratic_Code_0_Approved</th>\n",
       "      <th>Submitted_for_Approval</th>\n",
       "      <th>Bureaucratic_Code</th>\n",
       "      <th>Account_Created_Date</th>\n",
       "      <th>...</th>\n",
       "      <th>Delivery_Year</th>\n",
       "      <th>Actual_Delivery_Date</th>\n",
       "      <th>TRF</th>\n",
       "      <th>Total_Amount_Currency</th>\n",
       "      <th>Total_Amount</th>\n",
       "      <th>Total_Taxable_Amount_Currency</th>\n",
       "      <th>Total_Taxable_Amount</th>\n",
       "      <th>Stage</th>\n",
       "      <th>Prod_Category_A</th>\n",
       "      <th>Delivery_Range</th>\n",
       "    </tr>\n",
       "  </thead>\n",
       "  <tbody>\n",
       "    <tr>\n",
       "      <th>0</th>\n",
       "      <td>27761</td>\n",
       "      <td>EMEA</td>\n",
       "      <td>None</td>\n",
       "      <td>1</td>\n",
       "      <td>1</td>\n",
       "      <td>1</td>\n",
       "      <td>1</td>\n",
       "      <td>0</td>\n",
       "      <td>Bureaucratic_Code_4</td>\n",
       "      <td>2015-06-16</td>\n",
       "      <td>...</td>\n",
       "      <td>2016</td>\n",
       "      <td>NaT</td>\n",
       "      <td>10</td>\n",
       "      <td>EUR</td>\n",
       "      <td>5272800.00</td>\n",
       "      <td>EUR</td>\n",
       "      <td>5272800.0</td>\n",
       "      <td>Closed Lost</td>\n",
       "      <td>Prod_Category_A_None</td>\n",
       "      <td>60.0</td>\n",
       "    </tr>\n",
       "    <tr>\n",
       "      <th>1</th>\n",
       "      <td>27760</td>\n",
       "      <td>EMEA</td>\n",
       "      <td>None</td>\n",
       "      <td>0</td>\n",
       "      <td>0</td>\n",
       "      <td>0</td>\n",
       "      <td>0</td>\n",
       "      <td>0</td>\n",
       "      <td>Bureaucratic_Code_4</td>\n",
       "      <td>2015-06-16</td>\n",
       "      <td>...</td>\n",
       "      <td>2016</td>\n",
       "      <td>NaT</td>\n",
       "      <td>0</td>\n",
       "      <td>EUR</td>\n",
       "      <td>48230.00</td>\n",
       "      <td>EUR</td>\n",
       "      <td>48230.0</td>\n",
       "      <td>Closed Won</td>\n",
       "      <td>Prod_Category_A_None</td>\n",
       "      <td>2.0</td>\n",
       "    </tr>\n",
       "    <tr>\n",
       "      <th>2</th>\n",
       "      <td>27446</td>\n",
       "      <td>Americas</td>\n",
       "      <td>NW America</td>\n",
       "      <td>0</td>\n",
       "      <td>0</td>\n",
       "      <td>0</td>\n",
       "      <td>0</td>\n",
       "      <td>0</td>\n",
       "      <td>Bureaucratic_Code_4</td>\n",
       "      <td>2015-04-21</td>\n",
       "      <td>...</td>\n",
       "      <td>2016</td>\n",
       "      <td>NaT</td>\n",
       "      <td>0</td>\n",
       "      <td>USD</td>\n",
       "      <td>83865.60</td>\n",
       "      <td>USD</td>\n",
       "      <td>83865.6</td>\n",
       "      <td>Closed Won</td>\n",
       "      <td>Prod_Category_A_None</td>\n",
       "      <td>0.0</td>\n",
       "    </tr>\n",
       "    <tr>\n",
       "      <th>3</th>\n",
       "      <td>16808</td>\n",
       "      <td>Americas</td>\n",
       "      <td>NW America</td>\n",
       "      <td>1</td>\n",
       "      <td>0</td>\n",
       "      <td>1</td>\n",
       "      <td>0</td>\n",
       "      <td>0</td>\n",
       "      <td>Bureaucratic_Code_5</td>\n",
       "      <td>2013-07-27</td>\n",
       "      <td>...</td>\n",
       "      <td>2018</td>\n",
       "      <td>NaT</td>\n",
       "      <td>14</td>\n",
       "      <td>USD</td>\n",
       "      <td>7421881.50</td>\n",
       "      <td>USD</td>\n",
       "      <td>7421881.5</td>\n",
       "      <td>Closed Lost</td>\n",
       "      <td>Prod_Category_A_None</td>\n",
       "      <td>58.0</td>\n",
       "    </tr>\n",
       "    <tr>\n",
       "      <th>4</th>\n",
       "      <td>16805</td>\n",
       "      <td>Americas</td>\n",
       "      <td>NW America</td>\n",
       "      <td>1</td>\n",
       "      <td>0</td>\n",
       "      <td>1</td>\n",
       "      <td>0</td>\n",
       "      <td>0</td>\n",
       "      <td>Bureaucratic_Code_5</td>\n",
       "      <td>2013-07-27</td>\n",
       "      <td>...</td>\n",
       "      <td>2018</td>\n",
       "      <td>NaT</td>\n",
       "      <td>25</td>\n",
       "      <td>USD</td>\n",
       "      <td>13357192.50</td>\n",
       "      <td>USD</td>\n",
       "      <td>13357192.5</td>\n",
       "      <td>Closed Lost</td>\n",
       "      <td>Prod_Category_A_None</td>\n",
       "      <td>27.0</td>\n",
       "    </tr>\n",
       "    <tr>\n",
       "      <th>...</th>\n",
       "      <td>...</td>\n",
       "      <td>...</td>\n",
       "      <td>...</td>\n",
       "      <td>...</td>\n",
       "      <td>...</td>\n",
       "      <td>...</td>\n",
       "      <td>...</td>\n",
       "      <td>...</td>\n",
       "      <td>...</td>\n",
       "      <td>...</td>\n",
       "      <td>...</td>\n",
       "      <td>...</td>\n",
       "      <td>...</td>\n",
       "      <td>...</td>\n",
       "      <td>...</td>\n",
       "      <td>...</td>\n",
       "      <td>...</td>\n",
       "      <td>...</td>\n",
       "      <td>...</td>\n",
       "      <td>...</td>\n",
       "      <td>...</td>\n",
       "    </tr>\n",
       "    <tr>\n",
       "      <th>16942</th>\n",
       "      <td>8781</td>\n",
       "      <td>EMEA</td>\n",
       "      <td>Austria</td>\n",
       "      <td>1</td>\n",
       "      <td>1</td>\n",
       "      <td>1</td>\n",
       "      <td>1</td>\n",
       "      <td>0</td>\n",
       "      <td>Bureaucratic_Code_4</td>\n",
       "      <td>2016-01-15</td>\n",
       "      <td>...</td>\n",
       "      <td>2016</td>\n",
       "      <td>NaT</td>\n",
       "      <td>0</td>\n",
       "      <td>EUR</td>\n",
       "      <td>103350.00</td>\n",
       "      <td>EUR</td>\n",
       "      <td>299715.0</td>\n",
       "      <td>Closed Won</td>\n",
       "      <td>Prod_Category_A_None</td>\n",
       "      <td>4.0</td>\n",
       "    </tr>\n",
       "    <tr>\n",
       "      <th>16943</th>\n",
       "      <td>8786</td>\n",
       "      <td>EMEA</td>\n",
       "      <td>Austria</td>\n",
       "      <td>1</td>\n",
       "      <td>1</td>\n",
       "      <td>1</td>\n",
       "      <td>1</td>\n",
       "      <td>0</td>\n",
       "      <td>Bureaucratic_Code_4</td>\n",
       "      <td>2016-01-15</td>\n",
       "      <td>...</td>\n",
       "      <td>2016</td>\n",
       "      <td>NaT</td>\n",
       "      <td>0</td>\n",
       "      <td>EUR</td>\n",
       "      <td>93015.00</td>\n",
       "      <td>EUR</td>\n",
       "      <td>299715.0</td>\n",
       "      <td>Closed Won</td>\n",
       "      <td>Prod_Category_A_None</td>\n",
       "      <td>4.0</td>\n",
       "    </tr>\n",
       "    <tr>\n",
       "      <th>16944</th>\n",
       "      <td>8792</td>\n",
       "      <td>EMEA</td>\n",
       "      <td>Austria</td>\n",
       "      <td>1</td>\n",
       "      <td>1</td>\n",
       "      <td>1</td>\n",
       "      <td>1</td>\n",
       "      <td>0</td>\n",
       "      <td>Bureaucratic_Code_4</td>\n",
       "      <td>2016-01-15</td>\n",
       "      <td>...</td>\n",
       "      <td>2016</td>\n",
       "      <td>NaT</td>\n",
       "      <td>0</td>\n",
       "      <td>EUR</td>\n",
       "      <td>103350.00</td>\n",
       "      <td>EUR</td>\n",
       "      <td>299715.0</td>\n",
       "      <td>Closed Won</td>\n",
       "      <td>Prod_Category_A_None</td>\n",
       "      <td>3.0</td>\n",
       "    </tr>\n",
       "    <tr>\n",
       "      <th>16945</th>\n",
       "      <td>28561</td>\n",
       "      <td>Americas</td>\n",
       "      <td>NE America</td>\n",
       "      <td>1</td>\n",
       "      <td>1</td>\n",
       "      <td>1</td>\n",
       "      <td>1</td>\n",
       "      <td>0</td>\n",
       "      <td>Bureaucratic_Code_4</td>\n",
       "      <td>2015-10-20</td>\n",
       "      <td>...</td>\n",
       "      <td>2016</td>\n",
       "      <td>NaT</td>\n",
       "      <td>4</td>\n",
       "      <td>USD</td>\n",
       "      <td>2346796.88</td>\n",
       "      <td>USD</td>\n",
       "      <td>0.0</td>\n",
       "      <td>Closed Lost</td>\n",
       "      <td>Prod_Category_A_None</td>\n",
       "      <td>4.0</td>\n",
       "    </tr>\n",
       "    <tr>\n",
       "      <th>16946</th>\n",
       "      <td>28318</td>\n",
       "      <td>Americas</td>\n",
       "      <td>NE America</td>\n",
       "      <td>1</td>\n",
       "      <td>1</td>\n",
       "      <td>1</td>\n",
       "      <td>1</td>\n",
       "      <td>0</td>\n",
       "      <td>Bureaucratic_Code_4</td>\n",
       "      <td>2015-09-03</td>\n",
       "      <td>...</td>\n",
       "      <td>2016</td>\n",
       "      <td>NaT</td>\n",
       "      <td>40</td>\n",
       "      <td>USD</td>\n",
       "      <td>25603200.00</td>\n",
       "      <td>USD</td>\n",
       "      <td>0.0</td>\n",
       "      <td>Closed Lost</td>\n",
       "      <td>Prod_Category_A_None</td>\n",
       "      <td>61.0</td>\n",
       "    </tr>\n",
       "  </tbody>\n",
       "</table>\n",
       "<p>16947 rows × 53 columns</p>\n",
       "</div>"
      ],
      "text/plain": [
       "          ID    Region   Territory  Pricing, Delivery_Terms_Quote_Appr  \\\n",
       "0      27761      EMEA        None                                   1   \n",
       "1      27760      EMEA        None                                   0   \n",
       "2      27446  Americas  NW America                                   0   \n",
       "3      16808  Americas  NW America                                   1   \n",
       "4      16805  Americas  NW America                                   1   \n",
       "...      ...       ...         ...                                 ...   \n",
       "16942   8781      EMEA     Austria                                   1   \n",
       "16943   8786      EMEA     Austria                                   1   \n",
       "16944   8792      EMEA     Austria                                   1   \n",
       "16945  28561  Americas  NE America                                   1   \n",
       "16946  28318  Americas  NE America                                   1   \n",
       "\n",
       "       Pricing, Delivery_Terms_Approved  Bureaucratic_Code_0_Approval  \\\n",
       "0                                     1                             1   \n",
       "1                                     0                             0   \n",
       "2                                     0                             0   \n",
       "3                                     0                             1   \n",
       "4                                     0                             1   \n",
       "...                                 ...                           ...   \n",
       "16942                                 1                             1   \n",
       "16943                                 1                             1   \n",
       "16944                                 1                             1   \n",
       "16945                                 1                             1   \n",
       "16946                                 1                             1   \n",
       "\n",
       "       Bureaucratic_Code_0_Approved  Submitted_for_Approval  \\\n",
       "0                                 1                       0   \n",
       "1                                 0                       0   \n",
       "2                                 0                       0   \n",
       "3                                 0                       0   \n",
       "4                                 0                       0   \n",
       "...                             ...                     ...   \n",
       "16942                             1                       0   \n",
       "16943                             1                       0   \n",
       "16944                             1                       0   \n",
       "16945                             1                       0   \n",
       "16946                             1                       0   \n",
       "\n",
       "         Bureaucratic_Code Account_Created_Date  ... Delivery_Year  \\\n",
       "0      Bureaucratic_Code_4           2015-06-16  ...          2016   \n",
       "1      Bureaucratic_Code_4           2015-06-16  ...          2016   \n",
       "2      Bureaucratic_Code_4           2015-04-21  ...          2016   \n",
       "3      Bureaucratic_Code_5           2013-07-27  ...          2018   \n",
       "4      Bureaucratic_Code_5           2013-07-27  ...          2018   \n",
       "...                    ...                  ...  ...           ...   \n",
       "16942  Bureaucratic_Code_4           2016-01-15  ...          2016   \n",
       "16943  Bureaucratic_Code_4           2016-01-15  ...          2016   \n",
       "16944  Bureaucratic_Code_4           2016-01-15  ...          2016   \n",
       "16945  Bureaucratic_Code_4           2015-10-20  ...          2016   \n",
       "16946  Bureaucratic_Code_4           2015-09-03  ...          2016   \n",
       "\n",
       "      Actual_Delivery_Date TRF Total_Amount_Currency  Total_Amount  \\\n",
       "0                      NaT  10                   EUR    5272800.00   \n",
       "1                      NaT   0                   EUR      48230.00   \n",
       "2                      NaT   0                   USD      83865.60   \n",
       "3                      NaT  14                   USD    7421881.50   \n",
       "4                      NaT  25                   USD   13357192.50   \n",
       "...                    ...  ..                   ...           ...   \n",
       "16942                  NaT   0                   EUR     103350.00   \n",
       "16943                  NaT   0                   EUR      93015.00   \n",
       "16944                  NaT   0                   EUR     103350.00   \n",
       "16945                  NaT   4                   USD    2346796.88   \n",
       "16946                  NaT  40                   USD   25603200.00   \n",
       "\n",
       "      Total_Taxable_Amount_Currency Total_Taxable_Amount        Stage  \\\n",
       "0                               EUR            5272800.0  Closed Lost   \n",
       "1                               EUR              48230.0   Closed Won   \n",
       "2                               USD              83865.6   Closed Won   \n",
       "3                               USD            7421881.5  Closed Lost   \n",
       "4                               USD           13357192.5  Closed Lost   \n",
       "...                             ...                  ...          ...   \n",
       "16942                           EUR             299715.0   Closed Won   \n",
       "16943                           EUR             299715.0   Closed Won   \n",
       "16944                           EUR             299715.0   Closed Won   \n",
       "16945                           USD                  0.0  Closed Lost   \n",
       "16946                           USD                  0.0  Closed Lost   \n",
       "\n",
       "            Prod_Category_A Delivery_Range  \n",
       "0      Prod_Category_A_None           60.0  \n",
       "1      Prod_Category_A_None            2.0  \n",
       "2      Prod_Category_A_None            0.0  \n",
       "3      Prod_Category_A_None           58.0  \n",
       "4      Prod_Category_A_None           27.0  \n",
       "...                     ...            ...  \n",
       "16942  Prod_Category_A_None            4.0  \n",
       "16943  Prod_Category_A_None            4.0  \n",
       "16944  Prod_Category_A_None            3.0  \n",
       "16945  Prod_Category_A_None            4.0  \n",
       "16946  Prod_Category_A_None           61.0  \n",
       "\n",
       "[16947 rows x 53 columns]"
      ]
     },
     "execution_count": 32,
     "metadata": {},
     "output_type": "execute_result"
    }
   ],
   "source": [
    "data_frame"
   ]
  },
  {
   "cell_type": "code",
   "execution_count": 34,
   "metadata": {},
   "outputs": [
    {
     "data": {
      "text/html": [
       "<div>\n",
       "<style scoped>\n",
       "    .dataframe tbody tr th:only-of-type {\n",
       "        vertical-align: middle;\n",
       "    }\n",
       "\n",
       "    .dataframe tbody tr th {\n",
       "        vertical-align: top;\n",
       "    }\n",
       "\n",
       "    .dataframe thead th {\n",
       "        text-align: right;\n",
       "    }\n",
       "</style>\n",
       "<table border=\"1\" class=\"dataframe\">\n",
       "  <thead>\n",
       "    <tr style=\"text-align: right;\">\n",
       "      <th></th>\n",
       "      <th>Pricing, Delivery_Terms_Quote_Appr</th>\n",
       "      <th>Pricing, Delivery_Terms_Approved</th>\n",
       "    </tr>\n",
       "    <tr>\n",
       "      <th>Region</th>\n",
       "      <th></th>\n",
       "      <th></th>\n",
       "    </tr>\n",
       "  </thead>\n",
       "  <tbody>\n",
       "    <tr>\n",
       "      <th>APAC</th>\n",
       "      <td>2296</td>\n",
       "      <td>1660</td>\n",
       "    </tr>\n",
       "    <tr>\n",
       "      <th>Americas</th>\n",
       "      <td>2951</td>\n",
       "      <td>2038</td>\n",
       "    </tr>\n",
       "    <tr>\n",
       "      <th>EMEA</th>\n",
       "      <td>3560</td>\n",
       "      <td>2697</td>\n",
       "    </tr>\n",
       "    <tr>\n",
       "      <th>Japan</th>\n",
       "      <td>4702</td>\n",
       "      <td>3340</td>\n",
       "    </tr>\n",
       "    <tr>\n",
       "      <th>Middle East</th>\n",
       "      <td>184</td>\n",
       "      <td>155</td>\n",
       "    </tr>\n",
       "  </tbody>\n",
       "</table>\n",
       "</div>"
      ],
      "text/plain": [
       "             Pricing, Delivery_Terms_Quote_Appr  \\\n",
       "Region                                            \n",
       "APAC                                       2296   \n",
       "Americas                                   2951   \n",
       "EMEA                                       3560   \n",
       "Japan                                      4702   \n",
       "Middle East                                 184   \n",
       "\n",
       "             Pricing, Delivery_Terms_Approved  \n",
       "Region                                         \n",
       "APAC                                     1660  \n",
       "Americas                                 2038  \n",
       "EMEA                                     2697  \n",
       "Japan                                    3340  \n",
       "Middle East                               155  "
      ]
     },
     "execution_count": 34,
     "metadata": {},
     "output_type": "execute_result"
    }
   ],
   "source": [
    "grouped = data_frame.groupby('Region').agg({'Pricing, Delivery_Terms_Quote_Appr': 'sum', 'Pricing, Delivery_Terms_Approved': 'sum'})\n",
    "grouped"
   ]
  },
  {
   "cell_type": "code",
   "execution_count": 57,
   "metadata": {},
   "outputs": [
    {
     "data": {
      "text/html": [
       "<div>\n",
       "<style scoped>\n",
       "    .dataframe tbody tr th:only-of-type {\n",
       "        vertical-align: middle;\n",
       "    }\n",
       "\n",
       "    .dataframe tbody tr th {\n",
       "        vertical-align: top;\n",
       "    }\n",
       "\n",
       "    .dataframe thead th {\n",
       "        text-align: right;\n",
       "    }\n",
       "</style>\n",
       "<table border=\"1\" class=\"dataframe\">\n",
       "  <thead>\n",
       "    <tr style=\"text-align: right;\">\n",
       "      <th></th>\n",
       "      <th>Region</th>\n",
       "      <th>Opportunity_ID</th>\n",
       "    </tr>\n",
       "  </thead>\n",
       "  <tbody>\n",
       "    <tr>\n",
       "      <th>0</th>\n",
       "      <td>APAC</td>\n",
       "      <td>1406</td>\n",
       "    </tr>\n",
       "    <tr>\n",
       "      <th>1</th>\n",
       "      <td>Americas</td>\n",
       "      <td>1759</td>\n",
       "    </tr>\n",
       "    <tr>\n",
       "      <th>2</th>\n",
       "      <td>EMEA</td>\n",
       "      <td>2462</td>\n",
       "    </tr>\n",
       "    <tr>\n",
       "      <th>3</th>\n",
       "      <td>Japan</td>\n",
       "      <td>1738</td>\n",
       "    </tr>\n",
       "    <tr>\n",
       "      <th>4</th>\n",
       "      <td>Middle East</td>\n",
       "      <td>149</td>\n",
       "    </tr>\n",
       "  </tbody>\n",
       "</table>\n",
       "</div>"
      ],
      "text/plain": [
       "        Region  Opportunity_ID\n",
       "0         APAC            1406\n",
       "1     Americas            1759\n",
       "2         EMEA            2462\n",
       "3        Japan            1738\n",
       "4  Middle East             149"
      ]
     },
     "execution_count": 57,
     "metadata": {},
     "output_type": "execute_result"
    }
   ],
   "source": [
    "grouped = data_frame.loc[data_frame['Pricing, Delivery_Terms_Quote_Appr'] == 1,:].groupby('Region').agg({'Opportunity_ID': pd.Series.nunique}).reset_index()\n",
    "grouped"
   ]
  },
  {
   "cell_type": "code",
   "execution_count": 58,
   "metadata": {},
   "outputs": [
    {
     "data": {
      "text/html": [
       "<div>\n",
       "<style scoped>\n",
       "    .dataframe tbody tr th:only-of-type {\n",
       "        vertical-align: middle;\n",
       "    }\n",
       "\n",
       "    .dataframe tbody tr th {\n",
       "        vertical-align: top;\n",
       "    }\n",
       "\n",
       "    .dataframe thead th {\n",
       "        text-align: right;\n",
       "    }\n",
       "</style>\n",
       "<table border=\"1\" class=\"dataframe\">\n",
       "  <thead>\n",
       "    <tr style=\"text-align: right;\">\n",
       "      <th></th>\n",
       "      <th>Region</th>\n",
       "      <th>Opportunity_ID</th>\n",
       "    </tr>\n",
       "  </thead>\n",
       "  <tbody>\n",
       "    <tr>\n",
       "      <th>0</th>\n",
       "      <td>APAC</td>\n",
       "      <td>979</td>\n",
       "    </tr>\n",
       "    <tr>\n",
       "      <th>1</th>\n",
       "      <td>Americas</td>\n",
       "      <td>1140</td>\n",
       "    </tr>\n",
       "    <tr>\n",
       "      <th>2</th>\n",
       "      <td>EMEA</td>\n",
       "      <td>1885</td>\n",
       "    </tr>\n",
       "    <tr>\n",
       "      <th>3</th>\n",
       "      <td>Japan</td>\n",
       "      <td>1287</td>\n",
       "    </tr>\n",
       "    <tr>\n",
       "      <th>4</th>\n",
       "      <td>Middle East</td>\n",
       "      <td>125</td>\n",
       "    </tr>\n",
       "  </tbody>\n",
       "</table>\n",
       "</div>"
      ],
      "text/plain": [
       "        Region  Opportunity_ID\n",
       "0         APAC             979\n",
       "1     Americas            1140\n",
       "2         EMEA            1885\n",
       "3        Japan            1287\n",
       "4  Middle East             125"
      ]
     },
     "execution_count": 58,
     "metadata": {},
     "output_type": "execute_result"
    }
   ],
   "source": [
    "grouped2 = data_frame.loc[data_frame['Pricing, Delivery_Terms_Approved'] == 1,:].groupby('Region').agg({'Opportunity_ID': pd.Series.nunique}).reset_index()\n",
    "grouped2"
   ]
  },
  {
   "cell_type": "code",
   "execution_count": 59,
   "metadata": {},
   "outputs": [
    {
     "data": {
      "text/html": [
       "<div>\n",
       "<style scoped>\n",
       "    .dataframe tbody tr th:only-of-type {\n",
       "        vertical-align: middle;\n",
       "    }\n",
       "\n",
       "    .dataframe tbody tr th {\n",
       "        vertical-align: top;\n",
       "    }\n",
       "\n",
       "    .dataframe thead th {\n",
       "        text-align: right;\n",
       "    }\n",
       "</style>\n",
       "<table border=\"1\" class=\"dataframe\">\n",
       "  <thead>\n",
       "    <tr style=\"text-align: right;\">\n",
       "      <th></th>\n",
       "      <th>Region</th>\n",
       "      <th>Opportunity_ID</th>\n",
       "    </tr>\n",
       "  </thead>\n",
       "  <tbody>\n",
       "    <tr>\n",
       "      <th>0</th>\n",
       "      <td>APAC</td>\n",
       "      <td>614</td>\n",
       "    </tr>\n",
       "    <tr>\n",
       "      <th>1</th>\n",
       "      <td>Americas</td>\n",
       "      <td>484</td>\n",
       "    </tr>\n",
       "    <tr>\n",
       "      <th>2</th>\n",
       "      <td>EMEA</td>\n",
       "      <td>837</td>\n",
       "    </tr>\n",
       "    <tr>\n",
       "      <th>3</th>\n",
       "      <td>Japan</td>\n",
       "      <td>1103</td>\n",
       "    </tr>\n",
       "    <tr>\n",
       "      <th>4</th>\n",
       "      <td>Middle East</td>\n",
       "      <td>28</td>\n",
       "    </tr>\n",
       "  </tbody>\n",
       "</table>\n",
       "</div>"
      ],
      "text/plain": [
       "        Region  Opportunity_ID\n",
       "0         APAC             614\n",
       "1     Americas             484\n",
       "2         EMEA             837\n",
       "3        Japan            1103\n",
       "4  Middle East              28"
      ]
     },
     "execution_count": 59,
     "metadata": {},
     "output_type": "execute_result"
    }
   ],
   "source": [
    "grouped3 = data_frame.loc[(data_frame['Pricing, Delivery_Terms_Approved'] == 1) & (data_frame['Stage'] == 'Closed Won'),:].groupby('Region').agg({'Opportunity_ID': pd.Series.nunique}).reset_index()\n",
    "grouped3"
   ]
  },
  {
   "cell_type": "code",
   "execution_count": 60,
   "metadata": {},
   "outputs": [
    {
     "data": {
      "text/html": [
       "<div>\n",
       "<style scoped>\n",
       "    .dataframe tbody tr th:only-of-type {\n",
       "        vertical-align: middle;\n",
       "    }\n",
       "\n",
       "    .dataframe tbody tr th {\n",
       "        vertical-align: top;\n",
       "    }\n",
       "\n",
       "    .dataframe thead th {\n",
       "        text-align: right;\n",
       "    }\n",
       "</style>\n",
       "<table border=\"1\" class=\"dataframe\">\n",
       "  <thead>\n",
       "    <tr style=\"text-align: right;\">\n",
       "      <th></th>\n",
       "      <th>Opportunity_ID</th>\n",
       "    </tr>\n",
       "    <tr>\n",
       "      <th>Region</th>\n",
       "      <th></th>\n",
       "    </tr>\n",
       "  </thead>\n",
       "  <tbody>\n",
       "    <tr>\n",
       "      <th>APAC</th>\n",
       "      <td>614</td>\n",
       "    </tr>\n",
       "    <tr>\n",
       "      <th>Americas</th>\n",
       "      <td>484</td>\n",
       "    </tr>\n",
       "    <tr>\n",
       "      <th>EMEA</th>\n",
       "      <td>837</td>\n",
       "    </tr>\n",
       "    <tr>\n",
       "      <th>Japan</th>\n",
       "      <td>1103</td>\n",
       "    </tr>\n",
       "    <tr>\n",
       "      <th>Middle East</th>\n",
       "      <td>28</td>\n",
       "    </tr>\n",
       "  </tbody>\n",
       "</table>\n",
       "</div>"
      ],
      "text/plain": [
       "             Opportunity_ID\n",
       "Region                     \n",
       "APAC                    614\n",
       "Americas                484\n",
       "EMEA                    837\n",
       "Japan                  1103\n",
       "Middle East              28"
      ]
     },
     "execution_count": 60,
     "metadata": {},
     "output_type": "execute_result"
    }
   ],
   "source": [
    "grouped.set_index('Region')\n",
    "grouped2.set_index('Region')\n",
    "grouped3.set_index('Region')"
   ]
  },
  {
   "cell_type": "code",
   "execution_count": null,
   "metadata": {},
   "outputs": [],
   "source": []
  },
  {
   "cell_type": "code",
   "execution_count": 89,
   "metadata": {},
   "outputs": [
    {
     "data": {
      "text/plain": [
       "<AxesSubplot:xlabel='Region,Delivery_Quarter'>"
      ]
     },
     "execution_count": 89,
     "metadata": {},
     "output_type": "execute_result"
    },
    {
     "data": {
      "image/png": "[encoded data removed]",
      "text/plain": [
       "<Figure size 432x288 with 1 Axes>"
      ]
     },
     "metadata": {
      "needs_background": "light"
     },
     "output_type": "display_data"
    }
   ],
   "source": [
    "grouped = data_frame.groupby(['Region','Delivery_Quarter']).agg({'Opportunity_ID':pd.Series.nunique})\n",
    "grouped.plot.bar()"
   ]
  },
  {
   "cell_type": "code",
   "execution_count": 88,
   "metadata": {},
   "outputs": [
    {
     "data": {
      "text/plain": [
       "<AxesSubplot:xlabel='Delivery_Quarter'>"
      ]
     },
     "execution_count": 88,
     "metadata": {},
     "output_type": "execute_result"
    },
    {
     "data": {
      "image/png": "[encoded data removed]",
      "text/plain": [
       "<Figure size 432x288 with 1 Axes>"
      ]
     },
     "metadata": {
      "needs_background": "light"
     },
     "output_type": "display_data"
    }
   ],
   "source": [
    "grouped.loc['Japan',:].reset_index().plot.bar(x='Delivery_Quarter', y='Opportunity_ID',legend=False)"
   ]
  },
  {
   "cell_type": "code",
   "execution_count": 94,
   "metadata": {},
   "outputs": [
    {
     "data": {
      "text/html": [
       "<div>\n",
       "<style scoped>\n",
       "    .dataframe tbody tr th:only-of-type {\n",
       "        vertical-align: middle;\n",
       "    }\n",
       "\n",
       "    .dataframe tbody tr th {\n",
       "        vertical-align: top;\n",
       "    }\n",
       "\n",
       "    .dataframe thead th {\n",
       "        text-align: right;\n",
       "    }\n",
       "</style>\n",
       "<table border=\"1\" class=\"dataframe\">\n",
       "  <thead>\n",
       "    <tr style=\"text-align: right;\">\n",
       "      <th></th>\n",
       "      <th>speed</th>\n",
       "      <th>lifespan</th>\n",
       "    </tr>\n",
       "  </thead>\n",
       "  <tbody>\n",
       "    <tr>\n",
       "      <th>snail</th>\n",
       "      <td>0.1</td>\n",
       "      <td>2.0</td>\n",
       "    </tr>\n",
       "    <tr>\n",
       "      <th>pig</th>\n",
       "      <td>17.5</td>\n",
       "      <td>8.0</td>\n",
       "    </tr>\n",
       "    <tr>\n",
       "      <th>elephant</th>\n",
       "      <td>40.0</td>\n",
       "      <td>70.0</td>\n",
       "    </tr>\n",
       "    <tr>\n",
       "      <th>rabbit</th>\n",
       "      <td>48.0</td>\n",
       "      <td>1.5</td>\n",
       "    </tr>\n",
       "    <tr>\n",
       "      <th>giraffe</th>\n",
       "      <td>52.0</td>\n",
       "      <td>25.0</td>\n",
       "    </tr>\n",
       "    <tr>\n",
       "      <th>coyote</th>\n",
       "      <td>69.0</td>\n",
       "      <td>12.0</td>\n",
       "    </tr>\n",
       "    <tr>\n",
       "      <th>horse</th>\n",
       "      <td>88.0</td>\n",
       "      <td>28.0</td>\n",
       "    </tr>\n",
       "  </tbody>\n",
       "</table>\n",
       "</div>"
      ],
      "text/plain": [
       "          speed  lifespan\n",
       "snail       0.1       2.0\n",
       "pig        17.5       8.0\n",
       "elephant   40.0      70.0\n",
       "rabbit     48.0       1.5\n",
       "giraffe    52.0      25.0\n",
       "coyote     69.0      12.0\n",
       "horse      88.0      28.0"
      ]
     },
     "execution_count": 94,
     "metadata": {},
     "output_type": "execute_result"
    }
   ],
   "source": [
    "speed = [0.1, 17.5, 40, 48, 52, 69, 88]\n",
    "lifespan = [2, 8, 70, 1.5, 25, 12, 28]\n",
    "index = ['snail', 'pig', 'elephant',\n",
    "         'rabbit', 'giraffe', 'coyote', 'horse']\n",
    "df = pd.DataFrame({'speed': speed,\n",
    "                   'lifespan': lifespan}, index=index)\n",
    "ax = df.plot.bar(rot=0)"
   ]
  },
  {
   "cell_type": "code",
   "execution_count": 105,
   "metadata": {},
   "outputs": [
    {
     "data": {
      "text/html": [
       "<div>\n",
       "<style scoped>\n",
       "    .dataframe tbody tr th:only-of-type {\n",
       "        vertical-align: middle;\n",
       "    }\n",
       "\n",
       "    .dataframe tbody tr th {\n",
       "        vertical-align: top;\n",
       "    }\n",
       "\n",
       "    .dataframe thead th {\n",
       "        text-align: right;\n",
       "    }\n",
       "</style>\n",
       "<table border=\"1\" class=\"dataframe\">\n",
       "  <thead>\n",
       "    <tr style=\"text-align: right;\">\n",
       "      <th></th>\n",
       "      <th>Region</th>\n",
       "      <th>APAC</th>\n",
       "      <th>Americas</th>\n",
       "      <th>EMEA</th>\n",
       "      <th>Japan</th>\n",
       "      <th>Middle East</th>\n",
       "    </tr>\n",
       "    <tr>\n",
       "      <th></th>\n",
       "      <th>Delivery_Quarter</th>\n",
       "      <th></th>\n",
       "      <th></th>\n",
       "      <th></th>\n",
       "      <th></th>\n",
       "      <th></th>\n",
       "    </tr>\n",
       "  </thead>\n",
       "  <tbody>\n",
       "    <tr>\n",
       "      <th rowspan=\"4\" valign=\"top\">Opportunity_ID</th>\n",
       "      <th>Q1</th>\n",
       "      <td>484</td>\n",
       "      <td>594</td>\n",
       "      <td>789</td>\n",
       "      <td>550</td>\n",
       "      <td>33</td>\n",
       "    </tr>\n",
       "    <tr>\n",
       "      <th>Q2</th>\n",
       "      <td>545</td>\n",
       "      <td>605</td>\n",
       "      <td>954</td>\n",
       "      <td>428</td>\n",
       "      <td>28</td>\n",
       "    </tr>\n",
       "    <tr>\n",
       "      <th>Q3</th>\n",
       "      <td>513</td>\n",
       "      <td>726</td>\n",
       "      <td>856</td>\n",
       "      <td>441</td>\n",
       "      <td>53</td>\n",
       "    </tr>\n",
       "    <tr>\n",
       "      <th>Q4</th>\n",
       "      <td>597</td>\n",
       "      <td>721</td>\n",
       "      <td>809</td>\n",
       "      <td>499</td>\n",
       "      <td>35</td>\n",
       "    </tr>\n",
       "  </tbody>\n",
       "</table>\n",
       "</div>"
      ],
      "text/plain": [
       "Region                           APAC  Americas  EMEA  Japan  Middle East\n",
       "               Delivery_Quarter                                          \n",
       "Opportunity_ID Q1                 484       594   789    550           33\n",
       "               Q2                 545       605   954    428           28\n",
       "               Q3                 513       726   856    441           53\n",
       "               Q4                 597       721   809    499           35"
      ]
     },
     "execution_count": 105,
     "metadata": {},
     "output_type": "execute_result"
    }
   ],
   "source": [
    "grouped = data_frame.groupby(['Region','Delivery_Quarter']).agg({'Opportunity_ID':pd.Series.nunique})\n",
    "grouped.unstack().T"
   ]
  },
  {
   "cell_type": "code",
   "execution_count": 124,
   "metadata": {},
   "outputs": [
    {
     "data": {
      "text/plain": [
       "Text(0.5, 1.0, 'Oportunidades por region y trimestre')"
      ]
     },
     "execution_count": 124,
     "metadata": {},
     "output_type": "execute_result"
    },
    {
     "data": {
      "image/png": "[encoded data removed]",
      "text/plain": [
       "<Figure size 1440x576 with 1 Axes>"
      ]
     },
     "metadata": {
      "needs_background": "light"
     },
     "output_type": "display_data"
    }
   ],
   "source": [
    "grouped = data_frame.groupby(['Region','Delivery_Quarter']).agg({'Opportunity_ID':pd.Series.nunique})\n",
    "ax = grouped.unstack().T.reset_index().plot.bar(figsize=(20,8),grid=True)\n",
    "ax.set_xticklabels(['Q1', 'Q2', 'Q3', 'Q4'])\n",
    "ax.set_xlabel('Trimestres',size=20)\n",
    "ax.set_ylabel('Cantidad de oportunidades',size=20)\n",
    "ax.set_title('Oportunidades por region y trimestre',size=30)"
   ]
  },
  {
   "cell_type": "code",
   "execution_count": null,
   "metadata": {},
   "outputs": [],
   "source": []
  },
  {
   "cell_type": "code",
   "execution_count": null,
   "metadata": {},
   "outputs": [],
   "source": []
  }
 ],
 "metadata": {
  "kernelspec": {
   "display_name": "Python 3",
   "language": "python",
   "name": "python3"
  },
  "language_info": {
   "codemirror_mode": {
    "name": "ipython",
    "version": 3
   },
   "file_extension": ".py",
   "mimetype": "text/x-python",
   "name": "python",
   "nbconvert_exporter": "python",
   "pygments_lexer": "ipython3",
   "version": "3.8.5"
  }
 },
 "nbformat": 4,
 "nbformat_minor": 4
}
