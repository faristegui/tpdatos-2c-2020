{
 "cells": [
  {
   "cell_type": "code",
   "execution_count": 1,
   "metadata": {},
   "outputs": [],
   "source": [
    "import pandas as pd\n",
    "import numpy as np\n",
    "from os import path\n",
    "\n",
    "# plots\n",
    "import matplotlib.pyplot as plt\n",
    "import matplotlib.colors as mcolors\n",
    "import seaborn as sns\n",
    "%matplotlib inline\n",
    "data_frame = pd.read_csv('data/Entrenamieto_ECI_2020.csv')"
   ]
  },
  {
   "cell_type": "code",
   "execution_count": 2,
   "metadata": {},
   "outputs": [],
   "source": [
    "data_frame[\"Opportunity_Created_Date\"] = pd.to_datetime(data_frame[\"Opportunity_Created_Date\"], errors=\"coerce\")\n",
    "data_frame[\"Planned_Delivery_Start_Date\"] = pd.to_datetime(data_frame[\"Planned_Delivery_Start_Date\"], errors=\"coerce\")\n",
    "data_frame[\"Planned_Delivery_End_Date\"] = pd.to_datetime(data_frame[\"Planned_Delivery_End_Date\"], errors=\"coerce\")\n",
    "data_frame[\"Quote_Expiry_Date\"] = pd.to_datetime(data_frame[\"Quote_Expiry_Date\"], errors=\"coerce\")\n",
    "data_frame[\"Last_Modified_Date\"] = pd.to_datetime(data_frame[\"Last_Modified_Date\"], errors=\"coerce\")\n",
    "data_frame[\"Account_Created_Date\"] = pd.to_datetime(data_frame[\"Account_Created_Date\"], errors=\"coerce\")\n",
    "\n",
    "\n",
    "dateColumns = [\"Opportunity_Created_Date\", \"Planned_Delivery_Start_Date\", \"Planned_Delivery_End_Date\", \"Quote_Expiry_Date\", \"Last_Modified_Date\", \"Account_Created_Date\"]\n",
    "\n",
    "grouped = data_frame.groupby(['Opportunity_Name', 'Opportunity_Created_Date', \"Planned_Delivery_Start_Date\", \"Planned_Delivery_End_Date\", \"Stage\"]).agg({\"Territory\": \"count\"}).reset_index()"
   ]
  },
  {
   "cell_type": "code",
   "execution_count": 3,
   "metadata": {},
   "outputs": [
    {
     "data": {
      "text/plain": [
       "Closed Lost      2844\n",
       "Closed Won       1053\n",
       "Proposal           28\n",
       "Qualification       9\n",
       "Negotiation         6\n",
       "Name: Stage, dtype: int64"
      ]
     },
     "execution_count": 3,
     "metadata": {},
     "output_type": "execute_result"
    }
   ],
   "source": [
    "grouped = grouped.drop(8401)\n",
    "grouped.filter(grouped[\"Opportunity_Created_Date\"] < grouped[\"Planned_Delivery_Start_Date\"])\n",
    "grouped[\"delay\"] = grouped['Planned_Delivery_Start_Date'].sub(grouped['Opportunity_Created_Date'], axis=0)/ np.timedelta64(1, 'D')\n",
    "grouped[\"delay_over_mean\"] = grouped[\"delay\"] > grouped[\"delay\"].mean()\n",
    "grouped.loc[grouped[\"delay_over_mean\"] == True].Stage.value_counts()"
   ]
  },
  {
   "cell_type": "code",
   "execution_count": 4,
   "metadata": {
    "scrolled": true
   },
   "outputs": [
    {
     "data": {
      "text/html": [
       "<div>\n",
       "<style scoped>\n",
       "    .dataframe tbody tr th:only-of-type {\n",
       "        vertical-align: middle;\n",
       "    }\n",
       "\n",
       "    .dataframe tbody tr th {\n",
       "        vertical-align: top;\n",
       "    }\n",
       "\n",
       "    .dataframe thead th {\n",
       "        text-align: right;\n",
       "    }\n",
       "</style>\n",
       "<table border=\"1\" class=\"dataframe\">\n",
       "  <thead>\n",
       "    <tr style=\"text-align: right;\">\n",
       "      <th>Stage</th>\n",
       "      <th>Closed Lost</th>\n",
       "      <th>Closed Won</th>\n",
       "      <th>win_rate_territory</th>\n",
       "    </tr>\n",
       "    <tr>\n",
       "      <th>Region</th>\n",
       "      <th></th>\n",
       "      <th></th>\n",
       "      <th></th>\n",
       "    </tr>\n",
       "  </thead>\n",
       "  <tbody>\n",
       "    <tr>\n",
       "      <th>Japan</th>\n",
       "      <td>595</td>\n",
       "      <td>1290</td>\n",
       "      <td>0.684350</td>\n",
       "    </tr>\n",
       "    <tr>\n",
       "      <th>APAC</th>\n",
       "      <td>924</td>\n",
       "      <td>1155</td>\n",
       "      <td>0.555556</td>\n",
       "    </tr>\n",
       "    <tr>\n",
       "      <th>EMEA</th>\n",
       "      <td>1737</td>\n",
       "      <td>1500</td>\n",
       "      <td>0.463392</td>\n",
       "    </tr>\n",
       "    <tr>\n",
       "      <th>Americas</th>\n",
       "      <td>1358</td>\n",
       "      <td>1094</td>\n",
       "      <td>0.446166</td>\n",
       "    </tr>\n",
       "    <tr>\n",
       "      <th>Middle East</th>\n",
       "      <td>105</td>\n",
       "      <td>33</td>\n",
       "      <td>0.239130</td>\n",
       "    </tr>\n",
       "  </tbody>\n",
       "</table>\n",
       "</div>"
      ],
      "text/plain": [
       "Stage        Closed Lost  Closed Won  win_rate_territory\n",
       "Region                                                  \n",
       "Japan                595        1290            0.684350\n",
       "APAC                 924        1155            0.555556\n",
       "EMEA                1737        1500            0.463392\n",
       "Americas            1358        1094            0.446166\n",
       "Middle East          105          33            0.239130"
      ]
     },
     "execution_count": 4,
     "metadata": {},
     "output_type": "execute_result"
    }
   ],
   "source": [
    "#WIN-RATE BY TERRITORY\n",
    "closed = data_frame[data_frame[\"Stage\"].str.contains(\"Closed\")]\n",
    "groupedTerritory = closed.groupby(['Opportunity_Name', \"Region\", \"Territory\", \"Stage\"]).agg({\"ID\": \"count\"}).reset_index()\n",
    "groupedTerritory = groupedTerritory.groupby([\"Region\", \"Stage\"]).agg({\"ID\": \"count\"})\n",
    "groupedTerritory = groupedTerritory.pivot_table(columns=\"Stage\", index=\"Region\", values=\"ID\", aggfunc=\"sum\")\n",
    "groupedTerritory[\"Closed Won\"] = groupedTerritory[\"Closed Won\"].fillna(0)\n",
    "groupedTerritory[\"Closed Lost\"] = groupedTerritory[\"Closed Lost\"].fillna(0)\n",
    "groupedTerritory[\"win_rate_territory\"] = groupedTerritory[\"Closed Won\"] / (groupedTerritory[\"Closed Won\"] + groupedTerritory[\"Closed Lost\"])\n",
    "groupedTerritory.nlargest(20, \"win_rate_territory\")\n",
    "\n"
   ]
  },
  {
   "cell_type": "code",
   "execution_count": 5,
   "metadata": {},
   "outputs": [
    {
     "data": {
      "text/plain": [
       "Closed Lost    1036\n",
       "Name: Stage, dtype: int64"
      ]
     },
     "execution_count": 5,
     "metadata": {},
     "output_type": "execute_result"
    }
   ],
   "source": [
    "#TODOS LOS BRAND DISTINTOS DE NONE Y OTHER SON LOST\n",
    "notNone = data_frame[(data_frame[\"Brand\"] != \"None\")]\n",
    "notNone.Stage.value_counts()\n",
    "#data_frame[\"Brand\"].value_counts()"
   ]
  },
  {
   "cell_type": "code",
   "execution_count": 6,
   "metadata": {},
   "outputs": [
    {
     "data": {
      "text/plain": [
       "Text(0, 0.5, 'Win Rate')"
      ]
     },
     "execution_count": 6,
     "metadata": {},
     "output_type": "execute_result"
    },
    {
     "data": {
      "image/png": "[encoded data removed]",
      "text/plain": [
       "<Figure size 432x288 with 1 Axes>"
      ]
     },
     "metadata": {
      "needs_background": "light"
     },
     "output_type": "display_data"
    }
   ],
   "source": [
    "#RELACION WINRATE TIEMPO DEMORA\n",
    "\n",
    "grouped = grouped[grouped[\"Opportunity_Created_Date\"] < grouped[\"Planned_Delivery_End_Date\"]]\n",
    "grouped[\"delay\"] = grouped['Planned_Delivery_End_Date'].sub(grouped['Opportunity_Created_Date'], axis=0)/ np.timedelta64(1, 'D')\n",
    "#grouped.plot(kind='scatter', x='delay', y='Stage', color='red')\n",
    "s = grouped.groupby([\"delay\", \"Stage\"]).agg({\"Planned_Delivery_End_Date\":\"count\"}).reset_index()\n",
    "se = s.groupby([\"delay\"]).apply(lambda x: x[x.Stage==\"Closed Won\"]['Planned_Delivery_End_Date'] / x['Planned_Delivery_End_Date'].sum()).reset_index()\n",
    "se = se[se[\"delay\"] < 240]\n",
    "\n",
    "meanDelay = []\n",
    "rangei = 0\n",
    "rangef = 7\n",
    "\n",
    "for i in range(len(se[\"Planned_Delivery_End_Date\"])):\n",
    "    val = 0\n",
    "    if (rangef > len(se[\"Planned_Delivery_End_Date\"])):\n",
    "        rangef -= 1\n",
    "    for j in range (rangei, rangef):\n",
    "        val += se[\"Planned_Delivery_End_Date\"][j]\n",
    "    meanDelay.append(val / (rangef - rangei) )\n",
    "    rangei = rangei + 1\n",
    "    rangef = rangef + 1\n",
    "se[\"sevenDaysMean\"] = pd.Series(meanDelay)\n",
    "ax = se.plot(x='delay', y=\"sevenDaysMean\", kind= \"line\", color='red')\n",
    "se.plot(x='delay', y='Planned_Delivery_End_Date', kind= \"line\", color='lightblue', ax=ax)\n",
    "ax.set_xlabel(\"Días de demora\")\n",
    "ax.set_ylabel(\"Win Rate\")"
   ]
  },
  {
   "cell_type": "code",
   "execution_count": 7,
   "metadata": {},
   "outputs": [
    {
     "data": {
      "text/plain": [
       "<AxesSubplot:xlabel='duracionPresupuesto'>"
      ]
     },
     "execution_count": 7,
     "metadata": {},
     "output_type": "execute_result"
    },
    {
     "data": {
      "image/png": "[encoded data removed]",
      "text/plain": [
       "<Figure size 432x288 with 1 Axes>"
      ]
     },
     "metadata": {
      "needs_background": "light"
     },
     "output_type": "display_data"
    }
   ],
   "source": [
    "#WINRATE RELACION DURACION PRESUPUESTO\n",
    "\n",
    "groupedPresupuesto = data_frame.groupby(['Opportunity_Name','Opportunity_Created_Date', 'Quote_Expiry_Date', \"Quote_Type\", \"Stage\"]).agg({\"Territory\": \"count\"}).reset_index()\n",
    "groupedPresupuesto = groupedPresupuesto[groupedPresupuesto['Quote_Expiry_Date'] > groupedPresupuesto['Opportunity_Created_Date']]\n",
    "groupedPresupuesto[\"duracionPresupuesto\"] = groupedPresupuesto['Quote_Expiry_Date'].sub(groupedPresupuesto['Opportunity_Created_Date'], axis=0)/ np.timedelta64(1, 'D')\n",
    "\n",
    "\n",
    "s1 = groupedPresupuesto.groupby([\"duracionPresupuesto\", \"Stage\"]).agg({\"Quote_Expiry_Date\":\"count\"}).reset_index()\n",
    "se2 = s1.groupby([\"duracionPresupuesto\"]).apply(lambda x: x[x.Stage==\"Closed Won\"]['Quote_Expiry_Date'] / x['Quote_Expiry_Date'].sum()).reset_index()\n",
    "se2 = se2[se2[\"duracionPresupuesto\"] < 45]\n",
    "\n",
    "se2.plot(x='duracionPresupuesto', y=\"Quote_Expiry_Date\", kind= \"line\", color='red')\n",
    "\n",
    "#groupedPresupuesto.groupby(['duracionPresupuesto',\"Quote_Type\"]).count()\n"
   ]
  },
  {
   "cell_type": "code",
   "execution_count": 8,
   "metadata": {},
   "outputs": [
    {
     "data": {
      "text/plain": [
       "Closed Won     86\n",
       "Closed Lost    84\n",
       "Name: Stage, dtype: int64"
      ]
     },
     "execution_count": 8,
     "metadata": {},
     "output_type": "execute_result"
    }
   ],
   "source": [
    "#PRODUCTOS POR OPORTUNIDAD // QUOTE TYPE\n",
    "\n",
    "productsByOpportunity = data_frame.groupby(['Opportunity_Name', 'Stage']).agg({\"ID\":\"count\"}).reset_index()\n",
    "productsByOpportunity.columns = [\"Opportunity_Name\", \"Resultado\", \"Cantidad\"]\n",
    "productsByOpportunity.groupby(\"Cantidad\")\n",
    "\n",
    "data_frame.Quote_Expiry_Date.isnull().value_counts()\n",
    "data_frame[data_frame[\"Quote_Type\"] == \"Binding\"].Stage.value_counts()\n"
   ]
  },
  {
   "cell_type": "code",
   "execution_count": 9,
   "metadata": {},
   "outputs": [
    {
     "name": "stderr",
     "output_type": "stream",
     "text": [
      "<ipython-input-9-697f3719fb24>:4: SettingWithCopyWarning: \n",
      "A value is trying to be set on a copy of a slice from a DataFrame.\n",
      "Try using .loc[row_indexer,col_indexer] = value instead\n",
      "\n",
      "See the caveats in the documentation: https://pandas.pydata.org/pandas-docs/stable/user_guide/indexing.html#returning-a-view-versus-a-copy\n",
      "  correctDates[\"daysInSystemBeforeOpportunity\"] = np.floor(correctDates[\"Opportunity_Created_Date\"].sub(correctDates[\"Account_Created_Date\"], axis=0)/ np.timedelta64(1, 'M'))\n"
     ]
    },
    {
     "data": {
      "text/plain": [
       "<AxesSubplot:xlabel='daysInSystemBeforeOpportunity'>"
      ]
     },
     "execution_count": 9,
     "metadata": {},
     "output_type": "execute_result"
    },
    {
     "data": {
      "image/png": "[encoded data removed]",
      "text/plain": [
       "<Figure size 432x288 with 1 Axes>"
      ]
     },
     "metadata": {
      "needs_background": "light"
     },
     "output_type": "display_data"
    }
   ],
   "source": [
    "#RELACION WIN RATE CON MESES EN LA PLATAFORMA\n",
    "\n",
    "correctDates = data_frame[data_frame[\"Account_Created_Date\"] <= data_frame[\"Opportunity_Created_Date\"]]\n",
    "correctDates[\"daysInSystemBeforeOpportunity\"] = np.floor(correctDates[\"Opportunity_Created_Date\"].sub(correctDates[\"Account_Created_Date\"], axis=0)/ np.timedelta64(1, 'M'))\n",
    "correctDates[\"daysInSystemBeforeOpportunity\"].value_counts()\n",
    "\n",
    "grp = correctDates.groupby([\"daysInSystemBeforeOpportunity\", \"Stage\"]).agg({\"ID\": \"count\"}).reset_index()\n",
    "grp = grp.groupby([\"daysInSystemBeforeOpportunity\"]).apply(lambda x: x[x.Stage==\"Closed Won\"]['ID'] / x['ID'].sum()).reset_index()\n",
    "\n",
    "meanDelay = []\n",
    "rangei = 0\n",
    "rangef = 3\n",
    "\n",
    "for i in range(len(grp[\"ID\"])):\n",
    "    val = 0\n",
    "    if (rangef > len(grp[\"ID\"])):\n",
    "        rangef -= 1\n",
    "    for j in range (rangei, rangef):\n",
    "        val += grp[\"ID\"][j]\n",
    "    meanDelay.append(val / (rangef - rangei) )\n",
    "    rangei = rangei + 1\n",
    "    rangef = rangef + 1\n",
    "grp[\"sevenDaysMean\"] = pd.Series(meanDelay)\n",
    "\n",
    "#ax = correctDates[\"daysInSystemBeforeOpportunity\"].plot.hist(bins=60, color=\"lightblue\")\n",
    "grp.plot(x=\"daysInSystemBeforeOpportunity\", y=\"sevenDaysMean\", kind=\"line\")\n",
    "\n"
   ]
  },
  {
   "cell_type": "code",
   "execution_count": 10,
   "metadata": {},
   "outputs": [
    {
     "data": {
      "text/plain": [
       "<AxesSubplot:>"
      ]
     },
     "execution_count": 10,
     "metadata": {},
     "output_type": "execute_result"
    },
    {
     "data": {
      "image/png": "[encoded data removed]",
      "text/plain": [
       "<Figure size 432x288 with 1 Axes>"
      ]
     },
     "metadata": {
      "needs_background": "light"
     },
     "output_type": "display_data"
    }
   ],
   "source": [
    "#RANGO DE DELIVERY\n",
    "#FILTRAR CLOSED\n",
    "data_frame[\"Delivery_Range\"] = data_frame[\"Planned_Delivery_End_Date\"].sub(data_frame[\"Planned_Delivery_Start_Date\"], axis=0)/ np.timedelta64(1, 'D')\n",
    "closedOpportunities = data_frame[data_frame[\"Stage\"].str.contains(\"Closed\")]\n",
    "#largestDeliveryRange = data_frame[closedOpportunities[\"Delivery_Range\"] > 0]\n",
    "#largestDeliveryRange.Stage.value_counts().plot.bar()\n",
    "\n",
    "smallestDeliveryRange = closedOpportunities[closedOpportunities[\"Delivery_Range\"] == 0]\n",
    "smallestDeliveryRange.Stage.value_counts().plot.bar()\n"
   ]
  },
  {
   "cell_type": "code",
   "execution_count": 11,
   "metadata": {},
   "outputs": [
    {
     "data": {
      "text/html": [
       "<div>\n",
       "<style scoped>\n",
       "    .dataframe tbody tr th:only-of-type {\n",
       "        vertical-align: middle;\n",
       "    }\n",
       "\n",
       "    .dataframe tbody tr th {\n",
       "        vertical-align: top;\n",
       "    }\n",
       "\n",
       "    .dataframe thead th {\n",
       "        text-align: right;\n",
       "    }\n",
       "</style>\n",
       "<table border=\"1\" class=\"dataframe\">\n",
       "  <thead>\n",
       "    <tr style=\"text-align: right;\">\n",
       "      <th></th>\n",
       "      <th>9067</th>\n",
       "    </tr>\n",
       "  </thead>\n",
       "  <tbody>\n",
       "    <tr>\n",
       "      <th>ID</th>\n",
       "      <td>28250</td>\n",
       "    </tr>\n",
       "    <tr>\n",
       "      <th>Region</th>\n",
       "      <td>Americas</td>\n",
       "    </tr>\n",
       "    <tr>\n",
       "      <th>Territory</th>\n",
       "      <td>SW America</td>\n",
       "    </tr>\n",
       "    <tr>\n",
       "      <th>Pricing, Delivery_Terms_Quote_Appr</th>\n",
       "      <td>1</td>\n",
       "    </tr>\n",
       "    <tr>\n",
       "      <th>Pricing, Delivery_Terms_Approved</th>\n",
       "      <td>0</td>\n",
       "    </tr>\n",
       "    <tr>\n",
       "      <th>Bureaucratic_Code_0_Approval</th>\n",
       "      <td>0</td>\n",
       "    </tr>\n",
       "    <tr>\n",
       "      <th>Bureaucratic_Code_0_Approved</th>\n",
       "      <td>0</td>\n",
       "    </tr>\n",
       "    <tr>\n",
       "      <th>Submitted_for_Approval</th>\n",
       "      <td>0</td>\n",
       "    </tr>\n",
       "    <tr>\n",
       "      <th>Bureaucratic_Code</th>\n",
       "      <td>Bureaucratic_Code_5</td>\n",
       "    </tr>\n",
       "    <tr>\n",
       "      <th>Account_Created_Date</th>\n",
       "      <td>2015-07-30 00:00:00</td>\n",
       "    </tr>\n",
       "    <tr>\n",
       "      <th>Source</th>\n",
       "      <td>Source_7</td>\n",
       "    </tr>\n",
       "    <tr>\n",
       "      <th>Billing_Country</th>\n",
       "      <td>United States</td>\n",
       "    </tr>\n",
       "    <tr>\n",
       "      <th>Account_Name</th>\n",
       "      <td>Account_Name_265</td>\n",
       "    </tr>\n",
       "    <tr>\n",
       "      <th>Opportunity_Name</th>\n",
       "      <td>Opportunity_Name_112</td>\n",
       "    </tr>\n",
       "    <tr>\n",
       "      <th>Opportunity_ID</th>\n",
       "      <td>5671</td>\n",
       "    </tr>\n",
       "    <tr>\n",
       "      <th>Sales_Contract_No</th>\n",
       "      <td>None</td>\n",
       "    </tr>\n",
       "    <tr>\n",
       "      <th>Account_Owner</th>\n",
       "      <td>Person_Name_8</td>\n",
       "    </tr>\n",
       "    <tr>\n",
       "      <th>Opportunity_Owner</th>\n",
       "      <td>Person_Name_8</td>\n",
       "    </tr>\n",
       "    <tr>\n",
       "      <th>Account_Type</th>\n",
       "      <td>Account_Type_0</td>\n",
       "    </tr>\n",
       "    <tr>\n",
       "      <th>Opportunity_Type</th>\n",
       "      <td>Opportunity_Type_1</td>\n",
       "    </tr>\n",
       "    <tr>\n",
       "      <th>Quote_Type</th>\n",
       "      <td>Non Binding</td>\n",
       "    </tr>\n",
       "    <tr>\n",
       "      <th>Delivery_Terms</th>\n",
       "      <td>Delivery_Terms_1</td>\n",
       "    </tr>\n",
       "    <tr>\n",
       "      <th>Opportunity_Created_Date</th>\n",
       "      <td>2017-07-22 00:00:00</td>\n",
       "    </tr>\n",
       "    <tr>\n",
       "      <th>Brand</th>\n",
       "      <td>None</td>\n",
       "    </tr>\n",
       "    <tr>\n",
       "      <th>Product_Type</th>\n",
       "      <td>None</td>\n",
       "    </tr>\n",
       "    <tr>\n",
       "      <th>Size</th>\n",
       "      <td>None</td>\n",
       "    </tr>\n",
       "    <tr>\n",
       "      <th>Product_Category_B</th>\n",
       "      <td>None</td>\n",
       "    </tr>\n",
       "    <tr>\n",
       "      <th>Price</th>\n",
       "      <td>None</td>\n",
       "    </tr>\n",
       "    <tr>\n",
       "      <th>Currency</th>\n",
       "      <td>None</td>\n",
       "    </tr>\n",
       "    <tr>\n",
       "      <th>Last_Activity</th>\n",
       "      <td>NaT</td>\n",
       "    </tr>\n",
       "    <tr>\n",
       "      <th>Quote_Expiry_Date</th>\n",
       "      <td>2017-08-31 00:00:00</td>\n",
       "    </tr>\n",
       "    <tr>\n",
       "      <th>Last_Modified_Date</th>\n",
       "      <td>2018-02-08 00:00:00</td>\n",
       "    </tr>\n",
       "    <tr>\n",
       "      <th>Last_Modified_By</th>\n",
       "      <td>Person_Name_47</td>\n",
       "    </tr>\n",
       "    <tr>\n",
       "      <th>Product_Family</th>\n",
       "      <td>Product_Family_209</td>\n",
       "    </tr>\n",
       "    <tr>\n",
       "      <th>Product_Name</th>\n",
       "      <td>Product_Name_431</td>\n",
       "    </tr>\n",
       "    <tr>\n",
       "      <th>ASP_Currency</th>\n",
       "      <td>USD</td>\n",
       "    </tr>\n",
       "    <tr>\n",
       "      <th>ASP</th>\n",
       "      <td>0.425</td>\n",
       "    </tr>\n",
       "    <tr>\n",
       "      <th>ASP_(converted)_Currency</th>\n",
       "      <td>USD</td>\n",
       "    </tr>\n",
       "    <tr>\n",
       "      <th>ASP_(converted)</th>\n",
       "      <td>0.425</td>\n",
       "    </tr>\n",
       "    <tr>\n",
       "      <th>Planned_Delivery_Start_Date</th>\n",
       "      <td>2017-12-17 00:00:00</td>\n",
       "    </tr>\n",
       "    <tr>\n",
       "      <th>Planned_Delivery_End_Date</th>\n",
       "      <td>2017-12-30 00:00:00</td>\n",
       "    </tr>\n",
       "    <tr>\n",
       "      <th>Month</th>\n",
       "      <td>2017 - 12</td>\n",
       "    </tr>\n",
       "    <tr>\n",
       "      <th>Delivery_Quarter</th>\n",
       "      <td>Q4</td>\n",
       "    </tr>\n",
       "    <tr>\n",
       "      <th>Delivery_Year</th>\n",
       "      <td>2017</td>\n",
       "    </tr>\n",
       "    <tr>\n",
       "      <th>Actual_Delivery_Date</th>\n",
       "      <td>NaT</td>\n",
       "    </tr>\n",
       "    <tr>\n",
       "      <th>TRF</th>\n",
       "      <td>2</td>\n",
       "    </tr>\n",
       "    <tr>\n",
       "      <th>Total_Amount_Currency</th>\n",
       "      <td>USD</td>\n",
       "    </tr>\n",
       "    <tr>\n",
       "      <th>Total_Amount</th>\n",
       "      <td>774180</td>\n",
       "    </tr>\n",
       "    <tr>\n",
       "      <th>Total_Taxable_Amount_Currency</th>\n",
       "      <td>USD</td>\n",
       "    </tr>\n",
       "    <tr>\n",
       "      <th>Total_Taxable_Amount</th>\n",
       "      <td>774180</td>\n",
       "    </tr>\n",
       "    <tr>\n",
       "      <th>Stage</th>\n",
       "      <td>Closed Lost</td>\n",
       "    </tr>\n",
       "    <tr>\n",
       "      <th>Prod_Category_A</th>\n",
       "      <td>Prod_Category_A_None</td>\n",
       "    </tr>\n",
       "    <tr>\n",
       "      <th>Delivery_Range</th>\n",
       "      <td>13</td>\n",
       "    </tr>\n",
       "  </tbody>\n",
       "</table>\n",
       "</div>"
      ],
      "text/plain": [
       "                                                    9067\n",
       "ID                                                 28250\n",
       "Region                                          Americas\n",
       "Territory                                     SW America\n",
       "Pricing, Delivery_Terms_Quote_Appr                     1\n",
       "Pricing, Delivery_Terms_Approved                       0\n",
       "Bureaucratic_Code_0_Approval                           0\n",
       "Bureaucratic_Code_0_Approved                           0\n",
       "Submitted_for_Approval                                 0\n",
       "Bureaucratic_Code                    Bureaucratic_Code_5\n",
       "Account_Created_Date                 2015-07-30 00:00:00\n",
       "Source                                          Source_7\n",
       "Billing_Country                            United States\n",
       "Account_Name                            Account_Name_265\n",
       "Opportunity_Name                    Opportunity_Name_112\n",
       "Opportunity_ID                                      5671\n",
       "Sales_Contract_No                                   None\n",
       "Account_Owner                              Person_Name_8\n",
       "Opportunity_Owner                          Person_Name_8\n",
       "Account_Type                              Account_Type_0\n",
       "Opportunity_Type                      Opportunity_Type_1\n",
       "Quote_Type                                   Non Binding\n",
       "Delivery_Terms                          Delivery_Terms_1\n",
       "Opportunity_Created_Date             2017-07-22 00:00:00\n",
       "Brand                                               None\n",
       "Product_Type                                        None\n",
       "Size                                                None\n",
       "Product_Category_B                                  None\n",
       "Price                                               None\n",
       "Currency                                            None\n",
       "Last_Activity                                        NaT\n",
       "Quote_Expiry_Date                    2017-08-31 00:00:00\n",
       "Last_Modified_Date                   2018-02-08 00:00:00\n",
       "Last_Modified_By                          Person_Name_47\n",
       "Product_Family                        Product_Family_209\n",
       "Product_Name                            Product_Name_431\n",
       "ASP_Currency                                         USD\n",
       "ASP                                                0.425\n",
       "ASP_(converted)_Currency                             USD\n",
       "ASP_(converted)                                    0.425\n",
       "Planned_Delivery_Start_Date          2017-12-17 00:00:00\n",
       "Planned_Delivery_End_Date            2017-12-30 00:00:00\n",
       "Month                                          2017 - 12\n",
       "Delivery_Quarter                                      Q4\n",
       "Delivery_Year                                       2017\n",
       "Actual_Delivery_Date                                 NaT\n",
       "TRF                                                    2\n",
       "Total_Amount_Currency                                USD\n",
       "Total_Amount                                      774180\n",
       "Total_Taxable_Amount_Currency                        USD\n",
       "Total_Taxable_Amount                              774180\n",
       "Stage                                        Closed Lost\n",
       "Prod_Category_A                     Prod_Category_A_None\n",
       "Delivery_Range                                        13"
      ]
     },
     "execution_count": 11,
     "metadata": {},
     "output_type": "execute_result"
    }
   ],
   "source": [
    "data_frame[data_frame[\"Opportunity_Name\"] == \"Opportunity_Name_112\"].T\n"
   ]
  },
  {
   "cell_type": "code",
   "execution_count": 12,
   "metadata": {},
   "outputs": [
    {
     "data": {
      "text/plain": [
       "<AxesSubplot:>"
      ]
     },
     "execution_count": 12,
     "metadata": {},
     "output_type": "execute_result"
    },
    {
     "data": {
      "image/png": "[encoded data removed]",
      "text/plain": [
       "<Figure size 432x288 with 1 Axes>"
      ]
     },
     "metadata": {
      "needs_background": "light"
     },
     "output_type": "display_data"
    }
   ],
   "source": [
    "smallestDeliveryRange[\"Region\"].value_counts().plot.bar()"
   ]
  },
  {
   "cell_type": "code",
   "execution_count": 13,
   "metadata": {},
   "outputs": [
    {
     "data": {
      "text/plain": [
       "<AxesSubplot:>"
      ]
     },
     "execution_count": 13,
     "metadata": {},
     "output_type": "execute_result"
    },
    {
     "data": {
      "image/png": "[encoded data removed]",
      "text/plain": [
       "<Figure size 432x288 with 1 Axes>"
      ]
     },
     "metadata": {
      "needs_background": "light"
     },
     "output_type": "display_data"
    }
   ],
   "source": [
    "data_frame[\"Delivery_Range\"] = data_frame[\"Planned_Delivery_End_Date\"].sub(data_frame[\"Planned_Delivery_Start_Date\"], axis=0)/ np.timedelta64(1, 'D')\n",
    "closedOpportunities = data_frame[data_frame[\"Stage\"].str.contains(\"Closed\")]\n",
    "largestDeliveryRange = closedOpportunities[closedOpportunities[\"Delivery_Range\"] < 7]\n",
    "largestDeliveryRange[\"Region\"].value_counts().plot.bar()"
   ]
  },
  {
   "cell_type": "code",
   "execution_count": 14,
   "metadata": {},
   "outputs": [
    {
     "data": {
      "text/plain": [
       "<AxesSubplot:xlabel='Region'>"
      ]
     },
     "execution_count": 14,
     "metadata": {},
     "output_type": "execute_result"
    },
    {
     "data": {
      "image/png": "[encoded data removed]",
      "text/plain": [
       "<Figure size 432x288 with 1 Axes>"
      ]
     },
     "metadata": {
      "needs_background": "light"
     },
     "output_type": "display_data"
    }
   ],
   "source": [
    "smallestByRegion = smallestDeliveryRange.groupby([\"Region\", \"Stage\"]).agg({\"ID\":\"count\"}).reset_index()\n",
    "smallestWinRate = smallestByRegion.groupby(\"Region\").apply(lambda x: x[x.Stage==\"Closed Won\"]['ID'] / x['ID'].sum()).reset_index()\n",
    "smallestWinRate.plot(x=\"Region\", y=\"ID\", kind=\"bar\")"
   ]
  },
  {
   "cell_type": "code",
   "execution_count": 15,
   "metadata": {},
   "outputs": [
    {
     "data": {
      "text/plain": [
       "Closed Won       4083\n",
       "Closed Lost      3346\n",
       "Proposal           12\n",
       "Negotiation         7\n",
       "Qualification       2\n",
       "Name: Stage, dtype: int64"
      ]
     },
     "execution_count": 15,
     "metadata": {},
     "output_type": "execute_result"
    }
   ],
   "source": [
    "#EN SOURCE HAY ALGO\n",
    "notNullSource = data_frame[data_frame['Source '] != \"None\"]\n",
    "notNullSource.Stage.value_counts()"
   ]
  },
  {
   "cell_type": "code",
   "execution_count": 16,
   "metadata": {},
   "outputs": [
    {
     "data": {
      "text/html": [
       "<div>\n",
       "<style scoped>\n",
       "    .dataframe tbody tr th:only-of-type {\n",
       "        vertical-align: middle;\n",
       "    }\n",
       "\n",
       "    .dataframe tbody tr th {\n",
       "        vertical-align: top;\n",
       "    }\n",
       "\n",
       "    .dataframe thead th {\n",
       "        text-align: right;\n",
       "    }\n",
       "</style>\n",
       "<table border=\"1\" class=\"dataframe\">\n",
       "  <thead>\n",
       "    <tr style=\"text-align: right;\">\n",
       "      <th></th>\n",
       "      <th>0</th>\n",
       "      <th>1</th>\n",
       "      <th>2</th>\n",
       "      <th>7</th>\n",
       "    </tr>\n",
       "  </thead>\n",
       "  <tbody>\n",
       "    <tr>\n",
       "      <th>ID</th>\n",
       "      <td>27761</td>\n",
       "      <td>27760</td>\n",
       "      <td>27446</td>\n",
       "      <td>27455</td>\n",
       "    </tr>\n",
       "    <tr>\n",
       "      <th>Region</th>\n",
       "      <td>EMEA</td>\n",
       "      <td>EMEA</td>\n",
       "      <td>Americas</td>\n",
       "      <td>Americas</td>\n",
       "    </tr>\n",
       "    <tr>\n",
       "      <th>Territory</th>\n",
       "      <td>None</td>\n",
       "      <td>None</td>\n",
       "      <td>NW America</td>\n",
       "      <td>NW America</td>\n",
       "    </tr>\n",
       "    <tr>\n",
       "      <th>Pricing, Delivery_Terms_Quote_Appr</th>\n",
       "      <td>1</td>\n",
       "      <td>0</td>\n",
       "      <td>0</td>\n",
       "      <td>1</td>\n",
       "    </tr>\n",
       "    <tr>\n",
       "      <th>Pricing, Delivery_Terms_Approved</th>\n",
       "      <td>1</td>\n",
       "      <td>0</td>\n",
       "      <td>0</td>\n",
       "      <td>1</td>\n",
       "    </tr>\n",
       "    <tr>\n",
       "      <th>Bureaucratic_Code_0_Approval</th>\n",
       "      <td>1</td>\n",
       "      <td>0</td>\n",
       "      <td>0</td>\n",
       "      <td>1</td>\n",
       "    </tr>\n",
       "    <tr>\n",
       "      <th>Bureaucratic_Code_0_Approved</th>\n",
       "      <td>1</td>\n",
       "      <td>0</td>\n",
       "      <td>0</td>\n",
       "      <td>1</td>\n",
       "    </tr>\n",
       "    <tr>\n",
       "      <th>Submitted_for_Approval</th>\n",
       "      <td>0</td>\n",
       "      <td>0</td>\n",
       "      <td>0</td>\n",
       "      <td>0</td>\n",
       "    </tr>\n",
       "    <tr>\n",
       "      <th>Bureaucratic_Code</th>\n",
       "      <td>Bureaucratic_Code_4</td>\n",
       "      <td>Bureaucratic_Code_4</td>\n",
       "      <td>Bureaucratic_Code_4</td>\n",
       "      <td>Bureaucratic_Code_4</td>\n",
       "    </tr>\n",
       "    <tr>\n",
       "      <th>Account_Created_Date</th>\n",
       "      <td>2015-06-16 00:00:00</td>\n",
       "      <td>2015-06-16 00:00:00</td>\n",
       "      <td>2015-04-21 00:00:00</td>\n",
       "      <td>2015-04-21 00:00:00</td>\n",
       "    </tr>\n",
       "    <tr>\n",
       "      <th>Source</th>\n",
       "      <td>None</td>\n",
       "      <td>None</td>\n",
       "      <td>Source_7</td>\n",
       "      <td>Source_7</td>\n",
       "    </tr>\n",
       "    <tr>\n",
       "      <th>Billing_Country</th>\n",
       "      <td>Netherlands</td>\n",
       "      <td>Netherlands</td>\n",
       "      <td>United States</td>\n",
       "      <td>United States</td>\n",
       "    </tr>\n",
       "    <tr>\n",
       "      <th>Account_Name</th>\n",
       "      <td>Account_Name_619</td>\n",
       "      <td>Account_Name_619</td>\n",
       "      <td>Account_Name_1794</td>\n",
       "      <td>Account_Name_1794</td>\n",
       "    </tr>\n",
       "    <tr>\n",
       "      <th>Opportunity_Name</th>\n",
       "      <td>Opportunity_Name_12598</td>\n",
       "      <td>Opportunity_Name_12600</td>\n",
       "      <td>Opportunity_Name_469</td>\n",
       "      <td>Opportunity_Name_8227</td>\n",
       "    </tr>\n",
       "    <tr>\n",
       "      <th>Opportunity_ID</th>\n",
       "      <td>0</td>\n",
       "      <td>1</td>\n",
       "      <td>2</td>\n",
       "      <td>7</td>\n",
       "    </tr>\n",
       "    <tr>\n",
       "      <th>Sales_Contract_No</th>\n",
       "      <td>None</td>\n",
       "      <td>39</td>\n",
       "      <td>760</td>\n",
       "      <td>None</td>\n",
       "    </tr>\n",
       "    <tr>\n",
       "      <th>Account_Owner</th>\n",
       "      <td>Person_Name_51</td>\n",
       "      <td>Person_Name_51</td>\n",
       "      <td>Person_Name_64</td>\n",
       "      <td>Person_Name_64</td>\n",
       "    </tr>\n",
       "    <tr>\n",
       "      <th>Opportunity_Owner</th>\n",
       "      <td>Person_Name_18</td>\n",
       "      <td>Person_Name_20</td>\n",
       "      <td>Person_Name_8</td>\n",
       "      <td>Person_Name_8</td>\n",
       "    </tr>\n",
       "    <tr>\n",
       "      <th>Account_Type</th>\n",
       "      <td>Account_Type_2</td>\n",
       "      <td>Account_Type_2</td>\n",
       "      <td>Account_Type_5</td>\n",
       "      <td>Account_Type_5</td>\n",
       "    </tr>\n",
       "    <tr>\n",
       "      <th>Opportunity_Type</th>\n",
       "      <td>Opportunity_Type_1</td>\n",
       "      <td>Opportunity_Type_1</td>\n",
       "      <td>Opportunity_Type_1</td>\n",
       "      <td>Opportunity_Type_1</td>\n",
       "    </tr>\n",
       "    <tr>\n",
       "      <th>Quote_Type</th>\n",
       "      <td>Non Binding</td>\n",
       "      <td>Non Binding</td>\n",
       "      <td>Non Binding</td>\n",
       "      <td>Non Binding</td>\n",
       "    </tr>\n",
       "    <tr>\n",
       "      <th>Delivery_Terms</th>\n",
       "      <td>Delivery_Terms_2</td>\n",
       "      <td>Delivery_Terms_2</td>\n",
       "      <td>Delivery_Terms_4</td>\n",
       "      <td>Delivery_Terms_4</td>\n",
       "    </tr>\n",
       "    <tr>\n",
       "      <th>Opportunity_Created_Date</th>\n",
       "      <td>2015-12-07 00:00:00</td>\n",
       "      <td>2015-12-07 00:00:00</td>\n",
       "      <td>2015-12-08 00:00:00</td>\n",
       "      <td>2015-12-09 00:00:00</td>\n",
       "    </tr>\n",
       "    <tr>\n",
       "      <th>Brand</th>\n",
       "      <td>None</td>\n",
       "      <td>None</td>\n",
       "      <td>None</td>\n",
       "      <td>None</td>\n",
       "    </tr>\n",
       "    <tr>\n",
       "      <th>Product_Type</th>\n",
       "      <td>None</td>\n",
       "      <td>None</td>\n",
       "      <td>None</td>\n",
       "      <td>None</td>\n",
       "    </tr>\n",
       "    <tr>\n",
       "      <th>Size</th>\n",
       "      <td>None</td>\n",
       "      <td>None</td>\n",
       "      <td>None</td>\n",
       "      <td>None</td>\n",
       "    </tr>\n",
       "    <tr>\n",
       "      <th>Product_Category_B</th>\n",
       "      <td>None</td>\n",
       "      <td>None</td>\n",
       "      <td>None</td>\n",
       "      <td>None</td>\n",
       "    </tr>\n",
       "    <tr>\n",
       "      <th>Price</th>\n",
       "      <td>None</td>\n",
       "      <td>None</td>\n",
       "      <td>None</td>\n",
       "      <td>None</td>\n",
       "    </tr>\n",
       "    <tr>\n",
       "      <th>Currency</th>\n",
       "      <td>None</td>\n",
       "      <td>None</td>\n",
       "      <td>None</td>\n",
       "      <td>None</td>\n",
       "    </tr>\n",
       "    <tr>\n",
       "      <th>Last_Activity</th>\n",
       "      <td>NaT</td>\n",
       "      <td>NaT</td>\n",
       "      <td>NaT</td>\n",
       "      <td>NaT</td>\n",
       "    </tr>\n",
       "    <tr>\n",
       "      <th>Quote_Expiry_Date</th>\n",
       "      <td>2016-01-30 00:00:00</td>\n",
       "      <td>2016-01-20 00:00:00</td>\n",
       "      <td>2016-09-30 00:00:00</td>\n",
       "      <td>2016-01-07 00:00:00</td>\n",
       "    </tr>\n",
       "    <tr>\n",
       "      <th>Last_Modified_Date</th>\n",
       "      <td>2016-06-13 00:00:00</td>\n",
       "      <td>2016-01-15 00:00:00</td>\n",
       "      <td>2016-09-29 00:00:00</td>\n",
       "      <td>2015-12-09 00:00:00</td>\n",
       "    </tr>\n",
       "    <tr>\n",
       "      <th>Last_Modified_By</th>\n",
       "      <td>Person_Name_18</td>\n",
       "      <td>Person_Name_20</td>\n",
       "      <td>Person_Name_8</td>\n",
       "      <td>Person_Name_8</td>\n",
       "    </tr>\n",
       "    <tr>\n",
       "      <th>Product_Family</th>\n",
       "      <td>Product_Family_77</td>\n",
       "      <td>Product_Family_77</td>\n",
       "      <td>Product_Family_81</td>\n",
       "      <td>Product_Family_143</td>\n",
       "    </tr>\n",
       "    <tr>\n",
       "      <th>Product_Name</th>\n",
       "      <td>Product_Name_99</td>\n",
       "      <td>Product_Name_100</td>\n",
       "      <td>Product_Name_91</td>\n",
       "      <td>Product_Name_251</td>\n",
       "    </tr>\n",
       "    <tr>\n",
       "      <th>ASP_Currency</th>\n",
       "      <td>EUR</td>\n",
       "      <td>EUR</td>\n",
       "      <td>USD</td>\n",
       "      <td>USD</td>\n",
       "    </tr>\n",
       "    <tr>\n",
       "      <th>ASP</th>\n",
       "      <td>0.52</td>\n",
       "      <td>0.53</td>\n",
       "      <td>0.48</td>\n",
       "      <td>0.48</td>\n",
       "    </tr>\n",
       "    <tr>\n",
       "      <th>ASP_(converted)_Currency</th>\n",
       "      <td>USD</td>\n",
       "      <td>USD</td>\n",
       "      <td>USD</td>\n",
       "      <td>USD</td>\n",
       "    </tr>\n",
       "    <tr>\n",
       "      <th>ASP_(converted)</th>\n",
       "      <td>0.58817</td>\n",
       "      <td>0.59948</td>\n",
       "      <td>0.48</td>\n",
       "      <td>0.48</td>\n",
       "    </tr>\n",
       "    <tr>\n",
       "      <th>Planned_Delivery_Start_Date</th>\n",
       "      <td>2016-05-01 00:00:00</td>\n",
       "      <td>2016-01-18 00:00:00</td>\n",
       "      <td>2016-01-25 00:00:00</td>\n",
       "      <td>2016-01-25 00:00:00</td>\n",
       "    </tr>\n",
       "    <tr>\n",
       "      <th>Planned_Delivery_End_Date</th>\n",
       "      <td>2016-06-30 00:00:00</td>\n",
       "      <td>2016-01-20 00:00:00</td>\n",
       "      <td>2016-01-25 00:00:00</td>\n",
       "      <td>2016-01-25 00:00:00</td>\n",
       "    </tr>\n",
       "    <tr>\n",
       "      <th>Month</th>\n",
       "      <td>2016 - 5</td>\n",
       "      <td>2016 - 1</td>\n",
       "      <td>2016 - 1</td>\n",
       "      <td>2016 - 1</td>\n",
       "    </tr>\n",
       "    <tr>\n",
       "      <th>Delivery_Quarter</th>\n",
       "      <td>Q2</td>\n",
       "      <td>Q1</td>\n",
       "      <td>Q1</td>\n",
       "      <td>Q1</td>\n",
       "    </tr>\n",
       "    <tr>\n",
       "      <th>Delivery_Year</th>\n",
       "      <td>2016</td>\n",
       "      <td>2016</td>\n",
       "      <td>2016</td>\n",
       "      <td>2016</td>\n",
       "    </tr>\n",
       "    <tr>\n",
       "      <th>Actual_Delivery_Date</th>\n",
       "      <td>NaT</td>\n",
       "      <td>NaT</td>\n",
       "      <td>NaT</td>\n",
       "      <td>NaT</td>\n",
       "    </tr>\n",
       "    <tr>\n",
       "      <th>TRF</th>\n",
       "      <td>10</td>\n",
       "      <td>0</td>\n",
       "      <td>0</td>\n",
       "      <td>0</td>\n",
       "    </tr>\n",
       "    <tr>\n",
       "      <th>Total_Amount_Currency</th>\n",
       "      <td>EUR</td>\n",
       "      <td>EUR</td>\n",
       "      <td>USD</td>\n",
       "      <td>USD</td>\n",
       "    </tr>\n",
       "    <tr>\n",
       "      <th>Total_Amount</th>\n",
       "      <td>5.2728e+06</td>\n",
       "      <td>48230</td>\n",
       "      <td>83865.6</td>\n",
       "      <td>50688</td>\n",
       "    </tr>\n",
       "    <tr>\n",
       "      <th>Total_Taxable_Amount_Currency</th>\n",
       "      <td>EUR</td>\n",
       "      <td>EUR</td>\n",
       "      <td>USD</td>\n",
       "      <td>USD</td>\n",
       "    </tr>\n",
       "    <tr>\n",
       "      <th>Total_Taxable_Amount</th>\n",
       "      <td>5.2728e+06</td>\n",
       "      <td>48230</td>\n",
       "      <td>83865.6</td>\n",
       "      <td>50688</td>\n",
       "    </tr>\n",
       "    <tr>\n",
       "      <th>Stage</th>\n",
       "      <td>Closed Lost</td>\n",
       "      <td>Closed Won</td>\n",
       "      <td>Closed Won</td>\n",
       "      <td>Closed Won</td>\n",
       "    </tr>\n",
       "    <tr>\n",
       "      <th>Prod_Category_A</th>\n",
       "      <td>Prod_Category_A_None</td>\n",
       "      <td>Prod_Category_A_None</td>\n",
       "      <td>Prod_Category_A_None</td>\n",
       "      <td>Prod_Category_A_None</td>\n",
       "    </tr>\n",
       "    <tr>\n",
       "      <th>Delivery_Range</th>\n",
       "      <td>60</td>\n",
       "      <td>2</td>\n",
       "      <td>0</td>\n",
       "      <td>0</td>\n",
       "    </tr>\n",
       "  </tbody>\n",
       "</table>\n",
       "</div>"
      ],
      "text/plain": [
       "                                                         0  \\\n",
       "ID                                                   27761   \n",
       "Region                                                EMEA   \n",
       "Territory                                             None   \n",
       "Pricing, Delivery_Terms_Quote_Appr                       1   \n",
       "Pricing, Delivery_Terms_Approved                         1   \n",
       "Bureaucratic_Code_0_Approval                             1   \n",
       "Bureaucratic_Code_0_Approved                             1   \n",
       "Submitted_for_Approval                                   0   \n",
       "Bureaucratic_Code                      Bureaucratic_Code_4   \n",
       "Account_Created_Date                   2015-06-16 00:00:00   \n",
       "Source                                                None   \n",
       "Billing_Country                                Netherlands   \n",
       "Account_Name                              Account_Name_619   \n",
       "Opportunity_Name                    Opportunity_Name_12598   \n",
       "Opportunity_ID                                           0   \n",
       "Sales_Contract_No                                     None   \n",
       "Account_Owner                               Person_Name_51   \n",
       "Opportunity_Owner                           Person_Name_18   \n",
       "Account_Type                                Account_Type_2   \n",
       "Opportunity_Type                        Opportunity_Type_1   \n",
       "Quote_Type                                     Non Binding   \n",
       "Delivery_Terms                            Delivery_Terms_2   \n",
       "Opportunity_Created_Date               2015-12-07 00:00:00   \n",
       "Brand                                                 None   \n",
       "Product_Type                                          None   \n",
       "Size                                                  None   \n",
       "Product_Category_B                                    None   \n",
       "Price                                                 None   \n",
       "Currency                                              None   \n",
       "Last_Activity                                          NaT   \n",
       "Quote_Expiry_Date                      2016-01-30 00:00:00   \n",
       "Last_Modified_Date                     2016-06-13 00:00:00   \n",
       "Last_Modified_By                            Person_Name_18   \n",
       "Product_Family                           Product_Family_77   \n",
       "Product_Name                               Product_Name_99   \n",
       "ASP_Currency                                           EUR   \n",
       "ASP                                                   0.52   \n",
       "ASP_(converted)_Currency                               USD   \n",
       "ASP_(converted)                                    0.58817   \n",
       "Planned_Delivery_Start_Date            2016-05-01 00:00:00   \n",
       "Planned_Delivery_End_Date              2016-06-30 00:00:00   \n",
       "Month                                             2016 - 5   \n",
       "Delivery_Quarter                                        Q2   \n",
       "Delivery_Year                                         2016   \n",
       "Actual_Delivery_Date                                   NaT   \n",
       "TRF                                                     10   \n",
       "Total_Amount_Currency                                  EUR   \n",
       "Total_Amount                                    5.2728e+06   \n",
       "Total_Taxable_Amount_Currency                          EUR   \n",
       "Total_Taxable_Amount                            5.2728e+06   \n",
       "Stage                                          Closed Lost   \n",
       "Prod_Category_A                       Prod_Category_A_None   \n",
       "Delivery_Range                                          60   \n",
       "\n",
       "                                                         1  \\\n",
       "ID                                                   27760   \n",
       "Region                                                EMEA   \n",
       "Territory                                             None   \n",
       "Pricing, Delivery_Terms_Quote_Appr                       0   \n",
       "Pricing, Delivery_Terms_Approved                         0   \n",
       "Bureaucratic_Code_0_Approval                             0   \n",
       "Bureaucratic_Code_0_Approved                             0   \n",
       "Submitted_for_Approval                                   0   \n",
       "Bureaucratic_Code                      Bureaucratic_Code_4   \n",
       "Account_Created_Date                   2015-06-16 00:00:00   \n",
       "Source                                                None   \n",
       "Billing_Country                                Netherlands   \n",
       "Account_Name                              Account_Name_619   \n",
       "Opportunity_Name                    Opportunity_Name_12600   \n",
       "Opportunity_ID                                           1   \n",
       "Sales_Contract_No                                       39   \n",
       "Account_Owner                               Person_Name_51   \n",
       "Opportunity_Owner                           Person_Name_20   \n",
       "Account_Type                                Account_Type_2   \n",
       "Opportunity_Type                        Opportunity_Type_1   \n",
       "Quote_Type                                     Non Binding   \n",
       "Delivery_Terms                            Delivery_Terms_2   \n",
       "Opportunity_Created_Date               2015-12-07 00:00:00   \n",
       "Brand                                                 None   \n",
       "Product_Type                                          None   \n",
       "Size                                                  None   \n",
       "Product_Category_B                                    None   \n",
       "Price                                                 None   \n",
       "Currency                                              None   \n",
       "Last_Activity                                          NaT   \n",
       "Quote_Expiry_Date                      2016-01-20 00:00:00   \n",
       "Last_Modified_Date                     2016-01-15 00:00:00   \n",
       "Last_Modified_By                            Person_Name_20   \n",
       "Product_Family                           Product_Family_77   \n",
       "Product_Name                              Product_Name_100   \n",
       "ASP_Currency                                           EUR   \n",
       "ASP                                                   0.53   \n",
       "ASP_(converted)_Currency                               USD   \n",
       "ASP_(converted)                                    0.59948   \n",
       "Planned_Delivery_Start_Date            2016-01-18 00:00:00   \n",
       "Planned_Delivery_End_Date              2016-01-20 00:00:00   \n",
       "Month                                             2016 - 1   \n",
       "Delivery_Quarter                                        Q1   \n",
       "Delivery_Year                                         2016   \n",
       "Actual_Delivery_Date                                   NaT   \n",
       "TRF                                                      0   \n",
       "Total_Amount_Currency                                  EUR   \n",
       "Total_Amount                                         48230   \n",
       "Total_Taxable_Amount_Currency                          EUR   \n",
       "Total_Taxable_Amount                                 48230   \n",
       "Stage                                           Closed Won   \n",
       "Prod_Category_A                       Prod_Category_A_None   \n",
       "Delivery_Range                                           2   \n",
       "\n",
       "                                                       2  \\\n",
       "ID                                                 27446   \n",
       "Region                                          Americas   \n",
       "Territory                                     NW America   \n",
       "Pricing, Delivery_Terms_Quote_Appr                     0   \n",
       "Pricing, Delivery_Terms_Approved                       0   \n",
       "Bureaucratic_Code_0_Approval                           0   \n",
       "Bureaucratic_Code_0_Approved                           0   \n",
       "Submitted_for_Approval                                 0   \n",
       "Bureaucratic_Code                    Bureaucratic_Code_4   \n",
       "Account_Created_Date                 2015-04-21 00:00:00   \n",
       "Source                                          Source_7   \n",
       "Billing_Country                            United States   \n",
       "Account_Name                           Account_Name_1794   \n",
       "Opportunity_Name                    Opportunity_Name_469   \n",
       "Opportunity_ID                                         2   \n",
       "Sales_Contract_No                                    760   \n",
       "Account_Owner                             Person_Name_64   \n",
       "Opportunity_Owner                          Person_Name_8   \n",
       "Account_Type                              Account_Type_5   \n",
       "Opportunity_Type                      Opportunity_Type_1   \n",
       "Quote_Type                                   Non Binding   \n",
       "Delivery_Terms                          Delivery_Terms_4   \n",
       "Opportunity_Created_Date             2015-12-08 00:00:00   \n",
       "Brand                                               None   \n",
       "Product_Type                                        None   \n",
       "Size                                                None   \n",
       "Product_Category_B                                  None   \n",
       "Price                                               None   \n",
       "Currency                                            None   \n",
       "Last_Activity                                        NaT   \n",
       "Quote_Expiry_Date                    2016-09-30 00:00:00   \n",
       "Last_Modified_Date                   2016-09-29 00:00:00   \n",
       "Last_Modified_By                           Person_Name_8   \n",
       "Product_Family                         Product_Family_81   \n",
       "Product_Name                             Product_Name_91   \n",
       "ASP_Currency                                         USD   \n",
       "ASP                                                 0.48   \n",
       "ASP_(converted)_Currency                             USD   \n",
       "ASP_(converted)                                     0.48   \n",
       "Planned_Delivery_Start_Date          2016-01-25 00:00:00   \n",
       "Planned_Delivery_End_Date            2016-01-25 00:00:00   \n",
       "Month                                           2016 - 1   \n",
       "Delivery_Quarter                                      Q1   \n",
       "Delivery_Year                                       2016   \n",
       "Actual_Delivery_Date                                 NaT   \n",
       "TRF                                                    0   \n",
       "Total_Amount_Currency                                USD   \n",
       "Total_Amount                                     83865.6   \n",
       "Total_Taxable_Amount_Currency                        USD   \n",
       "Total_Taxable_Amount                             83865.6   \n",
       "Stage                                         Closed Won   \n",
       "Prod_Category_A                     Prod_Category_A_None   \n",
       "Delivery_Range                                         0   \n",
       "\n",
       "                                                        7  \n",
       "ID                                                  27455  \n",
       "Region                                           Americas  \n",
       "Territory                                      NW America  \n",
       "Pricing, Delivery_Terms_Quote_Appr                      1  \n",
       "Pricing, Delivery_Terms_Approved                        1  \n",
       "Bureaucratic_Code_0_Approval                            1  \n",
       "Bureaucratic_Code_0_Approved                            1  \n",
       "Submitted_for_Approval                                  0  \n",
       "Bureaucratic_Code                     Bureaucratic_Code_4  \n",
       "Account_Created_Date                  2015-04-21 00:00:00  \n",
       "Source                                           Source_7  \n",
       "Billing_Country                             United States  \n",
       "Account_Name                            Account_Name_1794  \n",
       "Opportunity_Name                    Opportunity_Name_8227  \n",
       "Opportunity_ID                                          7  \n",
       "Sales_Contract_No                                    None  \n",
       "Account_Owner                              Person_Name_64  \n",
       "Opportunity_Owner                           Person_Name_8  \n",
       "Account_Type                               Account_Type_5  \n",
       "Opportunity_Type                       Opportunity_Type_1  \n",
       "Quote_Type                                    Non Binding  \n",
       "Delivery_Terms                           Delivery_Terms_4  \n",
       "Opportunity_Created_Date              2015-12-09 00:00:00  \n",
       "Brand                                                None  \n",
       "Product_Type                                         None  \n",
       "Size                                                 None  \n",
       "Product_Category_B                                   None  \n",
       "Price                                                None  \n",
       "Currency                                             None  \n",
       "Last_Activity                                         NaT  \n",
       "Quote_Expiry_Date                     2016-01-07 00:00:00  \n",
       "Last_Modified_Date                    2015-12-09 00:00:00  \n",
       "Last_Modified_By                            Person_Name_8  \n",
       "Product_Family                         Product_Family_143  \n",
       "Product_Name                             Product_Name_251  \n",
       "ASP_Currency                                          USD  \n",
       "ASP                                                  0.48  \n",
       "ASP_(converted)_Currency                              USD  \n",
       "ASP_(converted)                                      0.48  \n",
       "Planned_Delivery_Start_Date           2016-01-25 00:00:00  \n",
       "Planned_Delivery_End_Date             2016-01-25 00:00:00  \n",
       "Month                                            2016 - 1  \n",
       "Delivery_Quarter                                       Q1  \n",
       "Delivery_Year                                        2016  \n",
       "Actual_Delivery_Date                                  NaT  \n",
       "TRF                                                     0  \n",
       "Total_Amount_Currency                                 USD  \n",
       "Total_Amount                                        50688  \n",
       "Total_Taxable_Amount_Currency                         USD  \n",
       "Total_Taxable_Amount                                50688  \n",
       "Stage                                          Closed Won  \n",
       "Prod_Category_A                      Prod_Category_A_None  \n",
       "Delivery_Range                                          0  "
      ]
     },
     "execution_count": 16,
     "metadata": {},
     "output_type": "execute_result"
    }
   ],
   "source": [
    "data_frame[data_frame[\"Opportunity_Owner\"] != data_frame[\"Account_Owner\"]].head(4).T"
   ]
  },
  {
   "cell_type": "code",
   "execution_count": 17,
   "metadata": {},
   "outputs": [],
   "source": [
    "opportunitiesBySeller = data_frame.groupby([\"Opportunity_Owner\"]).agg({\"Opportunity_ID\": pd.Series.nunique})\n",
    "#opportunitiesBySeller.nlargest(10, \"Opportunity_ID\").plot.barh()\n",
    "sarasa = data_frame.groupby([\"Opportunity_Name\", \"Opportunity_Owner\", \"Total_Taxable_Amount\", \"Stage\"]).agg({\"Opportunity_ID\": pd.Series.nunique}).reset_index()\n",
    "meanAmountBySeller = sarasa.groupby(\"Opportunity_Owner\").agg({\"Total_Taxable_Amount\": \"mean\", \"Opportunity_ID\":\"count\"}).reset_index()"
   ]
  },
  {
   "cell_type": "code",
   "execution_count": 18,
   "metadata": {},
   "outputs": [
    {
     "data": {
      "text/plain": [
       "<AxesSubplot:xlabel='winrate', ylabel='Quantity'>"
      ]
     },
     "execution_count": 18,
     "metadata": {},
     "output_type": "execute_result"
    },
    {
     "data": {
      "image/png": "[encoded data removed]",
      "text/plain": [
       "<Figure size 432x288 with 1 Axes>"
      ]
     },
     "metadata": {
      "needs_background": "light"
     },
     "output_type": "display_data"
    }
   ],
   "source": [
    "winRateBySeller = sarasa.groupby([\"Opportunity_Owner\"]).apply(lambda x: len(x[x.Stage==\"Closed Won\"]) / len(x)).reset_index()\n",
    "\n",
    "merged = winRateBySeller.merge(meanAmountBySeller, on=\"Opportunity_Owner\")\n",
    "merged.columns = ['Opportunity_Owner', \"winrate\", 'Total_Taxable_Amount', 'Quantity']\n",
    "merged.plot(x=\"winrate\", y=\"Quantity\", kind=\"scatter\")"
   ]
  },
  {
   "cell_type": "code",
   "execution_count": 19,
   "metadata": {},
   "outputs": [
    {
     "data": {
      "text/plain": [
       "Index(['ID', 'Region', 'Territory', 'Pricing, Delivery_Terms_Quote_Appr',\n",
       "       'Pricing, Delivery_Terms_Approved', 'Bureaucratic_Code_0_Approval',\n",
       "       'Bureaucratic_Code_0_Approved', 'Submitted_for_Approval',\n",
       "       'Bureaucratic_Code', 'Account_Created_Date', 'Source ',\n",
       "       'Billing_Country', 'Account_Name', 'Opportunity_Name', 'Opportunity_ID',\n",
       "       'Sales_Contract_No', 'Account_Owner', 'Opportunity_Owner',\n",
       "       'Account_Type', 'Opportunity_Type', 'Quote_Type', 'Delivery_Terms',\n",
       "       'Opportunity_Created_Date', 'Brand', 'Product_Type', 'Size',\n",
       "       'Product_Category_B', 'Price', 'Currency', 'Last_Activity',\n",
       "       'Quote_Expiry_Date', 'Last_Modified_Date', 'Last_Modified_By',\n",
       "       'Product_Family', 'Product_Name', 'ASP_Currency', 'ASP',\n",
       "       'ASP_(converted)_Currency', 'ASP_(converted)',\n",
       "       'Planned_Delivery_Start_Date', 'Planned_Delivery_End_Date', 'Month',\n",
       "       'Delivery_Quarter', 'Delivery_Year', 'Actual_Delivery_Date', 'TRF',\n",
       "       'Total_Amount_Currency', 'Total_Amount',\n",
       "       'Total_Taxable_Amount_Currency', 'Total_Taxable_Amount', 'Stage',\n",
       "       'Prod_Category_A', 'Delivery_Range'],\n",
       "      dtype='object')"
      ]
     },
     "execution_count": 19,
     "metadata": {},
     "output_type": "execute_result"
    }
   ],
   "source": [
    "data_frame.columns"
   ]
  },
  {
   "cell_type": "code",
   "execution_count": 68,
   "metadata": {},
   "outputs": [
    {
     "data": {
      "text/plain": [
       "<AxesSubplot:title={'center':'10 familias de producto mas recurrentes'}>"
      ]
     },
     "execution_count": 68,
     "metadata": {},
     "output_type": "execute_result"
    },
    {
     "data": {
      "image/png": "[encoded data removed]",
      "text/plain": [
       "<Figure size 720x720 with 1 Axes>"
      ]
     },
     "metadata": {
      "needs_background": "light"
     },
     "output_type": "display_data"
    }
   ],
   "source": [
    "df_family = data_frame['Product_Family'].value_counts().nlargest(10)\n",
    "df_family.sort_values(ascending=True).plot.barh(title='10 familias de producto mas recurrentes', figsize=(10,10), color='lightblue')"
   ]
  },
  {
   "cell_type": "code",
   "execution_count": 83,
   "metadata": {},
   "outputs": [
    {
     "data": {
      "text/plain": [
       "<AxesSubplot:title={'center':'mayor cantidad de familias de productos distintas vendidas por un vendedor (top 10)'}, xlabel='Opportunity_Owner'>"
      ]
     },
     "execution_count": 83,
     "metadata": {},
     "output_type": "execute_result"
    },
    {
     "data": {
      "image/png": "[encoded data removed]",
      "text/plain": [
       "<Figure size 1440x576 with 1 Axes>"
      ]
     },
     "metadata": {
      "needs_background": "light"
     },
     "output_type": "display_data"
    }
   ],
   "source": [
    "opportunitiesByFamily = data_frame.groupby(['Opportunity_Owner']).agg({'Opportunity_ID':pd.Series.nunique,'Product_Family':pd.Series.nunique})\n",
    "opportunitiesByFamily.columns = ['Opportunity_count', 'Product_Family_count']\n",
    "opportunitiesByFamily.reset_index().sort_values(by='Product_Family_count',ascending=False).nlargest(10,columns='Product_Family_count').plot.bar(legend=False,figsize=(20,8),rot=75,x='Opportunity_Owner', y='Product_Family_count',title='mayor cantidad de familias de productos distintas vendidas por un vendedor (top 10)')"
   ]
  },
  {
   "cell_type": "code",
   "execution_count": null,
   "metadata": {},
   "outputs": [],
   "source": []
  },
  {
   "cell_type": "code",
   "execution_count": 82,
   "metadata": {},
   "outputs": [
    {
     "data": {
      "text/plain": [
       "<AxesSubplot:title={'center':'mayor cantidad de vendedores distintos por familia de producto (top 10)'}, xlabel='Product_Family'>"
      ]
     },
     "execution_count": 82,
     "metadata": {},
     "output_type": "execute_result"
    },
    {
     "data": {
      "image/png": "[encoded data removed]",
      "text/plain": [
       "<Figure size 1440x576 with 1 Axes>"
      ]
     },
     "metadata": {
      "needs_background": "light"
     },
     "output_type": "display_data"
    }
   ],
   "source": [
    "opportunitiesByFamily = data_frame.groupby(['Product_Family']).agg({'Opportunity_ID':pd.Series.nunique,'Opportunity_Owner':pd.Series.nunique})\n",
    "opportunitiesByFamily.columns = ['Opportunity_count', 'Owner_count']\n",
    "opportunitiesByFamily.reset_index().sort_values(by='Owner_count',ascending=False).nlargest(10,columns='Owner_count').plot.bar(legend=False,figsize=(20,8),rot=75,x='Product_Family', y='Owner_count',title='mayor cantidad de vendedores distintos por familia de producto (top 10)')"
   ]
  },
  {
   "cell_type": "code",
   "execution_count": null,
   "metadata": {},
   "outputs": [],
   "source": []
  },
  {
   "cell_type": "code",
   "execution_count": 85,
   "metadata": {},
   "outputs": [
    {
     "data": {
      "text/plain": [
       "<AxesSubplot:title={'center':'Vendedores con mayor cantidad de regiones'}, xlabel='Opportunity_Owner'>"
      ]
     },
     "execution_count": 85,
     "metadata": {},
     "output_type": "execute_result"
    },
    {
     "data": {
      "image/png": "[encoded data removed]",
      "text/plain": [
       "<Figure size 1440x576 with 1 Axes>"
      ]
     },
     "metadata": {
      "needs_background": "light"
     },
     "output_type": "display_data"
    }
   ],
   "source": [
    "opportunitiesByFamily = data_frame.groupby(['Opportunity_Owner']).agg({'Opportunity_ID':pd.Series.nunique,'Region':pd.Series.nunique})\n",
    "opportunitiesByFamily.columns = ['Opportunity_count', 'Region_count']\n",
    "opportunitiesByFamily.reset_index().sort_values(by='Region_count',ascending=False).nlargest(10,columns='Region_count').plot\\\n",
    ".bar(legend=False,figsize=(20,8),rot=75,x='Opportunity_Owner', y='Region_count',title='Vendedores con mayor cantidad de regiones')"
   ]
  },
  {
   "cell_type": "code",
   "execution_count": null,
   "metadata": {},
   "outputs": [],
   "source": []
  },
  {
   "cell_type": "code",
   "execution_count": 100,
   "metadata": {},
   "outputs": [
    {
     "data": {
      "text/plain": [
       "<AxesSubplot:xlabel='Region'>"
      ]
     },
     "execution_count": 100,
     "metadata": {},
     "output_type": "execute_result"
    },
    {
     "data": {
      "image/png": "[encoded data removed]",
      "text/plain": [
       "<Figure size 1080x432 with 1 Axes>"
      ]
     },
     "metadata": {
      "needs_background": "light"
     },
     "output_type": "display_data"
    }
   ],
   "source": [
    "opportunitiesByFamily = data_frame.groupby(['Region']).agg({'Opportunity_Owner':pd.Series.nunique})\n",
    "opportunitiesByFamily.columns = ['Opportunity_count']\n",
    "opportunitiesByFamily.sort_values(by='Opportunity_count',ascending=False).plot.bar(legend=False,figsize=(15,6),rot=75)"
   ]
  },
  {
   "cell_type": "code",
   "execution_count": null,
   "metadata": {},
   "outputs": [],
   "source": []
  },
  {
   "cell_type": "code",
   "execution_count": 105,
   "metadata": {},
   "outputs": [
    {
     "data": {
      "text/plain": [
       "None         9497\n",
       "Source_7     2965\n",
       "Source_9     1459\n",
       "Source_11    1421\n",
       "Source_13     786\n",
       "Source_3      418\n",
       "Source_1      137\n",
       "Source_10     106\n",
       "Source_2       86\n",
       "Source_4       43\n",
       "Source_6       19\n",
       "Source_0        7\n",
       "Source_12       2\n",
       "Source_5        1\n",
       "Name: Source , dtype: int64"
      ]
     },
     "execution_count": 105,
     "metadata": {},
     "output_type": "execute_result"
    }
   ],
   "source": [
    "data_frame['Source '].value_counts()"
   ]
  },
  {
   "cell_type": "code",
   "execution_count": 124,
   "metadata": {},
   "outputs": [
    {
     "data": {
      "text/plain": [
       "<AxesSubplot:title={'center':'cantidad de vendedores distintos por fuente de oportunidad'}, ylabel='Source'>"
      ]
     },
     "execution_count": 124,
     "metadata": {},
     "output_type": "execute_result"
    },
    {
     "data": {
      "image/png": "[encoded data removed]",
      "text/plain": [
       "<Figure size 1080x432 with 1 Axes>"
      ]
     },
     "metadata": {
      "needs_background": "light"
     },
     "output_type": "display_data"
    }
   ],
   "source": [
    "opportunitiesByFamily = data_frame.groupby(['Source ']).agg({'Opportunity_Owner':pd.Series.nunique}).reset_index().loc[1:,:]\n",
    "opportunitiesByFamily.columns = ['Source','Opportunity_count']\n",
    "opportunitiesByFamily.sort_values(by='Opportunity_count',ascending=False).plot.barh(x='Source',y='Opportunity_count',legend=False,figsize=(15,6),\\\n",
    "                                                                                  title='cantidad de vendedores distintos por fuente de oportunidad')"
   ]
  },
  {
   "cell_type": "code",
   "execution_count": 133,
   "metadata": {},
   "outputs": [
    {
     "data": {
      "text/plain": [
       "<AxesSubplot:title={'center':'Vendedores con mayor variedad de fuentes de venta'}, ylabel='Opportunity_Owner'>"
      ]
     },
     "execution_count": 133,
     "metadata": {},
     "output_type": "execute_result"
    },
    {
     "data": {
      "image/png": "[encoded data removed]",
      "text/plain": [
       "<Figure size 1080x432 with 1 Axes>"
      ]
     },
     "metadata": {
      "needs_background": "light"
     },
     "output_type": "display_data"
    }
   ],
   "source": [
    "opportunitiesByFamily = data_frame.groupby(['Opportunity_Owner']).agg({'Source ':pd.Series.nunique}).reset_index().loc[1:,:]\n",
    "opportunitiesByFamily.columns = ['Opportunity_Owner','Source_count']\n",
    "opportunitiesByFamily.sort_values(by='Source_count',ascending=False).nlargest(15,'Source_count').plot.barh(x='Opportunity_Owner',y='Source_count',legend=False,figsize=(15,6),\\\n",
    "                                                                                  title='Vendedores con mayor variedad de fuentes de venta')"
   ]
  },
  {
   "cell_type": "code",
   "execution_count": null,
   "metadata": {},
   "outputs": [],
   "source": []
  },
  {
   "cell_type": "code",
   "execution_count": null,
   "metadata": {},
   "outputs": [],
   "source": []
  }
 ],
 "metadata": {
  "kernelspec": {
   "display_name": "Python 3",
   "language": "python",
   "name": "python3"
  },
  "language_info": {
   "codemirror_mode": {
    "name": "ipython",
    "version": 3
   },
   "file_extension": ".py",
   "mimetype": "text/x-python",
   "name": "python",
   "nbconvert_exporter": "python",
   "pygments_lexer": "ipython3",
   "version": "3.8.5"
  }
 },
 "nbformat": 4,
 "nbformat_minor": 4
}
