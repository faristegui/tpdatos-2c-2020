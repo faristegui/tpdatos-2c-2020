{
 "cells": [
  {
   "cell_type": "code",
   "execution_count": 10,
   "metadata": {},
   "outputs": [],
   "source": [
    "from sklearn.ensemble import RandomForestRegressor\n",
    "from sklearn.metrics import mean_squared_error\n",
    "import pandas as pd\n",
    "import numpy as np\n",
    "%matplotlib inline\n",
    "import matplotlib.pyplot as plt\n",
    "from sklearn import tree\n",
    "from sklearn.metrics import log_loss\n",
    "from sklearn import preprocessing\n",
    "from sklearn.model_selection import train_test_split\n",
    "from currency_converter import CurrencyConverter\n",
    "import category_encoders as ce\n",
    "c = CurrencyConverter(fallback_on_missing_rate=True)\n"
   ]
  },
  {
   "cell_type": "markdown",
   "metadata": {},
   "source": [
    "## Importamos los datasets"
   ]
  },
  {
   "cell_type": "code",
   "execution_count": 44,
   "metadata": {},
   "outputs": [],
   "source": [
    "train_set = pd.read_csv(r'C:\\Users\\user\\Desktop\\Train_TP2_Datos_2020-2C.csv')\n",
    "test_set = pd.read_csv(r'C:\\Users\\user\\Desktop\\Test_TP2_Datos_2020-2C.csv')\n",
    "\n",
    "#Nos quedamos unicamente con las oportunidades cerradas.\n",
    "train_set = train_set[train_set[\"Stage\"].str.contains(\"Closed\")]"
   ]
  },
  {
   "cell_type": "markdown",
   "metadata": {},
   "source": [
    "## Eliminamos las columnas poco relevantes o con pocos datos"
   ]
  },
  {
   "cell_type": "code",
   "execution_count": 37,
   "metadata": {},
   "outputs": [],
   "source": [
    "#Armo Target y limpio columnas\n",
    "\n",
    "train_set = train_set.drop(columns=[\"Sales_Contract_No\", \"Opportunity_Name\", \"Last_Modified_By\", \"Billing_Country\", \"ID\", \"Prod_Category_A\", \"Actual_Delivery_Date\" ])\n",
    "test_set = test_set.drop(columns=[\"Sales_Contract_No\", \"Opportunity_Name\", \"Last_Modified_By\", \"Billing_Country\", \"ID\", \"Prod_Category_A\" , \"Actual_Delivery_Date\" ])\n",
    "\n",
    "train_set['Last_Modified_Date']=pd.to_datetime(train_set['Last_Modified_Date'])\n",
    "test_set['Last_Modified_Date']=pd.to_datetime(test_set['Last_Modified_Date'])"
   ]
  },
  {
   "cell_type": "markdown",
   "metadata": {},
   "source": [
    "## Procesamos las columnas de tiempos, fechas y precios"
   ]
  },
  {
   "cell_type": "code",
   "execution_count": 38,
   "metadata": {},
   "outputs": [],
   "source": [
    "#TRAIN SET\n",
    "\n",
    "train_set[\"Opportunity_Created_Date\"] = pd.to_datetime(train_set[\"Opportunity_Created_Date\"], errors=\"coerce\")\n",
    "train_set[\"Account_Created_Date\"] = pd.to_datetime(train_set[\"Account_Created_Date\"], errors=\"coerce\")\n",
    "train_set[\"Quote_Expiry_Date\"] = pd.to_datetime(train_set[\"Quote_Expiry_Date\"], errors=\"coerce\")\n",
    "train_set[\"Last_Modified_Date\"] = pd.to_datetime(train_set[\"Last_Modified_Date\"], errors=\"coerce\")\n",
    "\n",
    "#train_set['Total_Amount_(converted)']= train_set.apply(lambda x: c.convert(x.Total_Amount, x.Total_Amount_Currency, 'USD', date=x.Last_Modified_Date), axis=1)\n",
    "train_set['Total_Taxable_Amount_(converted)']= train_set.apply(lambda x: c.convert(x.Total_Taxable_Amount, x.Total_Taxable_Amount_Currency, 'USD', date=x.Last_Modified_Date), axis=1)\n",
    "\n",
    "train_set[\"Planned_Delivery_Start_Date\"] = pd.to_datetime(train_set[\"Planned_Delivery_Start_Date\"], errors=\"coerce\")\n",
    "train_set[\"Planned_Delivery_End_Date\"] = pd.to_datetime(train_set[\"Planned_Delivery_End_Date\"], errors=\"coerce\")\n",
    "delay = train_set['Planned_Delivery_Start_Date'].sub(train_set['Opportunity_Created_Date'], axis=0)/ np.timedelta64(1, 'D')\n",
    "train_set[\"Delivery_Delay\"] = [x if x > 0 else 0 for x in delay]\n",
    "\n",
    "duracionPresupuesto = train_set['Quote_Expiry_Date'].sub(train_set['Opportunity_Created_Date'], axis=0)/ np.timedelta64(1, 'D')\n",
    "train_set[\"duracionPresupuesto\"] = [x if x > 0 else 0 for x in duracionPresupuesto]\n",
    "\n",
    "duration = train_set['Last_Modified_Date'].sub(train_set['Opportunity_Created_Date'], axis=0)/ np.timedelta64(1, 'D')\n",
    "train_set[\"duration\"] = [x if x > 0 else 0 for x in duration]\n",
    "\n",
    "timeInSystem = np.floor(train_set[\"Opportunity_Created_Date\"].sub(train_set[\"Account_Created_Date\"], axis=0)/ np.timedelta64(1, 'D'))\n",
    "train_set[\"timeInSystem\"] = [x if x > 0 else 0 for x in timeInSystem]\n",
    "\n",
    "fromDate1 = min(train_set['Opportunity_Created_Date'])\n",
    "#fromDate2 = min(train_set['Last_Modified_Date'])\n",
    "#fromDate3 = min(train_set['Account_Created_Date'])\n",
    "\n",
    "train_set['Opportunity_Created_Date_delta'] = (train_set[\"Opportunity_Created_Date\"] - fromDate1).dt.days.astype(int)\n",
    "#train_set['Last_Modified_Date_delta'] = (train_set[\"Last_Modified_Date\"] - fromDate2).dt.days.astype(int)\n",
    "#train_set['Account_Created_Date_delta'] = (train_set[\"Account_Created_Date\"] - fromDate3).dt.days.astype(int)\n",
    "\n",
    "train_set.drop(columns= [\"Submitted_for_Approval\", \"Opportunity_Created_Date\", \"Total_Amount\",\\\n",
    "                         'Pricing, Delivery_Terms_Approved', 'Pricing, Delivery_Terms_Quote_Appr',\\\n",
    "                         'Bureaucratic_Code_0_Approval', 'Bureaucratic_Code_0_Approved',\\\n",
    "                         \"Planned_Delivery_Start_Date\",\"Planned_Delivery_End_Date\", \\\n",
    "                         \"Quote_Expiry_Date\", \"Last_Modified_Date\", \"Account_Created_Date\", \"Total_Taxable_Amount_Currency\", \\\n",
    "                        \"Total_Taxable_Amount\", \"ASP\", \"ASP_(converted)_Currency\", \\\n",
    "                        \"ASP_Currency\", \"Currency\"], inplace = True)\n",
    "\n",
    "#-----------------------------------------------\n",
    "#-----------------------------------------------\n",
    "#-----------------------------------------------\n",
    "#-----------------------------------------------\n",
    "\n",
    "#TEST SET\n",
    "\n",
    "test_set[\"Opportunity_Created_Date\"] = pd.to_datetime(test_set[\"Opportunity_Created_Date\"], errors=\"coerce\")\n",
    "test_set[\"Account_Created_Date\"] = pd.to_datetime(test_set[\"Account_Created_Date\"], errors=\"coerce\")\n",
    "test_set[\"Quote_Expiry_Date\"] = pd.to_datetime(test_set[\"Quote_Expiry_Date\"], errors=\"coerce\")\n",
    "test_set[\"Last_Modified_Date\"] = pd.to_datetime(test_set[\"Last_Modified_Date\"], errors=\"coerce\")\n",
    "\n",
    "#test_set['Total_Amount_(converted)']= test_set.apply(lambda x: c.convert(x.Total_Amount, x.Total_Amount_Currency, 'USD', date=x.Last_Modified_Date), axis=1)\n",
    "test_set['Total_Taxable_Amount_(converted)']= test_set.apply(lambda x: c.convert(x.Total_Taxable_Amount, x.Total_Taxable_Amount_Currency, 'USD', date=x.Last_Modified_Date), axis=1)\n",
    "\n",
    "test_set[\"Planned_Delivery_Start_Date\"] = pd.to_datetime(test_set[\"Planned_Delivery_Start_Date\"], errors=\"coerce\")\n",
    "test_set[\"Planned_Delivery_End_Date\"] = pd.to_datetime(test_set[\"Planned_Delivery_End_Date\"], errors=\"coerce\")\n",
    "delay = test_set['Planned_Delivery_Start_Date'].sub(test_set['Opportunity_Created_Date'], axis=0)/ np.timedelta64(1, 'D')\n",
    "test_set[\"Delivery_Delay\"] = [x if x > 0 else 0 for x in delay]\n",
    "\n",
    "duracionPresupuesto = test_set['Quote_Expiry_Date'].sub(test_set['Opportunity_Created_Date'], axis=0)/ np.timedelta64(1, 'D')\n",
    "test_set[\"duracionPresupuesto\"] = [x if x > 0 else 0 for x in duracionPresupuesto]\n",
    "\n",
    "duration = test_set['Last_Modified_Date'].sub(test_set['Opportunity_Created_Date'], axis=0)/ np.timedelta64(1, 'D')\n",
    "test_set[\"duration\"] = [x if x > 0 else 0 for x in duration]\n",
    "\n",
    "timeInSystem = np.floor(test_set[\"Opportunity_Created_Date\"].sub(test_set[\"Account_Created_Date\"], axis=0)/ np.timedelta64(1, 'D'))\n",
    "test_set[\"timeInSystem\"] = [x if x > 0 else 0 for x in timeInSystem]\n",
    "\n",
    "test_set['Opportunity_Created_Date_delta'] = (test_set[\"Opportunity_Created_Date\"] - fromDate1).dt.days.astype(\"int64\")\n",
    "#test_set['Last_Modified_Date_delta'] = (test_set[\"Last_Modified_Date\"] - fromDate2).dt.days.astype(\"int64\")\n",
    "#test_set['Account_Created_Date_delta'] = (test_set[\"Account_Created_Date\"] - fromDate3).dt.days.astype(\"int64\")\n",
    "\n",
    "test_set.drop(columns= [ \"Submitted_for_Approval\", \"Opportunity_Created_Date\", \"Total_Amount\",\\\n",
    "                        'Pricing, Delivery_Terms_Approved', 'Pricing, Delivery_Terms_Quote_Appr',\\\n",
    "                        'Bureaucratic_Code_0_Approval', 'Bureaucratic_Code_0_Approved', \\\n",
    "                        \"Planned_Delivery_Start_Date\",\"Planned_Delivery_End_Date\", \\\n",
    "                         \"Quote_Expiry_Date\", \"Last_Modified_Date\", \"Account_Created_Date\", \"Total_Taxable_Amount_Currency\", \\\n",
    "                        \"Total_Taxable_Amount\", \"ASP\", \"ASP_(converted)_Currency\", \\\n",
    "                        \"ASP_Currency\", \"Currency\"], inplace = True)"
   ]
  },
  {
   "cell_type": "markdown",
   "metadata": {},
   "source": [
    "##  Agrupamos los productos por oportunidad"
   ]
  },
  {
   "cell_type": "code",
   "execution_count": 39,
   "metadata": {},
   "outputs": [],
   "source": [
    "aux1 = train_set.groupby([\"Opportunity_ID\"]).agg({\"Territory\": \"count\", \"ASP_(converted)\": [\"sum\", \"mean\"], \"TRF\": [\"sum\", \"mean\"]}).reset_index()\n",
    "aux2 = test_set.groupby([\"Opportunity_ID\"]).agg({\"Territory\": \"count\", \"ASP_(converted)\": [\"sum\", \"mean\"], \"TRF\": [\"sum\", \"mean\"]}).reset_index()\n",
    "\n",
    "aux1.columns = [\"Opportunity_ID\", \"Products_Quantity\", \"ASP sum\", \"ASP mean\",  \"Total TRF\", \"TRF mean\"]\n",
    "aux2.columns = [\"Opportunity_ID\", \"Products_Quantity\", \"ASP sum\", \"ASP mean\", \"Total TRF\", \"TRF mean\"]\n",
    "\n",
    "train_set = train_set.drop_duplicates(subset=\"Opportunity_ID\")\n",
    "test_set = test_set.drop_duplicates(subset=\"Opportunity_ID\")\n",
    "\n",
    "train_set = train_set.merge(aux1, on=\"Opportunity_ID\")\n",
    "test_set = test_set.merge(aux2, on=\"Opportunity_ID\")\n",
    "\n",
    "train_set = train_set.drop(columns=[\"TRF\", \"ASP_(converted)\", \"Products_Quantity\"])\n",
    "test_set = test_set.drop(columns=[\"TRF\", \"ASP_(converted)\", \"Products_Quantity\"])\n"
   ]
  },
  {
   "cell_type": "markdown",
   "metadata": {},
   "source": [
    "## Encoding de variables categóricas"
   ]
  },
  {
   "cell_type": "code",
   "execution_count": 40,
   "metadata": {},
   "outputs": [],
   "source": [
    "from sklearn.preprocessing import OneHotEncoder\n",
    "import category_encoders as ce\n",
    "\n",
    "#TRAIN SET\n",
    "\n",
    "train_set = train_set.sort_values(by=[\"Opportunity_Created_Date_delta\"], ascending=True)\n",
    "\n",
    "#MEAN ENCODING\n",
    "stage_train = train_set.Stage\n",
    "train_set[\"Targetx\"] = [1 if x == \"Closed Won\" else 0 for x in stage_train]\n",
    "\n",
    "grouped = train_set.groupby([\"Region\"]).agg({\"Targetx\":\"mean\"}).reset_index()\n",
    "grouped.columns = [\"Region\", \"Region_mean\"]\n",
    "\n",
    "train_set.join(grouped.set_index('Region'), on=\"Region\")\n",
    "\n",
    "stage_train = train_set.Stage\n",
    "train_set[\"Target\"] = [1 if x == \"Closed Won\" else 0 for x in stage_train]\n",
    "train_set = train_set.drop(columns=[\"Stage\"])\n",
    "train_set = train_set.fillna(0)\n",
    "\n",
    "train_set = train_set.drop(columns=[\"Opportunity_ID\",\"Delivery_Year\", \"duracionPresupuesto\", \"Targetx\"])\n",
    "\n",
    "toTrain = train_set.select_dtypes(\"number\")\n",
    "\n",
    "#-----------------------------------------------------------\n",
    "#-----------------------------------------------------------\n",
    "#-----------------------------------------------------------\n",
    "#-----------------------------------------------------------\n",
    "#-----------------------------------------------------------\n",
    "\n",
    "#TEST SET\n",
    "\n",
    "test_set.join(grouped.set_index('Region'), on=\"Region\")\n",
    "\n",
    "test_set = test_set.fillna(0)\n",
    "test_set = test_set.sort_values(by=[\"Opportunity_Created_Date_delta\"], ascending=True)\n",
    "ids = test_set[\"Opportunity_ID\"]\n",
    "test_set = test_set.drop(columns=[\"Opportunity_ID\", \"Delivery_Year\", \"duracionPresupuesto\"])\n",
    "\n",
    "toTest = test_set.select_dtypes(\"number\")"
   ]
  },
  {
   "cell_type": "code",
   "execution_count": 41,
   "metadata": {},
   "outputs": [],
   "source": [
    "X, y = toTrain.iloc[:,:-1],toTrain.iloc[:,-1]\n",
    "\n",
    "X_train = X.iloc[:8421]\n",
    "X_test = X.iloc[8421:]\n",
    "\n",
    "y_train = y.iloc[:8421]\n",
    "y_test = y.iloc[8421:]\n",
    "\n",
    "#X_train, X_test, y_train, y_test = train_test_split(X, y, test_size=0.33)\n"
   ]
  },
  {
   "cell_type": "code",
   "execution_count": 43,
   "metadata": {
    "scrolled": true
   },
   "outputs": [
    {
     "name": "stdout",
     "output_type": "stream",
     "text": [
      "LOG LOSS: 0.4656099656083045\n",
      "0.980080841213462\n",
      "0.011612922412554764\n"
     ]
    }
   ],
   "source": [
    "rmse = 0\n",
    "hp = (14, 5, 9, 2)\n",
    "rf_model = RandomForestRegressor(n_estimators= 96, max_depth = hp[0], min_samples_split= hp[1], min_samples_leaf= hp[2], max_features=hp[3])\n",
    "rf_model.fit(X_train, y_train)\n",
    "preds1 = rf_model.predict(X_test)\n",
    "print(\"LOG LOSS:\", log_loss(y_test, preds1))\n",
    "print(max(preds1))\n",
    "print(min(preds1))"
   ]
  },
  {
   "cell_type": "code",
   "execution_count": 258,
   "metadata": {},
   "outputs": [
    {
     "name": "stdout",
     "output_type": "stream",
     "text": [
      "Requirement already satisfied: xgboost in c:\\users\\user\\appdata\\local\\programs\\python\\python37\\lib\\site-packages (1.3.3)\n",
      "Requirement already satisfied: numpy in c:\\users\\user\\appdata\\local\\programs\\python\\python37\\lib\\site-packages (from xgboost) (1.19.5)\n",
      "Requirement already satisfied: scipy in c:\\users\\user\\appdata\\local\\programs\\python\\python37\\lib\\site-packages (from xgboost) (1.2.1)\n"
     ]
    },
    {
     "name": "stderr",
     "output_type": "stream",
     "text": [
      "WARNING: You are using pip version 20.2.4; however, version 21.0.1 is available.\n",
      "You should consider upgrading via the 'c:\\users\\user\\appdata\\local\\programs\\python\\python37\\python.exe -m pip install --upgrade pip' command.\n"
     ]
    }
   ],
   "source": [
    "!pip install xgboost\n",
    "import xgboost as xgb"
   ]
  },
  {
   "cell_type": "code",
   "execution_count": 509,
   "metadata": {},
   "outputs": [
    {
     "name": "stdout",
     "output_type": "stream",
     "text": [
      "0.99346364 0.011223014\n"
     ]
    }
   ],
   "source": [
    "xg_reg = xgb.XGBRegressor(objective ='reg:logistic', \n",
    "colsample_bytree = 0.5, learning_rate = 0.1,\n",
    "max_depth = 30, alpha = 1.3, gamma = 0.15, n_estimators = 100)\n",
    "xg_reg.fit(X,y)\n",
    "preds2 = xg_reg.predict(toTest)\n",
    "\n",
    "xg_reg.fit(X_train,y_train)\n",
    "preds = xg_reg.predict(X_test)\n",
    "rmse = log_loss(y_test, preds)\n",
    "#print(\"RMSE: %f\" % (rmse))\n",
    "\n",
    "print(max(preds2), min(preds2))"
   ]
  },
  {
   "cell_type": "code",
   "execution_count": 69,
   "metadata": {},
   "outputs": [
    {
     "name": "stdout",
     "output_type": "stream",
     "text": [
      "60    0.350467\n",
      "Name: test-rmse-mean, dtype: float64\n"
     ]
    }
   ],
   "source": [
    "data_dmatrix = xgb.DMatrix(data=X,label=y)\n",
    "\n",
    "params = {\"objective\":\"reg:logistic\",'colsample_bytree': 0.3,\n",
    "          'learning_rate': 0.15, \"colsample_bytree\": 0.43, 'max_depth': 20, 'alpha': 1.6}\n",
    "\n",
    "cv_results = xgb.cv(dtrain=data_dmatrix, params=params, nfold=20,\n",
    "                    num_boost_round=100, early_stopping_rounds=10,\n",
    "                    metrics=\"rmse\", as_pandas=True, seed=123)\n",
    "print((cv_results[\"test-rmse-mean\"]).tail(1))"
   ]
  },
  {
   "cell_type": "code",
   "execution_count": 104,
   "metadata": {},
   "outputs": [],
   "source": [
    "ops = ids\n",
    "out = pd.DataFrame()\n",
    "out[\"Opportunity_ID\"] = ops\n",
    "out[\"Target\"] = preds1\n",
    "\n",
    "out.to_csv(r\"C:\\Users\\user\\Desktop\\resultspc4.csv\")"
   ]
  },
  {
   "cell_type": "code",
   "execution_count": 200,
   "metadata": {},
   "outputs": [
    {
     "data": {
      "text/plain": [
       "<matplotlib.axes._subplots.AxesSubplot at 0x207805586d8>"
      ]
     },
     "execution_count": 200,
     "metadata": {},
     "output_type": "execute_result"
    },
    {
     "data": {
      "image/png": "[encoded data removed]",
      "text/plain": [
       "<Figure size 864x504 with 1 Axes>"
      ]
     },
     "metadata": {
      "needs_background": "light"
     },
     "output_type": "display_data"
    }
   ],
   "source": [
    "plt.rcParams['figure.figsize'] = [12, 7]\n",
    "xgb.plot_importance(xg_reg)"
   ]
  },
  {
   "cell_type": "code",
   "execution_count": 174,
   "metadata": {},
   "outputs": [],
   "source": [
    "from catboost import CatBoostRegressor"
   ]
  },
  {
   "cell_type": "code",
   "execution_count": 112,
   "metadata": {},
   "outputs": [],
   "source": [
    "#SET DE DATOS CON POCAS COLUMAS\n",
    "\n",
    "duration = train_set[\"duration\"]\n",
    "tys = train_set[\"timeInSystem\"]\n",
    "deliveryDelay = train_set[\"Delivery_Delay\"]\n",
    "ttac = train_set[\"Total_Taxable_Amount_(converted)\"]\n",
    "ocd = train_set[\"Opportunity_Created_Date_delta\"]\n",
    "ttrf = train_set[\"Total TRF\"]\n",
    "trfm = train_set[\"TRF mean\"]\n",
    "opowtarget = train_set[\"Opportunity_Owner_mean_target\"]\n",
    "regtarget = train_set[\"Region_mean_target\"]\n",
    "asps = train_set[\"ASP sum\"]\n",
    "\n",
    "\n",
    "duration1 = test_set[\"duration\"]\n",
    "tys1 = test_set[\"timeInSystem\"]\n",
    "deliveryDelay1 = test_set[\"Delivery_Delay\"]\n",
    "ttac1 = test_set[\"Total_Taxable_Amount_(converted)\"]\n",
    "ocd1 = test_set[\"Opportunity_Created_Date_delta\"]\n",
    "ttrf1 = test_set[\"Total TRF\"]\n",
    "trfm1 = test_set[\"TRF mean\"]\n",
    "opowtarget1 = test_set[\"Opportunity_Owner_target\"]\n",
    "asps1 = test_set[\"ASP sum\"]\n",
    "\n",
    "y = train_set[\"Target\"]\n",
    "\n",
    "\n",
    "X = pd.DataFrame(duration)\n",
    "X = X.join(tys)\n",
    "\n",
    "X = X.join(ttrf)\n",
    "X = X.join(trfm)\n",
    "X = X.join(deliveryDelay)\n",
    "X = X.join(ttac)\n",
    "X = X.join(ocd)\n",
    "X = X.join(hb)\n",
    "#X = X.join(asps)\n",
    "#X = X.join(opowtarget)\n",
    "\n",
    "\n",
    "toTest = pd.DataFrame(duration1)\n",
    "toTest = toTest.join(tys1)\n",
    "toTest = toTest.join(ttrf1)\n",
    "toTest = toTest.join(trfm1)\n",
    "toTest = toTest.join(deliveryDelay1)\n",
    "toTest = toTest.join(ttac1)\n",
    "toTest = toTest.join(ocd1)\n",
    "toTest = toTest.join(hb1)\n",
    "#toTest = toTest.join(asps1)\n",
    "#toTest = toTest.join(opowtarget1)\n",
    "\n",
    "Xs, ys = X.iloc[:,:-1],X.iloc[:,-1]\n",
    "\n",
    "X_train = X.iloc[:8421]\n",
    "X_test = X.iloc[8421:]\n",
    "\n",
    "y_train = y.iloc[:8421]\n",
    "y_test = y.iloc[8421:]"
   ]
  },
  {
   "cell_type": "code",
   "execution_count": 115,
   "metadata": {},
   "outputs": [
    {
     "name": "stdout",
     "output_type": "stream",
     "text": [
      "LOG LOSS: 0.3552493404061355\n"
     ]
    }
   ],
   "source": [
    "hp = (98, 5, 8, 2)\n",
    "\n",
    "rf_model = RandomForestRegressor(n_estimators= hp[0], max_depth = 15, min_samples_split= hp[1], min_samples_leaf= hp[2], max_features=hp[3])\n",
    "rf_model.fit(X_train, y_train)\n",
    "preds1 = rf_model.predict(X_test)\n",
    "print(\"LOG LOSS:\", log_loss(y_test, preds1))\n"
   ]
  },
  {
   "cell_type": "code",
   "execution_count": 18,
   "metadata": {},
   "outputs": [],
   "source": [
    "import lightgbm as lgb\n",
    "import re"
   ]
  },
  {
   "cell_type": "code",
   "execution_count": 53,
   "metadata": {},
   "outputs": [
    {
     "name": "stdout",
     "output_type": "stream",
     "text": [
      "[LightGBM] [Warning] Auto-choosing col-wise multi-threading, the overhead of testing was 0.000957 seconds.\n",
      "You can set `force_col_wise=true` to remove the overhead.\n",
      "[LightGBM] [Info] Total Bins 1608\n",
      "[LightGBM] [Info] Number of data points in the train set: 9791, number of used features: 7\n",
      "[LightGBM] [Info] Start training from score 0.518027\n"
     ]
    }
   ],
   "source": [
    "X = X.rename(columns = lambda x:re.sub('[^A-Za-z0-9_]+', '', x))\n",
    "toTest = toTest.rename(columns = lambda x:re.sub('[^A-Za-z0-9_]+', '', x))\n",
    "X_train = X_train.rename(columns = lambda x:re.sub('[^A-Za-z0-9_]+', '', x))\n",
    "X_test = X_test.rename(columns = lambda x:re.sub('[^A-Za-z0-9_]+', '', x))\n",
    "\n",
    "\n",
    "\n",
    "lgb_train = lgb.Dataset(X, y)\n",
    "\n",
    "params = {\n",
    "    'objective': 'regression',\n",
    "    'metric': 'binary_logloss',\n",
    "    'max_depth': 25,\n",
    "    'learning_rate': 0.05,\n",
    "    'feature_fraction': 1,\n",
    "    'num_leaves': 15\n",
    "}\n",
    "\n",
    "gbm = lgb.train(params,\n",
    "                lgb_train,\n",
    "                num_boost_round=200)\n",
    "\n",
    "preds = gbm.predict(toTest, num_iteration=gbm.best_iteration)\n",
    "#rmse = log_loss(y_test, preds)\n",
    "#print(\"RMSE: %f\" % (rmse))"
   ]
  },
  {
   "cell_type": "code",
   "execution_count": 26,
   "metadata": {},
   "outputs": [],
   "source": [
    "aogrouped = train_set.groupby([\"Account_Owner\"]).agg({\"Territory\":\"count\"})\n",
    "oogrouped = train_set.groupby([\"Opportunity_Owner\"]).agg({\"Territory\":\"count\"}).reset_index()\n",
    "oogrouped.columns = [\"Opportunity_Owner\",\"Total ops\"]\n"
   ]
  },
  {
   "cell_type": "code",
   "execution_count": 223,
   "metadata": {},
   "outputs": [
    {
     "data": {
      "image/png": "[encoded data removed]",
      "text/plain": [
       "<Figure size 432x288 with 1 Axes>"
      ]
     },
     "metadata": {
      "needs_background": "light"
     },
     "output_type": "display_data"
    }
   ],
   "source": [
    "plt.barh(X.columns, rf_model.feature_importances_)\n",
    "plt.xlabel('Features')\n",
    "plt.ylabel('Importancia')\n",
    "plt.title('Importancia Features con RF')\n",
    "plt.show()"
   ]
  },
  {
   "cell_type": "code",
   "execution_count": 29,
   "metadata": {},
   "outputs": [
    {
     "name": "stdout",
     "output_type": "stream",
     "text": [
      "<class 'pandas.core.frame.DataFrame'>\n",
      "RangeIndex: 5 entries, 0 to 4\n",
      "Data columns (total 2 columns):\n",
      "Region         5 non-null object\n",
      "Region_mean    5 non-null float64\n",
      "dtypes: float64(1), object(1)\n",
      "memory usage: 160.0+ bytes\n"
     ]
    }
   ],
   "source": [
    "grouped.info()"
   ]
  },
  {
   "cell_type": "code",
   "execution_count": 46,
   "metadata": {},
   "outputs": [
    {
     "data": {
      "text/plain": [
       "(2551, 51)"
      ]
     },
     "execution_count": 46,
     "metadata": {},
     "output_type": "execute_result"
    }
   ],
   "source": [
    "test_set.shape"
   ]
  }
 ],
 "metadata": {
  "kernelspec": {
   "display_name": "Python 3",
   "language": "python",
   "name": "python3"
  },
  "language_info": {
   "codemirror_mode": {
    "name": "ipython",
    "version": 3
   },
   "file_extension": ".py",
   "mimetype": "text/x-python",
   "name": "python",
   "nbconvert_exporter": "python",
   "pygments_lexer": "ipython3",
   "version": "3.7.3"
  }
 },
 "nbformat": 4,
 "nbformat_minor": 2
}
