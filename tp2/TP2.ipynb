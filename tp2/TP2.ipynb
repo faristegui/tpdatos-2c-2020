{
 "cells": [
  {
   "cell_type": "code",
   "execution_count": null,
   "metadata": {
    "id": "5suYRdSVb7Hb"
   },
   "outputs": [],
   "source": [
    "!pip install CurrencyConverter\n",
    "!pip install catboost\n",
    "!pip install category_encoders\n",
    "from sklearn.ensemble import RandomForestRegressor\n",
    "from sklearn.metrics import mean_squared_error\n",
    "import pandas as pd\n",
    "import numpy as np\n",
    "%matplotlib inline\n",
    "import matplotlib.pyplot as plt\n",
    "from sklearn import tree\n",
    "from sklearn.metrics import log_loss\n",
    "from sklearn import preprocessing\n",
    "from sklearn.model_selection import train_test_split\n",
    "from currency_converter import CurrencyConverter\n",
    "from catboost import CatBoostRegressor\n",
    "import category_encoders as ce\n",
    "import seaborn as sns\n",
    "c = CurrencyConverter(fallback_on_missing_rate=True)"
   ]
  },
  {
   "cell_type": "code",
   "execution_count": null,
   "metadata": {
    "id": "tkd1UnQYb7Hk"
   },
   "outputs": [],
   "source": [
    "train_set = pd.read_csv(r'data/Train_TP2_Datos_2020-2C.csv')\n",
    "test_set = pd.read_csv(r'data/Test_TP2_Datos_2020-2C.csv')\n",
    "\n",
    "train_set = train_set[train_set[\"Stage\"].str.contains(\"Closed\")]"
   ]
  },
  {
   "cell_type": "code",
   "execution_count": null,
   "metadata": {
    "id": "u_qA9bwvb7Hn"
   },
   "outputs": [],
   "source": [
    "#Armo Target y limpio columnas\n",
    "\n",
    "train_set = train_set.drop(columns=[\"Sales_Contract_No\", \"Opportunity_Name\", \"Last_Modified_By\", \"Billing_Country\", \"ID\", \"Prod_Category_A\", \"Actual_Delivery_Date\" ])\n",
    "test_set = test_set.drop(columns=[\"Sales_Contract_No\", \"Opportunity_Name\", \"Last_Modified_By\", \"Billing_Country\", \"ID\", \"Prod_Category_A\" , \"Actual_Delivery_Date\" ])\n",
    "\n",
    "train_set['Last_Modified_Date']=pd.to_datetime(train_set['Last_Modified_Date'])\n",
    "test_set['Last_Modified_Date']=pd.to_datetime(test_set['Last_Modified_Date'])"
   ]
  },
  {
   "cell_type": "code",
   "execution_count": null,
   "metadata": {
    "id": "HDeT6ZLIb7Ho"
   },
   "outputs": [],
   "source": [
    "#PROCESO COLUMNAS DE TIEMPOS, FECHAS Y PRECIOS\n",
    "\n",
    "train_set[\"Opportunity_Created_Date\"] = pd.to_datetime(train_set[\"Opportunity_Created_Date\"], errors=\"coerce\")\n",
    "train_set[\"Account_Created_Date\"] = pd.to_datetime(train_set[\"Account_Created_Date\"], errors=\"coerce\")\n",
    "train_set[\"Quote_Expiry_Date\"] = pd.to_datetime(train_set[\"Quote_Expiry_Date\"], errors=\"coerce\")\n",
    "train_set[\"Last_Modified_Date\"] = pd.to_datetime(train_set[\"Last_Modified_Date\"], errors=\"coerce\")\n",
    "\n",
    "train_set['Total_Taxable_Amount_(converted)']= train_set.apply(lambda x: c.convert(x.Total_Taxable_Amount, x.Total_Taxable_Amount_Currency, 'USD', date=x.Last_Modified_Date), axis=1)\n",
    "\n",
    "train_set[\"Planned_Delivery_Start_Date\"] = pd.to_datetime(train_set[\"Planned_Delivery_Start_Date\"], errors=\"coerce\")\n",
    "train_set[\"Planned_Delivery_End_Date\"] = pd.to_datetime(train_set[\"Planned_Delivery_End_Date\"], errors=\"coerce\")\n",
    "delay = train_set['Planned_Delivery_Start_Date'].sub(train_set['Opportunity_Created_Date'], axis=0)/ np.timedelta64(1, 'D')\n",
    "train_set[\"Delivery_Delay\"] = [x if x > 0 else 0 for x in delay]\n",
    "\n",
    "\n",
    "duracionPresupuesto = train_set['Quote_Expiry_Date'].sub(train_set['Opportunity_Created_Date'], axis=0)/ np.timedelta64(1, 'D')\n",
    "train_set[\"duracionPresupuesto\"] = [x if x > 0 else 0 for x in duracionPresupuesto]\n",
    "\n",
    "duration = train_set['Last_Modified_Date'].sub(train_set['Opportunity_Created_Date'], axis=0)/ np.timedelta64(1, 'D')\n",
    "train_set[\"duration\"] = [x if x > 0 else 0 for x in duration]\n",
    "\n",
    "timeInSystem = np.floor(train_set[\"Opportunity_Created_Date\"].sub(train_set[\"Account_Created_Date\"], axis=0)/ np.timedelta64(1, 'D'))\n",
    "train_set[\"timeInSystem\"] = [x if x > 0 else 0 for x in timeInSystem]\n",
    "\n",
    "fromDate1 = min(train_set['Opportunity_Created_Date'])\n",
    "fromDate2 = min(train_set['Last_Modified_Date'])\n",
    "fromDate3 = min(train_set['Account_Created_Date'])\n",
    "\n",
    "train_set['Opportunity_Created_Date_delta'] = (train_set[\"Opportunity_Created_Date\"] - fromDate1).dt.days.astype(int)\n",
    "\n",
    "train_set.drop(columns= [\"Submitted_for_Approval\", \"Opportunity_Created_Date\", \"Total_Amount\",\\\n",
    "                         'Pricing, Delivery_Terms_Approved', 'Pricing, Delivery_Terms_Quote_Appr',\\\n",
    "                         'Bureaucratic_Code_0_Approval', 'Bureaucratic_Code_0_Approved',\\\n",
    "                         \"Planned_Delivery_Start_Date\",\"Planned_Delivery_End_Date\", \\\n",
    "                         \"Quote_Expiry_Date\", \"Last_Modified_Date\", \"Account_Created_Date\", \"Total_Taxable_Amount_Currency\", \\\n",
    "                        \"Total_Taxable_Amount\", \"ASP\", \"ASP_(converted)_Currency\", \\\n",
    "                        \"ASP_Currency\", \"Currency\"], inplace = True)\n",
    "\n",
    "#-----------------------------------------------\n",
    "#-----------------------------------------------\n",
    "#-----------------------------------------------\n",
    "#-----------------------------------------------\n",
    "\n",
    "\n",
    "test_set[\"Opportunity_Created_Date\"] = pd.to_datetime(test_set[\"Opportunity_Created_Date\"], errors=\"coerce\")\n",
    "test_set[\"Account_Created_Date\"] = pd.to_datetime(test_set[\"Account_Created_Date\"], errors=\"coerce\")\n",
    "test_set[\"Quote_Expiry_Date\"] = pd.to_datetime(test_set[\"Quote_Expiry_Date\"], errors=\"coerce\")\n",
    "test_set[\"Last_Modified_Date\"] = pd.to_datetime(test_set[\"Last_Modified_Date\"], errors=\"coerce\")\n",
    "\n",
    "test_set['Total_Taxable_Amount_(converted)']= test_set.apply(lambda x: c.convert(x.Total_Taxable_Amount, x.Total_Taxable_Amount_Currency, 'USD', date=x.Last_Modified_Date), axis=1)\n",
    "\n",
    "test_set[\"Planned_Delivery_Start_Date\"] = pd.to_datetime(test_set[\"Planned_Delivery_Start_Date\"], errors=\"coerce\")\n",
    "test_set[\"Planned_Delivery_End_Date\"] = pd.to_datetime(test_set[\"Planned_Delivery_End_Date\"], errors=\"coerce\")\n",
    "delay = test_set['Planned_Delivery_Start_Date'].sub(test_set['Opportunity_Created_Date'], axis=0)/ np.timedelta64(1, 'D')\n",
    "test_set[\"Delivery_Delay\"] = [x if x > 0 else 0 for x in delay]\n",
    "\n",
    "duracionPresupuesto = test_set['Quote_Expiry_Date'].sub(test_set['Opportunity_Created_Date'], axis=0)/ np.timedelta64(1, 'D')\n",
    "test_set[\"duracionPresupuesto\"] = [x if x > 0 else 0 for x in duracionPresupuesto]\n",
    "\n",
    "duration = test_set['Last_Modified_Date'].sub(test_set['Opportunity_Created_Date'], axis=0)/ np.timedelta64(1, 'D')\n",
    "test_set[\"duration\"] = [x if x > 0 else 0 for x in duration]\n",
    "\n",
    "timeInSystem = np.floor(test_set[\"Opportunity_Created_Date\"].sub(test_set[\"Account_Created_Date\"], axis=0)/ np.timedelta64(1, 'D'))\n",
    "test_set[\"timeInSystem\"] = [x if x > 0 else 0 for x in timeInSystem]\n",
    "\n",
    "test_set['Opportunity_Created_Date_delta'] = (test_set[\"Opportunity_Created_Date\"] - fromDate1).dt.days.astype(\"int64\")\n",
    "\n",
    "test_set.drop(columns= [ \"Submitted_for_Approval\", \"Opportunity_Created_Date\", \"Total_Amount\",\\\n",
    "                        'Pricing, Delivery_Terms_Approved', 'Pricing, Delivery_Terms_Quote_Appr',\\\n",
    "                        'Bureaucratic_Code_0_Approval', 'Bureaucratic_Code_0_Approved', \\\n",
    "                        \"Planned_Delivery_Start_Date\",\"Planned_Delivery_End_Date\", \\\n",
    "                         \"Quote_Expiry_Date\", \"Last_Modified_Date\", \"Account_Created_Date\", \"Total_Taxable_Amount_Currency\", \\\n",
    "                        \"Total_Taxable_Amount\", \"ASP\", \"ASP_(converted)_Currency\", \\\n",
    "                        \"ASP_Currency\", \"Currency\"], inplace = True)"
   ]
  },
  {
   "cell_type": "code",
   "execution_count": null,
   "metadata": {
    "id": "nYrIgK3ab7Ht"
   },
   "outputs": [],
   "source": [
    "#Agrupo por opportunity\n",
    "aux1 = train_set.groupby([\"Opportunity_ID\"]).agg({\"Territory\": \"count\", \"ASP_(converted)\": [\"sum\", \"mean\"], \"TRF\": [\"sum\", \"mean\"]}).reset_index()\n",
    "aux2 = test_set.groupby([\"Opportunity_ID\"]).agg({\"Territory\": \"count\", \"ASP_(converted)\": [\"sum\", \"mean\"], \"TRF\": [\"sum\", \"mean\"]}).reset_index()\n",
    "\n",
    "aux1.columns = [\"Opportunity_ID\", \"Products_Quantity\", \"ASP sum\", \"ASP mean\",  \"Total TRF\", \"TRF mean\"]\n",
    "aux2.columns = [\"Opportunity_ID\", \"Products_Quantity\", \"ASP sum\", \"ASP mean\", \"Total TRF\", \"TRF mean\"]\n",
    "train_set = train_set.drop_duplicates(subset=\"Opportunity_ID\")\n",
    "test_set = test_set.drop_duplicates(subset=\"Opportunity_ID\")\n",
    "\n",
    "train_set = train_set.merge(aux1, on=\"Opportunity_ID\")\n",
    "test_set = test_set.merge(aux2, on=\"Opportunity_ID\")\n",
    "\n",
    "opps = train_set.groupby([\"Account_Name\"]).agg({\"Territory\":\"count\"}).reset_index()\n",
    "opps.columns=[\"Account_Name\", \"Total Opportunities\"]\n",
    "train_set.merge(opps,on=\"Account_Name\", how=\"right\")\n",
    "\n",
    "train_set = train_set.drop(columns=[\"TRF\", \"ASP_(converted)\", \"Products_Quantity\"])\n",
    "test_set = test_set.drop(columns=[\"TRF\", \"ASP_(converted)\", \"Products_Quantity\"])\n"
   ]
  },
  {
   "cell_type": "code",
   "execution_count": null,
   "metadata": {
    "colab": {
     "base_uri": "https://localhost:8080/"
    },
    "executionInfo": {
     "elapsed": 862,
     "status": "ok",
     "timestamp": 1614875482835,
     "user": {
      "displayName": "Facundo Aristegui",
      "photoUrl": "https://lh3.googleusercontent.com/a-/AOh14GgD0h-da4hvfJSkC40Faf7l8Kvvmn38-cbCUQRQ=s64",
      "userId": "02084020625210732026"
     },
     "user_tz": 180
    },
    "id": "vo1vD2fsb7Hx",
    "outputId": "c97d7346-be6a-4a9d-ca63-38dfdd08e1f0"
   },
   "outputs": [
    {
     "name": "stderr",
     "output_type": "stream",
     "text": [
      "/usr/local/lib/python3.7/dist-packages/category_encoders/utils.py:21: FutureWarning: is_categorical is deprecated and will be removed in a future version.  Use is_categorical_dtype instead\n",
      "  elif pd.api.types.is_categorical(cols):\n",
      "/usr/local/lib/python3.7/dist-packages/category_encoders/utils.py:21: FutureWarning: is_categorical is deprecated and will be removed in a future version.  Use is_categorical_dtype instead\n",
      "  elif pd.api.types.is_categorical(cols):\n",
      "/usr/local/lib/python3.7/dist-packages/category_encoders/utils.py:21: FutureWarning: is_categorical is deprecated and will be removed in a future version.  Use is_categorical_dtype instead\n",
      "  elif pd.api.types.is_categorical(cols):\n"
     ]
    }
   ],
   "source": [
    "#Proceso las columnas categoricas\n",
    "\n",
    "from sklearn.preprocessing import OneHotEncoder\n",
    "import category_encoders as ce\n",
    "\n",
    "def crearLista (listadoCompleto):\n",
    "    listaReducida = []\n",
    "    for i in listadoCompleto:\n",
    "        if i not in listaReducida:\n",
    "            listaReducida.append(i)\n",
    "    listaReducida.sort()\n",
    "    return listaReducida\n",
    "\n",
    "def discretizar(columna,nombre, df):\n",
    "    listaReducida = crearLista(columna)\n",
    "    v = list(range(len(columna)))\n",
    "    listaCompleta = list(columna)\n",
    "    for i in listaReducida:\n",
    "        for j in range(len(listaCompleta)):\n",
    "            if(listaCompleta[j] == i):\n",
    "                v[j] = 1\n",
    "            else:\n",
    "                v[j] = 0\n",
    "        df[nombre+str(i)] = v\n",
    "\n",
    "\n",
    "train_set = train_set.sort_values(by=[\"Opportunity_Created_Date_delta\"], ascending=True)\n",
    "#MEAN\n",
    "stage_train = train_set.Stage\n",
    "train_set[\"Targetx\"] = [1 if x == \"Closed Won\" else 0 for x in stage_train]\n",
    "\n",
    "target_enc1 = ce.TargetEncoder(train_set[\"Region\"])\n",
    "target_enc1.fit(train_set[\"Region\"], train_set[\"Targetx\"])\n",
    "train_set = train_set.join(target_enc1.transform(train_set[\"Region\"]), rsuffix=\"_target\")\n",
    "\n",
    "target_enc3 = ce.TargetEncoder(train_set[\"Opportunity_Owner\"])\n",
    "target_enc3.fit(train_set[\"Opportunity_Owner\"], train_set[\"Targetx\"])\n",
    "train_set = train_set.join(target_enc3.transform(train_set[\"Opportunity_Owner\"]), rsuffix=\"_target\")\n",
    "\n",
    "target_enc4 = ce.TargetEncoder(train_set[\"Account_Owner\"])\n",
    "target_enc4.fit(train_set[\"Account_Owner\"], train_set[\"Targetx\"])\n",
    "train_set = train_set.join(target_enc4.transform(train_set[\"Account_Owner\"]), rsuffix=\"_target\")\n",
    "\n",
    "stage_train = train_set.Stage\n",
    "train_set[\"Target\"] = [1 if x == \"Closed Won\" else 0 for x in stage_train]\n",
    "train_set = train_set.drop(columns=[\"Stage\"])\n",
    "train_set = train_set.fillna(0)\n",
    "\n",
    "train_set = train_set.drop(columns=[\"Opportunity_ID\",\"Delivery_Year\", \"duracionPresupuesto\", \"Targetx\"])\n",
    "\n",
    "toTrain = train_set.select_dtypes(\"number\")\n",
    "\n",
    "#-----------------------------------------------------------\n",
    "#-----------------------------------------------------------\n",
    "#-----------------------------------------------------------\n",
    "#-----------------------------------------------------------\n",
    "#-----------------------------------------------------------\n",
    "\n",
    "test_set = test_set.join(target_enc1.transform(test_set[\"Region\"]), rsuffix=\"_target\")\n",
    "test_set = test_set.join(target_enc3.transform(test_set[\"Opportunity_Owner\"]), rsuffix=\"_target\")\n",
    "test_set = test_set.join(target_enc4.transform(test_set[\"Account_Owner\"]), rsuffix=\"_target\")\n",
    "\n",
    "test_set = test_set.fillna(0)\n",
    "test_set = test_set.sort_values(by=[\"Opportunity_Created_Date_delta\"], ascending=True)\n",
    "ids = test_set[\"Opportunity_ID\"]\n",
    "test_set = test_set.drop(columns=[\"Opportunity_ID\", \"Delivery_Year\", \"duracionPresupuesto\"])\n",
    "\n",
    "toTest = test_set.select_dtypes(\"number\")"
   ]
  },
  {
   "cell_type": "code",
   "execution_count": null,
   "metadata": {
    "id": "sn6C0CAeb7Hz"
   },
   "outputs": [],
   "source": [
    "X, y = toTrain.iloc[:,:-1],toTrain.iloc[:,-1]\n",
    "\n",
    "X_train = X.iloc[:8421]\n",
    "X_test = X.iloc[8421:]\n",
    "\n",
    "y_train = y.iloc[:8421]\n",
    "y_test = y.iloc[8421:]\n"
   ]
  },
  {
   "cell_type": "markdown",
   "metadata": {
    "id": "hekrCBetFFzb"
   },
   "source": [
    "# Random Forest Regressor"
   ]
  },
  {
   "cell_type": "code",
   "execution_count": null,
   "metadata": {
    "colab": {
     "base_uri": "https://localhost:8080/"
    },
    "executionInfo": {
     "elapsed": 1764,
     "status": "ok",
     "timestamp": 1614825170077,
     "user": {
      "displayName": "Facundo Aristegui",
      "photoUrl": "https://lh3.googleusercontent.com/a-/AOh14GgD0h-da4hvfJSkC40Faf7l8Kvvmn38-cbCUQRQ=s64",
      "userId": "02084020625210732026"
     },
     "user_tz": 180
    },
    "id": "i-fz-ksMb7Hz",
    "outputId": "d8e344ba-53eb-4150-e12e-a5e081a9394a",
    "scrolled": true
   },
   "outputs": [
    {
     "name": "stdout",
     "output_type": "stream",
     "text": [
      "LOG LOSS: 0.44758118931404084\n",
      "0.986339610451361\n",
      "0.040320482000224825\n"
     ]
    }
   ],
   "source": [
    "rmse = 0\n",
    "hp = (14, 5, 9, 2)\n",
    "rf_model = RandomForestRegressor(n_estimators= 96, max_depth = hp[0], min_samples_split= hp[1], min_samples_leaf= hp[2], max_features=hp[3])\n",
    "rf_model.fit(X_train, y_train)\n",
    "preds1 = rf_model.predict(X_test)\n",
    "print(\"LOG LOSS:\", log_loss(y_test, preds1))\n",
    "print(max(preds1))\n",
    "print(min(preds1))"
   ]
  },
  {
   "cell_type": "code",
   "execution_count": null,
   "metadata": {
    "id": "z6HtxAllb7H1"
   },
   "outputs": [],
   "source": [
    "best = 1\n",
    "a = [13, 14]\n",
    "for i in a:\n",
    "    for j in range(2, 5):\n",
    "            print(i, j)\n",
    "            for k in range(2, 7):\n",
    "                for r in range(2, 3):\n",
    "                    rmse = 0\n",
    "                    for s in range(2):\n",
    "                        rf_model = RandomForestRegressor(n_estimators= 98, max_depth = i, min_samples_split= j, min_samples_leaf= k, max_features=r)\n",
    "                        rf_model.fit(X_train, y_train)\n",
    "                        preds = rf_model.predict(X_test)\n",
    "                        rmse = rmse + log_loss(y_test, preds)\n",
    "                    rmse = rmse/2\n",
    "                    if (rmse < best):\n",
    "                        best = rmse\n",
    "                        print(best, (i, j, k, r))\n",
    "                        best_tuple = (i, j, k, r)\n",
    "print(\"RMSE: %f\" % (best))\n",
    "print(best_tuple)"
   ]
  },
  {
   "cell_type": "code",
   "execution_count": null,
   "metadata": {
    "colab": {
     "base_uri": "https://localhost:8080/"
    },
    "executionInfo": {
     "elapsed": 1699,
     "status": "ok",
     "timestamp": 1614825665495,
     "user": {
      "displayName": "Facundo Aristegui",
      "photoUrl": "https://lh3.googleusercontent.com/a-/AOh14GgD0h-da4hvfJSkC40Faf7l8Kvvmn38-cbCUQRQ=s64",
      "userId": "02084020625210732026"
     },
     "user_tz": 180
    },
    "id": "mdHEIegHb7H5",
    "outputId": "c8aa71b0-bf2f-4622-a824-9ac022e44ebe"
   },
   "outputs": [
    {
     "name": "stdout",
     "output_type": "stream",
     "text": [
      "LOG LOSS: 0.45002488187887507\n"
     ]
    }
   ],
   "source": [
    "hp = (98, 5, 8, 2)\n",
    "\n",
    "rf_model = RandomForestRegressor(n_estimators= hp[0], max_depth = 15, min_samples_split= hp[1], min_samples_leaf= hp[2], max_features=hp[3])\n",
    "rf_model.fit(X_train, y_train)\n",
    "preds = rf_model.predict(X_test)\n",
    "print(\"LOG LOSS:\", log_loss(y_test, preds))\n"
   ]
  },
  {
   "cell_type": "code",
   "execution_count": null,
   "metadata": {
    "id": "ObxSw36vGi73"
   },
   "outputs": [],
   "source": [
    "predsRF = rf_model.predict(toTest)\n",
    "\n",
    "predict_df = pd.DataFrame(data=ids)\n",
    "\n",
    "predict_df[\"Target\"] = predsRF\n",
    "\n",
    "predict_df.head()"
   ]
  },
  {
   "cell_type": "code",
   "execution_count": null,
   "metadata": {
    "id": "zxzLmP5gGi78"
   },
   "outputs": [],
   "source": [
    "predict_df.to_csv(\"resultado.csv\",index=False) "
   ]
  },
  {
   "cell_type": "code",
   "execution_count": null,
   "metadata": {
    "colab": {
     "base_uri": "https://localhost:8080/",
     "height": 883
    },
    "executionInfo": {
     "elapsed": 1654,
     "status": "ok",
     "timestamp": 1614826322409,
     "user": {
      "displayName": "Facundo Aristegui",
      "photoUrl": "https://lh3.googleusercontent.com/a-/AOh14GgD0h-da4hvfJSkC40Faf7l8Kvvmn38-cbCUQRQ=s64",
      "userId": "02084020625210732026"
     },
     "user_tz": 180
    },
    "id": "knb7Z-C2I7Ib",
    "outputId": "629e0ac5-4ba8-46d5-a9c6-ec708f014e63"
   },
   "outputs": [
    {
     "data": {
      "image/png": "[encoded data removed]",
      "text/plain": [
       "<Figure size 1000x1000 with 1 Axes>"
      ]
     },
     "metadata": {
      "tags": []
     },
     "output_type": "display_data"
    }
   ],
   "source": [
    "features = pd.DataFrame(index=X.columns)\n",
    "features['imp'] = rf_model.feature_importances_\n",
    "features = features.sort_values(['imp'], ascending = False)\n",
    "features\n",
    "\n",
    "plt.style.use('default')\n",
    "plt.rcParams['figure.figsize'] = (10, 10)\n",
    "sns.set(style=\"whitegrid\")\n",
    "\n",
    "g = sns.barplot(y=features.index, x=features.imp, \\\n",
    "                palette=sns.color_palette(\"Reds_d\", 10));\n",
    "\n",
    "g.set_title('Importancia de Features de Random Forest', fontsize=15);\n",
    "g.set_xlabel('Valor');\n",
    "g.set_ylabel('Feature');"
   ]
  },
  {
   "cell_type": "markdown",
   "metadata": {
    "id": "UaOV8J4GFRNX"
   },
   "source": [
    "# XGBoost"
   ]
  },
  {
   "cell_type": "code",
   "execution_count": null,
   "metadata": {
    "id": "ZwztUAr4b7H1"
   },
   "outputs": [],
   "source": [
    "!pip install xgboost\n",
    "import xgboost as xgb"
   ]
  },
  {
   "cell_type": "code",
   "execution_count": null,
   "metadata": {
    "colab": {
     "base_uri": "https://localhost:8080/"
    },
    "executionInfo": {
     "elapsed": 6682,
     "status": "ok",
     "timestamp": 1614825884935,
     "user": {
      "displayName": "Facundo Aristegui",
      "photoUrl": "https://lh3.googleusercontent.com/a-/AOh14GgD0h-da4hvfJSkC40Faf7l8Kvvmn38-cbCUQRQ=s64",
      "userId": "02084020625210732026"
     },
     "user_tz": 180
    },
    "id": "n42n9LH6b7H2",
    "outputId": "48351713-6c6b-49fa-ff00-ca36110a4519"
   },
   "outputs": [
    {
     "name": "stdout",
     "output_type": "stream",
     "text": [
      "0.99883085 0.0018545549\n"
     ]
    }
   ],
   "source": [
    "xg_reg = xgb.XGBRegressor(objective ='reg:logistic', \n",
    "colsample_bytree = 0.5, learning_rate = 0.1,\n",
    "max_depth = 30, alpha = 1.3, gamma = 0.15, n_estimators = 100)\n",
    "xg_reg.fit(X,y)\n",
    "preds2 = xg_reg.predict(toTest)\n",
    "\n",
    "xg_reg.fit(X_train,y_train)\n",
    "preds = xg_reg.predict(X_test)\n",
    "rmse = log_loss(y_test, preds)\n",
    "\n",
    "print(max(preds2), min(preds2))"
   ]
  },
  {
   "cell_type": "code",
   "execution_count": null,
   "metadata": {
    "colab": {
     "base_uri": "https://localhost:8080/"
    },
    "executionInfo": {
     "elapsed": 42828,
     "status": "ok",
     "timestamp": 1614825934848,
     "user": {
      "displayName": "Facundo Aristegui",
      "photoUrl": "https://lh3.googleusercontent.com/a-/AOh14GgD0h-da4hvfJSkC40Faf7l8Kvvmn38-cbCUQRQ=s64",
      "userId": "02084020625210732026"
     },
     "user_tz": 180
    },
    "id": "WloUvIntb7H2",
    "outputId": "ff226f97-7004-4310-8ba8-2fd099272f6f"
   },
   "outputs": [
    {
     "name": "stdout",
     "output_type": "stream",
     "text": [
      "83    0.334916\n",
      "Name: test-rmse-mean, dtype: float64\n"
     ]
    }
   ],
   "source": [
    "data_dmatrix = xgb.DMatrix(data=X,label=y)\n",
    "\n",
    "params = {\"objective\":\"reg:logistic\",'colsample_bytree': 0.3,\n",
    "          'learning_rate': 0.15, \"colsample_bytree\": 0.43, 'max_depth': 20, 'alpha': 1.6}\n",
    "\n",
    "cv_results = xgb.cv(dtrain=data_dmatrix, params=params, nfold=20,\n",
    "                    num_boost_round=100, early_stopping_rounds=10,\n",
    "                    metrics=\"rmse\", as_pandas=True, seed=123)\n",
    "print((cv_results[\"test-rmse-mean\"]).tail(1))"
   ]
  },
  {
   "cell_type": "code",
   "execution_count": null,
   "metadata": {
    "id": "2z3FG7tfb7H3"
   },
   "outputs": [],
   "source": [
    "ops = ids\n",
    "out = pd.DataFrame()\n",
    "out[\"Opportunity_ID\"] = ops\n",
    "out[\"Target\"] = preds2\n",
    "\n",
    "out.to_csv(r\"results.csv\")"
   ]
  },
  {
   "cell_type": "code",
   "execution_count": null,
   "metadata": {
    "colab": {
     "base_uri": "https://localhost:8080/",
     "height": 475
    },
    "executionInfo": {
     "elapsed": 1417,
     "status": "ok",
     "timestamp": 1614826048314,
     "user": {
      "displayName": "Facundo Aristegui",
      "photoUrl": "https://lh3.googleusercontent.com/a-/AOh14GgD0h-da4hvfJSkC40Faf7l8Kvvmn38-cbCUQRQ=s64",
      "userId": "02084020625210732026"
     },
     "user_tz": 180
    },
    "id": "2GJ9IC-jb7H3",
    "outputId": "4dff524b-5003-4b5a-a3b4-921eff9f359b"
   },
   "outputs": [
    {
     "data": {
      "text/plain": [
       "<matplotlib.axes._subplots.AxesSubplot at 0x7f736bbd7e10>"
      ]
     },
     "execution_count": 23,
     "metadata": {
      "tags": []
     },
     "output_type": "execute_result"
    },
    {
     "data": {
      "image/png": "[encoded data removed]",
      "text/plain": [
       "<Figure size 864x504 with 1 Axes>"
      ]
     },
     "metadata": {
      "needs_background": "light",
      "tags": []
     },
     "output_type": "display_data"
    }
   ],
   "source": [
    "plt.rcParams['figure.figsize'] = [12, 7]\n",
    "xgb.plot_importance(xg_reg)"
   ]
  },
  {
   "cell_type": "markdown",
   "metadata": {
    "id": "6bBjR86BucOC"
   },
   "source": [
    "# Grid Search & Random Search - Catboost Regressor"
   ]
  },
  {
   "cell_type": "code",
   "execution_count": null,
   "metadata": {
    "id": "LT28xw3x4LGR"
   },
   "outputs": [],
   "source": [
    "from sklearn.model_selection import GridSearchCV"
   ]
  },
  {
   "cell_type": "markdown",
   "metadata": {
    "id": "pQxJ5iXktH3q"
   },
   "source": [
    "### Random Search"
   ]
  },
  {
   "cell_type": "code",
   "execution_count": null,
   "metadata": {
    "id": "vmGebcyqstL2"
   },
   "outputs": [],
   "source": [
    "grid = {'learning_rate': [0.03, 0.1, 0.3],\n",
    "        'depth': [4, 6, 10],\n",
    "        'l2_leaf_reg': [1, 3, 5, 7, 9]}\n",
    "\n",
    "model = CatBoostRegressor()\n",
    "\n",
    "randomized_search_result = model.randomized_search(grid, X=X_train, y=y_train, plot=False)"
   ]
  },
  {
   "cell_type": "markdown",
   "metadata": {
    "id": "EGM4s38uv1rc"
   },
   "source": [
    "### Grid Search"
   ]
  },
  {
   "cell_type": "code",
   "execution_count": null,
   "metadata": {
    "id": "-Xv1qtdi3jse"
   },
   "outputs": [],
   "source": [
    "parameters = {'depth': [7,8,9], 'learning_rate' : [0.08, 0.09, 0.1, 0.12, 0.15, 0.2],'iterations': [50, 100, 120]}\n",
    "\n",
    "model = CatBoostRegressor()\n",
    "\n",
    "grid = GridSearchCV(estimator=model, param_grid = parameters, cv = 2, n_jobs=-1)\n",
    "\n",
    "grid.fit(X_train, y_train)"
   ]
  },
  {
   "cell_type": "code",
   "execution_count": null,
   "metadata": {
    "id": "B2GYoPIM44DI"
   },
   "outputs": [],
   "source": [
    "print(\"\\n The best parameters across ALL searched params:\\n\", grid.best_params_)"
   ]
  },
  {
   "cell_type": "code",
   "execution_count": null,
   "metadata": {
    "id": "Xlp53d95b7H3"
   },
   "outputs": [],
   "source": [
    "# Catboost regresor (Usando parámetros de Grid Search)\n",
    "\n",
    "model = CatBoostRegressor(iterations=100, learning_rate=0.1, depth=7)\n",
    "\n",
    "model.fit(X_train,y_train)\n",
    "\n",
    "preds = model.predict(X_test)\n",
    "\n",
    "logloss = log_loss(y_test, preds)\n",
    "print(\"Log loss: {:.2f}\".format(logloss))"
   ]
  },
  {
   "cell_type": "code",
   "execution_count": null,
   "metadata": {
    "id": "K4gyoW6hHXa7"
   },
   "outputs": [],
   "source": [
    "import seaborn as sns"
   ]
  },
  {
   "cell_type": "code",
   "execution_count": null,
   "metadata": {
    "colab": {
     "base_uri": "https://localhost:8080/"
    },
    "executionInfo": {
     "elapsed": 679,
     "status": "ok",
     "timestamp": 1614875831171,
     "user": {
      "displayName": "Facundo Aristegui",
      "photoUrl": "https://lh3.googleusercontent.com/a-/AOh14GgD0h-da4hvfJSkC40Faf7l8Kvvmn38-cbCUQRQ=s64",
      "userId": "02084020625210732026"
     },
     "user_tz": 180
    },
    "id": "aPJfX2HQKrTt",
    "outputId": "880c01d8-ab62-430b-e006-3298292ee62e"
   },
   "outputs": [
    {
     "data": {
      "text/plain": [
       "Index(['Total_Taxable_Amount_(converted)', 'Delivery_Delay', 'duration',\n",
       "       'timeInSystem', 'Opportunity_Created_Date_delta', 'ASP sum', 'ASP mean',\n",
       "       'Total TRF', 'TRF mean', 'Region_target', 'Opportunity_Owner_target',\n",
       "       'Account_Owner_target'],\n",
       "      dtype='object')"
      ]
     },
     "execution_count": 15,
     "metadata": {
      "tags": []
     },
     "output_type": "execute_result"
    }
   ],
   "source": [
    "X.columns"
   ]
  },
  {
   "cell_type": "code",
   "execution_count": null,
   "metadata": {
    "colab": {
     "base_uri": "https://localhost:8080/",
     "height": 883
    },
    "executionInfo": {
     "elapsed": 1245,
     "status": "ok",
     "timestamp": 1614876463351,
     "user": {
      "displayName": "Facundo Aristegui",
      "photoUrl": "https://lh3.googleusercontent.com/a-/AOh14GgD0h-da4hvfJSkC40Faf7l8Kvvmn38-cbCUQRQ=s64",
      "userId": "02084020625210732026"
     },
     "user_tz": 180
    },
    "id": "UQoAmLrbFrai",
    "outputId": "2f0b313c-eb3a-4e87-9290-52c7f33e0e1a"
   },
   "outputs": [
    {
     "data": {
      "image/png": "[encoded data removed]",
      "text/plain": [
       "<Figure size 1000x1000 with 1 Axes>"
      ]
     },
     "metadata": {
      "tags": []
     },
     "output_type": "display_data"
    }
   ],
   "source": [
    "features = pd.DataFrame(index=X.columns)\n",
    "features['imp'] = model.feature_importances_\n",
    "features = features.sort_values(['imp'], ascending = False)\n",
    "features\n",
    "\n",
    "plt.style.use('default')\n",
    "plt.rcParams['figure.figsize'] = (10, 10)\n",
    "sns.set(style=\"whitegrid\")\n",
    "\n",
    "g = sns.barplot(y=features.index, x=features.imp, \\\n",
    "                palette=sns.color_palette(\"Reds_d\", 10));\n",
    "\n",
    "g.set_title('Importancia de Features de CatBoost', fontsize=15);\n",
    "g.set_xlabel('Valor');\n",
    "g.set_ylabel('Feature');"
   ]
  },
  {
   "cell_type": "code",
   "execution_count": null,
   "metadata": {
    "id": "VfVAX6Pd7tS0"
   },
   "outputs": [],
   "source": [
    "model.fit(X, y)\n",
    "preds = model.predict(toTest)"
   ]
  },
  {
   "cell_type": "code",
   "execution_count": null,
   "metadata": {
    "id": "YJByTUTeHqTB"
   },
   "outputs": [],
   "source": [
    "len(preds)"
   ]
  },
  {
   "cell_type": "code",
   "execution_count": null,
   "metadata": {
    "colab": {
     "base_uri": "https://localhost:8080/",
     "height": 204
    },
    "executionInfo": {
     "elapsed": 778,
     "status": "ok",
     "timestamp": 1614876912906,
     "user": {
      "displayName": "Facundo Aristegui",
      "photoUrl": "https://lh3.googleusercontent.com/a-/AOh14GgD0h-da4hvfJSkC40Faf7l8Kvvmn38-cbCUQRQ=s64",
      "userId": "02084020625210732026"
     },
     "user_tz": 180
    },
    "id": "d7sadRkw8jl5",
    "outputId": "051368d8-3007-40dc-e0a0-ce3a9f8ce995"
   },
   "outputs": [
    {
     "data": {
      "text/html": [
       "<div>\n",
       "<style scoped>\n",
       "    .dataframe tbody tr th:only-of-type {\n",
       "        vertical-align: middle;\n",
       "    }\n",
       "\n",
       "    .dataframe tbody tr th {\n",
       "        vertical-align: top;\n",
       "    }\n",
       "\n",
       "    .dataframe thead th {\n",
       "        text-align: right;\n",
       "    }\n",
       "</style>\n",
       "<table border=\"1\" class=\"dataframe\">\n",
       "  <thead>\n",
       "    <tr style=\"text-align: right;\">\n",
       "      <th></th>\n",
       "      <th>Opportunity_ID</th>\n",
       "      <th>Target</th>\n",
       "    </tr>\n",
       "  </thead>\n",
       "  <tbody>\n",
       "    <tr>\n",
       "      <th>423</th>\n",
       "      <td>11223</td>\n",
       "      <td>0.994957</td>\n",
       "    </tr>\n",
       "    <tr>\n",
       "      <th>422</th>\n",
       "      <td>11222</td>\n",
       "      <td>0.788138</td>\n",
       "    </tr>\n",
       "    <tr>\n",
       "      <th>424</th>\n",
       "      <td>11224</td>\n",
       "      <td>0.966119</td>\n",
       "    </tr>\n",
       "    <tr>\n",
       "      <th>425</th>\n",
       "      <td>11225</td>\n",
       "      <td>0.511207</td>\n",
       "    </tr>\n",
       "    <tr>\n",
       "      <th>426</th>\n",
       "      <td>11226</td>\n",
       "      <td>0.673455</td>\n",
       "    </tr>\n",
       "  </tbody>\n",
       "</table>\n",
       "</div>"
      ],
      "text/plain": [
       "     Opportunity_ID    Target\n",
       "423           11223  0.994957\n",
       "422           11222  0.788138\n",
       "424           11224  0.966119\n",
       "425           11225  0.511207\n",
       "426           11226  0.673455"
      ]
     },
     "execution_count": 38,
     "metadata": {
      "tags": []
     },
     "output_type": "execute_result"
    }
   ],
   "source": [
    "predict_df = pd.DataFrame(data=ids)\n",
    "\n",
    "predict_df[\"Target\"] = preds\n",
    "\n",
    "predict_df.head()"
   ]
  },
  {
   "cell_type": "code",
   "execution_count": null,
   "metadata": {
    "id": "j98wYHZN9Itc"
   },
   "outputs": [],
   "source": [
    "predict_df.to_csv(\"resultado.csv\",index=False) "
   ]
  },
  {
   "cell_type": "markdown",
   "metadata": {
    "id": "GLcb6LGk_QNG"
   },
   "source": [
    "# Set de datos reducido"
   ]
  },
  {
   "cell_type": "code",
   "execution_count": null,
   "metadata": {
    "id": "yPnmUpkCb7H4"
   },
   "outputs": [],
   "source": [
    "duration = train_set[\"duration\"]\n",
    "tys = train_set[\"timeInSystem\"]\n",
    "deliveryDelay = train_set[\"Delivery_Delay\"]\n",
    "ttac = train_set[\"Total_Taxable_Amount_(converted)\"]\n",
    "ocd = train_set[\"Opportunity_Created_Date_delta\"]\n",
    "ttrf = train_set[\"Total TRF\"]\n",
    "trfm = train_set[\"TRF mean\"]\n",
    "asps = train_set[\"ASP sum\"]\n",
    "\n",
    "duration1 = test_set[\"duration\"]\n",
    "tys1 = test_set[\"timeInSystem\"]\n",
    "deliveryDelay1 = test_set[\"Delivery_Delay\"]\n",
    "ttac1 = test_set[\"Total_Taxable_Amount_(converted)\"]\n",
    "ocd1 = test_set[\"Opportunity_Created_Date_delta\"]\n",
    "ttrf1 = test_set[\"Total TRF\"]\n",
    "trfm1 = test_set[\"TRF mean\"]\n",
    "asps1 = test_set[\"ASP sum\"]\n",
    "\n",
    "y = train_set[\"Target\"]\n",
    "\n",
    "\n",
    "X = pd.DataFrame(duration)\n",
    "X = X.join(tys)\n",
    "\n",
    "X = X.join(ttrf)\n",
    "X = X.join(trfm)\n",
    "X = X.join(deliveryDelay)\n",
    "X = X.join(ttac)\n",
    "X = X.join(ocd)\n",
    "\n",
    "\n",
    "toTest = pd.DataFrame(duration1)\n",
    "toTest = toTest.join(tys1)\n",
    "\n",
    "toTest = toTest.join(ttrf1)\n",
    "toTest = toTest.join(trfm1)\n",
    "toTest = toTest.join(deliveryDelay1)\n",
    "toTest = toTest.join(ttac1)\n",
    "toTest = toTest.join(ocd1)\n",
    "\n",
    "Xs, ys = X.iloc[:,:-1],X.iloc[:,-1]\n",
    "\n",
    "X_train = X.iloc[:8421]\n",
    "X_test = X.iloc[8421:]\n",
    "\n",
    "y_train = y.iloc[:8421]\n",
    "y_test = y.iloc[8421:]"
   ]
  },
  {
   "cell_type": "markdown",
   "metadata": {
    "id": "49SAXWz9HfBH"
   },
   "source": [
    "# CatBoost Grid Search para set reducido"
   ]
  },
  {
   "cell_type": "code",
   "execution_count": null,
   "metadata": {
    "id": "u_GKY1B9wZDL"
   },
   "outputs": [],
   "source": [
    "parameters = {'depth': [7,8,9], 'learning_rate' : [0.07, 0.08, 0.09, 0.1, 0.12],'iterations': [30, 40, 50, 60, 100, 120]}\n",
    "\n",
    "model = CatBoostRegressor()\n",
    "\n",
    "grid = GridSearchCV(estimator=model, param_grid = parameters, cv = 2, n_jobs=-1)\n",
    "\n",
    "grid.fit(X_train, y_train)"
   ]
  },
  {
   "cell_type": "code",
   "execution_count": null,
   "metadata": {
    "colab": {
     "base_uri": "https://localhost:8080/"
    },
    "executionInfo": {
     "elapsed": 780,
     "status": "ok",
     "timestamp": 1614810269006,
     "user": {
      "displayName": "Facundo Aristegui",
      "photoUrl": "https://lh3.googleusercontent.com/a-/AOh14GgD0h-da4hvfJSkC40Faf7l8Kvvmn38-cbCUQRQ=s64",
      "userId": "02084020625210732026"
     },
     "user_tz": 180
    },
    "id": "ReYowROkwZDQ",
    "outputId": "8206c162-011f-4293-bbe0-1392901c36ea"
   },
   "outputs": [
    {
     "name": "stdout",
     "output_type": "stream",
     "text": [
      "\n",
      " The best parameters across ALL searched params:\n",
      " {'depth': 7, 'iterations': 40, 'learning_rate': 0.09}\n"
     ]
    }
   ],
   "source": [
    "print(\"\\n The best parameters across ALL searched params:\\n\", grid.best_params_)"
   ]
  },
  {
   "cell_type": "code",
   "execution_count": null,
   "metadata": {
    "colab": {
     "base_uri": "https://localhost:8080/"
    },
    "executionInfo": {
     "elapsed": 622,
     "status": "ok",
     "timestamp": 1614810271535,
     "user": {
      "displayName": "Facundo Aristegui",
      "photoUrl": "https://lh3.googleusercontent.com/a-/AOh14GgD0h-da4hvfJSkC40Faf7l8Kvvmn38-cbCUQRQ=s64",
      "userId": "02084020625210732026"
     },
     "user_tz": 180
    },
    "id": "vtzxq9KU4Pzh",
    "outputId": "c78497e5-08a7-48da-e74e-e95d10835e97"
   },
   "outputs": [
    {
     "name": "stdout",
     "output_type": "stream",
     "text": [
      "\n",
      " The best score across ALL searched params:\n",
      " 0.3382677417764442\n"
     ]
    }
   ],
   "source": [
    "print(\"\\n The best score across ALL searched params:\\n\", grid.best_score_)"
   ]
  },
  {
   "cell_type": "code",
   "execution_count": null,
   "metadata": {
    "id": "85P9o9dY9v-D"
   },
   "outputs": [],
   "source": [
    "# Catboost regresor (Usando parámetros de Grid Search)\n",
    "\n",
    "model = CatBoostRegressor(iterations=40, learning_rate=0.09, depth=7)\n",
    "\n",
    "model.fit(X_train,y_train)\n",
    "\n",
    "preds = model.predict(X_test)\n",
    "\n",
    "logloss = log_loss(y_test, preds)\n",
    "print(\"Log loss: {:.2f}\".format(logloss))"
   ]
  },
  {
   "cell_type": "code",
   "execution_count": null,
   "metadata": {
    "id": "jES-Iw139v-g"
   },
   "outputs": [],
   "source": [
    "model.fit(X, y)\n",
    "preds = model.predict(toTest)"
   ]
  },
  {
   "cell_type": "code",
   "execution_count": null,
   "metadata": {
    "colab": {
     "base_uri": "https://localhost:8080/",
     "height": 883
    },
    "executionInfo": {
     "elapsed": 1325,
     "status": "ok",
     "timestamp": 1614810664169,
     "user": {
      "displayName": "Facundo Aristegui",
      "photoUrl": "https://lh3.googleusercontent.com/a-/AOh14GgD0h-da4hvfJSkC40Faf7l8Kvvmn38-cbCUQRQ=s64",
      "userId": "02084020625210732026"
     },
     "user_tz": 180
    },
    "id": "HOelBQSWH71r",
    "outputId": "1a481a83-0aef-4fa2-e2e0-8b52089c67d9"
   },
   "outputs": [
    {
     "data": {
      "image/png": "[encoded data removed]",
      "text/plain": [
       "<Figure size 1000x1000 with 1 Axes>"
      ]
     },
     "metadata": {
      "tags": []
     },
     "output_type": "display_data"
    }
   ],
   "source": [
    "# Feature importance Set reducido\n",
    "features = pd.DataFrame(index=X.columns)\n",
    "features['imp'] = model.feature_importances_\n",
    "features = features.sort_values(['imp'], ascending = False)\n",
    "features\n",
    "\n",
    "plt.style.use('default')\n",
    "plt.rcParams['figure.figsize'] = (10, 10)\n",
    "sns.set(style=\"whitegrid\")\n",
    "\n",
    "g = sns.barplot(y=features.index, x=features.imp, \\\n",
    "                palette=sns.color_palette(\"Reds_d\", 10));\n",
    "\n",
    "g.set_title('Importancia de Features de CatBoost', fontsize=15);\n",
    "g.set_xlabel('Valor');\n",
    "g.set_ylabel('Feature');"
   ]
  },
  {
   "cell_type": "code",
   "execution_count": null,
   "metadata": {
    "id": "idx5HZ749v-g"
   },
   "outputs": [],
   "source": [
    "predict_df = pd.DataFrame(data=ids)\n",
    "\n",
    "predict_df[\"Target\"] = preds\n",
    "\n",
    "predict_df.head()"
   ]
  },
  {
   "cell_type": "code",
   "execution_count": null,
   "metadata": {
    "id": "n386t9LhA6D0"
   },
   "outputs": [],
   "source": [
    "predict_df.to_csv(\"resultadoSetReducido.csv\",index=False)"
   ]
  },
  {
   "cell_type": "markdown",
   "metadata": {
    "id": "4y4eJgRDHmjc"
   },
   "source": [
    "# Random Forest para set reducido"
   ]
  },
  {
   "cell_type": "code",
   "execution_count": null,
   "metadata": {
    "colab": {
     "base_uri": "https://localhost:8080/"
    },
    "executionInfo": {
     "elapsed": 1545,
     "status": "ok",
     "timestamp": 1614826512767,
     "user": {
      "displayName": "Facundo Aristegui",
      "photoUrl": "https://lh3.googleusercontent.com/a-/AOh14GgD0h-da4hvfJSkC40Faf7l8Kvvmn38-cbCUQRQ=s64",
      "userId": "02084020625210732026"
     },
     "user_tz": 180
    },
    "id": "IyIWKfGhHvIQ",
    "outputId": "34e87613-8ab9-4231-ee0b-bdc75c4a329b"
   },
   "outputs": [
    {
     "name": "stdout",
     "output_type": "stream",
     "text": [
      "LOG LOSS: 0.45797828474293606\n"
     ]
    }
   ],
   "source": [
    "hp = (98, 5, 8, 2)\n",
    "\n",
    "rf_model = RandomForestRegressor(n_estimators= hp[0], max_depth = 15, min_samples_split= hp[1], min_samples_leaf= hp[2], max_features=hp[3])\n",
    "rf_model.fit(X_train, y_train)\n",
    "preds = rf_model.predict(X_test)\n",
    "print(\"LOG LOSS:\", log_loss(y_test, preds))\n"
   ]
  },
  {
   "cell_type": "code",
   "execution_count": null,
   "metadata": {
    "colab": {
     "base_uri": "https://localhost:8080/",
     "height": 204
    },
    "executionInfo": {
     "elapsed": 958,
     "status": "ok",
     "timestamp": 1614826515766,
     "user": {
      "displayName": "Facundo Aristegui",
      "photoUrl": "https://lh3.googleusercontent.com/a-/AOh14GgD0h-da4hvfJSkC40Faf7l8Kvvmn38-cbCUQRQ=s64",
      "userId": "02084020625210732026"
     },
     "user_tz": 180
    },
    "id": "JrKsERRWHvIj",
    "outputId": "09e6ab6e-9482-4ee5-9b78-063efc2e50bc"
   },
   "outputs": [
    {
     "data": {
      "text/html": [
       "<div>\n",
       "<style scoped>\n",
       "    .dataframe tbody tr th:only-of-type {\n",
       "        vertical-align: middle;\n",
       "    }\n",
       "\n",
       "    .dataframe tbody tr th {\n",
       "        vertical-align: top;\n",
       "    }\n",
       "\n",
       "    .dataframe thead th {\n",
       "        text-align: right;\n",
       "    }\n",
       "</style>\n",
       "<table border=\"1\" class=\"dataframe\">\n",
       "  <thead>\n",
       "    <tr style=\"text-align: right;\">\n",
       "      <th></th>\n",
       "      <th>Opportunity_ID</th>\n",
       "      <th>Target</th>\n",
       "    </tr>\n",
       "  </thead>\n",
       "  <tbody>\n",
       "    <tr>\n",
       "      <th>423</th>\n",
       "      <td>11223</td>\n",
       "      <td>0.533289</td>\n",
       "    </tr>\n",
       "    <tr>\n",
       "      <th>422</th>\n",
       "      <td>11222</td>\n",
       "      <td>0.890009</td>\n",
       "    </tr>\n",
       "    <tr>\n",
       "      <th>424</th>\n",
       "      <td>11224</td>\n",
       "      <td>0.523707</td>\n",
       "    </tr>\n",
       "    <tr>\n",
       "      <th>425</th>\n",
       "      <td>11225</td>\n",
       "      <td>0.643797</td>\n",
       "    </tr>\n",
       "    <tr>\n",
       "      <th>426</th>\n",
       "      <td>11226</td>\n",
       "      <td>0.491670</td>\n",
       "    </tr>\n",
       "  </tbody>\n",
       "</table>\n",
       "</div>"
      ],
      "text/plain": [
       "     Opportunity_ID    Target\n",
       "423           11223  0.533289\n",
       "422           11222  0.890009\n",
       "424           11224  0.523707\n",
       "425           11225  0.643797\n",
       "426           11226  0.491670"
      ]
     },
     "execution_count": 31,
     "metadata": {
      "tags": []
     },
     "output_type": "execute_result"
    }
   ],
   "source": [
    "predsRF = rf_model.predict(toTest)\n",
    "\n",
    "predict_df = pd.DataFrame(data=ids)\n",
    "\n",
    "predict_df[\"Target\"] = predsRF\n",
    "\n",
    "predict_df.head()"
   ]
  },
  {
   "cell_type": "code",
   "execution_count": null,
   "metadata": {
    "id": "o3p5h0WuHvIk"
   },
   "outputs": [],
   "source": [
    "predict_df.to_csv(\"resultadoRF-Reducido.csv\",index=False) "
   ]
  },
  {
   "cell_type": "code",
   "execution_count": null,
   "metadata": {
    "colab": {
     "base_uri": "https://localhost:8080/",
     "height": 883
    },
    "executionInfo": {
     "elapsed": 1872,
     "status": "ok",
     "timestamp": 1614826581388,
     "user": {
      "displayName": "Facundo Aristegui",
      "photoUrl": "https://lh3.googleusercontent.com/a-/AOh14GgD0h-da4hvfJSkC40Faf7l8Kvvmn38-cbCUQRQ=s64",
      "userId": "02084020625210732026"
     },
     "user_tz": 180
    },
    "id": "CeDK1cyvKZfo",
    "outputId": "9bf7190a-c873-424d-91fd-a92ae459171c"
   },
   "outputs": [
    {
     "data": {
      "image/png": "[encoded data removed]",
      "text/plain": [
       "<Figure size 1000x1000 with 1 Axes>"
      ]
     },
     "metadata": {
      "tags": []
     },
     "output_type": "display_data"
    }
   ],
   "source": [
    "# Feature importance Set reducido Random Forest\n",
    "features = pd.DataFrame(index=X.columns)\n",
    "features['imp'] = rf_model.feature_importances_\n",
    "features = features.sort_values(['imp'], ascending = False)\n",
    "features\n",
    "\n",
    "plt.style.use('default')\n",
    "plt.rcParams['figure.figsize'] = (10, 10)\n",
    "sns.set(style=\"whitegrid\")\n",
    "\n",
    "g = sns.barplot(y=features.index, x=features.imp, \\\n",
    "                palette=sns.color_palette(\"Reds_d\", 10));\n",
    "\n",
    "g.set_title('Importancia de Features de CatBoost', fontsize=15);\n",
    "g.set_xlabel('Valor');\n",
    "g.set_ylabel('Feature');"
   ]
  },
  {
   "cell_type": "markdown",
   "metadata": {
    "id": "WBP2WPNWQD9H"
   },
   "source": [
    "## LightGBM"
   ]
  },
  {
   "cell_type": "code",
   "execution_count": null,
   "metadata": {
    "id": "Z3EMozLTb7H5"
   },
   "outputs": [],
   "source": [
    "import lightgbm as lgb\n",
    "import re"
   ]
  },
  {
   "cell_type": "code",
   "execution_count": null,
   "metadata": {
    "colab": {
     "base_uri": "https://localhost:8080/"
    },
    "executionInfo": {
     "elapsed": 790,
     "status": "ok",
     "timestamp": 1614827187732,
     "user": {
      "displayName": "Facundo Aristegui",
      "photoUrl": "https://lh3.googleusercontent.com/a-/AOh14GgD0h-da4hvfJSkC40Faf7l8Kvvmn38-cbCUQRQ=s64",
      "userId": "02084020625210732026"
     },
     "user_tz": 180
    },
    "id": "xv6RUUIjb7H5",
    "outputId": "59f9b97a-4a58-4065-90a2-76eb593319be"
   },
   "outputs": [
    {
     "name": "stdout",
     "output_type": "stream",
     "text": [
      "Log Loss: 0.344101\n"
     ]
    }
   ],
   "source": [
    "X = X.rename(columns = lambda x:re.sub('[^A-Za-z0-9_]+', '', x))\n",
    "toTest = toTest.rename(columns = lambda x:re.sub('[^A-Za-z0-9_]+', '', x))\n",
    "X_train = X_train.rename(columns = lambda x:re.sub('[^A-Za-z0-9_]+', '', x))\n",
    "X_test = X_test.rename(columns = lambda x:re.sub('[^A-Za-z0-9_]+', '', x))\n",
    "\n",
    "\n",
    "\n",
    "lgb_train = lgb.Dataset(X, y)\n",
    "\n",
    "params = {\n",
    "    'objective': 'regression',\n",
    "    'metric': 'binary_logloss',\n",
    "    'max_depth': 25,\n",
    "    'learning_rate': 0.05,\n",
    "    'feature_fraction': 1,\n",
    "    'num_leaves': 15\n",
    "}\n",
    "\n",
    "gbm = lgb.train(params,\n",
    "                lgb_train,\n",
    "                num_boost_round=200)\n",
    "\n",
    "preds = gbm.predict(X_test, num_iteration=gbm.best_iteration)\n",
    "Logloss = log_loss(y_test, preds)\n",
    "print(\"Log Loss: %f\" % (Logloss))"
   ]
  },
  {
   "cell_type": "code",
   "execution_count": null,
   "metadata": {
    "colab": {
     "base_uri": "https://localhost:8080/",
     "height": 204
    },
    "executionInfo": {
     "elapsed": 877,
     "status": "ok",
     "timestamp": 1614827316065,
     "user": {
      "displayName": "Facundo Aristegui",
      "photoUrl": "https://lh3.googleusercontent.com/a-/AOh14GgD0h-da4hvfJSkC40Faf7l8Kvvmn38-cbCUQRQ=s64",
      "userId": "02084020625210732026"
     },
     "user_tz": 180
    },
    "id": "ns5zShgSM74E",
    "outputId": "b45fdd14-e607-4f0d-9ce8-d22dd31855ae"
   },
   "outputs": [
    {
     "data": {
      "text/html": [
       "<div>\n",
       "<style scoped>\n",
       "    .dataframe tbody tr th:only-of-type {\n",
       "        vertical-align: middle;\n",
       "    }\n",
       "\n",
       "    .dataframe tbody tr th {\n",
       "        vertical-align: top;\n",
       "    }\n",
       "\n",
       "    .dataframe thead th {\n",
       "        text-align: right;\n",
       "    }\n",
       "</style>\n",
       "<table border=\"1\" class=\"dataframe\">\n",
       "  <thead>\n",
       "    <tr style=\"text-align: right;\">\n",
       "      <th></th>\n",
       "      <th>Opportunity_ID</th>\n",
       "      <th>Target</th>\n",
       "    </tr>\n",
       "  </thead>\n",
       "  <tbody>\n",
       "    <tr>\n",
       "      <th>423</th>\n",
       "      <td>11223</td>\n",
       "      <td>0.795781</td>\n",
       "    </tr>\n",
       "    <tr>\n",
       "      <th>422</th>\n",
       "      <td>11222</td>\n",
       "      <td>0.788633</td>\n",
       "    </tr>\n",
       "    <tr>\n",
       "      <th>424</th>\n",
       "      <td>11224</td>\n",
       "      <td>0.799863</td>\n",
       "    </tr>\n",
       "    <tr>\n",
       "      <th>425</th>\n",
       "      <td>11225</td>\n",
       "      <td>0.561752</td>\n",
       "    </tr>\n",
       "    <tr>\n",
       "      <th>426</th>\n",
       "      <td>11226</td>\n",
       "      <td>0.645272</td>\n",
       "    </tr>\n",
       "  </tbody>\n",
       "</table>\n",
       "</div>"
      ],
      "text/plain": [
       "     Opportunity_ID    Target\n",
       "423           11223  0.795781\n",
       "422           11222  0.788633\n",
       "424           11224  0.799863\n",
       "425           11225  0.561752\n",
       "426           11226  0.645272"
      ]
     },
     "execution_count": 38,
     "metadata": {
      "tags": []
     },
     "output_type": "execute_result"
    }
   ],
   "source": [
    "predsLGBM = gbm.predict(toTest)\n",
    "\n",
    "predict_lgbm = pd.DataFrame(data=ids)\n",
    "\n",
    "predict_df[\"Target\"] = predsLGBM\n",
    "\n",
    "predict_df.head()"
   ]
  },
  {
   "cell_type": "code",
   "execution_count": null,
   "metadata": {
    "id": "-fH0Pud9NdLG"
   },
   "outputs": [],
   "source": [
    "predict_df.to_csv(\"resultadoLGBM.csv\",index=False) "
   ]
  },
  {
   "cell_type": "markdown",
   "metadata": {},
   "source": [
    "## Redes Neuronales"
   ]
  },
  {
   "cell_type": "code",
   "execution_count": null,
   "metadata": {},
   "outputs": [],
   "source": [
    "import tensorflow as tf\n",
    "import keras\n",
    "from keras.models import Sequential\n",
    "from keras.layers import Dense, Embedding, LSTM, Dropout, Flatten, Bidirectional, MaxPooling1D, Conv1D"
   ]
  },
  {
   "cell_type": "code",
   "execution_count": null,
   "metadata": {},
   "outputs": [],
   "source": [
    "#Modelo con capas dense + Maxpooling\n",
    "print(X_train.shape)\n",
    "model1 = Sequential()\n",
    "model1.add(Dense(1000,activation='sigmoid',input_shape=(20,)))\n",
    "model1.add(Dropout(0.2))\n",
    "model1.add(Dense(700,activation='sigmoid'))\n",
    "model1.add(tf.keras.layers.Reshape((700,1)))\n",
    "model1.add(MaxPooling1D(pool_size=8, padding='same', data_format='channels_first'))\n",
    "model1.add(Flatten())\n",
    "model1.add(tf.keras.layers.Reshape(( 700,1)))\n",
    "model1.add(MaxPooling1D(pool_size=3, padding='same', data_format='channels_first'))\n",
    "model1.add(Flatten())\n",
    "model1.add(Dense(200,activation='sigmoid'))\n",
    "model1.add(Dropout(0.2))\n",
    "model1.add(Dense(1,activation='sigmoid'))\n",
    "model1.compile(loss ='binary_crossentropy', optimizer='rmsprop',metrics = ['accuracy'])\n",
    "print(model1.summary())\n",
    "model1.build()"
   ]
  },
  {
   "cell_type": "code",
   "execution_count": null,
   "metadata": {},
   "outputs": [],
   "source": [
    "#Modelo con capas Dense + LSTM + Maxpooling\n",
    "model2 = Sequential()\n",
    "model2.add(Dense(1000,activation='sigmoid',input_shape=(20,)))\n",
    "model2.add(Dropout(0.2))\n",
    "model2.add(Dense(700,activation='sigmoid'))\n",
    "model2.add(tf.keras.layers.Reshape((700,1)))\n",
    "model2.add(MaxPooling1D(pool_size=8, padding='same', data_format='channels_first'))\n",
    "model2.add(Flatten())\n",
    "model2.add(tf.keras.layers.Reshape(( 700,1)))\n",
    "model2.add(MaxPooling1D(pool_size=3, padding='same', data_format='channels_first'))\n",
    "model2.add(Flatten())\n",
    "model2.add(Dense(200,activation='sigmoid'))\n",
    "model2.add(Dropout(0.2))\n",
    "model2.add(Dense(1,activation='sigmoid'))\n",
    "model2.compile(loss ='binary_crossentropy', optimizer='rmsprop',metrics = ['accuracy'])\n",
    "print(model2.summary())\n",
    "model2.build()"
   ]
  },
  {
   "cell_type": "code",
   "execution_count": null,
   "metadata": {},
   "outputs": [],
   "source": [
    "#Modelo con capas Dense + Conv1D\n",
    "model3 = Sequential()\n",
    "model3.add(Dense(1000,activation='sigmoid',input_shape=(20,)))\n",
    "model3.add(Dropout(0.2))\n",
    "model3.add(Dense(500,activation='sigmoid'))\n",
    "model3.add(Flatten())\n",
    "model3.add(tf.keras.layers.Reshape(( 1,500)))\n",
    "model3.add(Conv1D(1000, 2, 10, padding='same', activation='relu'))\n",
    "model3.add(Flatten())\n",
    "model3.add(Dense(500,activation='sigmoid'))\n",
    "model3.add(Dropout(0.2))\n",
    "model3.add(tf.keras.layers.Reshape((1,500)))\n",
    "model3.add(MaxPooling1D(pool_size=10, padding='same', data_format='channels_last'))\n",
    "model3.add(Flatten())\n",
    "model3.add(Dropout(0.2))\n",
    "model3.add(Dense(1,activation='sigmoid'))\n",
    "model3.compile(loss ='binary_crossentropy', optimizer='rmsprop',metrics = ['accuracy'])\n",
    "print(model3.summary())\n",
    "model3.build()"
   ]
  },
  {
   "cell_type": "code",
   "execution_count": null,
   "metadata": {},
   "outputs": [],
   "source": [
    "batch_size = 20"
   ]
  },
  {
   "cell_type": "code",
   "execution_count": null,
   "metadata": {},
   "outputs": [],
   "source": [
    "minloss = 16\n",
    "minep = 0\n",
    "for ep in (5, 50, 5):\n",
    "    model.fit(X_train,y_train, batch_size = batch_size, epochs = ep, verbose=0)\n",
    "    pred = model.predict(X_test).tolist()\n",
    "    loss = log_loss(y_test, pred)\n",
    "    print(\"epochs: \", ep, \"loss:\", loss)\n",
    "    if (loss < minloss):\n",
    "        minloss = loss\n",
    "        minep = ep"
   ]
  },
  {
   "cell_type": "code",
   "execution_count": null,
   "metadata": {},
   "outputs": [],
   "source": [
    "model1.fit(X,y, batch_size = batch_size, epochs = ep)\n",
    "#model2.fit(X,y, batch_size = batch_size, epochs = ep)\n",
    "#model3.fit(X,y, batch_size = batch_size, epochs = ep)"
   ]
  },
  {
   "cell_type": "code",
   "execution_count": null,
   "metadata": {},
   "outputs": [],
   "source": [
    "preds = model.predict(toTest)\n",
    "ops = ids\n",
    "res = pd.DataFrame()\n",
    "res[\"Opportunity_ID\"] = ops\n",
    "res[\"Target\"] = preds\n",
    "\n",
    "res.to_csv(\"submit.csv\", index=False)"
   ]
  }
 ],
 "metadata": {
  "colab": {
   "collapsed_sections": [
    "CBSZsAKJDq17"
   ],
   "name": "Tp2 ultimo.ipynb",
   "provenance": []
  },
  "kernelspec": {
   "display_name": "Python 3",
   "language": "python",
   "name": "python3"
  },
  "language_info": {
   "codemirror_mode": {
    "name": "ipython",
    "version": 3
   },
   "file_extension": ".py",
   "mimetype": "text/x-python",
   "name": "python",
   "nbconvert_exporter": "python",
   "pygments_lexer": "ipython3",
   "version": "3.7.0"
  }
 },
 "nbformat": 4,
 "nbformat_minor": 1
}
