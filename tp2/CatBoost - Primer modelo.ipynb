{
  "nbformat": 4,
  "nbformat_minor": 0,
  "metadata": {
    "colab": {
      "name": "CatBoost.ipynb",
      "provenance": [],
      "collapsed_sections": []
    },
    "kernelspec": {
      "name": "python3",
      "display_name": "Python 3"
    }
  },
  "cells": [
    {
      "cell_type": "markdown",
      "metadata": {
        "id": "zbKQl-QQomW4"
      },
      "source": [
        "# Pruebas con Catboost"
      ]
    },
    {
      "cell_type": "code",
      "metadata": {
        "id": "a_9vTCYUolG1"
      },
      "source": [
        "!pip install catboost\n",
        "!pip install ipywidgets\n",
        "!jupyter nbextension enable --py widgetsnbextension"
      ],
      "execution_count": null,
      "outputs": []
    },
    {
      "cell_type": "code",
      "metadata": {
        "id": "ege_qJCro5LQ"
      },
      "source": [
        "import pandas as pd\n",
        "import numpy as np\n",
        "from sklearn.model_selection import train_test_split\n",
        "from sklearn.metrics import mean_squared_error\n",
        "from sklearn.metrics import r2_score\n",
        "from catboost import CatBoostRegressor, FeaturesData, Pool\n",
        "from sklearn.metrics import log_loss"
      ],
      "execution_count": null,
      "outputs": []
    },
    {
      "cell_type": "code",
      "metadata": {
        "id": "zT1nqEdYo7SQ"
      },
      "source": [
        "#Load dataset\n",
        "train_df = pd.read_csv(\"data/Train_TP2_Datos_2020-2C.csv\")\n",
        "train_df = train_df.drop('Sales_Contract_No',1)\n",
        "test_df = pd.read_csv(\"data/Test_TP2_Datos_2020-2C.csv\")\n",
        "test_df = test_df.drop('Sales_Contract_No',1)"
      ],
      "execution_count": null,
      "outputs": []
    },
    {
      "cell_type": "code",
      "metadata": {
        "colab": {
          "base_uri": "https://localhost:8080/"
        },
        "id": "wsIYmCt-FIsM",
        "outputId": "b5630a3a-fe75-40cd-ef7b-cc98bb2afb01"
      },
      "source": [
        "train_df.columns"
      ],
      "execution_count": null,
      "outputs": [
        {
          "output_type": "execute_result",
          "data": {
            "text/plain": [
              "Index(['ID', 'Region', 'Territory', 'Pricing, Delivery_Terms_Quote_Appr',\n",
              "       'Pricing, Delivery_Terms_Approved', 'Bureaucratic_Code_0_Approval',\n",
              "       'Bureaucratic_Code_0_Approved', 'Submitted_for_Approval',\n",
              "       'Bureaucratic_Code', 'Account_Created_Date', 'Source ',\n",
              "       'Billing_Country', 'Account_Name', 'Opportunity_Name', 'Opportunity_ID',\n",
              "       'Account_Owner', 'Opportunity_Owner', 'Account_Type',\n",
              "       'Opportunity_Type', 'Quote_Type', 'Delivery_Terms',\n",
              "       'Opportunity_Created_Date', 'Brand', 'Product_Type', 'Size',\n",
              "       'Product_Category_B', 'Price', 'Currency', 'Last_Activity',\n",
              "       'Quote_Expiry_Date', 'Last_Modified_Date', 'Last_Modified_By',\n",
              "       'Product_Family', 'Product_Name', 'ASP_Currency', 'ASP',\n",
              "       'ASP_(converted)_Currency', 'ASP_(converted)',\n",
              "       'Planned_Delivery_Start_Date', 'Planned_Delivery_End_Date', 'Month',\n",
              "       'Delivery_Quarter', 'Delivery_Year', 'Actual_Delivery_Date', 'TRF',\n",
              "       'Total_Amount_Currency', 'Total_Amount',\n",
              "       'Total_Taxable_Amount_Currency', 'Total_Taxable_Amount', 'Stage',\n",
              "       'Prod_Category_A'],\n",
              "      dtype='object')"
            ]
          },
          "metadata": {
            "tags": []
          },
          "execution_count": 5
        }
      ]
    },
    {
      "cell_type": "code",
      "metadata": {
        "id": "3X5ajJn_IMK-"
      },
      "source": [
        "train_df = train_df[train_df[\"Stage\"].str.contains(\"Closed\")]"
      ],
      "execution_count": null,
      "outputs": []
    },
    {
      "cell_type": "code",
      "metadata": {
        "id": "06Ne7iejFBKr"
      },
      "source": [
        "train_data = train_df[[\"Opportunity_ID\",\"Total_Taxable_Amount\",\"ASP\",\"TRF\",\"ASP_(converted)\",\"Stage\"]]\n",
        "test_data = test_df[[\"Opportunity_ID\",\"Total_Taxable_Amount\",\"ASP\",\"TRF\",\"ASP_(converted)\"]]"
      ],
      "execution_count": null,
      "outputs": []
    },
    {
      "cell_type": "code",
      "metadata": {
        "colab": {
          "base_uri": "https://localhost:8080/"
        },
        "id": "XfGhaYkGzg-u",
        "outputId": "bf491cbb-34a2-4980-d205-adcd5bb2005a"
      },
      "source": [
        "train_data[\"Stage\"] = train_data[\"Stage\"].replace(\"Closed Won\",1)\n",
        "train_data[\"Stage\"] = train_data[\"Stage\"].replace(\"Closed Lost\",0)"
      ],
      "execution_count": null,
      "outputs": [
        {
          "output_type": "stream",
          "text": [
            "/usr/local/lib/python3.7/dist-packages/ipykernel_launcher.py:1: SettingWithCopyWarning: \n",
            "A value is trying to be set on a copy of a slice from a DataFrame.\n",
            "Try using .loc[row_indexer,col_indexer] = value instead\n",
            "\n",
            "See the caveats in the documentation: https://pandas.pydata.org/pandas-docs/stable/user_guide/indexing.html#returning-a-view-versus-a-copy\n",
            "  \"\"\"Entry point for launching an IPython kernel.\n",
            "/usr/local/lib/python3.7/dist-packages/ipykernel_launcher.py:2: SettingWithCopyWarning: \n",
            "A value is trying to be set on a copy of a slice from a DataFrame.\n",
            "Try using .loc[row_indexer,col_indexer] = value instead\n",
            "\n",
            "See the caveats in the documentation: https://pandas.pydata.org/pandas-docs/stable/user_guide/indexing.html#returning-a-view-versus-a-copy\n",
            "  \n"
          ],
          "name": "stderr"
        }
      ]
    },
    {
      "cell_type": "code",
      "metadata": {
        "id": "01eWkAOcFdPO"
      },
      "source": [
        "train_data = train_data.groupby([\"Opportunity_ID\"]).agg({\"ASP_(converted)\": [\"sum\", \"mean\"],\n",
        "                                                         \"TRF\": [\"sum\", \"mean\", \"max\"],\"ASP\": [\"mean\"],\"Total_Taxable_Amount\": [\"mean\"],\"Stage\":[\"mean\"]}).reset_index()\n",
        "test_data = test_data.groupby([\"Opportunity_ID\"]).agg({\"ASP_(converted)\": [\"sum\", \"mean\"],\n",
        "                                                         \"TRF\": [\"sum\", \"mean\", \"max\"],\"ASP\": [\"mean\"],\"Total_Taxable_Amount\": [\"mean\"]}).reset_index()"
      ],
      "execution_count": null,
      "outputs": []
    },
    {
      "cell_type": "code",
      "metadata": {
        "id": "K_cekUDSF4ob",
        "colab": {
          "base_uri": "https://localhost:8080/",
          "height": 235
        },
        "outputId": "a9462d1c-5720-43ff-f6ad-1601e61de01b"
      },
      "source": [
        "train_data.head()"
      ],
      "execution_count": null,
      "outputs": [
        {
          "output_type": "execute_result",
          "data": {
            "text/html": [
              "<div>\n",
              "<style scoped>\n",
              "    .dataframe tbody tr th:only-of-type {\n",
              "        vertical-align: middle;\n",
              "    }\n",
              "\n",
              "    .dataframe tbody tr th {\n",
              "        vertical-align: top;\n",
              "    }\n",
              "\n",
              "    .dataframe thead tr th {\n",
              "        text-align: left;\n",
              "    }\n",
              "</style>\n",
              "<table border=\"1\" class=\"dataframe\">\n",
              "  <thead>\n",
              "    <tr>\n",
              "      <th></th>\n",
              "      <th>Opportunity_ID</th>\n",
              "      <th colspan=\"2\" halign=\"left\">ASP_(converted)</th>\n",
              "      <th colspan=\"3\" halign=\"left\">TRF</th>\n",
              "      <th>ASP</th>\n",
              "      <th>Total_Taxable_Amount</th>\n",
              "      <th>Stage</th>\n",
              "    </tr>\n",
              "    <tr>\n",
              "      <th></th>\n",
              "      <th></th>\n",
              "      <th>sum</th>\n",
              "      <th>mean</th>\n",
              "      <th>sum</th>\n",
              "      <th>mean</th>\n",
              "      <th>max</th>\n",
              "      <th>mean</th>\n",
              "      <th>mean</th>\n",
              "      <th>mean</th>\n",
              "    </tr>\n",
              "  </thead>\n",
              "  <tbody>\n",
              "    <tr>\n",
              "      <th>0</th>\n",
              "      <td>0</td>\n",
              "      <td>0.58817</td>\n",
              "      <td>0.58817</td>\n",
              "      <td>10</td>\n",
              "      <td>10.0</td>\n",
              "      <td>10</td>\n",
              "      <td>0.52</td>\n",
              "      <td>5272800.0</td>\n",
              "      <td>0</td>\n",
              "    </tr>\n",
              "    <tr>\n",
              "      <th>1</th>\n",
              "      <td>1</td>\n",
              "      <td>0.59948</td>\n",
              "      <td>0.59948</td>\n",
              "      <td>0</td>\n",
              "      <td>0.0</td>\n",
              "      <td>0</td>\n",
              "      <td>0.53</td>\n",
              "      <td>48230.0</td>\n",
              "      <td>1</td>\n",
              "    </tr>\n",
              "    <tr>\n",
              "      <th>2</th>\n",
              "      <td>2</td>\n",
              "      <td>0.48000</td>\n",
              "      <td>0.48000</td>\n",
              "      <td>0</td>\n",
              "      <td>0.0</td>\n",
              "      <td>0</td>\n",
              "      <td>0.48</td>\n",
              "      <td>83865.6</td>\n",
              "      <td>1</td>\n",
              "    </tr>\n",
              "    <tr>\n",
              "      <th>3</th>\n",
              "      <td>3</td>\n",
              "      <td>0.53000</td>\n",
              "      <td>0.53000</td>\n",
              "      <td>14</td>\n",
              "      <td>14.0</td>\n",
              "      <td>14</td>\n",
              "      <td>0.53</td>\n",
              "      <td>7421881.5</td>\n",
              "      <td>0</td>\n",
              "    </tr>\n",
              "    <tr>\n",
              "      <th>4</th>\n",
              "      <td>4</td>\n",
              "      <td>0.53000</td>\n",
              "      <td>0.53000</td>\n",
              "      <td>25</td>\n",
              "      <td>25.0</td>\n",
              "      <td>25</td>\n",
              "      <td>0.53</td>\n",
              "      <td>13357192.5</td>\n",
              "      <td>0</td>\n",
              "    </tr>\n",
              "  </tbody>\n",
              "</table>\n",
              "</div>"
            ],
            "text/plain": [
              "  Opportunity_ID ASP_(converted)           ...   ASP Total_Taxable_Amount Stage\n",
              "                             sum     mean  ...  mean                 mean  mean\n",
              "0              0         0.58817  0.58817  ...  0.52            5272800.0     0\n",
              "1              1         0.59948  0.59948  ...  0.53              48230.0     1\n",
              "2              2         0.48000  0.48000  ...  0.48              83865.6     1\n",
              "3              3         0.53000  0.53000  ...  0.53            7421881.5     0\n",
              "4              4         0.53000  0.53000  ...  0.53           13357192.5     0\n",
              "\n",
              "[5 rows x 9 columns]"
            ]
          },
          "metadata": {
            "tags": []
          },
          "execution_count": 120
        }
      ]
    },
    {
      "cell_type": "code",
      "metadata": {
        "id": "MwPKQ8q6rXx9"
      },
      "source": [
        "# Separo las columnas de datos del target\n",
        "X, Y = train_data.iloc[:,:-1],train_data.iloc[:,-1]\n",
        "\n",
        "X_train, X_test, Y_train, Y_test = train_test_split(X, Y, test_size=0.15)"
      ],
      "execution_count": null,
      "outputs": []
    },
    {
      "cell_type": "code",
      "metadata": {
        "colab": {
          "base_uri": "https://localhost:8080/"
        },
        "id": "JvVaq1mBGiK6",
        "outputId": "cfef8aa8-3e9b-41ba-811d-216b614fffad"
      },
      "source": [
        "model = CatBoostRegressor(iterations=16, learning_rate=0.28, depth=15)\n",
        "\n",
        "model.fit(X_train,Y_train)\n",
        "\n",
        "preds = model.predict(X_test)\n",
        "\n",
        "logloss = log_loss(Y_test, preds)\n",
        "print(\"Log loss: {:.2f}\".format(logloss))\n"
      ],
      "execution_count": null,
      "outputs": [
        {
          "output_type": "stream",
          "text": [
            "0:\tlearn: 0.4625858\ttotal: 996ms\tremaining: 14.9s\n",
            "1:\tlearn: 0.4388938\ttotal: 1.89s\tremaining: 13.3s\n",
            "2:\tlearn: 0.4257538\ttotal: 2.57s\tremaining: 11.1s\n",
            "3:\tlearn: 0.4144634\ttotal: 3.3s\tremaining: 9.9s\n",
            "4:\tlearn: 0.4060564\ttotal: 4s\tremaining: 8.79s\n",
            "5:\tlearn: 0.4002981\ttotal: 4.7s\tremaining: 7.83s\n",
            "6:\tlearn: 0.3949995\ttotal: 5.38s\tremaining: 6.92s\n",
            "7:\tlearn: 0.3913805\ttotal: 6.07s\tremaining: 6.07s\n",
            "8:\tlearn: 0.3884970\ttotal: 6.76s\tremaining: 5.26s\n",
            "9:\tlearn: 0.3844066\ttotal: 7.45s\tremaining: 4.47s\n",
            "10:\tlearn: 0.3814239\ttotal: 8.15s\tremaining: 3.7s\n",
            "11:\tlearn: 0.3766079\ttotal: 8.84s\tremaining: 2.94s\n",
            "12:\tlearn: 0.3738970\ttotal: 9.55s\tremaining: 2.2s\n",
            "13:\tlearn: 0.3727041\ttotal: 10.3s\tremaining: 1.47s\n",
            "14:\tlearn: 0.3716311\ttotal: 11s\tremaining: 730ms\n",
            "15:\tlearn: 0.3690491\ttotal: 11.6s\tremaining: 0us\n",
            "Log loss: 0.47\n"
          ],
          "name": "stdout"
        }
      ]
    },
    {
      "cell_type": "code",
      "metadata": {
        "colab": {
          "base_uri": "https://localhost:8080/"
        },
        "id": "ZLzc9gQ2tHr1",
        "outputId": "6674dc89-c291-4fcb-f363-a59501bf7013"
      },
      "source": [
        "model.fit(X, Y)\n",
        "preds = model.predict(test_data)"
      ],
      "execution_count": null,
      "outputs": [
        {
          "output_type": "stream",
          "text": [
            "0:\tlearn: 0.4625305\ttotal: 826ms\tremaining: 12.4s\n",
            "1:\tlearn: 0.4388653\ttotal: 1.54s\tremaining: 10.8s\n",
            "2:\tlearn: 0.4250072\ttotal: 2.25s\tremaining: 9.74s\n",
            "3:\tlearn: 0.4120751\ttotal: 2.96s\tremaining: 8.89s\n",
            "4:\tlearn: 0.4042957\ttotal: 3.67s\tremaining: 8.06s\n",
            "5:\tlearn: 0.3996112\ttotal: 4.37s\tremaining: 7.29s\n",
            "6:\tlearn: 0.3936613\ttotal: 5.08s\tremaining: 6.53s\n",
            "7:\tlearn: 0.3897370\ttotal: 5.79s\tremaining: 5.79s\n",
            "8:\tlearn: 0.3865140\ttotal: 6.5s\tremaining: 5.05s\n",
            "9:\tlearn: 0.3832229\ttotal: 7.21s\tremaining: 4.33s\n",
            "10:\tlearn: 0.3805184\ttotal: 7.94s\tremaining: 3.61s\n",
            "11:\tlearn: 0.3784534\ttotal: 8.64s\tremaining: 2.88s\n",
            "12:\tlearn: 0.3760256\ttotal: 9.36s\tremaining: 2.16s\n",
            "13:\tlearn: 0.3750719\ttotal: 10.1s\tremaining: 1.44s\n",
            "14:\tlearn: 0.3731411\ttotal: 10.8s\tremaining: 719ms\n",
            "15:\tlearn: 0.3718928\ttotal: 11.5s\tremaining: 0us\n"
          ],
          "name": "stdout"
        }
      ]
    },
    {
      "cell_type": "code",
      "metadata": {
        "colab": {
          "base_uri": "https://localhost:8080/"
        },
        "id": "wO4LSYEvK8Ax",
        "outputId": "e52dba32-d432-4b53-e16d-05c350ecb77f"
      },
      "source": [
        "preds"
      ],
      "execution_count": null,
      "outputs": [
        {
          "output_type": "execute_result",
          "data": {
            "text/plain": [
              "array([0.61674987, 0.74250899, 0.87067048, ..., 0.72768675, 0.50702417,\n",
              "       0.18332087])"
            ]
          },
          "metadata": {
            "tags": []
          },
          "execution_count": 116
        }
      ]
    },
    {
      "cell_type": "code",
      "metadata": {
        "id": "hX_Ty3clLxoD"
      },
      "source": [
        "predict_df = pd.DataFrame(data=test_data[\"Opportunity_ID\"])\n",
        "\n",
        "predict_df[\"Target\"] = preds"
      ],
      "execution_count": null,
      "outputs": []
    },
    {
      "cell_type": "code",
      "metadata": {
        "colab": {
          "base_uri": "https://localhost:8080/",
          "height": 204
        },
        "id": "WHfiRIdWMdxI",
        "outputId": "ef322b37-77b3-46ed-ae63-2d0336a16426"
      },
      "source": [
        "predict_df.head()"
      ],
      "execution_count": null,
      "outputs": [
        {
          "output_type": "execute_result",
          "data": {
            "text/html": [
              "<div>\n",
              "<style scoped>\n",
              "    .dataframe tbody tr th:only-of-type {\n",
              "        vertical-align: middle;\n",
              "    }\n",
              "\n",
              "    .dataframe tbody tr th {\n",
              "        vertical-align: top;\n",
              "    }\n",
              "\n",
              "    .dataframe thead th {\n",
              "        text-align: right;\n",
              "    }\n",
              "</style>\n",
              "<table border=\"1\" class=\"dataframe\">\n",
              "  <thead>\n",
              "    <tr style=\"text-align: right;\">\n",
              "      <th></th>\n",
              "      <th>Opportunity_ID</th>\n",
              "      <th>Target</th>\n",
              "    </tr>\n",
              "  </thead>\n",
              "  <tbody>\n",
              "    <tr>\n",
              "      <th>0</th>\n",
              "      <td>10689</td>\n",
              "      <td>0.616750</td>\n",
              "    </tr>\n",
              "    <tr>\n",
              "      <th>1</th>\n",
              "      <td>10690</td>\n",
              "      <td>0.742509</td>\n",
              "    </tr>\n",
              "    <tr>\n",
              "      <th>2</th>\n",
              "      <td>10691</td>\n",
              "      <td>0.870670</td>\n",
              "    </tr>\n",
              "    <tr>\n",
              "      <th>3</th>\n",
              "      <td>10692</td>\n",
              "      <td>0.634901</td>\n",
              "    </tr>\n",
              "    <tr>\n",
              "      <th>4</th>\n",
              "      <td>10693</td>\n",
              "      <td>0.884670</td>\n",
              "    </tr>\n",
              "  </tbody>\n",
              "</table>\n",
              "</div>"
            ],
            "text/plain": [
              "   Opportunity_ID    Target\n",
              "0           10689  0.616750\n",
              "1           10690  0.742509\n",
              "2           10691  0.870670\n",
              "3           10692  0.634901\n",
              "4           10693  0.884670"
            ]
          },
          "metadata": {
            "tags": []
          },
          "execution_count": 118
        }
      ]
    },
    {
      "cell_type": "code",
      "metadata": {
        "id": "SGPifl5DNsf5"
      },
      "source": [
        "predict_df.to_csv(\"resultado.csv\",index=False) "
      ],
      "execution_count": null,
      "outputs": []
    }
  ]
}