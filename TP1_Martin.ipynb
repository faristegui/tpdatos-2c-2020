{
 "cells": [
  {
   "cell_type": "code",
   "execution_count": 1,
   "metadata": {},
   "outputs": [],
   "source": [
    "import pandas as pd\n",
    "import numpy as np\n",
    "import matplotlib.pyplot as plt\n",
    "import seaborn as sns\n",
    "import plotly.express as px\n"
   ]
  },
  {
   "cell_type": "code",
   "execution_count": 2,
   "metadata": {},
   "outputs": [],
   "source": [
    "import ptitprince as pt"
   ]
  },
  {
   "cell_type": "code",
   "execution_count": 3,
   "metadata": {},
   "outputs": [],
   "source": [
    "NOMBRE_ARCH = 'Entrenamiento_ECI_2020.csv'"
   ]
  },
  {
   "cell_type": "code",
   "execution_count": 4,
   "metadata": {},
   "outputs": [],
   "source": [
    "df = pd.read_csv(NOMBRE_ARCH, dtype={'Region': 'category',    'Territory': 'category',\n",
    "                                     'Bureaucratic_Code': 'category',    'Source': 'category',\n",
    "                                     'Billing_Country': 'category',    'Account_Name': 'category',\n",
    "                                     'Opportunity_Name': 'category',    'Account_Owner': 'category',\n",
    "                                     'Opportunity_Owner': 'category',    'Account_Type': 'category',\n",
    "                                     'Opportunity_Type': 'category',    'Quote_Type': 'category',\n",
    "                                     'Delivery_Terms': 'category',    'Brand': 'category',\n",
    "                                     'Product_Type': 'category',    'Size': 'category',\n",
    "                                     'Product_Category_B': 'category',    'Currency': 'category',\n",
    "                                     'Last_Modified_By': 'category',    'Product_Family': 'category',\n",
    "                                     'Product_Name': 'category',    'ASP_Currency': 'category',\n",
    "                                     'ASP_(converted)_Currency': 'category',    'Delivery_Quarter': 'category',\n",
    "                                     'Total_Amount_Currency': 'category',    'Total_Taxable_Amount_Currency': 'category',\n",
    "                                     'Stage': 'category',    'Prod_Category_A': 'category',\n",
    "                                     'Pricing, Delivery_Terms_Quote_Appr':'bool', 'Pricing, Delivery_Terms_Approved':'bool',\n",
    "                                     'Bureaucratic_Code_0_Approval':'bool', 'Bureaucratic_Code_0_Approved':'bool',\n",
    "                                     'Submitted_for_Approval':'bool'\n",
    "                                     })"
   ]
  },
  {
   "cell_type": "code",
   "execution_count": 5,
   "metadata": {},
   "outputs": [],
   "source": [
    "df['Account_Created_Date']=pd.to_datetime(df['Account_Created_Date'])\n",
    "df['Quote_Expiry_Date']=pd.to_datetime(df['Quote_Expiry_Date'])\n",
    "df['Opportunity_Created_Date']=pd.to_datetime(df['Opportunity_Created_Date'])\n",
    "df['Last_Modified_Date']=pd.to_datetime(df['Last_Modified_Date'])\n",
    "df['Quote_Expiry_Date']=pd.to_datetime(df['Quote_Expiry_Date'])\n",
    "df['Planned_Delivery_Start_Date']=pd.to_datetime(df['Planned_Delivery_Start_Date'])\n",
    "df['Planned_Delivery_End_Date']=pd.to_datetime(df['Planned_Delivery_End_Date'])\n",
    "df['Actual_Delivery_Date']=pd.to_datetime(df['Actual_Delivery_Date'])"
   ]
  },
  {
   "cell_type": "code",
   "execution_count": 6,
   "metadata": {},
   "outputs": [],
   "source": [
    "df.drop(columns=['Actual_Delivery_Date', 'Last_Activity', 'Prod_Category_A'], inplace= True)"
   ]
  },
  {
   "cell_type": "code",
   "execution_count": null,
   "metadata": {},
   "outputs": [],
   "source": []
  },
  {
   "cell_type": "code",
   "execution_count": 7,
   "metadata": {},
   "outputs": [
    {
     "name": "stdout",
     "output_type": "stream",
     "text": [
      "<class 'pandas.core.frame.DataFrame'>\n",
      "RangeIndex: 16947 entries, 0 to 16946\n",
      "Data columns (total 49 columns):\n",
      " #   Column                              Non-Null Count  Dtype         \n",
      "---  ------                              --------------  -----         \n",
      " 0   ID                                  16947 non-null  int64         \n",
      " 1   Region                              16947 non-null  category      \n",
      " 2   Territory                           16947 non-null  category      \n",
      " 3   Pricing, Delivery_Terms_Quote_Appr  16947 non-null  bool          \n",
      " 4   Pricing, Delivery_Terms_Approved    16947 non-null  bool          \n",
      " 5   Bureaucratic_Code_0_Approval        16947 non-null  bool          \n",
      " 6   Bureaucratic_Code_0_Approved        16947 non-null  bool          \n",
      " 7   Submitted_for_Approval              16947 non-null  bool          \n",
      " 8   Bureaucratic_Code                   16947 non-null  category      \n",
      " 9   Account_Created_Date                16947 non-null  datetime64[ns]\n",
      " 10  Source                              16947 non-null  object        \n",
      " 11  Billing_Country                     16947 non-null  category      \n",
      " 12  Account_Name                        16947 non-null  category      \n",
      " 13  Opportunity_Name                    16947 non-null  category      \n",
      " 14  Opportunity_ID                      16947 non-null  int64         \n",
      " 15  Sales_Contract_No                   16947 non-null  object        \n",
      " 16  Account_Owner                       16947 non-null  category      \n",
      " 17  Opportunity_Owner                   16947 non-null  category      \n",
      " 18  Account_Type                        16947 non-null  category      \n",
      " 19  Opportunity_Type                    16947 non-null  category      \n",
      " 20  Quote_Type                          16947 non-null  category      \n",
      " 21  Delivery_Terms                      16947 non-null  category      \n",
      " 22  Opportunity_Created_Date            16947 non-null  datetime64[ns]\n",
      " 23  Brand                               16947 non-null  category      \n",
      " 24  Product_Type                        16947 non-null  category      \n",
      " 25  Size                                16947 non-null  category      \n",
      " 26  Product_Category_B                  16947 non-null  category      \n",
      " 27  Price                               16947 non-null  object        \n",
      " 28  Currency                            16947 non-null  category      \n",
      " 29  Quote_Expiry_Date                   12322 non-null  datetime64[ns]\n",
      " 30  Last_Modified_Date                  16947 non-null  datetime64[ns]\n",
      " 31  Last_Modified_By                    16947 non-null  category      \n",
      " 32  Product_Family                      16947 non-null  category      \n",
      " 33  Product_Name                        16947 non-null  category      \n",
      " 34  ASP_Currency                        16947 non-null  category      \n",
      " 35  ASP                                 13738 non-null  float64       \n",
      " 36  ASP_(converted)_Currency            16947 non-null  category      \n",
      " 37  ASP_(converted)                     13738 non-null  float64       \n",
      " 38  Planned_Delivery_Start_Date         16947 non-null  datetime64[ns]\n",
      " 39  Planned_Delivery_End_Date           16872 non-null  datetime64[ns]\n",
      " 40  Month                               16947 non-null  object        \n",
      " 41  Delivery_Quarter                    16947 non-null  category      \n",
      " 42  Delivery_Year                       16947 non-null  int64         \n",
      " 43  TRF                                 16947 non-null  int64         \n",
      " 44  Total_Amount_Currency               16947 non-null  category      \n",
      " 45  Total_Amount                        16888 non-null  float64       \n",
      " 46  Total_Taxable_Amount_Currency       16947 non-null  category      \n",
      " 47  Total_Taxable_Amount                16947 non-null  float64       \n",
      " 48  Stage                               16947 non-null  category      \n",
      "dtypes: bool(5), category(26), datetime64[ns](6), float64(4), int64(4), object(4)\n",
      "memory usage: 3.4+ MB\n"
     ]
    }
   ],
   "source": [
    "df.info()\n"
   ]
  },
  {
   "cell_type": "code",
   "execution_count": 8,
   "metadata": {},
   "outputs": [
    {
     "data": {
      "text/html": [
       "<div>\n",
       "<style scoped>\n",
       "    .dataframe tbody tr th:only-of-type {\n",
       "        vertical-align: middle;\n",
       "    }\n",
       "\n",
       "    .dataframe tbody tr th {\n",
       "        vertical-align: top;\n",
       "    }\n",
       "\n",
       "    .dataframe thead th {\n",
       "        text-align: right;\n",
       "    }\n",
       "</style>\n",
       "<table border=\"1\" class=\"dataframe\">\n",
       "  <thead>\n",
       "    <tr style=\"text-align: right;\">\n",
       "      <th></th>\n",
       "      <th>ID</th>\n",
       "      <th>Region</th>\n",
       "      <th>Territory</th>\n",
       "      <th>Pricing, Delivery_Terms_Quote_Appr</th>\n",
       "      <th>Pricing, Delivery_Terms_Approved</th>\n",
       "      <th>Bureaucratic_Code_0_Approval</th>\n",
       "      <th>Bureaucratic_Code_0_Approved</th>\n",
       "      <th>Submitted_for_Approval</th>\n",
       "      <th>Bureaucratic_Code</th>\n",
       "      <th>Account_Created_Date</th>\n",
       "      <th>...</th>\n",
       "      <th>Planned_Delivery_End_Date</th>\n",
       "      <th>Month</th>\n",
       "      <th>Delivery_Quarter</th>\n",
       "      <th>Delivery_Year</th>\n",
       "      <th>TRF</th>\n",
       "      <th>Total_Amount_Currency</th>\n",
       "      <th>Total_Amount</th>\n",
       "      <th>Total_Taxable_Amount_Currency</th>\n",
       "      <th>Total_Taxable_Amount</th>\n",
       "      <th>Stage</th>\n",
       "    </tr>\n",
       "  </thead>\n",
       "  <tbody>\n",
       "    <tr>\n",
       "      <th>0</th>\n",
       "      <td>27761</td>\n",
       "      <td>EMEA</td>\n",
       "      <td>None</td>\n",
       "      <td>True</td>\n",
       "      <td>True</td>\n",
       "      <td>True</td>\n",
       "      <td>True</td>\n",
       "      <td>False</td>\n",
       "      <td>Bureaucratic_Code_4</td>\n",
       "      <td>2015-06-16</td>\n",
       "      <td>...</td>\n",
       "      <td>2016-06-30</td>\n",
       "      <td>2016 - 5</td>\n",
       "      <td>Q2</td>\n",
       "      <td>2016</td>\n",
       "      <td>10</td>\n",
       "      <td>EUR</td>\n",
       "      <td>5272800.0</td>\n",
       "      <td>EUR</td>\n",
       "      <td>5272800.0</td>\n",
       "      <td>Closed Lost</td>\n",
       "    </tr>\n",
       "    <tr>\n",
       "      <th>1</th>\n",
       "      <td>27760</td>\n",
       "      <td>EMEA</td>\n",
       "      <td>None</td>\n",
       "      <td>False</td>\n",
       "      <td>False</td>\n",
       "      <td>False</td>\n",
       "      <td>False</td>\n",
       "      <td>False</td>\n",
       "      <td>Bureaucratic_Code_4</td>\n",
       "      <td>2015-06-16</td>\n",
       "      <td>...</td>\n",
       "      <td>2016-01-20</td>\n",
       "      <td>2016 - 1</td>\n",
       "      <td>Q1</td>\n",
       "      <td>2016</td>\n",
       "      <td>0</td>\n",
       "      <td>EUR</td>\n",
       "      <td>48230.0</td>\n",
       "      <td>EUR</td>\n",
       "      <td>48230.0</td>\n",
       "      <td>Closed Won</td>\n",
       "    </tr>\n",
       "    <tr>\n",
       "      <th>2</th>\n",
       "      <td>27446</td>\n",
       "      <td>Americas</td>\n",
       "      <td>NW America</td>\n",
       "      <td>False</td>\n",
       "      <td>False</td>\n",
       "      <td>False</td>\n",
       "      <td>False</td>\n",
       "      <td>False</td>\n",
       "      <td>Bureaucratic_Code_4</td>\n",
       "      <td>2015-04-21</td>\n",
       "      <td>...</td>\n",
       "      <td>2016-01-25</td>\n",
       "      <td>2016 - 1</td>\n",
       "      <td>Q1</td>\n",
       "      <td>2016</td>\n",
       "      <td>0</td>\n",
       "      <td>USD</td>\n",
       "      <td>83865.6</td>\n",
       "      <td>USD</td>\n",
       "      <td>83865.6</td>\n",
       "      <td>Closed Won</td>\n",
       "    </tr>\n",
       "    <tr>\n",
       "      <th>3</th>\n",
       "      <td>16808</td>\n",
       "      <td>Americas</td>\n",
       "      <td>NW America</td>\n",
       "      <td>True</td>\n",
       "      <td>False</td>\n",
       "      <td>True</td>\n",
       "      <td>False</td>\n",
       "      <td>False</td>\n",
       "      <td>Bureaucratic_Code_5</td>\n",
       "      <td>2013-07-27</td>\n",
       "      <td>...</td>\n",
       "      <td>2018-03-31</td>\n",
       "      <td>2018 - 2</td>\n",
       "      <td>Q1</td>\n",
       "      <td>2018</td>\n",
       "      <td>14</td>\n",
       "      <td>USD</td>\n",
       "      <td>7421881.5</td>\n",
       "      <td>USD</td>\n",
       "      <td>7421881.5</td>\n",
       "      <td>Closed Lost</td>\n",
       "    </tr>\n",
       "    <tr>\n",
       "      <th>4</th>\n",
       "      <td>16805</td>\n",
       "      <td>Americas</td>\n",
       "      <td>NW America</td>\n",
       "      <td>True</td>\n",
       "      <td>False</td>\n",
       "      <td>True</td>\n",
       "      <td>False</td>\n",
       "      <td>False</td>\n",
       "      <td>Bureaucratic_Code_5</td>\n",
       "      <td>2013-07-27</td>\n",
       "      <td>...</td>\n",
       "      <td>2018-02-28</td>\n",
       "      <td>2018 - 2</td>\n",
       "      <td>Q1</td>\n",
       "      <td>2018</td>\n",
       "      <td>25</td>\n",
       "      <td>USD</td>\n",
       "      <td>13357192.5</td>\n",
       "      <td>USD</td>\n",
       "      <td>13357192.5</td>\n",
       "      <td>Closed Lost</td>\n",
       "    </tr>\n",
       "  </tbody>\n",
       "</table>\n",
       "<p>5 rows × 49 columns</p>\n",
       "</div>"
      ],
      "text/plain": [
       "      ID    Region   Territory  Pricing, Delivery_Terms_Quote_Appr  \\\n",
       "0  27761      EMEA        None                                True   \n",
       "1  27760      EMEA        None                               False   \n",
       "2  27446  Americas  NW America                               False   \n",
       "3  16808  Americas  NW America                                True   \n",
       "4  16805  Americas  NW America                                True   \n",
       "\n",
       "   Pricing, Delivery_Terms_Approved  Bureaucratic_Code_0_Approval  \\\n",
       "0                              True                          True   \n",
       "1                             False                         False   \n",
       "2                             False                         False   \n",
       "3                             False                          True   \n",
       "4                             False                          True   \n",
       "\n",
       "   Bureaucratic_Code_0_Approved  Submitted_for_Approval    Bureaucratic_Code  \\\n",
       "0                          True                   False  Bureaucratic_Code_4   \n",
       "1                         False                   False  Bureaucratic_Code_4   \n",
       "2                         False                   False  Bureaucratic_Code_4   \n",
       "3                         False                   False  Bureaucratic_Code_5   \n",
       "4                         False                   False  Bureaucratic_Code_5   \n",
       "\n",
       "  Account_Created_Date  ... Planned_Delivery_End_Date     Month  \\\n",
       "0           2015-06-16  ...                2016-06-30  2016 - 5   \n",
       "1           2015-06-16  ...                2016-01-20  2016 - 1   \n",
       "2           2015-04-21  ...                2016-01-25  2016 - 1   \n",
       "3           2013-07-27  ...                2018-03-31  2018 - 2   \n",
       "4           2013-07-27  ...                2018-02-28  2018 - 2   \n",
       "\n",
       "  Delivery_Quarter Delivery_Year  TRF Total_Amount_Currency Total_Amount  \\\n",
       "0               Q2          2016   10                   EUR    5272800.0   \n",
       "1               Q1          2016    0                   EUR      48230.0   \n",
       "2               Q1          2016    0                   USD      83865.6   \n",
       "3               Q1          2018   14                   USD    7421881.5   \n",
       "4               Q1          2018   25                   USD   13357192.5   \n",
       "\n",
       "  Total_Taxable_Amount_Currency Total_Taxable_Amount        Stage  \n",
       "0                           EUR            5272800.0  Closed Lost  \n",
       "1                           EUR              48230.0   Closed Won  \n",
       "2                           USD              83865.6   Closed Won  \n",
       "3                           USD            7421881.5  Closed Lost  \n",
       "4                           USD           13357192.5  Closed Lost  \n",
       "\n",
       "[5 rows x 49 columns]"
      ]
     },
     "execution_count": 8,
     "metadata": {},
     "output_type": "execute_result"
    }
   ],
   "source": [
    "df.head()"
   ]
  },
  {
   "cell_type": "code",
   "execution_count": 9,
   "metadata": {},
   "outputs": [],
   "source": [
    "df_año= df.groupby('Stage')"
   ]
  },
  {
   "cell_type": "code",
   "execution_count": 10,
   "metadata": {},
   "outputs": [],
   "source": [
    "df['Price'].replace(to_replace=['None', 'Other'], value=0, inplace=True)"
   ]
  },
  {
   "cell_type": "code",
   "execution_count": 11,
   "metadata": {},
   "outputs": [],
   "source": [
    "df['Price']=df['Price'].astype('float64')"
   ]
  },
  {
   "cell_type": "code",
   "execution_count": 12,
   "metadata": {},
   "outputs": [
    {
     "data": {
      "text/plain": [
       "count    16947.000000\n",
       "mean         0.006729\n",
       "std          0.047193\n",
       "min          0.000000\n",
       "25%          0.000000\n",
       "50%          0.000000\n",
       "75%          0.000000\n",
       "max          0.560000\n",
       "Name: Price, dtype: float64"
      ]
     },
     "execution_count": 12,
     "metadata": {},
     "output_type": "execute_result"
    }
   ],
   "source": [
    "df['Price'].describe()"
   ]
  },
  {
   "cell_type": "code",
   "execution_count": 13,
   "metadata": {},
   "outputs": [
    {
     "data": {
      "text/plain": [
       "2017    6318\n",
       "2018    5830\n",
       "2016    4371\n",
       "2019     414\n",
       "2020      14\n",
       "Name: Delivery_Year, dtype: int64"
      ]
     },
     "execution_count": 13,
     "metadata": {},
     "output_type": "execute_result"
    }
   ],
   "source": [
    "df['Delivery_Year'].value_counts()"
   ]
  },
  {
   "cell_type": "code",
   "execution_count": 14,
   "metadata": {
    "scrolled": true
   },
   "outputs": [
    {
     "data": {
      "text/plain": [
       "2018 - 10    666\n",
       "2017 - 6     643\n",
       "2017 - 10    638\n",
       "2016 - 3     628\n",
       "2017 - 7     625\n",
       "2017 - 5     586\n",
       "2018 - 4     579\n",
       "2017 - 12    574\n",
       "2018 - 6     542\n",
       "2018 - 7     536\n",
       "2017 - 8     513\n",
       "2018 - 2     498\n",
       "2017 - 9     491\n",
       "2017 - 3     487\n",
       "2017 - 4     475\n",
       "2018 - 3     467\n",
       "2018 - 1     466\n",
       "2018 - 5     461\n",
       "2018 - 11    459\n",
       "2017 - 11    450\n",
       "2017 - 1     444\n",
       "2016 - 2     440\n",
       "2018 - 8     440\n",
       "2018 - 9     406\n",
       "2017 - 2     392\n",
       "2016 - 4     383\n",
       "2016 - 11    381\n",
       "2016 - 9     380\n",
       "2016 - 10    359\n",
       "2016 - 6     352\n",
       "2016 - 5     341\n",
       "2016 - 8     313\n",
       "2018 - 12    310\n",
       "2016 - 7     306\n",
       "2016 - 12    292\n",
       "2016 - 1     196\n",
       "2019 - 1     186\n",
       "2019 - 2      58\n",
       "2019 - 3      46\n",
       "2019 - 4      44\n",
       "2019 - 6      25\n",
       "2019 - 7      25\n",
       "2019 - 10     13\n",
       "2019 - 5       8\n",
       "2020 - 1       7\n",
       "2019 - 8       5\n",
       "2020 - 4       3\n",
       "2019 - 9       2\n",
       "2020 - 3       2\n",
       "2020 - 9       1\n",
       "2019 - 12      1\n",
       "2019 - 11      1\n",
       "2020 - 6       1\n",
       "Name: Month, dtype: int64"
      ]
     },
     "execution_count": 14,
     "metadata": {},
     "output_type": "execute_result"
    }
   ],
   "source": [
    "df.Month.value_counts()"
   ]
  },
  {
   "cell_type": "code",
   "execution_count": 15,
   "metadata": {},
   "outputs": [],
   "source": [
    "\n",
    "df['Month']=pd.to_datetime(df['Month'])"
   ]
  },
  {
   "cell_type": "code",
   "execution_count": 16,
   "metadata": {},
   "outputs": [
    {
     "data": {
      "text/plain": [
       "0       2016-05-01\n",
       "1       2016-01-01\n",
       "2       2016-01-01\n",
       "3       2018-02-01\n",
       "4       2018-02-01\n",
       "           ...    \n",
       "16942   2016-03-01\n",
       "16943   2016-04-01\n",
       "16944   2016-03-01\n",
       "16945   2016-04-01\n",
       "16946   2016-07-01\n",
       "Name: Month, Length: 16947, dtype: datetime64[ns]"
      ]
     },
     "execution_count": 16,
     "metadata": {},
     "output_type": "execute_result"
    }
   ],
   "source": [
    "df.Month"
   ]
  },
  {
   "cell_type": "code",
   "execution_count": 17,
   "metadata": {},
   "outputs": [
    {
     "data": {
      "text/plain": [
       "None    16052\n",
       "EUR       475\n",
       "USD       420\n",
       "Name: Currency, dtype: int64"
      ]
     },
     "execution_count": 17,
     "metadata": {},
     "output_type": "execute_result"
    }
   ],
   "source": [
    "df.Currency.value_counts()"
   ]
  },
  {
   "cell_type": "code",
   "execution_count": 18,
   "metadata": {},
   "outputs": [
    {
     "data": {
      "text/plain": [
       "0    None\n",
       "1    None\n",
       "2    None\n",
       "3     USD\n",
       "4     USD\n",
       "Name: Currency, dtype: category\n",
       "Categories (3, object): ['EUR', 'None', 'USD']"
      ]
     },
     "execution_count": 18,
     "metadata": {},
     "output_type": "execute_result"
    }
   ],
   "source": [
    "df.Currency.head()"
   ]
  },
  {
   "cell_type": "code",
   "execution_count": 19,
   "metadata": {},
   "outputs": [
    {
     "data": {
      "text/plain": [
       "USD    16947\n",
       "Name: ASP_(converted)_Currency, dtype: int64"
      ]
     },
     "execution_count": 19,
     "metadata": {},
     "output_type": "execute_result"
    }
   ],
   "source": [
    "df['ASP_(converted)_Currency'].value_counts()"
   ]
  },
  {
   "cell_type": "code",
   "execution_count": 20,
   "metadata": {},
   "outputs": [
    {
     "data": {
      "text/plain": [
       "0              None\n",
       "1              None\n",
       "2              None\n",
       "3    Product_Type_0\n",
       "4    Product_Type_0\n",
       "Name: Product_Type, dtype: category\n",
       "Categories (7, object): ['None', 'Other', 'Product_Type_0', 'Product_Type_1', 'Product_Type_2', 'Product_Type_3', 'Product_Type_4']"
      ]
     },
     "execution_count": 20,
     "metadata": {},
     "output_type": "execute_result"
    }
   ],
   "source": [
    "df.Product_Type.head()"
   ]
  },
  {
   "cell_type": "code",
   "execution_count": 21,
   "metadata": {},
   "outputs": [
    {
     "name": "stdout",
     "output_type": "stream",
     "text": [
      "Requirement already satisfied: CurrencyConverter in c:\\python37\\lib\\site-packages (0.14.4)"
     ]
    },
    {
     "name": "stderr",
     "output_type": "stream",
     "text": [
      "WARNING: You are using pip version 20.2; however, version 20.2.4 is available.\n",
      "You should consider upgrading via the 'c:\\python37\\python.exe -m pip install --upgrade pip' command.\n"
     ]
    },
    {
     "name": "stdout",
     "output_type": "stream",
     "text": [
      "\n"
     ]
    }
   ],
   "source": [
    "!pip install CurrencyConverter"
   ]
  },
  {
   "cell_type": "code",
   "execution_count": 22,
   "metadata": {},
   "outputs": [],
   "source": [
    "from currency_converter import CurrencyConverter\n",
    "c = CurrencyConverter(fallback_on_missing_rate=True)"
   ]
  },
  {
   "cell_type": "code",
   "execution_count": 23,
   "metadata": {},
   "outputs": [],
   "source": [
    "df['Total_Amount_(converted)']= df.apply(lambda x: c.convert(x.Total_Amount, x.Total_Amount_Currency, 'USD', date=x.Last_Modified_Date), axis=1)\n",
    "df['Total_Taxable_Amount_(converted)']= df.apply(lambda x: c.convert(x.Total_Taxable_Amount, x.Total_Taxable_Amount_Currency, 'USD', date=x.Last_Modified_Date), axis=1)"
   ]
  },
  {
   "cell_type": "code",
   "execution_count": 24,
   "metadata": {},
   "outputs": [],
   "source": [
    "df_product_type = df.groupby(['Product_Type', 'ASP_(converted)'])['Total_Taxable_Amount_(converted)'].mean()"
   ]
  },
  {
   "cell_type": "code",
   "execution_count": 25,
   "metadata": {},
   "outputs": [
    {
     "data": {
      "text/plain": [
       "Product_Type    ASP_(converted)\n",
       "None            0.00000             19764.829657\n",
       "                0.00001                 0.184140\n",
       "                0.00378              9150.573374\n",
       "                0.15000            109417.785849\n",
       "                0.16000             20189.493750\n",
       "                                       ...      \n",
       "Product_Type_4  1.00000                      NaN\n",
       "                1.60000                      NaN\n",
       "                1.70000                      NaN\n",
       "                57.68578                     NaN\n",
       "                67.00000                     NaN\n",
       "Name: Total_Taxable_Amount_(converted), Length: 3087, dtype: float64"
      ]
     },
     "execution_count": 25,
     "metadata": {},
     "output_type": "execute_result"
    }
   ],
   "source": [
    "df_product_type"
   ]
  },
  {
   "cell_type": "code",
   "execution_count": 26,
   "metadata": {},
   "outputs": [],
   "source": [
    "df_price = df.groupby([ 'Region','Stage'])['ASP_(converted)'].mean().reset_index()\n"
   ]
  },
  {
   "cell_type": "code",
   "execution_count": 27,
   "metadata": {},
   "outputs": [
    {
     "data": {
      "text/html": [
       "<div>\n",
       "<style scoped>\n",
       "    .dataframe tbody tr th:only-of-type {\n",
       "        vertical-align: middle;\n",
       "    }\n",
       "\n",
       "    .dataframe tbody tr th {\n",
       "        vertical-align: top;\n",
       "    }\n",
       "\n",
       "    .dataframe thead th {\n",
       "        text-align: right;\n",
       "    }\n",
       "</style>\n",
       "<table border=\"1\" class=\"dataframe\">\n",
       "  <thead>\n",
       "    <tr style=\"text-align: right;\">\n",
       "      <th></th>\n",
       "      <th>Region</th>\n",
       "      <th>Stage</th>\n",
       "      <th>ASP_(converted)</th>\n",
       "    </tr>\n",
       "  </thead>\n",
       "  <tbody>\n",
       "    <tr>\n",
       "      <th>0</th>\n",
       "      <td>APAC</td>\n",
       "      <td>Closed Lost</td>\n",
       "      <td>0.393111</td>\n",
       "    </tr>\n",
       "    <tr>\n",
       "      <th>1</th>\n",
       "      <td>APAC</td>\n",
       "      <td>Closed Won</td>\n",
       "      <td>0.354736</td>\n",
       "    </tr>\n",
       "    <tr>\n",
       "      <th>2</th>\n",
       "      <td>APAC</td>\n",
       "      <td>Negotiation</td>\n",
       "      <td>NaN</td>\n",
       "    </tr>\n",
       "    <tr>\n",
       "      <th>3</th>\n",
       "      <td>APAC</td>\n",
       "      <td>Proposal</td>\n",
       "      <td>0.316250</td>\n",
       "    </tr>\n",
       "    <tr>\n",
       "      <th>4</th>\n",
       "      <td>APAC</td>\n",
       "      <td>Qualification</td>\n",
       "      <td>0.296667</td>\n",
       "    </tr>\n",
       "    <tr>\n",
       "      <th>5</th>\n",
       "      <td>Americas</td>\n",
       "      <td>Closed Lost</td>\n",
       "      <td>0.463275</td>\n",
       "    </tr>\n",
       "    <tr>\n",
       "      <th>6</th>\n",
       "      <td>Americas</td>\n",
       "      <td>Closed Won</td>\n",
       "      <td>0.448021</td>\n",
       "    </tr>\n",
       "    <tr>\n",
       "      <th>7</th>\n",
       "      <td>Americas</td>\n",
       "      <td>Negotiation</td>\n",
       "      <td>0.360000</td>\n",
       "    </tr>\n",
       "    <tr>\n",
       "      <th>8</th>\n",
       "      <td>Americas</td>\n",
       "      <td>Proposal</td>\n",
       "      <td>0.346667</td>\n",
       "    </tr>\n",
       "    <tr>\n",
       "      <th>9</th>\n",
       "      <td>Americas</td>\n",
       "      <td>Qualification</td>\n",
       "      <td>NaN</td>\n",
       "    </tr>\n",
       "  </tbody>\n",
       "</table>\n",
       "</div>"
      ],
      "text/plain": [
       "     Region          Stage  ASP_(converted)\n",
       "0      APAC    Closed Lost         0.393111\n",
       "1      APAC     Closed Won         0.354736\n",
       "2      APAC    Negotiation              NaN\n",
       "3      APAC       Proposal         0.316250\n",
       "4      APAC  Qualification         0.296667\n",
       "5  Americas    Closed Lost         0.463275\n",
       "6  Americas     Closed Won         0.448021\n",
       "7  Americas    Negotiation         0.360000\n",
       "8  Americas       Proposal         0.346667\n",
       "9  Americas  Qualification              NaN"
      ]
     },
     "execution_count": 27,
     "metadata": {},
     "output_type": "execute_result"
    }
   ],
   "source": [
    "df_price.head(10)"
   ]
  },
  {
   "cell_type": "code",
   "execution_count": 28,
   "metadata": {},
   "outputs": [],
   "source": [
    "df_price.dropna(inplace = True)"
   ]
  },
  {
   "cell_type": "code",
   "execution_count": 29,
   "metadata": {},
   "outputs": [
    {
     "data": {
      "image/png": "[encoded data removed]",
      "text/plain": [
       "<Figure size 1800x360 with 5 Axes>"
      ]
     },
     "metadata": {
      "needs_background": "light"
     },
     "output_type": "display_data"
    }
   ],
   "source": [
    "g = sns.catplot(x=\"Region\", y=\"ASP_(converted)\",\n",
    "                hue=\"Stage\", col=\"Stage\",\n",
    "                data=df_price, kind=\"bar\",\n",
    "                dodge=False, palette='colorblind')"
   ]
  },
  {
   "cell_type": "code",
   "execution_count": 30,
   "metadata": {},
   "outputs": [
    {
     "name": "stdout",
     "output_type": "stream",
     "text": [
      "<class 'pandas.core.frame.DataFrame'>\n",
      "RangeIndex: 16947 entries, 0 to 16946\n",
      "Data columns (total 51 columns):\n",
      " #   Column                              Non-Null Count  Dtype         \n",
      "---  ------                              --------------  -----         \n",
      " 0   ID                                  16947 non-null  int64         \n",
      " 1   Region                              16947 non-null  category      \n",
      " 2   Territory                           16947 non-null  category      \n",
      " 3   Pricing, Delivery_Terms_Quote_Appr  16947 non-null  bool          \n",
      " 4   Pricing, Delivery_Terms_Approved    16947 non-null  bool          \n",
      " 5   Bureaucratic_Code_0_Approval        16947 non-null  bool          \n",
      " 6   Bureaucratic_Code_0_Approved        16947 non-null  bool          \n",
      " 7   Submitted_for_Approval              16947 non-null  bool          \n",
      " 8   Bureaucratic_Code                   16947 non-null  category      \n",
      " 9   Account_Created_Date                16947 non-null  datetime64[ns]\n",
      " 10  Source                              16947 non-null  object        \n",
      " 11  Billing_Country                     16947 non-null  category      \n",
      " 12  Account_Name                        16947 non-null  category      \n",
      " 13  Opportunity_Name                    16947 non-null  category      \n",
      " 14  Opportunity_ID                      16947 non-null  int64         \n",
      " 15  Sales_Contract_No                   16947 non-null  object        \n",
      " 16  Account_Owner                       16947 non-null  category      \n",
      " 17  Opportunity_Owner                   16947 non-null  category      \n",
      " 18  Account_Type                        16947 non-null  category      \n",
      " 19  Opportunity_Type                    16947 non-null  category      \n",
      " 20  Quote_Type                          16947 non-null  category      \n",
      " 21  Delivery_Terms                      16947 non-null  category      \n",
      " 22  Opportunity_Created_Date            16947 non-null  datetime64[ns]\n",
      " 23  Brand                               16947 non-null  category      \n",
      " 24  Product_Type                        16947 non-null  category      \n",
      " 25  Size                                16947 non-null  category      \n",
      " 26  Product_Category_B                  16947 non-null  category      \n",
      " 27  Price                               16947 non-null  float64       \n",
      " 28  Currency                            16947 non-null  category      \n",
      " 29  Quote_Expiry_Date                   12322 non-null  datetime64[ns]\n",
      " 30  Last_Modified_Date                  16947 non-null  datetime64[ns]\n",
      " 31  Last_Modified_By                    16947 non-null  category      \n",
      " 32  Product_Family                      16947 non-null  category      \n",
      " 33  Product_Name                        16947 non-null  category      \n",
      " 34  ASP_Currency                        16947 non-null  category      \n",
      " 35  ASP                                 13738 non-null  float64       \n",
      " 36  ASP_(converted)_Currency            16947 non-null  category      \n",
      " 37  ASP_(converted)                     13738 non-null  float64       \n",
      " 38  Planned_Delivery_Start_Date         16947 non-null  datetime64[ns]\n",
      " 39  Planned_Delivery_End_Date           16872 non-null  datetime64[ns]\n",
      " 40  Month                               16947 non-null  datetime64[ns]\n",
      " 41  Delivery_Quarter                    16947 non-null  category      \n",
      " 42  Delivery_Year                       16947 non-null  int64         \n",
      " 43  TRF                                 16947 non-null  int64         \n",
      " 44  Total_Amount_Currency               16947 non-null  category      \n",
      " 45  Total_Amount                        16888 non-null  float64       \n",
      " 46  Total_Taxable_Amount_Currency       16947 non-null  category      \n",
      " 47  Total_Taxable_Amount                16947 non-null  float64       \n",
      " 48  Stage                               16947 non-null  category      \n",
      " 49  Total_Amount_(converted)            16888 non-null  float64       \n",
      " 50  Total_Taxable_Amount_(converted)    16947 non-null  float64       \n",
      "dtypes: bool(5), category(26), datetime64[ns](7), float64(7), int64(4), object(2)\n",
      "memory usage: 3.7+ MB\n"
     ]
    }
   ],
   "source": [
    "df.info()"
   ]
  },
  {
   "cell_type": "code",
   "execution_count": 31,
   "metadata": {},
   "outputs": [
    {
     "data": {
      "text/plain": [
       "Stage\n",
       "Closed Lost      4.793196e+06\n",
       "Closed Won       1.787157e+06\n",
       "Negotiation      7.249430e+05\n",
       "Proposal         4.550562e+07\n",
       "Qualification    6.967316e+07\n",
       "Name: Total_Taxable_Amount, dtype: float64"
      ]
     },
     "execution_count": 31,
     "metadata": {},
     "output_type": "execute_result"
    }
   ],
   "source": [
    "df.groupby('Stage')['Total_Taxable_Amount'].mean()"
   ]
  },
  {
   "cell_type": "code",
   "execution_count": 32,
   "metadata": {},
   "outputs": [],
   "source": [
    "df_precioregion = df.groupby(['Product_Type', 'Region'])['Total_Taxable_Amount'].mean()"
   ]
  },
  {
   "cell_type": "code",
   "execution_count": 33,
   "metadata": {},
   "outputs": [
    {
     "data": {
      "text/plain": [
       "Product_Type    Region     \n",
       "None            APAC           1.477597e+06\n",
       "                Americas       3.960935e+06\n",
       "                EMEA           1.520619e+06\n",
       "                Japan          4.616757e+06\n",
       "                Middle East    2.249899e+06\n",
       "Other           APAC           1.595506e+07\n",
       "                Americas       3.861512e+06\n",
       "                EMEA           1.289479e+06\n",
       "                Japan          4.684900e+06\n",
       "                Middle East    1.446490e+05\n",
       "Product_Type_0  APAC           6.415123e+05\n",
       "                Americas       2.845772e+06\n",
       "                EMEA           6.277512e+05\n",
       "                Japan          1.698735e+07\n",
       "                Middle East    9.137700e+04\n",
       "Product_Type_1  APAC           1.284095e+06\n",
       "                Americas       1.631713e+07\n",
       "                EMEA           2.853270e+06\n",
       "                Japan          6.905273e+07\n",
       "                Middle East    4.370770e+05\n",
       "Product_Type_2  APAC           1.596000e+05\n",
       "                Americas       4.166910e+04\n",
       "                EMEA           1.115405e+06\n",
       "                Japan                   NaN\n",
       "                Middle East             NaN\n",
       "Product_Type_3  APAC           1.788778e+07\n",
       "                Americas       1.620288e+07\n",
       "                EMEA           1.239268e+06\n",
       "                Japan          3.637404e+07\n",
       "                Middle East    3.840888e+05\n",
       "Product_Type_4  APAC           4.354552e+05\n",
       "                Americas       1.340595e+06\n",
       "                EMEA           1.815615e+06\n",
       "                Japan          3.649708e+05\n",
       "                Middle East             NaN\n",
       "Name: Total_Taxable_Amount, dtype: float64"
      ]
     },
     "execution_count": 33,
     "metadata": {},
     "output_type": "execute_result"
    }
   ],
   "source": [
    "df_precioregion"
   ]
  },
  {
   "cell_type": "code",
   "execution_count": 34,
   "metadata": {},
   "outputs": [],
   "source": [
    "df_preciomarca = df.groupby(['Brand'])['Total_Taxable_Amount_(converted)'].mean().reset_index()"
   ]
  },
  {
   "cell_type": "code",
   "execution_count": 35,
   "metadata": {},
   "outputs": [
    {
     "data": {
      "text/html": [
       "<div>\n",
       "<style scoped>\n",
       "    .dataframe tbody tr th:only-of-type {\n",
       "        vertical-align: middle;\n",
       "    }\n",
       "\n",
       "    .dataframe tbody tr th {\n",
       "        vertical-align: top;\n",
       "    }\n",
       "\n",
       "    .dataframe thead th {\n",
       "        text-align: right;\n",
       "    }\n",
       "</style>\n",
       "<table border=\"1\" class=\"dataframe\">\n",
       "  <thead>\n",
       "    <tr style=\"text-align: right;\">\n",
       "      <th></th>\n",
       "      <th>Brand</th>\n",
       "      <th>Total_Taxable_Amount_(converted)</th>\n",
       "    </tr>\n",
       "  </thead>\n",
       "  <tbody>\n",
       "    <tr>\n",
       "      <th>0</th>\n",
       "      <td>Brand_0</td>\n",
       "      <td>2.318318e+05</td>\n",
       "    </tr>\n",
       "    <tr>\n",
       "      <th>1</th>\n",
       "      <td>Brand_1</td>\n",
       "      <td>1.734085e+05</td>\n",
       "    </tr>\n",
       "    <tr>\n",
       "      <th>2</th>\n",
       "      <td>Brand_10</td>\n",
       "      <td>6.927970e+05</td>\n",
       "    </tr>\n",
       "    <tr>\n",
       "      <th>3</th>\n",
       "      <td>Brand_11</td>\n",
       "      <td>9.699410e+05</td>\n",
       "    </tr>\n",
       "    <tr>\n",
       "      <th>4</th>\n",
       "      <td>Brand_12</td>\n",
       "      <td>2.927796e+05</td>\n",
       "    </tr>\n",
       "    <tr>\n",
       "      <th>5</th>\n",
       "      <td>Brand_13</td>\n",
       "      <td>2.952267e+06</td>\n",
       "    </tr>\n",
       "    <tr>\n",
       "      <th>6</th>\n",
       "      <td>Brand_16</td>\n",
       "      <td>2.383500e+05</td>\n",
       "    </tr>\n",
       "    <tr>\n",
       "      <th>7</th>\n",
       "      <td>Brand_17</td>\n",
       "      <td>8.920171e+05</td>\n",
       "    </tr>\n",
       "    <tr>\n",
       "      <th>8</th>\n",
       "      <td>Brand_19</td>\n",
       "      <td>1.600027e+07</td>\n",
       "    </tr>\n",
       "    <tr>\n",
       "      <th>9</th>\n",
       "      <td>Brand_2</td>\n",
       "      <td>4.869938e+05</td>\n",
       "    </tr>\n",
       "    <tr>\n",
       "      <th>10</th>\n",
       "      <td>Brand_20</td>\n",
       "      <td>7.133973e+05</td>\n",
       "    </tr>\n",
       "    <tr>\n",
       "      <th>11</th>\n",
       "      <td>Brand_21</td>\n",
       "      <td>1.164530e+06</td>\n",
       "    </tr>\n",
       "    <tr>\n",
       "      <th>12</th>\n",
       "      <td>Brand_22</td>\n",
       "      <td>6.189104e+05</td>\n",
       "    </tr>\n",
       "    <tr>\n",
       "      <th>13</th>\n",
       "      <td>Brand_23</td>\n",
       "      <td>3.624446e+05</td>\n",
       "    </tr>\n",
       "    <tr>\n",
       "      <th>14</th>\n",
       "      <td>Brand_24</td>\n",
       "      <td>1.633365e+07</td>\n",
       "    </tr>\n",
       "    <tr>\n",
       "      <th>15</th>\n",
       "      <td>Brand_25</td>\n",
       "      <td>1.956600e+07</td>\n",
       "    </tr>\n",
       "    <tr>\n",
       "      <th>16</th>\n",
       "      <td>Brand_26</td>\n",
       "      <td>8.378370e+05</td>\n",
       "    </tr>\n",
       "    <tr>\n",
       "      <th>17</th>\n",
       "      <td>Brand_27</td>\n",
       "      <td>1.383355e+06</td>\n",
       "    </tr>\n",
       "    <tr>\n",
       "      <th>18</th>\n",
       "      <td>Brand_3</td>\n",
       "      <td>3.052001e+06</td>\n",
       "    </tr>\n",
       "    <tr>\n",
       "      <th>19</th>\n",
       "      <td>Brand_4</td>\n",
       "      <td>6.970255e+05</td>\n",
       "    </tr>\n",
       "    <tr>\n",
       "      <th>20</th>\n",
       "      <td>Brand_5</td>\n",
       "      <td>1.763042e+06</td>\n",
       "    </tr>\n",
       "    <tr>\n",
       "      <th>21</th>\n",
       "      <td>Brand_6</td>\n",
       "      <td>3.999940e+06</td>\n",
       "    </tr>\n",
       "    <tr>\n",
       "      <th>22</th>\n",
       "      <td>Brand_7</td>\n",
       "      <td>4.820534e+06</td>\n",
       "    </tr>\n",
       "    <tr>\n",
       "      <th>23</th>\n",
       "      <td>Brand_9</td>\n",
       "      <td>2.214475e+06</td>\n",
       "    </tr>\n",
       "    <tr>\n",
       "      <th>24</th>\n",
       "      <td>None</td>\n",
       "      <td>1.718206e+06</td>\n",
       "    </tr>\n",
       "    <tr>\n",
       "      <th>25</th>\n",
       "      <td>Other</td>\n",
       "      <td>5.900936e+06</td>\n",
       "    </tr>\n",
       "  </tbody>\n",
       "</table>\n",
       "</div>"
      ],
      "text/plain": [
       "       Brand  Total_Taxable_Amount_(converted)\n",
       "0    Brand_0                      2.318318e+05\n",
       "1    Brand_1                      1.734085e+05\n",
       "2   Brand_10                      6.927970e+05\n",
       "3   Brand_11                      9.699410e+05\n",
       "4   Brand_12                      2.927796e+05\n",
       "5   Brand_13                      2.952267e+06\n",
       "6   Brand_16                      2.383500e+05\n",
       "7   Brand_17                      8.920171e+05\n",
       "8   Brand_19                      1.600027e+07\n",
       "9    Brand_2                      4.869938e+05\n",
       "10  Brand_20                      7.133973e+05\n",
       "11  Brand_21                      1.164530e+06\n",
       "12  Brand_22                      6.189104e+05\n",
       "13  Brand_23                      3.624446e+05\n",
       "14  Brand_24                      1.633365e+07\n",
       "15  Brand_25                      1.956600e+07\n",
       "16  Brand_26                      8.378370e+05\n",
       "17  Brand_27                      1.383355e+06\n",
       "18   Brand_3                      3.052001e+06\n",
       "19   Brand_4                      6.970255e+05\n",
       "20   Brand_5                      1.763042e+06\n",
       "21   Brand_6                      3.999940e+06\n",
       "22   Brand_7                      4.820534e+06\n",
       "23   Brand_9                      2.214475e+06\n",
       "24      None                      1.718206e+06\n",
       "25     Other                      5.900936e+06"
      ]
     },
     "execution_count": 35,
     "metadata": {},
     "output_type": "execute_result"
    }
   ],
   "source": [
    "df_preciomarca"
   ]
  },
  {
   "cell_type": "code",
   "execution_count": 36,
   "metadata": {},
   "outputs": [],
   "source": [
    "df_precioproducto = df.groupby('Product_Name').agg({'TRF':'mean', 'Total_Taxable_Amount_(converted)':'mean', 'Opportunity_ID':'count'}).reset_index()"
   ]
  },
  {
   "cell_type": "code",
   "execution_count": 37,
   "metadata": {},
   "outputs": [],
   "source": [
    "df_precioproducto = df_precioproducto[(df_precioproducto.TRF >0 )& (df_precioproducto['Total_Taxable_Amount_(converted)'] > 0.0)]"
   ]
  },
  {
   "cell_type": "code",
   "execution_count": 38,
   "metadata": {},
   "outputs": [
    {
     "data": {
      "text/html": [
       "<div>\n",
       "<style scoped>\n",
       "    .dataframe tbody tr th:only-of-type {\n",
       "        vertical-align: middle;\n",
       "    }\n",
       "\n",
       "    .dataframe tbody tr th {\n",
       "        vertical-align: top;\n",
       "    }\n",
       "\n",
       "    .dataframe thead th {\n",
       "        text-align: right;\n",
       "    }\n",
       "</style>\n",
       "<table border=\"1\" class=\"dataframe\">\n",
       "  <thead>\n",
       "    <tr style=\"text-align: right;\">\n",
       "      <th></th>\n",
       "      <th>Product_Name</th>\n",
       "      <th>TRF</th>\n",
       "      <th>Total_Taxable_Amount_(converted)</th>\n",
       "      <th>Opportunity_ID</th>\n",
       "    </tr>\n",
       "  </thead>\n",
       "  <tbody>\n",
       "    <tr>\n",
       "      <th>10</th>\n",
       "      <td>Product_Name_107</td>\n",
       "      <td>1.000000</td>\n",
       "      <td>6.306498e+05</td>\n",
       "      <td>82</td>\n",
       "    </tr>\n",
       "    <tr>\n",
       "      <th>11</th>\n",
       "      <td>Product_Name_108</td>\n",
       "      <td>2.000000</td>\n",
       "      <td>9.304608e+05</td>\n",
       "      <td>16</td>\n",
       "    </tr>\n",
       "    <tr>\n",
       "      <th>12</th>\n",
       "      <td>Product_Name_109</td>\n",
       "      <td>20.375000</td>\n",
       "      <td>9.612091e+06</td>\n",
       "      <td>16</td>\n",
       "    </tr>\n",
       "    <tr>\n",
       "      <th>14</th>\n",
       "      <td>Product_Name_110</td>\n",
       "      <td>5.287234</td>\n",
       "      <td>6.727262e+06</td>\n",
       "      <td>94</td>\n",
       "    </tr>\n",
       "    <tr>\n",
       "      <th>16</th>\n",
       "      <td>Product_Name_112</td>\n",
       "      <td>1.000000</td>\n",
       "      <td>3.515650e+05</td>\n",
       "      <td>2</td>\n",
       "    </tr>\n",
       "    <tr>\n",
       "      <th>...</th>\n",
       "      <td>...</td>\n",
       "      <td>...</td>\n",
       "      <td>...</td>\n",
       "      <td>...</td>\n",
       "    </tr>\n",
       "    <tr>\n",
       "      <th>448</th>\n",
       "      <td>Product_Name_99</td>\n",
       "      <td>5.188976</td>\n",
       "      <td>3.201497e+06</td>\n",
       "      <td>127</td>\n",
       "    </tr>\n",
       "    <tr>\n",
       "      <th>449</th>\n",
       "      <td>Product_Name_136</td>\n",
       "      <td>2.000000</td>\n",
       "      <td>1.418440e+06</td>\n",
       "      <td>1</td>\n",
       "    </tr>\n",
       "    <tr>\n",
       "      <th>450</th>\n",
       "      <td>Product_Name_151</td>\n",
       "      <td>11.000000</td>\n",
       "      <td>1.880644e+07</td>\n",
       "      <td>1</td>\n",
       "    </tr>\n",
       "    <tr>\n",
       "      <th>451</th>\n",
       "      <td>Product_Name_288</td>\n",
       "      <td>80.000000</td>\n",
       "      <td>5.138560e+07</td>\n",
       "      <td>1</td>\n",
       "    </tr>\n",
       "    <tr>\n",
       "      <th>454</th>\n",
       "      <td>Product_Name_512</td>\n",
       "      <td>10.000000</td>\n",
       "      <td>6.422401e+06</td>\n",
       "      <td>1</td>\n",
       "    </tr>\n",
       "  </tbody>\n",
       "</table>\n",
       "<p>231 rows × 4 columns</p>\n",
       "</div>"
      ],
      "text/plain": [
       "         Product_Name        TRF  Total_Taxable_Amount_(converted)  \\\n",
       "10   Product_Name_107   1.000000                      6.306498e+05   \n",
       "11   Product_Name_108   2.000000                      9.304608e+05   \n",
       "12   Product_Name_109  20.375000                      9.612091e+06   \n",
       "14   Product_Name_110   5.287234                      6.727262e+06   \n",
       "16   Product_Name_112   1.000000                      3.515650e+05   \n",
       "..                ...        ...                               ...   \n",
       "448   Product_Name_99   5.188976                      3.201497e+06   \n",
       "449  Product_Name_136   2.000000                      1.418440e+06   \n",
       "450  Product_Name_151  11.000000                      1.880644e+07   \n",
       "451  Product_Name_288  80.000000                      5.138560e+07   \n",
       "454  Product_Name_512  10.000000                      6.422401e+06   \n",
       "\n",
       "     Opportunity_ID  \n",
       "10               82  \n",
       "11               16  \n",
       "12               16  \n",
       "14               94  \n",
       "16                2  \n",
       "..              ...  \n",
       "448             127  \n",
       "449               1  \n",
       "450               1  \n",
       "451               1  \n",
       "454               1  \n",
       "\n",
       "[231 rows x 4 columns]"
      ]
     },
     "execution_count": 38,
     "metadata": {},
     "output_type": "execute_result"
    }
   ],
   "source": [
    "df_precioproducto"
   ]
  },
  {
   "cell_type": "code",
   "execution_count": 39,
   "metadata": {},
   "outputs": [
    {
     "data": {
      "text/plain": [
       "500"
      ]
     },
     "execution_count": 39,
     "metadata": {},
     "output_type": "execute_result"
    }
   ],
   "source": [
    "df.TRF.max()"
   ]
  },
  {
   "cell_type": "code",
   "execution_count": 40,
   "metadata": {},
   "outputs": [
    {
     "data": {
      "text/plain": [
       "<matplotlib.collections.PathCollection at 0x28b4caa4ef0>"
      ]
     },
     "execution_count": 40,
     "metadata": {},
     "output_type": "execute_result"
    },
    {
     "data": {
      "image/png": "[encoded data removed]",
      "text/plain": [
       "<Figure size 1152x576 with 1 Axes>"
      ]
     },
     "metadata": {
      "needs_background": "light"
     },
     "output_type": "display_data"
    }
   ],
   "source": [
    "plt.figure(figsize=(16,8))\n",
    "plt.title('Relación entre ')\n",
    "plt.ylabel('TRF promedio')\n",
    "plt.xlabel('Monto Gravado Total Promedio [USD]')\n",
    "plt.scatter(df_precioproducto['Total_Taxable_Amount_(converted)'], df_precioproducto.TRF,\\\n",
    "            s=5*df_precioproducto.Opportunity_ID, alpha=0.4)"
   ]
  },
  {
   "cell_type": "code",
   "execution_count": 41,
   "metadata": {},
   "outputs": [
    {
     "data": {
      "text/plain": [
       "<seaborn.axisgrid.JointGrid at 0x28b4c83b518>"
      ]
     },
     "execution_count": 41,
     "metadata": {},
     "output_type": "execute_result"
    },
    {
     "data": {
      "text/plain": [
       "<Figure size 1152x576 with 0 Axes>"
      ]
     },
     "metadata": {},
     "output_type": "display_data"
    },
    {
     "data": {
      "image/png": "[encoded data removed]",
      "text/plain": [
       "<Figure size 432x432 with 3 Axes>"
      ]
     },
     "metadata": {
      "needs_background": "light"
     },
     "output_type": "display_data"
    }
   ],
   "source": [
    "plt.figure(figsize=(16,8))\n",
    "sns.jointplot(x=df_precioproducto['Total_Taxable_Amount_(converted)'], y=df_precioproducto.TRF, kind='kde')\n"
   ]
  },
  {
   "cell_type": "code",
   "execution_count": 42,
   "metadata": {},
   "outputs": [],
   "source": [
    "df['delta_oportunidad'] = df.Last_Modified_Date -df.Opportunity_Created_Date"
   ]
  },
  {
   "cell_type": "code",
   "execution_count": 43,
   "metadata": {},
   "outputs": [
    {
     "data": {
      "text/plain": [
       "<pandas.core.groupby.generic.DataFrameGroupBy object at 0x0000028B4A5CAF60>"
      ]
     },
     "execution_count": 43,
     "metadata": {},
     "output_type": "execute_result"
    }
   ],
   "source": [
    "df.groupby(['Opportunity_ID', 'Stage'])"
   ]
  },
  {
   "cell_type": "code",
   "execution_count": 44,
   "metadata": {},
   "outputs": [],
   "source": [
    "df_test = df[df.Opportunity_ID == 12801]"
   ]
  },
  {
   "cell_type": "code",
   "execution_count": 45,
   "metadata": {},
   "outputs": [
    {
     "data": {
      "text/html": [
       "<div>\n",
       "<style scoped>\n",
       "    .dataframe tbody tr th:only-of-type {\n",
       "        vertical-align: middle;\n",
       "    }\n",
       "\n",
       "    .dataframe tbody tr th {\n",
       "        vertical-align: top;\n",
       "    }\n",
       "\n",
       "    .dataframe thead th {\n",
       "        text-align: right;\n",
       "    }\n",
       "</style>\n",
       "<table border=\"1\" class=\"dataframe\">\n",
       "  <thead>\n",
       "    <tr style=\"text-align: right;\">\n",
       "      <th></th>\n",
       "      <th>ID</th>\n",
       "      <th>Region</th>\n",
       "      <th>Territory</th>\n",
       "      <th>Pricing, Delivery_Terms_Quote_Appr</th>\n",
       "      <th>Pricing, Delivery_Terms_Approved</th>\n",
       "      <th>Bureaucratic_Code_0_Approval</th>\n",
       "      <th>Bureaucratic_Code_0_Approved</th>\n",
       "      <th>Submitted_for_Approval</th>\n",
       "      <th>Bureaucratic_Code</th>\n",
       "      <th>Account_Created_Date</th>\n",
       "      <th>...</th>\n",
       "      <th>Delivery_Year</th>\n",
       "      <th>TRF</th>\n",
       "      <th>Total_Amount_Currency</th>\n",
       "      <th>Total_Amount</th>\n",
       "      <th>Total_Taxable_Amount_Currency</th>\n",
       "      <th>Total_Taxable_Amount</th>\n",
       "      <th>Stage</th>\n",
       "      <th>Total_Amount_(converted)</th>\n",
       "      <th>Total_Taxable_Amount_(converted)</th>\n",
       "      <th>delta_oportunidad</th>\n",
       "    </tr>\n",
       "  </thead>\n",
       "  <tbody>\n",
       "    <tr>\n",
       "      <th>16942</th>\n",
       "      <td>8781</td>\n",
       "      <td>EMEA</td>\n",
       "      <td>Austria</td>\n",
       "      <td>True</td>\n",
       "      <td>True</td>\n",
       "      <td>True</td>\n",
       "      <td>True</td>\n",
       "      <td>False</td>\n",
       "      <td>Bureaucratic_Code_4</td>\n",
       "      <td>2016-01-15</td>\n",
       "      <td>...</td>\n",
       "      <td>2016</td>\n",
       "      <td>0</td>\n",
       "      <td>EUR</td>\n",
       "      <td>103350.0</td>\n",
       "      <td>EUR</td>\n",
       "      <td>299715.0</td>\n",
       "      <td>Closed Won</td>\n",
       "      <td>112320.780</td>\n",
       "      <td>325730.262</td>\n",
       "      <td>46 days</td>\n",
       "    </tr>\n",
       "    <tr>\n",
       "      <th>16943</th>\n",
       "      <td>8786</td>\n",
       "      <td>EMEA</td>\n",
       "      <td>Austria</td>\n",
       "      <td>True</td>\n",
       "      <td>True</td>\n",
       "      <td>True</td>\n",
       "      <td>True</td>\n",
       "      <td>False</td>\n",
       "      <td>Bureaucratic_Code_4</td>\n",
       "      <td>2016-01-15</td>\n",
       "      <td>...</td>\n",
       "      <td>2016</td>\n",
       "      <td>0</td>\n",
       "      <td>EUR</td>\n",
       "      <td>93015.0</td>\n",
       "      <td>EUR</td>\n",
       "      <td>299715.0</td>\n",
       "      <td>Closed Won</td>\n",
       "      <td>101088.702</td>\n",
       "      <td>325730.262</td>\n",
       "      <td>46 days</td>\n",
       "    </tr>\n",
       "    <tr>\n",
       "      <th>16944</th>\n",
       "      <td>8792</td>\n",
       "      <td>EMEA</td>\n",
       "      <td>Austria</td>\n",
       "      <td>True</td>\n",
       "      <td>True</td>\n",
       "      <td>True</td>\n",
       "      <td>True</td>\n",
       "      <td>False</td>\n",
       "      <td>Bureaucratic_Code_4</td>\n",
       "      <td>2016-01-15</td>\n",
       "      <td>...</td>\n",
       "      <td>2016</td>\n",
       "      <td>0</td>\n",
       "      <td>EUR</td>\n",
       "      <td>103350.0</td>\n",
       "      <td>EUR</td>\n",
       "      <td>299715.0</td>\n",
       "      <td>Closed Won</td>\n",
       "      <td>112320.780</td>\n",
       "      <td>325730.262</td>\n",
       "      <td>46 days</td>\n",
       "    </tr>\n",
       "  </tbody>\n",
       "</table>\n",
       "<p>3 rows × 52 columns</p>\n",
       "</div>"
      ],
      "text/plain": [
       "         ID Region Territory  Pricing, Delivery_Terms_Quote_Appr  \\\n",
       "16942  8781   EMEA   Austria                                True   \n",
       "16943  8786   EMEA   Austria                                True   \n",
       "16944  8792   EMEA   Austria                                True   \n",
       "\n",
       "       Pricing, Delivery_Terms_Approved  Bureaucratic_Code_0_Approval  \\\n",
       "16942                              True                          True   \n",
       "16943                              True                          True   \n",
       "16944                              True                          True   \n",
       "\n",
       "       Bureaucratic_Code_0_Approved  Submitted_for_Approval  \\\n",
       "16942                          True                   False   \n",
       "16943                          True                   False   \n",
       "16944                          True                   False   \n",
       "\n",
       "         Bureaucratic_Code Account_Created_Date  ... Delivery_Year TRF  \\\n",
       "16942  Bureaucratic_Code_4           2016-01-15  ...          2016   0   \n",
       "16943  Bureaucratic_Code_4           2016-01-15  ...          2016   0   \n",
       "16944  Bureaucratic_Code_4           2016-01-15  ...          2016   0   \n",
       "\n",
       "      Total_Amount_Currency Total_Amount  Total_Taxable_Amount_Currency  \\\n",
       "16942                   EUR     103350.0                            EUR   \n",
       "16943                   EUR      93015.0                            EUR   \n",
       "16944                   EUR     103350.0                            EUR   \n",
       "\n",
       "      Total_Taxable_Amount       Stage Total_Amount_(converted)  \\\n",
       "16942             299715.0  Closed Won               112320.780   \n",
       "16943             299715.0  Closed Won               101088.702   \n",
       "16944             299715.0  Closed Won               112320.780   \n",
       "\n",
       "      Total_Taxable_Amount_(converted) delta_oportunidad  \n",
       "16942                       325730.262           46 days  \n",
       "16943                       325730.262           46 days  \n",
       "16944                       325730.262           46 days  \n",
       "\n",
       "[3 rows x 52 columns]"
      ]
     },
     "execution_count": 45,
     "metadata": {},
     "output_type": "execute_result"
    }
   ],
   "source": [
    "df_test"
   ]
  },
  {
   "cell_type": "code",
   "execution_count": null,
   "metadata": {},
   "outputs": [],
   "source": []
  },
  {
   "cell_type": "code",
   "execution_count": 46,
   "metadata": {},
   "outputs": [
    {
     "data": {
      "text/plain": [
       "0    5.941391e+06\n",
       "1    5.263822e+04\n",
       "2    8.386560e+04\n",
       "3    7.421882e+06\n",
       "4    1.335719e+07\n",
       "Name: Total_Taxable_Amount_(converted), dtype: float64"
      ]
     },
     "execution_count": 46,
     "metadata": {},
     "output_type": "execute_result"
    }
   ],
   "source": [
    "df['Total_Taxable_Amount_(converted)'].head()"
   ]
  },
  {
   "cell_type": "code",
   "execution_count": 47,
   "metadata": {},
   "outputs": [
    {
     "name": "stderr",
     "output_type": "stream",
     "text": [
      "c:\\python37\\lib\\site-packages\\ipykernel_launcher.py:1: FutureWarning: Indexing with multiple keys (implicitly converted to a tuple of keys) will be deprecated, use a list instead.\n",
      "  \"\"\"Entry point for launching an IPython kernel.\n"
     ]
    }
   ],
   "source": [
    "df_deltastage = df.groupby(['Opportunity_ID'])['delta_oportunidad', 'Stage', 'Region'].head()"
   ]
  },
  {
   "cell_type": "code",
   "execution_count": 48,
   "metadata": {},
   "outputs": [],
   "source": [
    "df_deltastage['Normalized_delta']= df_deltastage.delta_oportunidad/df_deltastage.delta_oportunidad.max()"
   ]
  },
  {
   "cell_type": "code",
   "execution_count": 49,
   "metadata": {},
   "outputs": [],
   "source": [
    "df_deltastage.drop(columns='delta_oportunidad')\n",
    "df_deltastage_mean = df_deltastage.groupby(['Stage', 'Region'])['Normalized_delta'].mean()"
   ]
  },
  {
   "cell_type": "code",
   "execution_count": 50,
   "metadata": {},
   "outputs": [
    {
     "data": {
      "text/plain": [
       "Stage          Region     \n",
       "Closed Lost    APAC           0.122422\n",
       "               Americas       0.113300\n",
       "               EMEA           0.105222\n",
       "               Japan          0.140933\n",
       "               Middle East    0.112981\n",
       "Closed Won     APAC           0.095763\n",
       "               Americas       0.085554\n",
       "               EMEA           0.100379\n",
       "               Japan          0.087546\n",
       "               Middle East    0.063189\n",
       "Negotiation    Americas       0.000563\n",
       "               EMEA           0.055775\n",
       "               Japan          0.049014\n",
       "               Middle East    0.022394\n",
       "Proposal       APAC           0.005423\n",
       "               Americas       0.000423\n",
       "               EMEA           0.028545\n",
       "               Japan          0.020966\n",
       "               Middle East    0.011455\n",
       "Qualification  APAC           0.000000\n",
       "               Japan          0.000000\n",
       "Name: Normalized_delta, dtype: float64"
      ]
     },
     "execution_count": 50,
     "metadata": {},
     "output_type": "execute_result"
    }
   ],
   "source": [
    "\n",
    "df_deltastage_mean.reset_index()\n",
    "df_deltastage_mean.dropna()"
   ]
  },
  {
   "cell_type": "code",
   "execution_count": null,
   "metadata": {},
   "outputs": [],
   "source": []
  },
  {
   "cell_type": "code",
   "execution_count": 51,
   "metadata": {},
   "outputs": [
    {
     "data": {
      "text/html": [
       "<div>\n",
       "<style scoped>\n",
       "    .dataframe tbody tr th:only-of-type {\n",
       "        vertical-align: middle;\n",
       "    }\n",
       "\n",
       "    .dataframe tbody tr th {\n",
       "        vertical-align: top;\n",
       "    }\n",
       "\n",
       "    .dataframe thead th {\n",
       "        text-align: right;\n",
       "    }\n",
       "</style>\n",
       "<table border=\"1\" class=\"dataframe\">\n",
       "  <thead>\n",
       "    <tr style=\"text-align: right;\">\n",
       "      <th></th>\n",
       "      <th>delta_oportunidad</th>\n",
       "      <th>Stage</th>\n",
       "      <th>Region</th>\n",
       "      <th>Normalized_delta</th>\n",
       "    </tr>\n",
       "  </thead>\n",
       "  <tbody>\n",
       "    <tr>\n",
       "      <th>0</th>\n",
       "      <td>189 days</td>\n",
       "      <td>Closed Lost</td>\n",
       "      <td>EMEA</td>\n",
       "      <td>0.106479</td>\n",
       "    </tr>\n",
       "    <tr>\n",
       "      <th>1</th>\n",
       "      <td>39 days</td>\n",
       "      <td>Closed Won</td>\n",
       "      <td>EMEA</td>\n",
       "      <td>0.021972</td>\n",
       "    </tr>\n",
       "    <tr>\n",
       "      <th>2</th>\n",
       "      <td>296 days</td>\n",
       "      <td>Closed Won</td>\n",
       "      <td>Americas</td>\n",
       "      <td>0.166761</td>\n",
       "    </tr>\n",
       "    <tr>\n",
       "      <th>3</th>\n",
       "      <td>840 days</td>\n",
       "      <td>Closed Lost</td>\n",
       "      <td>Americas</td>\n",
       "      <td>0.473239</td>\n",
       "    </tr>\n",
       "    <tr>\n",
       "      <th>4</th>\n",
       "      <td>840 days</td>\n",
       "      <td>Closed Lost</td>\n",
       "      <td>Americas</td>\n",
       "      <td>0.473239</td>\n",
       "    </tr>\n",
       "    <tr>\n",
       "      <th>...</th>\n",
       "      <td>...</td>\n",
       "      <td>...</td>\n",
       "      <td>...</td>\n",
       "      <td>...</td>\n",
       "    </tr>\n",
       "    <tr>\n",
       "      <th>16942</th>\n",
       "      <td>46 days</td>\n",
       "      <td>Closed Won</td>\n",
       "      <td>EMEA</td>\n",
       "      <td>0.025915</td>\n",
       "    </tr>\n",
       "    <tr>\n",
       "      <th>16943</th>\n",
       "      <td>46 days</td>\n",
       "      <td>Closed Won</td>\n",
       "      <td>EMEA</td>\n",
       "      <td>0.025915</td>\n",
       "    </tr>\n",
       "    <tr>\n",
       "      <th>16944</th>\n",
       "      <td>46 days</td>\n",
       "      <td>Closed Won</td>\n",
       "      <td>EMEA</td>\n",
       "      <td>0.025915</td>\n",
       "    </tr>\n",
       "    <tr>\n",
       "      <th>16945</th>\n",
       "      <td>48 days</td>\n",
       "      <td>Closed Lost</td>\n",
       "      <td>Americas</td>\n",
       "      <td>0.027042</td>\n",
       "    </tr>\n",
       "    <tr>\n",
       "      <th>16946</th>\n",
       "      <td>298 days</td>\n",
       "      <td>Closed Lost</td>\n",
       "      <td>Americas</td>\n",
       "      <td>0.167887</td>\n",
       "    </tr>\n",
       "  </tbody>\n",
       "</table>\n",
       "<p>15791 rows × 4 columns</p>\n",
       "</div>"
      ],
      "text/plain": [
       "      delta_oportunidad        Stage    Region  Normalized_delta\n",
       "0              189 days  Closed Lost      EMEA          0.106479\n",
       "1               39 days   Closed Won      EMEA          0.021972\n",
       "2              296 days   Closed Won  Americas          0.166761\n",
       "3              840 days  Closed Lost  Americas          0.473239\n",
       "4              840 days  Closed Lost  Americas          0.473239\n",
       "...                 ...          ...       ...               ...\n",
       "16942           46 days   Closed Won      EMEA          0.025915\n",
       "16943           46 days   Closed Won      EMEA          0.025915\n",
       "16944           46 days   Closed Won      EMEA          0.025915\n",
       "16945           48 days  Closed Lost  Americas          0.027042\n",
       "16946          298 days  Closed Lost  Americas          0.167887\n",
       "\n",
       "[15791 rows x 4 columns]"
      ]
     },
     "execution_count": 51,
     "metadata": {},
     "output_type": "execute_result"
    }
   ],
   "source": [
    "df_deltastage"
   ]
  },
  {
   "cell_type": "code",
   "execution_count": 52,
   "metadata": {},
   "outputs": [
    {
     "data": {
      "text/plain": [
       "<AxesSubplot:xlabel='Stage', ylabel='Normalized_delta'>"
      ]
     },
     "execution_count": 52,
     "metadata": {},
     "output_type": "execute_result"
    },
    {
     "data": {
      "image/png": "[encoded data removed]",
      "text/plain": [
       "<Figure size 1152x576 with 1 Axes>"
      ]
     },
     "metadata": {
      "needs_background": "light"
     },
     "output_type": "display_data"
    }
   ],
   "source": [
    "plt.figure(figsize= (16,8))\n",
    "sns.violinplot(x ='Stage', y ='Normalized_delta', data = df_deltastage) "
   ]
  },
  {
   "cell_type": "code",
   "execution_count": 53,
   "metadata": {},
   "outputs": [
    {
     "data": {
      "text/plain": [
       "Timestamp('2018-12-29 00:00:00')"
      ]
     },
     "execution_count": 53,
     "metadata": {},
     "output_type": "execute_result"
    }
   ],
   "source": [
    "df.Last_Modified_Date.max()"
   ]
  },
  {
   "cell_type": "code",
   "execution_count": 54,
   "metadata": {},
   "outputs": [
    {
     "data": {
      "text/plain": [
       "Timestamp('2015-03-12 00:00:00')"
      ]
     },
     "execution_count": 54,
     "metadata": {},
     "output_type": "execute_result"
    }
   ],
   "source": [
    "df.Last_Modified_Date.min()"
   ]
  },
  {
   "cell_type": "code",
   "execution_count": 55,
   "metadata": {},
   "outputs": [
    {
     "data": {
      "text/html": [
       "<div>\n",
       "<style scoped>\n",
       "    .dataframe tbody tr th:only-of-type {\n",
       "        vertical-align: middle;\n",
       "    }\n",
       "\n",
       "    .dataframe tbody tr th {\n",
       "        vertical-align: top;\n",
       "    }\n",
       "\n",
       "    .dataframe thead th {\n",
       "        text-align: right;\n",
       "    }\n",
       "</style>\n",
       "<table border=\"1\" class=\"dataframe\">\n",
       "  <thead>\n",
       "    <tr style=\"text-align: right;\">\n",
       "      <th></th>\n",
       "      <th>Opportunity_ID</th>\n",
       "      <th>Region</th>\n",
       "      <th>Last_Modified_Date</th>\n",
       "      <th>Total_Amount_(converted)</th>\n",
       "    </tr>\n",
       "  </thead>\n",
       "  <tbody>\n",
       "    <tr>\n",
       "      <th>1</th>\n",
       "      <td>1</td>\n",
       "      <td>EMEA</td>\n",
       "      <td>2016-01-15</td>\n",
       "      <td>52638.222</td>\n",
       "    </tr>\n",
       "    <tr>\n",
       "      <th>2</th>\n",
       "      <td>2</td>\n",
       "      <td>Americas</td>\n",
       "      <td>2016-09-29</td>\n",
       "      <td>83865.600</td>\n",
       "    </tr>\n",
       "    <tr>\n",
       "      <th>7</th>\n",
       "      <td>7</td>\n",
       "      <td>Americas</td>\n",
       "      <td>2015-12-09</td>\n",
       "      <td>50688.000</td>\n",
       "    </tr>\n",
       "    <tr>\n",
       "      <th>23</th>\n",
       "      <td>11</td>\n",
       "      <td>APAC</td>\n",
       "      <td>2016-01-07</td>\n",
       "      <td>1621851.000</td>\n",
       "    </tr>\n",
       "    <tr>\n",
       "      <th>63</th>\n",
       "      <td>20</td>\n",
       "      <td>EMEA</td>\n",
       "      <td>2015-12-09</td>\n",
       "      <td>113075.235</td>\n",
       "    </tr>\n",
       "    <tr>\n",
       "      <th>...</th>\n",
       "      <td>...</td>\n",
       "      <td>...</td>\n",
       "      <td>...</td>\n",
       "      <td>...</td>\n",
       "    </tr>\n",
       "    <tr>\n",
       "      <th>16937</th>\n",
       "      <td>12797</td>\n",
       "      <td>EMEA</td>\n",
       "      <td>2015-12-18</td>\n",
       "      <td>447960.240</td>\n",
       "    </tr>\n",
       "    <tr>\n",
       "      <th>16939</th>\n",
       "      <td>12799</td>\n",
       "      <td>EMEA</td>\n",
       "      <td>2016-04-01</td>\n",
       "      <td>459223.440</td>\n",
       "    </tr>\n",
       "    <tr>\n",
       "      <th>16942</th>\n",
       "      <td>12801</td>\n",
       "      <td>EMEA</td>\n",
       "      <td>2016-01-19</td>\n",
       "      <td>112320.780</td>\n",
       "    </tr>\n",
       "    <tr>\n",
       "      <th>16943</th>\n",
       "      <td>12801</td>\n",
       "      <td>EMEA</td>\n",
       "      <td>2016-01-19</td>\n",
       "      <td>101088.702</td>\n",
       "    </tr>\n",
       "    <tr>\n",
       "      <th>16944</th>\n",
       "      <td>12801</td>\n",
       "      <td>EMEA</td>\n",
       "      <td>2016-01-19</td>\n",
       "      <td>112320.780</td>\n",
       "    </tr>\n",
       "  </tbody>\n",
       "</table>\n",
       "<p>9533 rows × 4 columns</p>\n",
       "</div>"
      ],
      "text/plain": [
       "       Opportunity_ID    Region Last_Modified_Date  Total_Amount_(converted)\n",
       "1                   1      EMEA         2016-01-15                 52638.222\n",
       "2                   2  Americas         2016-09-29                 83865.600\n",
       "7                   7  Americas         2015-12-09                 50688.000\n",
       "23                 11      APAC         2016-01-07               1621851.000\n",
       "63                 20      EMEA         2015-12-09                113075.235\n",
       "...               ...       ...                ...                       ...\n",
       "16937           12797      EMEA         2015-12-18                447960.240\n",
       "16939           12799      EMEA         2016-04-01                459223.440\n",
       "16942           12801      EMEA         2016-01-19                112320.780\n",
       "16943           12801      EMEA         2016-01-19                101088.702\n",
       "16944           12801      EMEA         2016-01-19                112320.780\n",
       "\n",
       "[9533 rows x 4 columns]"
      ]
     },
     "execution_count": 55,
     "metadata": {},
     "output_type": "execute_result"
    }
   ],
   "source": [
    "df_won = df[df['Stage'] == 'Closed Won']\n",
    "df_won = df_won[['Opportunity_ID', 'Region', 'Last_Modified_Date', 'Total_Amount_(converted)']] \n",
    "df_won"
   ]
  },
  {
   "cell_type": "code",
   "execution_count": 56,
   "metadata": {},
   "outputs": [
    {
     "data": {
      "text/html": [
       "<div>\n",
       "<style scoped>\n",
       "    .dataframe tbody tr th:only-of-type {\n",
       "        vertical-align: middle;\n",
       "    }\n",
       "\n",
       "    .dataframe tbody tr th {\n",
       "        vertical-align: top;\n",
       "    }\n",
       "\n",
       "    .dataframe thead th {\n",
       "        text-align: right;\n",
       "    }\n",
       "</style>\n",
       "<table border=\"1\" class=\"dataframe\">\n",
       "  <thead>\n",
       "    <tr style=\"text-align: right;\">\n",
       "      <th></th>\n",
       "      <th>Last_Modified_Date</th>\n",
       "      <th>Opportunity_ID</th>\n",
       "      <th>Total_Amount_(converted)</th>\n",
       "      <th>Region</th>\n",
       "    </tr>\n",
       "  </thead>\n",
       "  <tbody>\n",
       "    <tr>\n",
       "      <th>0</th>\n",
       "      <td>2015-03-12</td>\n",
       "      <td>12397</td>\n",
       "      <td>0.00</td>\n",
       "      <td>Japan</td>\n",
       "    </tr>\n",
       "    <tr>\n",
       "      <th>1</th>\n",
       "      <td>2015-07-22</td>\n",
       "      <td>12389</td>\n",
       "      <td>11111133.92</td>\n",
       "      <td>Americas</td>\n",
       "    </tr>\n",
       "    <tr>\n",
       "      <th>2</th>\n",
       "      <td>2015-08-05</td>\n",
       "      <td>12374</td>\n",
       "      <td>12615483.00</td>\n",
       "      <td>Americas</td>\n",
       "    </tr>\n",
       "    <tr>\n",
       "      <th>3</th>\n",
       "      <td>2015-08-25</td>\n",
       "      <td>12390</td>\n",
       "      <td>51599056.57</td>\n",
       "      <td>Americas</td>\n",
       "    </tr>\n",
       "    <tr>\n",
       "      <th>4</th>\n",
       "      <td>2015-09-10</td>\n",
       "      <td>12372</td>\n",
       "      <td>6282156.00</td>\n",
       "      <td>Americas</td>\n",
       "    </tr>\n",
       "  </tbody>\n",
       "</table>\n",
       "</div>"
      ],
      "text/plain": [
       "  Last_Modified_Date  Opportunity_ID  Total_Amount_(converted)    Region\n",
       "0         2015-03-12           12397                      0.00     Japan\n",
       "1         2015-07-22           12389               11111133.92  Americas\n",
       "2         2015-08-05           12374               12615483.00  Americas\n",
       "3         2015-08-25           12390               51599056.57  Americas\n",
       "4         2015-09-10           12372                6282156.00  Americas"
      ]
     },
     "execution_count": 56,
     "metadata": {},
     "output_type": "execute_result"
    }
   ],
   "source": [
    "\n",
    "df_won_byID = df_won.groupby(['Last_Modified_Date','Opportunity_ID' ]).agg({'Total_Amount_(converted)':'sum', 'Region':'first'}).reset_index().dropna()\n",
    "df_won_byID.head()"
   ]
  },
  {
   "cell_type": "code",
   "execution_count": 57,
   "metadata": {},
   "outputs": [
    {
     "data": {
      "text/html": [
       "<div>\n",
       "<style scoped>\n",
       "    .dataframe tbody tr th:only-of-type {\n",
       "        vertical-align: middle;\n",
       "    }\n",
       "\n",
       "    .dataframe tbody tr th {\n",
       "        vertical-align: top;\n",
       "    }\n",
       "\n",
       "    .dataframe thead th {\n",
       "        text-align: right;\n",
       "    }\n",
       "</style>\n",
       "<table border=\"1\" class=\"dataframe\">\n",
       "  <thead>\n",
       "    <tr style=\"text-align: right;\">\n",
       "      <th></th>\n",
       "      <th>Last_Modified_Date</th>\n",
       "      <th>Opportunity_ID</th>\n",
       "      <th>Total_Amount_(converted)</th>\n",
       "      <th>Region</th>\n",
       "    </tr>\n",
       "  </thead>\n",
       "  <tbody>\n",
       "    <tr>\n",
       "      <th>0</th>\n",
       "      <td>2015-03-12</td>\n",
       "      <td>12397</td>\n",
       "      <td>0.00</td>\n",
       "      <td>Japan</td>\n",
       "    </tr>\n",
       "    <tr>\n",
       "      <th>1</th>\n",
       "      <td>2015-07-22</td>\n",
       "      <td>12389</td>\n",
       "      <td>11111133.92</td>\n",
       "      <td>Americas</td>\n",
       "    </tr>\n",
       "    <tr>\n",
       "      <th>2</th>\n",
       "      <td>2015-08-05</td>\n",
       "      <td>12374</td>\n",
       "      <td>12615483.00</td>\n",
       "      <td>Americas</td>\n",
       "    </tr>\n",
       "    <tr>\n",
       "      <th>3</th>\n",
       "      <td>2015-08-25</td>\n",
       "      <td>12390</td>\n",
       "      <td>51599056.57</td>\n",
       "      <td>Americas</td>\n",
       "    </tr>\n",
       "    <tr>\n",
       "      <th>4</th>\n",
       "      <td>2015-09-10</td>\n",
       "      <td>12372</td>\n",
       "      <td>6282156.00</td>\n",
       "      <td>Americas</td>\n",
       "    </tr>\n",
       "    <tr>\n",
       "      <th>...</th>\n",
       "      <td>...</td>\n",
       "      <td>...</td>\n",
       "      <td>...</td>\n",
       "      <td>...</td>\n",
       "    </tr>\n",
       "    <tr>\n",
       "      <th>5067</th>\n",
       "      <td>2018-12-28</td>\n",
       "      <td>11215</td>\n",
       "      <td>309441.60</td>\n",
       "      <td>Americas</td>\n",
       "    </tr>\n",
       "    <tr>\n",
       "      <th>5068</th>\n",
       "      <td>2018-12-29</td>\n",
       "      <td>9486</td>\n",
       "      <td>45240.00</td>\n",
       "      <td>Americas</td>\n",
       "    </tr>\n",
       "    <tr>\n",
       "      <th>5069</th>\n",
       "      <td>2018-12-29</td>\n",
       "      <td>9875</td>\n",
       "      <td>123975.00</td>\n",
       "      <td>Americas</td>\n",
       "    </tr>\n",
       "    <tr>\n",
       "      <th>5070</th>\n",
       "      <td>2018-12-29</td>\n",
       "      <td>9878</td>\n",
       "      <td>159742.50</td>\n",
       "      <td>Americas</td>\n",
       "    </tr>\n",
       "    <tr>\n",
       "      <th>5071</th>\n",
       "      <td>2018-12-29</td>\n",
       "      <td>11218</td>\n",
       "      <td>22157.43</td>\n",
       "      <td>Americas</td>\n",
       "    </tr>\n",
       "  </tbody>\n",
       "</table>\n",
       "<p>5072 rows × 4 columns</p>\n",
       "</div>"
      ],
      "text/plain": [
       "     Last_Modified_Date  Opportunity_ID  Total_Amount_(converted)    Region\n",
       "0            2015-03-12           12397                      0.00     Japan\n",
       "1            2015-07-22           12389               11111133.92  Americas\n",
       "2            2015-08-05           12374               12615483.00  Americas\n",
       "3            2015-08-25           12390               51599056.57  Americas\n",
       "4            2015-09-10           12372                6282156.00  Americas\n",
       "...                 ...             ...                       ...       ...\n",
       "5067         2018-12-28           11215                 309441.60  Americas\n",
       "5068         2018-12-29            9486                  45240.00  Americas\n",
       "5069         2018-12-29            9875                 123975.00  Americas\n",
       "5070         2018-12-29            9878                 159742.50  Americas\n",
       "5071         2018-12-29           11218                  22157.43  Americas\n",
       "\n",
       "[5072 rows x 4 columns]"
      ]
     },
     "execution_count": 57,
     "metadata": {},
     "output_type": "execute_result"
    }
   ],
   "source": [
    "df_won_byID"
   ]
  },
  {
   "cell_type": "code",
   "execution_count": 58,
   "metadata": {},
   "outputs": [
    {
     "data": {
      "text/plain": [
       "'plt.figure(figsize= (16,8))\\nsns.barplot(x=\"Last_Modified_Date\", y=\"Total_Amount_(converted)\",\\n             hue=\"Region\",\\n             data=df_won_byID)'"
      ]
     },
     "execution_count": 58,
     "metadata": {},
     "output_type": "execute_result"
    }
   ],
   "source": [
    "\"\"\"plt.figure(figsize= (16,8))\n",
    "sns.barplot(x=\"Last_Modified_Date\", y=\"Total_Amount_(converted)\",\n",
    "             hue=\"Region\",\n",
    "             data=df_won_byID)\"\"\""
   ]
  },
  {
   "cell_type": "code",
   "execution_count": 59,
   "metadata": {},
   "outputs": [],
   "source": [
    "df_won_byID= df_won_byID[df_won_byID['Total_Amount_(converted)'] > 0]"
   ]
  },
  {
   "cell_type": "code",
   "execution_count": 60,
   "metadata": {},
   "outputs": [],
   "source": [
    "df_won = df[df['Stage'] == 'Closed Won']"
   ]
  },
  {
   "cell_type": "code",
   "execution_count": 61,
   "metadata": {},
   "outputs": [],
   "source": [
    "df_won_byRegion = df.groupby('Stage').agg({'Total_Taxable_Amount_(converted)':'mean'}).reset_index()"
   ]
  },
  {
   "cell_type": "code",
   "execution_count": 62,
   "metadata": {},
   "outputs": [
    {
     "data": {
      "text/html": [
       "<div>\n",
       "<style scoped>\n",
       "    .dataframe tbody tr th:only-of-type {\n",
       "        vertical-align: middle;\n",
       "    }\n",
       "\n",
       "    .dataframe tbody tr th {\n",
       "        vertical-align: top;\n",
       "    }\n",
       "\n",
       "    .dataframe thead th {\n",
       "        text-align: right;\n",
       "    }\n",
       "</style>\n",
       "<table border=\"1\" class=\"dataframe\">\n",
       "  <thead>\n",
       "    <tr style=\"text-align: right;\">\n",
       "      <th></th>\n",
       "      <th>Stage</th>\n",
       "      <th>Total_Taxable_Amount_(converted)</th>\n",
       "    </tr>\n",
       "  </thead>\n",
       "  <tbody>\n",
       "    <tr>\n",
       "      <th>0</th>\n",
       "      <td>Closed Lost</td>\n",
       "      <td>3.527903e+06</td>\n",
       "    </tr>\n",
       "    <tr>\n",
       "      <th>1</th>\n",
       "      <td>Closed Won</td>\n",
       "      <td>6.997508e+05</td>\n",
       "    </tr>\n",
       "    <tr>\n",
       "      <th>2</th>\n",
       "      <td>Negotiation</td>\n",
       "      <td>2.776363e+05</td>\n",
       "    </tr>\n",
       "    <tr>\n",
       "      <th>3</th>\n",
       "      <td>Proposal</td>\n",
       "      <td>1.488489e+06</td>\n",
       "    </tr>\n",
       "    <tr>\n",
       "      <th>4</th>\n",
       "      <td>Qualification</td>\n",
       "      <td>1.182314e+06</td>\n",
       "    </tr>\n",
       "  </tbody>\n",
       "</table>\n",
       "</div>"
      ],
      "text/plain": [
       "           Stage  Total_Taxable_Amount_(converted)\n",
       "0    Closed Lost                      3.527903e+06\n",
       "1     Closed Won                      6.997508e+05\n",
       "2    Negotiation                      2.776363e+05\n",
       "3       Proposal                      1.488489e+06\n",
       "4  Qualification                      1.182314e+06"
      ]
     },
     "execution_count": 62,
     "metadata": {},
     "output_type": "execute_result"
    }
   ],
   "source": [
    "df_won_byRegion "
   ]
  },
  {
   "cell_type": "code",
   "execution_count": 63,
   "metadata": {},
   "outputs": [
    {
     "data": {
      "text/plain": [
       "([<matplotlib.patches.Wedge at 0x28b4cc93470>,\n",
       "  <matplotlib.patches.Wedge at 0x28b4cc93ba8>,\n",
       "  <matplotlib.patches.Wedge at 0x28b4cca02b0>,\n",
       "  <matplotlib.patches.Wedge at 0x28b4cca09b0>,\n",
       "  <matplotlib.patches.Wedge at 0x28b4ccad0f0>],\n",
       " [Text(0.028959547893496005, 1.0996187269166546, ''),\n",
       "  Text(-1.0647946120883203, -0.2760659958554909, ''),\n",
       "  Text(-0.8542446911438709, -0.6930122709249186, ''),\n",
       "  Text(-0.12736202474589395, -1.0926019012671662, ''),\n",
       "  Text(0.9559099280753964, -0.5442758578210968, '')],\n",
       " [Text(0.015796117032816002, 0.5997920328636298, '49.2%'),\n",
       "  Text(-0.5807970611390837, -0.1505814522848132, '9.8%'),\n",
       "  Text(-0.4659516497148386, -0.37800669323177377, '3.9%'),\n",
       "  Text(-0.06947019531594215, -0.5959646734184543, '20.7%'),\n",
       "  Text(0.5214054153138525, -0.29687774062968914, '16.5%')])"
      ]
     },
     "execution_count": 63,
     "metadata": {},
     "output_type": "execute_result"
    },
    {
     "data": {
      "image/png": "[encoded data removed]",
      "text/plain": [
       "<Figure size 1152x576 with 1 Axes>"
      ]
     },
     "metadata": {},
     "output_type": "display_data"
    }
   ],
   "source": [
    "plt.figure(figsize= (16,8))\n",
    "plt.pie(x=df_won_byRegion['Total_Taxable_Amount_(converted)'], autopct=\"%.1f%%\", )"
   ]
  },
  {
   "cell_type": "code",
   "execution_count": 64,
   "metadata": {},
   "outputs": [],
   "source": [
    "df_byID = df.groupby(['Opportunity_Owner', 'Stage', 'Opportunity_ID']).agg({'Total_Taxable_Amount_(converted)': 'sum', 'Region':'first'})"
   ]
  },
  {
   "cell_type": "code",
   "execution_count": 65,
   "metadata": {},
   "outputs": [],
   "source": [
    "df_byID = df_byID.dropna()\n",
    "df_byID = df_byID.reset_index()"
   ]
  },
  {
   "cell_type": "code",
   "execution_count": 66,
   "metadata": {},
   "outputs": [],
   "source": [
    "df_byID_won = df_byID[df_byID['Stage'] == 'Closed Won']"
   ]
  },
  {
   "cell_type": "code",
   "execution_count": 67,
   "metadata": {},
   "outputs": [],
   "source": [
    "df_byID_won = df_byID_won.groupby(['Opportunity_Owner']).agg({'Total_Taxable_Amount_(converted)': 'sum', 'Opportunity_ID':'count' , 'Region':'first'})"
   ]
  },
  {
   "cell_type": "code",
   "execution_count": 68,
   "metadata": {},
   "outputs": [],
   "source": [
    "df_byID_won = df_byID_won[df_byID_won['Opportunity_ID'] >0 ]\n",
    "df_byID_won['mean'] = df_byID_won['Total_Taxable_Amount_(converted)'] / df_byID_won['Opportunity_ID']"
   ]
  },
  {
   "cell_type": "code",
   "execution_count": 310,
   "metadata": {},
   "outputs": [
    {
     "data": {
      "text/html": [
       "<div>\n",
       "<style scoped>\n",
       "    .dataframe tbody tr th:only-of-type {\n",
       "        vertical-align: middle;\n",
       "    }\n",
       "\n",
       "    .dataframe tbody tr th {\n",
       "        vertical-align: top;\n",
       "    }\n",
       "\n",
       "    .dataframe thead th {\n",
       "        text-align: right;\n",
       "    }\n",
       "</style>\n",
       "<table border=\"1\" class=\"dataframe\">\n",
       "  <thead>\n",
       "    <tr style=\"text-align: right;\">\n",
       "      <th></th>\n",
       "      <th>Total_Taxable_Amount_(converted)</th>\n",
       "      <th>Opportunity_ID</th>\n",
       "      <th>Region</th>\n",
       "      <th>mean</th>\n",
       "      <th>meanmill</th>\n",
       "    </tr>\n",
       "    <tr>\n",
       "      <th>Opportunity_Owner</th>\n",
       "      <th></th>\n",
       "      <th></th>\n",
       "      <th></th>\n",
       "      <th></th>\n",
       "      <th></th>\n",
       "    </tr>\n",
       "  </thead>\n",
       "  <tbody>\n",
       "    <tr>\n",
       "      <th>Person_Name_11</th>\n",
       "      <td>1.389057e+06</td>\n",
       "      <td>26</td>\n",
       "      <td>APAC</td>\n",
       "      <td>5.342525e+04</td>\n",
       "      <td>0.053425</td>\n",
       "    </tr>\n",
       "    <tr>\n",
       "      <th>Person_Name_12</th>\n",
       "      <td>2.106306e+08</td>\n",
       "      <td>4</td>\n",
       "      <td>Americas</td>\n",
       "      <td>5.265765e+07</td>\n",
       "      <td>52.657651</td>\n",
       "    </tr>\n",
       "    <tr>\n",
       "      <th>Person_Name_13</th>\n",
       "      <td>6.667644e+08</td>\n",
       "      <td>434</td>\n",
       "      <td>EMEA</td>\n",
       "      <td>1.536323e+06</td>\n",
       "      <td>1.536323</td>\n",
       "    </tr>\n",
       "    <tr>\n",
       "      <th>Person_Name_14</th>\n",
       "      <td>3.504573e+06</td>\n",
       "      <td>25</td>\n",
       "      <td>EMEA</td>\n",
       "      <td>1.401829e+05</td>\n",
       "      <td>0.140183</td>\n",
       "    </tr>\n",
       "    <tr>\n",
       "      <th>Person_Name_16</th>\n",
       "      <td>3.804454e+07</td>\n",
       "      <td>108</td>\n",
       "      <td>EMEA</td>\n",
       "      <td>3.522643e+05</td>\n",
       "      <td>0.352264</td>\n",
       "    </tr>\n",
       "    <tr>\n",
       "      <th>Person_Name_18</th>\n",
       "      <td>1.943115e+08</td>\n",
       "      <td>329</td>\n",
       "      <td>EMEA</td>\n",
       "      <td>5.906123e+05</td>\n",
       "      <td>0.590612</td>\n",
       "    </tr>\n",
       "    <tr>\n",
       "      <th>Person_Name_19</th>\n",
       "      <td>1.263381e+08</td>\n",
       "      <td>399</td>\n",
       "      <td>APAC</td>\n",
       "      <td>3.166368e+05</td>\n",
       "      <td>0.316637</td>\n",
       "    </tr>\n",
       "    <tr>\n",
       "      <th>Person_Name_2</th>\n",
       "      <td>6.288916e+06</td>\n",
       "      <td>44</td>\n",
       "      <td>EMEA</td>\n",
       "      <td>1.429299e+05</td>\n",
       "      <td>0.142930</td>\n",
       "    </tr>\n",
       "    <tr>\n",
       "      <th>Person_Name_20</th>\n",
       "      <td>4.949088e+06</td>\n",
       "      <td>29</td>\n",
       "      <td>EMEA</td>\n",
       "      <td>1.706582e+05</td>\n",
       "      <td>0.170658</td>\n",
       "    </tr>\n",
       "    <tr>\n",
       "      <th>Person_Name_22</th>\n",
       "      <td>1.343573e+06</td>\n",
       "      <td>9</td>\n",
       "      <td>Americas</td>\n",
       "      <td>1.492859e+05</td>\n",
       "      <td>0.149286</td>\n",
       "    </tr>\n",
       "    <tr>\n",
       "      <th>Person_Name_23</th>\n",
       "      <td>4.438029e+07</td>\n",
       "      <td>149</td>\n",
       "      <td>EMEA</td>\n",
       "      <td>2.978543e+05</td>\n",
       "      <td>0.297854</td>\n",
       "    </tr>\n",
       "    <tr>\n",
       "      <th>Person_Name_25</th>\n",
       "      <td>5.613708e+05</td>\n",
       "      <td>7</td>\n",
       "      <td>Americas</td>\n",
       "      <td>8.019583e+04</td>\n",
       "      <td>0.080196</td>\n",
       "    </tr>\n",
       "    <tr>\n",
       "      <th>Person_Name_26</th>\n",
       "      <td>8.349211e+06</td>\n",
       "      <td>6</td>\n",
       "      <td>APAC</td>\n",
       "      <td>1.391535e+06</td>\n",
       "      <td>1.391535</td>\n",
       "    </tr>\n",
       "    <tr>\n",
       "      <th>Person_Name_29</th>\n",
       "      <td>1.089176e+05</td>\n",
       "      <td>1</td>\n",
       "      <td>EMEA</td>\n",
       "      <td>1.089176e+05</td>\n",
       "      <td>0.108918</td>\n",
       "    </tr>\n",
       "    <tr>\n",
       "      <th>Person_Name_3</th>\n",
       "      <td>4.992139e+07</td>\n",
       "      <td>165</td>\n",
       "      <td>Americas</td>\n",
       "      <td>3.025539e+05</td>\n",
       "      <td>0.302554</td>\n",
       "    </tr>\n",
       "    <tr>\n",
       "      <th>Person_Name_30</th>\n",
       "      <td>3.467701e+07</td>\n",
       "      <td>49</td>\n",
       "      <td>Japan</td>\n",
       "      <td>7.076942e+05</td>\n",
       "      <td>0.707694</td>\n",
       "    </tr>\n",
       "    <tr>\n",
       "      <th>Person_Name_32</th>\n",
       "      <td>5.150340e+07</td>\n",
       "      <td>469</td>\n",
       "      <td>Japan</td>\n",
       "      <td>1.098154e+05</td>\n",
       "      <td>0.109815</td>\n",
       "    </tr>\n",
       "    <tr>\n",
       "      <th>Person_Name_33</th>\n",
       "      <td>9.039737e+06</td>\n",
       "      <td>34</td>\n",
       "      <td>Americas</td>\n",
       "      <td>2.658746e+05</td>\n",
       "      <td>0.265875</td>\n",
       "    </tr>\n",
       "    <tr>\n",
       "      <th>Person_Name_34</th>\n",
       "      <td>1.082690e+05</td>\n",
       "      <td>4</td>\n",
       "      <td>EMEA</td>\n",
       "      <td>2.706725e+04</td>\n",
       "      <td>0.027067</td>\n",
       "    </tr>\n",
       "    <tr>\n",
       "      <th>Person_Name_35</th>\n",
       "      <td>0.000000e+00</td>\n",
       "      <td>1</td>\n",
       "      <td>EMEA</td>\n",
       "      <td>0.000000e+00</td>\n",
       "      <td>0.000000</td>\n",
       "    </tr>\n",
       "    <tr>\n",
       "      <th>Person_Name_37</th>\n",
       "      <td>6.608400e+03</td>\n",
       "      <td>2</td>\n",
       "      <td>APAC</td>\n",
       "      <td>3.304200e+03</td>\n",
       "      <td>0.003304</td>\n",
       "    </tr>\n",
       "    <tr>\n",
       "      <th>Person_Name_38</th>\n",
       "      <td>7.609766e+06</td>\n",
       "      <td>57</td>\n",
       "      <td>Americas</td>\n",
       "      <td>1.335047e+05</td>\n",
       "      <td>0.133505</td>\n",
       "    </tr>\n",
       "    <tr>\n",
       "      <th>Person_Name_39</th>\n",
       "      <td>8.512145e+06</td>\n",
       "      <td>39</td>\n",
       "      <td>EMEA</td>\n",
       "      <td>2.182601e+05</td>\n",
       "      <td>0.218260</td>\n",
       "    </tr>\n",
       "    <tr>\n",
       "      <th>Person_Name_4</th>\n",
       "      <td>3.244247e+08</td>\n",
       "      <td>221</td>\n",
       "      <td>EMEA</td>\n",
       "      <td>1.467985e+06</td>\n",
       "      <td>1.467985</td>\n",
       "    </tr>\n",
       "    <tr>\n",
       "      <th>Person_Name_40</th>\n",
       "      <td>3.139035e+06</td>\n",
       "      <td>42</td>\n",
       "      <td>APAC</td>\n",
       "      <td>7.473893e+04</td>\n",
       "      <td>0.074739</td>\n",
       "    </tr>\n",
       "    <tr>\n",
       "      <th>Person_Name_41</th>\n",
       "      <td>1.871812e+07</td>\n",
       "      <td>34</td>\n",
       "      <td>EMEA</td>\n",
       "      <td>5.505329e+05</td>\n",
       "      <td>0.550533</td>\n",
       "    </tr>\n",
       "    <tr>\n",
       "      <th>Person_Name_42</th>\n",
       "      <td>1.103812e+06</td>\n",
       "      <td>6</td>\n",
       "      <td>EMEA</td>\n",
       "      <td>1.839687e+05</td>\n",
       "      <td>0.183969</td>\n",
       "    </tr>\n",
       "    <tr>\n",
       "      <th>Person_Name_43</th>\n",
       "      <td>1.931491e+08</td>\n",
       "      <td>82</td>\n",
       "      <td>APAC</td>\n",
       "      <td>2.355477e+06</td>\n",
       "      <td>2.355477</td>\n",
       "    </tr>\n",
       "    <tr>\n",
       "      <th>Person_Name_44</th>\n",
       "      <td>1.616038e+07</td>\n",
       "      <td>82</td>\n",
       "      <td>APAC</td>\n",
       "      <td>1.970779e+05</td>\n",
       "      <td>0.197078</td>\n",
       "    </tr>\n",
       "    <tr>\n",
       "      <th>Person_Name_45</th>\n",
       "      <td>5.119744e+06</td>\n",
       "      <td>22</td>\n",
       "      <td>Americas</td>\n",
       "      <td>2.327156e+05</td>\n",
       "      <td>0.232716</td>\n",
       "    </tr>\n",
       "    <tr>\n",
       "      <th>Person_Name_46</th>\n",
       "      <td>9.389864e+07</td>\n",
       "      <td>68</td>\n",
       "      <td>Americas</td>\n",
       "      <td>1.380862e+06</td>\n",
       "      <td>1.380862</td>\n",
       "    </tr>\n",
       "    <tr>\n",
       "      <th>Person_Name_48</th>\n",
       "      <td>2.282524e+07</td>\n",
       "      <td>68</td>\n",
       "      <td>Americas</td>\n",
       "      <td>3.356653e+05</td>\n",
       "      <td>0.335665</td>\n",
       "    </tr>\n",
       "    <tr>\n",
       "      <th>Person_Name_49</th>\n",
       "      <td>6.826632e+07</td>\n",
       "      <td>123</td>\n",
       "      <td>APAC</td>\n",
       "      <td>5.550108e+05</td>\n",
       "      <td>0.555011</td>\n",
       "    </tr>\n",
       "    <tr>\n",
       "      <th>Person_Name_5</th>\n",
       "      <td>6.460221e+06</td>\n",
       "      <td>30</td>\n",
       "      <td>Middle East</td>\n",
       "      <td>2.153407e+05</td>\n",
       "      <td>0.215341</td>\n",
       "    </tr>\n",
       "    <tr>\n",
       "      <th>Person_Name_50</th>\n",
       "      <td>2.866632e+07</td>\n",
       "      <td>595</td>\n",
       "      <td>Japan</td>\n",
       "      <td>4.817869e+04</td>\n",
       "      <td>0.048179</td>\n",
       "    </tr>\n",
       "    <tr>\n",
       "      <th>Person_Name_51</th>\n",
       "      <td>4.022419e+06</td>\n",
       "      <td>27</td>\n",
       "      <td>EMEA</td>\n",
       "      <td>1.489785e+05</td>\n",
       "      <td>0.148978</td>\n",
       "    </tr>\n",
       "    <tr>\n",
       "      <th>Person_Name_52</th>\n",
       "      <td>2.841334e+07</td>\n",
       "      <td>104</td>\n",
       "      <td>APAC</td>\n",
       "      <td>2.732052e+05</td>\n",
       "      <td>0.273205</td>\n",
       "    </tr>\n",
       "    <tr>\n",
       "      <th>Person_Name_54</th>\n",
       "      <td>3.000860e+07</td>\n",
       "      <td>77</td>\n",
       "      <td>APAC</td>\n",
       "      <td>3.897221e+05</td>\n",
       "      <td>0.389722</td>\n",
       "    </tr>\n",
       "    <tr>\n",
       "      <th>Person_Name_55</th>\n",
       "      <td>4.574259e+06</td>\n",
       "      <td>48</td>\n",
       "      <td>Japan</td>\n",
       "      <td>9.529707e+04</td>\n",
       "      <td>0.095297</td>\n",
       "    </tr>\n",
       "    <tr>\n",
       "      <th>Person_Name_56</th>\n",
       "      <td>2.299722e+05</td>\n",
       "      <td>1</td>\n",
       "      <td>EMEA</td>\n",
       "      <td>2.299722e+05</td>\n",
       "      <td>0.229972</td>\n",
       "    </tr>\n",
       "    <tr>\n",
       "      <th>Person_Name_59</th>\n",
       "      <td>1.061233e+07</td>\n",
       "      <td>35</td>\n",
       "      <td>APAC</td>\n",
       "      <td>3.032095e+05</td>\n",
       "      <td>0.303210</td>\n",
       "    </tr>\n",
       "    <tr>\n",
       "      <th>Person_Name_60</th>\n",
       "      <td>1.443670e+07</td>\n",
       "      <td>47</td>\n",
       "      <td>APAC</td>\n",
       "      <td>3.071638e+05</td>\n",
       "      <td>0.307164</td>\n",
       "    </tr>\n",
       "    <tr>\n",
       "      <th>Person_Name_61</th>\n",
       "      <td>1.029174e+06</td>\n",
       "      <td>5</td>\n",
       "      <td>Japan</td>\n",
       "      <td>2.058349e+05</td>\n",
       "      <td>0.205835</td>\n",
       "    </tr>\n",
       "    <tr>\n",
       "      <th>Person_Name_62</th>\n",
       "      <td>5.374786e+07</td>\n",
       "      <td>51</td>\n",
       "      <td>EMEA</td>\n",
       "      <td>1.053880e+06</td>\n",
       "      <td>1.053880</td>\n",
       "    </tr>\n",
       "    <tr>\n",
       "      <th>Person_Name_63</th>\n",
       "      <td>2.137821e+06</td>\n",
       "      <td>19</td>\n",
       "      <td>APAC</td>\n",
       "      <td>1.125169e+05</td>\n",
       "      <td>0.112517</td>\n",
       "    </tr>\n",
       "    <tr>\n",
       "      <th>Person_Name_64</th>\n",
       "      <td>4.155825e+07</td>\n",
       "      <td>231</td>\n",
       "      <td>Americas</td>\n",
       "      <td>1.799058e+05</td>\n",
       "      <td>0.179906</td>\n",
       "    </tr>\n",
       "    <tr>\n",
       "      <th>Person_Name_65</th>\n",
       "      <td>2.350509e+07</td>\n",
       "      <td>111</td>\n",
       "      <td>APAC</td>\n",
       "      <td>2.117576e+05</td>\n",
       "      <td>0.211758</td>\n",
       "    </tr>\n",
       "    <tr>\n",
       "      <th>Person_Name_66</th>\n",
       "      <td>7.996394e+07</td>\n",
       "      <td>124</td>\n",
       "      <td>Japan</td>\n",
       "      <td>6.448705e+05</td>\n",
       "      <td>0.644870</td>\n",
       "    </tr>\n",
       "    <tr>\n",
       "      <th>Person_Name_8</th>\n",
       "      <td>4.126211e+09</td>\n",
       "      <td>429</td>\n",
       "      <td>Americas</td>\n",
       "      <td>9.618207e+06</td>\n",
       "      <td>9.618207</td>\n",
       "    </tr>\n",
       "  </tbody>\n",
       "</table>\n",
       "</div>"
      ],
      "text/plain": [
       "                   Total_Taxable_Amount_(converted)  Opportunity_ID  \\\n",
       "Opportunity_Owner                                                     \n",
       "Person_Name_11                         1.389057e+06              26   \n",
       "Person_Name_12                         2.106306e+08               4   \n",
       "Person_Name_13                         6.667644e+08             434   \n",
       "Person_Name_14                         3.504573e+06              25   \n",
       "Person_Name_16                         3.804454e+07             108   \n",
       "Person_Name_18                         1.943115e+08             329   \n",
       "Person_Name_19                         1.263381e+08             399   \n",
       "Person_Name_2                          6.288916e+06              44   \n",
       "Person_Name_20                         4.949088e+06              29   \n",
       "Person_Name_22                         1.343573e+06               9   \n",
       "Person_Name_23                         4.438029e+07             149   \n",
       "Person_Name_25                         5.613708e+05               7   \n",
       "Person_Name_26                         8.349211e+06               6   \n",
       "Person_Name_29                         1.089176e+05               1   \n",
       "Person_Name_3                          4.992139e+07             165   \n",
       "Person_Name_30                         3.467701e+07              49   \n",
       "Person_Name_32                         5.150340e+07             469   \n",
       "Person_Name_33                         9.039737e+06              34   \n",
       "Person_Name_34                         1.082690e+05               4   \n",
       "Person_Name_35                         0.000000e+00               1   \n",
       "Person_Name_37                         6.608400e+03               2   \n",
       "Person_Name_38                         7.609766e+06              57   \n",
       "Person_Name_39                         8.512145e+06              39   \n",
       "Person_Name_4                          3.244247e+08             221   \n",
       "Person_Name_40                         3.139035e+06              42   \n",
       "Person_Name_41                         1.871812e+07              34   \n",
       "Person_Name_42                         1.103812e+06               6   \n",
       "Person_Name_43                         1.931491e+08              82   \n",
       "Person_Name_44                         1.616038e+07              82   \n",
       "Person_Name_45                         5.119744e+06              22   \n",
       "Person_Name_46                         9.389864e+07              68   \n",
       "Person_Name_48                         2.282524e+07              68   \n",
       "Person_Name_49                         6.826632e+07             123   \n",
       "Person_Name_5                          6.460221e+06              30   \n",
       "Person_Name_50                         2.866632e+07             595   \n",
       "Person_Name_51                         4.022419e+06              27   \n",
       "Person_Name_52                         2.841334e+07             104   \n",
       "Person_Name_54                         3.000860e+07              77   \n",
       "Person_Name_55                         4.574259e+06              48   \n",
       "Person_Name_56                         2.299722e+05               1   \n",
       "Person_Name_59                         1.061233e+07              35   \n",
       "Person_Name_60                         1.443670e+07              47   \n",
       "Person_Name_61                         1.029174e+06               5   \n",
       "Person_Name_62                         5.374786e+07              51   \n",
       "Person_Name_63                         2.137821e+06              19   \n",
       "Person_Name_64                         4.155825e+07             231   \n",
       "Person_Name_65                         2.350509e+07             111   \n",
       "Person_Name_66                         7.996394e+07             124   \n",
       "Person_Name_8                          4.126211e+09             429   \n",
       "\n",
       "                        Region          mean   meanmill  \n",
       "Opportunity_Owner                                        \n",
       "Person_Name_11            APAC  5.342525e+04   0.053425  \n",
       "Person_Name_12        Americas  5.265765e+07  52.657651  \n",
       "Person_Name_13            EMEA  1.536323e+06   1.536323  \n",
       "Person_Name_14            EMEA  1.401829e+05   0.140183  \n",
       "Person_Name_16            EMEA  3.522643e+05   0.352264  \n",
       "Person_Name_18            EMEA  5.906123e+05   0.590612  \n",
       "Person_Name_19            APAC  3.166368e+05   0.316637  \n",
       "Person_Name_2             EMEA  1.429299e+05   0.142930  \n",
       "Person_Name_20            EMEA  1.706582e+05   0.170658  \n",
       "Person_Name_22        Americas  1.492859e+05   0.149286  \n",
       "Person_Name_23            EMEA  2.978543e+05   0.297854  \n",
       "Person_Name_25        Americas  8.019583e+04   0.080196  \n",
       "Person_Name_26            APAC  1.391535e+06   1.391535  \n",
       "Person_Name_29            EMEA  1.089176e+05   0.108918  \n",
       "Person_Name_3         Americas  3.025539e+05   0.302554  \n",
       "Person_Name_30           Japan  7.076942e+05   0.707694  \n",
       "Person_Name_32           Japan  1.098154e+05   0.109815  \n",
       "Person_Name_33        Americas  2.658746e+05   0.265875  \n",
       "Person_Name_34            EMEA  2.706725e+04   0.027067  \n",
       "Person_Name_35            EMEA  0.000000e+00   0.000000  \n",
       "Person_Name_37            APAC  3.304200e+03   0.003304  \n",
       "Person_Name_38        Americas  1.335047e+05   0.133505  \n",
       "Person_Name_39            EMEA  2.182601e+05   0.218260  \n",
       "Person_Name_4             EMEA  1.467985e+06   1.467985  \n",
       "Person_Name_40            APAC  7.473893e+04   0.074739  \n",
       "Person_Name_41            EMEA  5.505329e+05   0.550533  \n",
       "Person_Name_42            EMEA  1.839687e+05   0.183969  \n",
       "Person_Name_43            APAC  2.355477e+06   2.355477  \n",
       "Person_Name_44            APAC  1.970779e+05   0.197078  \n",
       "Person_Name_45        Americas  2.327156e+05   0.232716  \n",
       "Person_Name_46        Americas  1.380862e+06   1.380862  \n",
       "Person_Name_48        Americas  3.356653e+05   0.335665  \n",
       "Person_Name_49            APAC  5.550108e+05   0.555011  \n",
       "Person_Name_5      Middle East  2.153407e+05   0.215341  \n",
       "Person_Name_50           Japan  4.817869e+04   0.048179  \n",
       "Person_Name_51            EMEA  1.489785e+05   0.148978  \n",
       "Person_Name_52            APAC  2.732052e+05   0.273205  \n",
       "Person_Name_54            APAC  3.897221e+05   0.389722  \n",
       "Person_Name_55           Japan  9.529707e+04   0.095297  \n",
       "Person_Name_56            EMEA  2.299722e+05   0.229972  \n",
       "Person_Name_59            APAC  3.032095e+05   0.303210  \n",
       "Person_Name_60            APAC  3.071638e+05   0.307164  \n",
       "Person_Name_61           Japan  2.058349e+05   0.205835  \n",
       "Person_Name_62            EMEA  1.053880e+06   1.053880  \n",
       "Person_Name_63            APAC  1.125169e+05   0.112517  \n",
       "Person_Name_64        Americas  1.799058e+05   0.179906  \n",
       "Person_Name_65            APAC  2.117576e+05   0.211758  \n",
       "Person_Name_66           Japan  6.448705e+05   0.644870  \n",
       "Person_Name_8         Americas  9.618207e+06   9.618207  "
      ]
     },
     "execution_count": 310,
     "metadata": {},
     "output_type": "execute_result"
    }
   ],
   "source": [
    "\n",
    "df_byID_won['meanmill'] =df_byID_won['mean']/1000000\n",
    "df_byID_won\n",
    "#Se puede ver que hay una oportunidad ganada con un monto gravado de 0 (Opportunity_Owner de Person_Name_35)"
   ]
  },
  {
   "cell_type": "code",
   "execution_count": 312,
   "metadata": {},
   "outputs": [],
   "source": [
    "df_byID_won_sortmean = df_byID_won.sort_values(by= 'mean', ascending = False)\n",
    "df_byID_won_sortcount = df_byID_won.sort_values(by='Opportunity_ID', ascending = False)"
   ]
  },
  {
   "cell_type": "code",
   "execution_count": 313,
   "metadata": {},
   "outputs": [],
   "source": [
    "top_10 = df_byID_won_sortmean.head(10)\n",
    "top_10.reset_index(inplace = True)\n",
    "top_10.Opportunity_Owner.cat.remove_unused_categories(inplace = True)"
   ]
  },
  {
   "cell_type": "code",
   "execution_count": 314,
   "metadata": {},
   "outputs": [
    {
     "data": {
      "text/plain": [
       "<AxesSubplot:xlabel='Opportunity_Owner', ylabel='meanmill'>"
      ]
     },
     "execution_count": 314,
     "metadata": {},
     "output_type": "execute_result"
    },
    {
     "data": {
      "image/png": "[encoded data removed]",
      "text/plain": [
       "<Figure size 1152x576 with 1 Axes>"
      ]
     },
     "metadata": {
      "needs_background": "light"
     },
     "output_type": "display_data"
    }
   ],
   "source": [
    "plt.figure(figsize= (16,8))\n",
    "sns.barplot(x=top_10['Opportunity_Owner'], y=\"meanmill\", hue='Region', data=top_10, dodge = False)\n"
   ]
  },
  {
   "cell_type": "code",
   "execution_count": 305,
   "metadata": {},
   "outputs": [
    {
     "data": {
      "text/html": [
       "<div>\n",
       "<style scoped>\n",
       "    .dataframe tbody tr th:only-of-type {\n",
       "        vertical-align: middle;\n",
       "    }\n",
       "\n",
       "    .dataframe tbody tr th {\n",
       "        vertical-align: top;\n",
       "    }\n",
       "\n",
       "    .dataframe thead th {\n",
       "        text-align: right;\n",
       "    }\n",
       "</style>\n",
       "<table border=\"1\" class=\"dataframe\">\n",
       "  <thead>\n",
       "    <tr style=\"text-align: right;\">\n",
       "      <th></th>\n",
       "      <th>Opportunity_Owner</th>\n",
       "      <th>Total_Taxable_Amount_(converted)</th>\n",
       "      <th>Opportunity_ID</th>\n",
       "      <th>Region</th>\n",
       "      <th>mean</th>\n",
       "    </tr>\n",
       "  </thead>\n",
       "  <tbody>\n",
       "    <tr>\n",
       "      <th>0</th>\n",
       "      <td>Person_Name_50</td>\n",
       "      <td>2.866632e+07</td>\n",
       "      <td>595</td>\n",
       "      <td>Japan</td>\n",
       "      <td>4.817869e+04</td>\n",
       "    </tr>\n",
       "    <tr>\n",
       "      <th>1</th>\n",
       "      <td>Person_Name_32</td>\n",
       "      <td>5.150340e+07</td>\n",
       "      <td>469</td>\n",
       "      <td>Japan</td>\n",
       "      <td>1.098154e+05</td>\n",
       "    </tr>\n",
       "    <tr>\n",
       "      <th>2</th>\n",
       "      <td>Person_Name_13</td>\n",
       "      <td>6.667644e+08</td>\n",
       "      <td>434</td>\n",
       "      <td>EMEA</td>\n",
       "      <td>1.536323e+06</td>\n",
       "    </tr>\n",
       "    <tr>\n",
       "      <th>3</th>\n",
       "      <td>Person_Name_8</td>\n",
       "      <td>4.126211e+09</td>\n",
       "      <td>429</td>\n",
       "      <td>Americas</td>\n",
       "      <td>9.618207e+06</td>\n",
       "    </tr>\n",
       "    <tr>\n",
       "      <th>4</th>\n",
       "      <td>Person_Name_19</td>\n",
       "      <td>1.263381e+08</td>\n",
       "      <td>399</td>\n",
       "      <td>APAC</td>\n",
       "      <td>3.166368e+05</td>\n",
       "    </tr>\n",
       "    <tr>\n",
       "      <th>5</th>\n",
       "      <td>Person_Name_18</td>\n",
       "      <td>1.943115e+08</td>\n",
       "      <td>329</td>\n",
       "      <td>EMEA</td>\n",
       "      <td>5.906123e+05</td>\n",
       "    </tr>\n",
       "    <tr>\n",
       "      <th>6</th>\n",
       "      <td>Person_Name_64</td>\n",
       "      <td>4.155825e+07</td>\n",
       "      <td>231</td>\n",
       "      <td>Americas</td>\n",
       "      <td>1.799058e+05</td>\n",
       "    </tr>\n",
       "    <tr>\n",
       "      <th>7</th>\n",
       "      <td>Person_Name_4</td>\n",
       "      <td>3.244247e+08</td>\n",
       "      <td>221</td>\n",
       "      <td>EMEA</td>\n",
       "      <td>1.467985e+06</td>\n",
       "    </tr>\n",
       "    <tr>\n",
       "      <th>8</th>\n",
       "      <td>Person_Name_3</td>\n",
       "      <td>4.992139e+07</td>\n",
       "      <td>165</td>\n",
       "      <td>Americas</td>\n",
       "      <td>3.025539e+05</td>\n",
       "    </tr>\n",
       "    <tr>\n",
       "      <th>9</th>\n",
       "      <td>Person_Name_23</td>\n",
       "      <td>4.438029e+07</td>\n",
       "      <td>149</td>\n",
       "      <td>EMEA</td>\n",
       "      <td>2.978543e+05</td>\n",
       "    </tr>\n",
       "  </tbody>\n",
       "</table>\n",
       "</div>"
      ],
      "text/plain": [
       "  Opportunity_Owner  Total_Taxable_Amount_(converted)  Opportunity_ID  \\\n",
       "0    Person_Name_50                      2.866632e+07             595   \n",
       "1    Person_Name_32                      5.150340e+07             469   \n",
       "2    Person_Name_13                      6.667644e+08             434   \n",
       "3     Person_Name_8                      4.126211e+09             429   \n",
       "4    Person_Name_19                      1.263381e+08             399   \n",
       "5    Person_Name_18                      1.943115e+08             329   \n",
       "6    Person_Name_64                      4.155825e+07             231   \n",
       "7     Person_Name_4                      3.244247e+08             221   \n",
       "8     Person_Name_3                      4.992139e+07             165   \n",
       "9    Person_Name_23                      4.438029e+07             149   \n",
       "\n",
       "     Region          mean  \n",
       "0     Japan  4.817869e+04  \n",
       "1     Japan  1.098154e+05  \n",
       "2      EMEA  1.536323e+06  \n",
       "3  Americas  9.618207e+06  \n",
       "4      APAC  3.166368e+05  \n",
       "5      EMEA  5.906123e+05  \n",
       "6  Americas  1.799058e+05  \n",
       "7      EMEA  1.467985e+06  \n",
       "8  Americas  3.025539e+05  \n",
       "9      EMEA  2.978543e+05  "
      ]
     },
     "execution_count": 305,
     "metadata": {},
     "output_type": "execute_result"
    }
   ],
   "source": [
    "top_10_count"
   ]
  },
  {
   "cell_type": "code",
   "execution_count": 309,
   "metadata": {},
   "outputs": [
    {
     "data": {
      "text/plain": [
       "<AxesSubplot:title={'center':'Top 10 de los mayores generadores de oportunidades ganadas'}, xlabel='Opportunity_Owner', ylabel='Opportunity_ID'>"
      ]
     },
     "execution_count": 309,
     "metadata": {},
     "output_type": "execute_result"
    },
    {
     "data": {
      "image/png": "[encoded data removed]",
      "text/plain": [
       "<Figure size 1152x576 with 1 Axes>"
      ]
     },
     "metadata": {
      "needs_background": "light"
     },
     "output_type": "display_data"
    }
   ],
   "source": [
    "top_10_count = df_byID_won_sortcount.head(10)\n",
    "top_10_count.reset_index(inplace=True)\n",
    "top_10_count.Opportunity_Owner.cat.remove_unused_categories(inplace = True)\n",
    "top_10_count = top_10_count.sort_values(by= 'Opportunity_ID', ascending = False)\n",
    "plt.figure(figsize= (16,8))\n",
    "\n",
    "plt.xlabel('Dueño de la oportunidad')\n",
    "plt.ylabel('Cantidad de oportunidades')\n",
    "plt.title('Top 10 de los mayores generadores de oportunidades ganadas')\n",
    "sns.barplot(x=top_10_count['Opportunity_Owner'], y=\"Opportunity_ID\", hue='Region', data=top_10_count, dodge = False)"
   ]
  },
  {
   "cell_type": "code",
   "execution_count": 74,
   "metadata": {},
   "outputs": [],
   "source": [
    "df_byID_zero = df_byID[df_byID['Total_Taxable_Amount_(converted)']== 0 ]\n"
   ]
  },
  {
   "cell_type": "code",
   "execution_count": 75,
   "metadata": {},
   "outputs": [
    {
     "name": "stderr",
     "output_type": "stream",
     "text": [
      "c:\\python37\\lib\\site-packages\\ipykernel_launcher.py:1: UserWarning: Boolean Series key will be reindexed to match DataFrame index.\n",
      "  \"\"\"Entry point for launching an IPython kernel.\n"
     ]
    },
    {
     "data": {
      "text/plain": [
       "['Person_Name_11', 'Person_Name_3', 'Person_Name_30', 'Person_Name_33', 'Person_Name_35', ..., 'Person_Name_41', 'Person_Name_48', 'Person_Name_52', 'Person_Name_63', 'Person_Name_8']\n",
       "Length: 13\n",
       "Categories (13, object): ['Person_Name_11', 'Person_Name_3', 'Person_Name_30', 'Person_Name_33', ..., 'Person_Name_48', 'Person_Name_52', 'Person_Name_63', 'Person_Name_8']"
      ]
     },
     "execution_count": 75,
     "metadata": {},
     "output_type": "execute_result"
    }
   ],
   "source": [
    "df_byID_zero[df_byID['Stage'] == 'Closed Won']['Opportunity_Owner'].unique()"
   ]
  },
  {
   "cell_type": "code",
   "execution_count": 76,
   "metadata": {},
   "outputs": [],
   "source": [
    "df_stageamount = df_won.groupby(['Opportunity_ID', 'Region']).agg({'Total_Taxable_Amount_(converted)': 'mean'}).dropna()\n",
    "df_stageamount.reset_index(inplace=True)\n",
    "df_stageamount= df_stageamount[df_stageamount['Total_Taxable_Amount_(converted)']>0]"
   ]
  },
  {
   "cell_type": "code",
   "execution_count": 77,
   "metadata": {},
   "outputs": [
    {
     "data": {
      "text/plain": [
       "\"plt.figure(figsize= (16,20))\\nsns.swarmplot(x ='Region', y ='Total_Taxable_Amount_(converted)', data = df_stageamount) \""
      ]
     },
     "execution_count": 77,
     "metadata": {},
     "output_type": "execute_result"
    }
   ],
   "source": [
    "\"\"\"plt.figure(figsize= (16,20))\n",
    "sns.swarmplot(x ='Region', y ='Total_Taxable_Amount_(converted)', data = df_stageamount) \"\"\""
   ]
  },
  {
   "cell_type": "code",
   "execution_count": 78,
   "metadata": {},
   "outputs": [],
   "source": [
    "group= df.groupby('Region').agg({'Opportunity_ID': pd.Series.nunique}).reset_index()\n",
    "grouped = df.loc[df['Pricing, Delivery_Terms_Quote_Appr'] == 1,:].groupby('Region').agg({'Opportunity_ID': pd.Series.nunique}).reset_index()\n",
    "grouped.rename(columns={'Opportunity_ID': 'Pricing, Delivery_Terms_Quote_Appr'}, inplace= True)\n",
    "grouped2 = df.loc[df['Pricing, Delivery_Terms_Approved'] == 1,:].groupby('Region').agg({'Opportunity_ID': pd.Series.nunique}).reset_index()\n",
    "grouped2.rename(columns={'Opportunity_ID': 'Pricing, Delivery_Terms_Approved'}, inplace= True)\n",
    "grouped3 = df.loc[(df['Pricing, Delivery_Terms_Approved'] == 1) & (df['Stage'] == 'Closed Won'),:].groupby('Region').agg({'Opportunity_ID': pd.Series.nunique}).reset_index()\n",
    "grouped3.rename(columns={'Opportunity_ID': 'Closed Won'}, inplace= True)\n",
    "df_binar = group.merge(grouped, on='Region').merge(grouped2, on='Region').merge(grouped3, on='Region')"
   ]
  },
  {
   "cell_type": "code",
   "execution_count": 79,
   "metadata": {},
   "outputs": [
    {
     "data": {
      "text/html": [
       "<div>\n",
       "<style scoped>\n",
       "    .dataframe tbody tr th:only-of-type {\n",
       "        vertical-align: middle;\n",
       "    }\n",
       "\n",
       "    .dataframe tbody tr th {\n",
       "        vertical-align: top;\n",
       "    }\n",
       "\n",
       "    .dataframe thead th {\n",
       "        text-align: right;\n",
       "    }\n",
       "</style>\n",
       "<table border=\"1\" class=\"dataframe\">\n",
       "  <thead>\n",
       "    <tr style=\"text-align: right;\">\n",
       "      <th></th>\n",
       "      <th>Region</th>\n",
       "      <th>Opportunity_ID</th>\n",
       "      <th>Pricing, Delivery_Terms_Quote_Appr</th>\n",
       "      <th>Pricing, Delivery_Terms_Approved</th>\n",
       "      <th>Closed Won</th>\n",
       "    </tr>\n",
       "  </thead>\n",
       "  <tbody>\n",
       "    <tr>\n",
       "      <th>0</th>\n",
       "      <td>APAC</td>\n",
       "      <td>2086</td>\n",
       "      <td>1406</td>\n",
       "      <td>979</td>\n",
       "      <td>614</td>\n",
       "    </tr>\n",
       "    <tr>\n",
       "      <th>1</th>\n",
       "      <td>Americas</td>\n",
       "      <td>2459</td>\n",
       "      <td>1759</td>\n",
       "      <td>1140</td>\n",
       "      <td>484</td>\n",
       "    </tr>\n",
       "    <tr>\n",
       "      <th>2</th>\n",
       "      <td>EMEA</td>\n",
       "      <td>3241</td>\n",
       "      <td>2462</td>\n",
       "      <td>1885</td>\n",
       "      <td>837</td>\n",
       "    </tr>\n",
       "    <tr>\n",
       "      <th>3</th>\n",
       "      <td>Japan</td>\n",
       "      <td>1906</td>\n",
       "      <td>1738</td>\n",
       "      <td>1287</td>\n",
       "      <td>1103</td>\n",
       "    </tr>\n",
       "    <tr>\n",
       "      <th>4</th>\n",
       "      <td>Middle East</td>\n",
       "      <td>149</td>\n",
       "      <td>149</td>\n",
       "      <td>125</td>\n",
       "      <td>28</td>\n",
       "    </tr>\n",
       "  </tbody>\n",
       "</table>\n",
       "</div>"
      ],
      "text/plain": [
       "        Region  Opportunity_ID  Pricing, Delivery_Terms_Quote_Appr  \\\n",
       "0         APAC            2086                                1406   \n",
       "1     Americas            2459                                1759   \n",
       "2         EMEA            3241                                2462   \n",
       "3        Japan            1906                                1738   \n",
       "4  Middle East             149                                 149   \n",
       "\n",
       "   Pricing, Delivery_Terms_Approved  Closed Won  \n",
       "0                               979         614  \n",
       "1                              1140         484  \n",
       "2                              1885         837  \n",
       "3                              1287        1103  \n",
       "4                               125          28  "
      ]
     },
     "execution_count": 79,
     "metadata": {},
     "output_type": "execute_result"
    }
   ],
   "source": [
    "df_binar"
   ]
  },
  {
   "cell_type": "code",
   "execution_count": 80,
   "metadata": {
    "scrolled": true
   },
   "outputs": [
    {
     "data": {
      "text/html": [
       "<div>\n",
       "<style scoped>\n",
       "    .dataframe tbody tr th:only-of-type {\n",
       "        vertical-align: middle;\n",
       "    }\n",
       "\n",
       "    .dataframe tbody tr th {\n",
       "        vertical-align: top;\n",
       "    }\n",
       "\n",
       "    .dataframe thead th {\n",
       "        text-align: right;\n",
       "    }\n",
       "</style>\n",
       "<table border=\"1\" class=\"dataframe\">\n",
       "  <thead>\n",
       "    <tr style=\"text-align: right;\">\n",
       "      <th></th>\n",
       "      <th>Region</th>\n",
       "      <th>variable</th>\n",
       "      <th>value</th>\n",
       "    </tr>\n",
       "  </thead>\n",
       "  <tbody>\n",
       "    <tr>\n",
       "      <th>0</th>\n",
       "      <td>APAC</td>\n",
       "      <td>Opportunity_ID</td>\n",
       "      <td>2086</td>\n",
       "    </tr>\n",
       "    <tr>\n",
       "      <th>1</th>\n",
       "      <td>Americas</td>\n",
       "      <td>Opportunity_ID</td>\n",
       "      <td>2459</td>\n",
       "    </tr>\n",
       "    <tr>\n",
       "      <th>2</th>\n",
       "      <td>EMEA</td>\n",
       "      <td>Opportunity_ID</td>\n",
       "      <td>3241</td>\n",
       "    </tr>\n",
       "    <tr>\n",
       "      <th>3</th>\n",
       "      <td>Japan</td>\n",
       "      <td>Opportunity_ID</td>\n",
       "      <td>1906</td>\n",
       "    </tr>\n",
       "    <tr>\n",
       "      <th>4</th>\n",
       "      <td>Middle East</td>\n",
       "      <td>Opportunity_ID</td>\n",
       "      <td>149</td>\n",
       "    </tr>\n",
       "    <tr>\n",
       "      <th>5</th>\n",
       "      <td>APAC</td>\n",
       "      <td>Pricing, Delivery_Terms_Quote_Appr</td>\n",
       "      <td>1406</td>\n",
       "    </tr>\n",
       "    <tr>\n",
       "      <th>6</th>\n",
       "      <td>Americas</td>\n",
       "      <td>Pricing, Delivery_Terms_Quote_Appr</td>\n",
       "      <td>1759</td>\n",
       "    </tr>\n",
       "    <tr>\n",
       "      <th>7</th>\n",
       "      <td>EMEA</td>\n",
       "      <td>Pricing, Delivery_Terms_Quote_Appr</td>\n",
       "      <td>2462</td>\n",
       "    </tr>\n",
       "    <tr>\n",
       "      <th>8</th>\n",
       "      <td>Japan</td>\n",
       "      <td>Pricing, Delivery_Terms_Quote_Appr</td>\n",
       "      <td>1738</td>\n",
       "    </tr>\n",
       "    <tr>\n",
       "      <th>9</th>\n",
       "      <td>Middle East</td>\n",
       "      <td>Pricing, Delivery_Terms_Quote_Appr</td>\n",
       "      <td>149</td>\n",
       "    </tr>\n",
       "    <tr>\n",
       "      <th>10</th>\n",
       "      <td>APAC</td>\n",
       "      <td>Pricing, Delivery_Terms_Approved</td>\n",
       "      <td>979</td>\n",
       "    </tr>\n",
       "    <tr>\n",
       "      <th>11</th>\n",
       "      <td>Americas</td>\n",
       "      <td>Pricing, Delivery_Terms_Approved</td>\n",
       "      <td>1140</td>\n",
       "    </tr>\n",
       "    <tr>\n",
       "      <th>12</th>\n",
       "      <td>EMEA</td>\n",
       "      <td>Pricing, Delivery_Terms_Approved</td>\n",
       "      <td>1885</td>\n",
       "    </tr>\n",
       "    <tr>\n",
       "      <th>13</th>\n",
       "      <td>Japan</td>\n",
       "      <td>Pricing, Delivery_Terms_Approved</td>\n",
       "      <td>1287</td>\n",
       "    </tr>\n",
       "    <tr>\n",
       "      <th>14</th>\n",
       "      <td>Middle East</td>\n",
       "      <td>Pricing, Delivery_Terms_Approved</td>\n",
       "      <td>125</td>\n",
       "    </tr>\n",
       "    <tr>\n",
       "      <th>15</th>\n",
       "      <td>APAC</td>\n",
       "      <td>Closed Won</td>\n",
       "      <td>614</td>\n",
       "    </tr>\n",
       "    <tr>\n",
       "      <th>16</th>\n",
       "      <td>Americas</td>\n",
       "      <td>Closed Won</td>\n",
       "      <td>484</td>\n",
       "    </tr>\n",
       "    <tr>\n",
       "      <th>17</th>\n",
       "      <td>EMEA</td>\n",
       "      <td>Closed Won</td>\n",
       "      <td>837</td>\n",
       "    </tr>\n",
       "    <tr>\n",
       "      <th>18</th>\n",
       "      <td>Japan</td>\n",
       "      <td>Closed Won</td>\n",
       "      <td>1103</td>\n",
       "    </tr>\n",
       "    <tr>\n",
       "      <th>19</th>\n",
       "      <td>Middle East</td>\n",
       "      <td>Closed Won</td>\n",
       "      <td>28</td>\n",
       "    </tr>\n",
       "  </tbody>\n",
       "</table>\n",
       "</div>"
      ],
      "text/plain": [
       "         Region                            variable  value\n",
       "0          APAC                      Opportunity_ID   2086\n",
       "1      Americas                      Opportunity_ID   2459\n",
       "2          EMEA                      Opportunity_ID   3241\n",
       "3         Japan                      Opportunity_ID   1906\n",
       "4   Middle East                      Opportunity_ID    149\n",
       "5          APAC  Pricing, Delivery_Terms_Quote_Appr   1406\n",
       "6      Americas  Pricing, Delivery_Terms_Quote_Appr   1759\n",
       "7          EMEA  Pricing, Delivery_Terms_Quote_Appr   2462\n",
       "8         Japan  Pricing, Delivery_Terms_Quote_Appr   1738\n",
       "9   Middle East  Pricing, Delivery_Terms_Quote_Appr    149\n",
       "10         APAC    Pricing, Delivery_Terms_Approved    979\n",
       "11     Americas    Pricing, Delivery_Terms_Approved   1140\n",
       "12         EMEA    Pricing, Delivery_Terms_Approved   1885\n",
       "13        Japan    Pricing, Delivery_Terms_Approved   1287\n",
       "14  Middle East    Pricing, Delivery_Terms_Approved    125\n",
       "15         APAC                          Closed Won    614\n",
       "16     Americas                          Closed Won    484\n",
       "17         EMEA                          Closed Won    837\n",
       "18        Japan                          Closed Won   1103\n",
       "19  Middle East                          Closed Won     28"
      ]
     },
     "execution_count": 80,
     "metadata": {},
     "output_type": "execute_result"
    }
   ],
   "source": [
    "df_bin = df_binar.melt(id_vars=['Region'])\n",
    "df_bin"
   ]
  },
  {
   "cell_type": "code",
   "execution_count": 348,
   "metadata": {
    "scrolled": true
   },
   "outputs": [
    {
     "data": {
      "application/vnd.plotly.v1+json": {
       "config": {
        "plotlyServerURL": "https://plot.ly"
       },
       "data": [
        {
         "hovertemplate": "Región=APAC<br>value=%{x}<br>=%{y}<extra></extra>",
         "legendgroup": "APAC",
         "marker": {
          "color": "#636efa"
         },
         "name": "APAC",
         "orientation": "h",
         "showlegend": true,
         "type": "funnel",
         "x": [
          2086,
          1406,
          979,
          614
         ],
         "xaxis": "x",
         "y": [
          "Opportunity_ID",
          "Pricing, Delivery_Terms_Quote_Appr",
          "Pricing, Delivery_Terms_Approved",
          "Closed Won"
         ],
         "yaxis": "y"
        },
        {
         "hovertemplate": "Región=Americas<br>value=%{x}<br>=%{y}<extra></extra>",
         "legendgroup": "Americas",
         "marker": {
          "color": "#EF553B"
         },
         "name": "Americas",
         "orientation": "h",
         "showlegend": true,
         "type": "funnel",
         "x": [
          2459,
          1759,
          1140,
          484
         ],
         "xaxis": "x",
         "y": [
          "Opportunity_ID",
          "Pricing, Delivery_Terms_Quote_Appr",
          "Pricing, Delivery_Terms_Approved",
          "Closed Won"
         ],
         "yaxis": "y"
        },
        {
         "hovertemplate": "Región=EMEA<br>value=%{x}<br>=%{y}<extra></extra>",
         "legendgroup": "EMEA",
         "marker": {
          "color": "#00cc96"
         },
         "name": "EMEA",
         "orientation": "h",
         "showlegend": true,
         "type": "funnel",
         "x": [
          3241,
          2462,
          1885,
          837
         ],
         "xaxis": "x",
         "y": [
          "Opportunity_ID",
          "Pricing, Delivery_Terms_Quote_Appr",
          "Pricing, Delivery_Terms_Approved",
          "Closed Won"
         ],
         "yaxis": "y"
        },
        {
         "hovertemplate": "Región=Japan<br>value=%{x}<br>=%{y}<extra></extra>",
         "legendgroup": "Japan",
         "marker": {
          "color": "#ab63fa"
         },
         "name": "Japan",
         "orientation": "h",
         "showlegend": true,
         "type": "funnel",
         "x": [
          1906,
          1738,
          1287,
          1103
         ],
         "xaxis": "x",
         "y": [
          "Opportunity_ID",
          "Pricing, Delivery_Terms_Quote_Appr",
          "Pricing, Delivery_Terms_Approved",
          "Closed Won"
         ],
         "yaxis": "y"
        },
        {
         "hovertemplate": "Región=Middle East<br>value=%{x}<br>=%{y}<extra></extra>",
         "legendgroup": "Middle East",
         "marker": {
          "color": "#FFA15A"
         },
         "name": "Middle East",
         "orientation": "h",
         "showlegend": true,
         "type": "funnel",
         "x": [
          149,
          149,
          125,
          28
         ],
         "xaxis": "x",
         "y": [
          "Opportunity_ID",
          "Pricing, Delivery_Terms_Quote_Appr",
          "Pricing, Delivery_Terms_Approved",
          "Closed Won"
         ],
         "yaxis": "y"
        }
       ],
       "layout": {
        "legend": {
         "title": {
          "text": "Región"
         },
         "tracegroupgap": 0
        },
        "template": {
         "data": {
          "bar": [
           {
            "error_x": {
             "color": "#2a3f5f"
            },
            "error_y": {
             "color": "#2a3f5f"
            },
            "marker": {
             "line": {
              "color": "#E5ECF6",
              "width": 0.5
             }
            },
            "type": "bar"
           }
          ],
          "barpolar": [
           {
            "marker": {
             "line": {
              "color": "#E5ECF6",
              "width": 0.5
             }
            },
            "type": "barpolar"
           }
          ],
          "carpet": [
           {
            "aaxis": {
             "endlinecolor": "#2a3f5f",
             "gridcolor": "white",
             "linecolor": "white",
             "minorgridcolor": "white",
             "startlinecolor": "#2a3f5f"
            },
            "baxis": {
             "endlinecolor": "#2a3f5f",
             "gridcolor": "white",
             "linecolor": "white",
             "minorgridcolor": "white",
             "startlinecolor": "#2a3f5f"
            },
            "type": "carpet"
           }
          ],
          "choropleth": [
           {
            "colorbar": {
             "outlinewidth": 0,
             "ticks": ""
            },
            "type": "choropleth"
           }
          ],
          "contour": [
           {
            "colorbar": {
             "outlinewidth": 0,
             "ticks": ""
            },
            "colorscale": [
             [
              0,
              "#0d0887"
             ],
             [
              0.1111111111111111,
              "#46039f"
             ],
             [
              0.2222222222222222,
              "#7201a8"
             ],
             [
              0.3333333333333333,
              "#9c179e"
             ],
             [
              0.4444444444444444,
              "#bd3786"
             ],
             [
              0.5555555555555556,
              "#d8576b"
             ],
             [
              0.6666666666666666,
              "#ed7953"
             ],
             [
              0.7777777777777778,
              "#fb9f3a"
             ],
             [
              0.8888888888888888,
              "#fdca26"
             ],
             [
              1,
              "#f0f921"
             ]
            ],
            "type": "contour"
           }
          ],
          "contourcarpet": [
           {
            "colorbar": {
             "outlinewidth": 0,
             "ticks": ""
            },
            "type": "contourcarpet"
           }
          ],
          "heatmap": [
           {
            "colorbar": {
             "outlinewidth": 0,
             "ticks": ""
            },
            "colorscale": [
             [
              0,
              "#0d0887"
             ],
             [
              0.1111111111111111,
              "#46039f"
             ],
             [
              0.2222222222222222,
              "#7201a8"
             ],
             [
              0.3333333333333333,
              "#9c179e"
             ],
             [
              0.4444444444444444,
              "#bd3786"
             ],
             [
              0.5555555555555556,
              "#d8576b"
             ],
             [
              0.6666666666666666,
              "#ed7953"
             ],
             [
              0.7777777777777778,
              "#fb9f3a"
             ],
             [
              0.8888888888888888,
              "#fdca26"
             ],
             [
              1,
              "#f0f921"
             ]
            ],
            "type": "heatmap"
           }
          ],
          "heatmapgl": [
           {
            "colorbar": {
             "outlinewidth": 0,
             "ticks": ""
            },
            "colorscale": [
             [
              0,
              "#0d0887"
             ],
             [
              0.1111111111111111,
              "#46039f"
             ],
             [
              0.2222222222222222,
              "#7201a8"
             ],
             [
              0.3333333333333333,
              "#9c179e"
             ],
             [
              0.4444444444444444,
              "#bd3786"
             ],
             [
              0.5555555555555556,
              "#d8576b"
             ],
             [
              0.6666666666666666,
              "#ed7953"
             ],
             [
              0.7777777777777778,
              "#fb9f3a"
             ],
             [
              0.8888888888888888,
              "#fdca26"
             ],
             [
              1,
              "#f0f921"
             ]
            ],
            "type": "heatmapgl"
           }
          ],
          "histogram": [
           {
            "marker": {
             "colorbar": {
              "outlinewidth": 0,
              "ticks": ""
             }
            },
            "type": "histogram"
           }
          ],
          "histogram2d": [
           {
            "colorbar": {
             "outlinewidth": 0,
             "ticks": ""
            },
            "colorscale": [
             [
              0,
              "#0d0887"
             ],
             [
              0.1111111111111111,
              "#46039f"
             ],
             [
              0.2222222222222222,
              "#7201a8"
             ],
             [
              0.3333333333333333,
              "#9c179e"
             ],
             [
              0.4444444444444444,
              "#bd3786"
             ],
             [
              0.5555555555555556,
              "#d8576b"
             ],
             [
              0.6666666666666666,
              "#ed7953"
             ],
             [
              0.7777777777777778,
              "#fb9f3a"
             ],
             [
              0.8888888888888888,
              "#fdca26"
             ],
             [
              1,
              "#f0f921"
             ]
            ],
            "type": "histogram2d"
           }
          ],
          "histogram2dcontour": [
           {
            "colorbar": {
             "outlinewidth": 0,
             "ticks": ""
            },
            "colorscale": [
             [
              0,
              "#0d0887"
             ],
             [
              0.1111111111111111,
              "#46039f"
             ],
             [
              0.2222222222222222,
              "#7201a8"
             ],
             [
              0.3333333333333333,
              "#9c179e"
             ],
             [
              0.4444444444444444,
              "#bd3786"
             ],
             [
              0.5555555555555556,
              "#d8576b"
             ],
             [
              0.6666666666666666,
              "#ed7953"
             ],
             [
              0.7777777777777778,
              "#fb9f3a"
             ],
             [
              0.8888888888888888,
              "#fdca26"
             ],
             [
              1,
              "#f0f921"
             ]
            ],
            "type": "histogram2dcontour"
           }
          ],
          "mesh3d": [
           {
            "colorbar": {
             "outlinewidth": 0,
             "ticks": ""
            },
            "type": "mesh3d"
           }
          ],
          "parcoords": [
           {
            "line": {
             "colorbar": {
              "outlinewidth": 0,
              "ticks": ""
             }
            },
            "type": "parcoords"
           }
          ],
          "pie": [
           {
            "automargin": true,
            "type": "pie"
           }
          ],
          "scatter": [
           {
            "marker": {
             "colorbar": {
              "outlinewidth": 0,
              "ticks": ""
             }
            },
            "type": "scatter"
           }
          ],
          "scatter3d": [
           {
            "line": {
             "colorbar": {
              "outlinewidth": 0,
              "ticks": ""
             }
            },
            "marker": {
             "colorbar": {
              "outlinewidth": 0,
              "ticks": ""
             }
            },
            "type": "scatter3d"
           }
          ],
          "scattercarpet": [
           {
            "marker": {
             "colorbar": {
              "outlinewidth": 0,
              "ticks": ""
             }
            },
            "type": "scattercarpet"
           }
          ],
          "scattergeo": [
           {
            "marker": {
             "colorbar": {
              "outlinewidth": 0,
              "ticks": ""
             }
            },
            "type": "scattergeo"
           }
          ],
          "scattergl": [
           {
            "marker": {
             "colorbar": {
              "outlinewidth": 0,
              "ticks": ""
             }
            },
            "type": "scattergl"
           }
          ],
          "scattermapbox": [
           {
            "marker": {
             "colorbar": {
              "outlinewidth": 0,
              "ticks": ""
             }
            },
            "type": "scattermapbox"
           }
          ],
          "scatterpolar": [
           {
            "marker": {
             "colorbar": {
              "outlinewidth": 0,
              "ticks": ""
             }
            },
            "type": "scatterpolar"
           }
          ],
          "scatterpolargl": [
           {
            "marker": {
             "colorbar": {
              "outlinewidth": 0,
              "ticks": ""
             }
            },
            "type": "scatterpolargl"
           }
          ],
          "scatterternary": [
           {
            "marker": {
             "colorbar": {
              "outlinewidth": 0,
              "ticks": ""
             }
            },
            "type": "scatterternary"
           }
          ],
          "surface": [
           {
            "colorbar": {
             "outlinewidth": 0,
             "ticks": ""
            },
            "colorscale": [
             [
              0,
              "#0d0887"
             ],
             [
              0.1111111111111111,
              "#46039f"
             ],
             [
              0.2222222222222222,
              "#7201a8"
             ],
             [
              0.3333333333333333,
              "#9c179e"
             ],
             [
              0.4444444444444444,
              "#bd3786"
             ],
             [
              0.5555555555555556,
              "#d8576b"
             ],
             [
              0.6666666666666666,
              "#ed7953"
             ],
             [
              0.7777777777777778,
              "#fb9f3a"
             ],
             [
              0.8888888888888888,
              "#fdca26"
             ],
             [
              1,
              "#f0f921"
             ]
            ],
            "type": "surface"
           }
          ],
          "table": [
           {
            "cells": {
             "fill": {
              "color": "#EBF0F8"
             },
             "line": {
              "color": "white"
             }
            },
            "header": {
             "fill": {
              "color": "#C8D4E3"
             },
             "line": {
              "color": "white"
             }
            },
            "type": "table"
           }
          ]
         },
         "layout": {
          "annotationdefaults": {
           "arrowcolor": "#2a3f5f",
           "arrowhead": 0,
           "arrowwidth": 1
          },
          "coloraxis": {
           "colorbar": {
            "outlinewidth": 0,
            "ticks": ""
           }
          },
          "colorscale": {
           "diverging": [
            [
             0,
             "#8e0152"
            ],
            [
             0.1,
             "#c51b7d"
            ],
            [
             0.2,
             "#de77ae"
            ],
            [
             0.3,
             "#f1b6da"
            ],
            [
             0.4,
             "#fde0ef"
            ],
            [
             0.5,
             "#f7f7f7"
            ],
            [
             0.6,
             "#e6f5d0"
            ],
            [
             0.7,
             "#b8e186"
            ],
            [
             0.8,
             "#7fbc41"
            ],
            [
             0.9,
             "#4d9221"
            ],
            [
             1,
             "#276419"
            ]
           ],
           "sequential": [
            [
             0,
             "#0d0887"
            ],
            [
             0.1111111111111111,
             "#46039f"
            ],
            [
             0.2222222222222222,
             "#7201a8"
            ],
            [
             0.3333333333333333,
             "#9c179e"
            ],
            [
             0.4444444444444444,
             "#bd3786"
            ],
            [
             0.5555555555555556,
             "#d8576b"
            ],
            [
             0.6666666666666666,
             "#ed7953"
            ],
            [
             0.7777777777777778,
             "#fb9f3a"
            ],
            [
             0.8888888888888888,
             "#fdca26"
            ],
            [
             1,
             "#f0f921"
            ]
           ],
           "sequentialminus": [
            [
             0,
             "#0d0887"
            ],
            [
             0.1111111111111111,
             "#46039f"
            ],
            [
             0.2222222222222222,
             "#7201a8"
            ],
            [
             0.3333333333333333,
             "#9c179e"
            ],
            [
             0.4444444444444444,
             "#bd3786"
            ],
            [
             0.5555555555555556,
             "#d8576b"
            ],
            [
             0.6666666666666666,
             "#ed7953"
            ],
            [
             0.7777777777777778,
             "#fb9f3a"
            ],
            [
             0.8888888888888888,
             "#fdca26"
            ],
            [
             1,
             "#f0f921"
            ]
           ]
          },
          "colorway": [
           "#636efa",
           "#EF553B",
           "#00cc96",
           "#ab63fa",
           "#FFA15A",
           "#19d3f3",
           "#FF6692",
           "#B6E880",
           "#FF97FF",
           "#FECB52"
          ],
          "font": {
           "color": "#2a3f5f"
          },
          "geo": {
           "bgcolor": "white",
           "lakecolor": "white",
           "landcolor": "#E5ECF6",
           "showlakes": true,
           "showland": true,
           "subunitcolor": "white"
          },
          "hoverlabel": {
           "align": "left"
          },
          "hovermode": "closest",
          "mapbox": {
           "style": "light"
          },
          "paper_bgcolor": "white",
          "plot_bgcolor": "#E5ECF6",
          "polar": {
           "angularaxis": {
            "gridcolor": "white",
            "linecolor": "white",
            "ticks": ""
           },
           "bgcolor": "#E5ECF6",
           "radialaxis": {
            "gridcolor": "white",
            "linecolor": "white",
            "ticks": ""
           }
          },
          "scene": {
           "xaxis": {
            "backgroundcolor": "#E5ECF6",
            "gridcolor": "white",
            "gridwidth": 2,
            "linecolor": "white",
            "showbackground": true,
            "ticks": "",
            "zerolinecolor": "white"
           },
           "yaxis": {
            "backgroundcolor": "#E5ECF6",
            "gridcolor": "white",
            "gridwidth": 2,
            "linecolor": "white",
            "showbackground": true,
            "ticks": "",
            "zerolinecolor": "white"
           },
           "zaxis": {
            "backgroundcolor": "#E5ECF6",
            "gridcolor": "white",
            "gridwidth": 2,
            "linecolor": "white",
            "showbackground": true,
            "ticks": "",
            "zerolinecolor": "white"
           }
          },
          "shapedefaults": {
           "line": {
            "color": "#2a3f5f"
           }
          },
          "ternary": {
           "aaxis": {
            "gridcolor": "white",
            "linecolor": "white",
            "ticks": ""
           },
           "baxis": {
            "gridcolor": "white",
            "linecolor": "white",
            "ticks": ""
           },
           "bgcolor": "#E5ECF6",
           "caxis": {
            "gridcolor": "white",
            "linecolor": "white",
            "ticks": ""
           }
          },
          "title": {
           "x": 0.05
          },
          "xaxis": {
           "automargin": true,
           "gridcolor": "white",
           "linecolor": "white",
           "ticks": "",
           "title": {
            "standoff": 15
           },
           "zerolinecolor": "white",
           "zerolinewidth": 2
          },
          "yaxis": {
           "automargin": true,
           "gridcolor": "white",
           "linecolor": "white",
           "ticks": "",
           "title": {
            "standoff": 15
           },
           "zerolinecolor": "white",
           "zerolinewidth": 2
          }
         }
        },
        "title": {
         "text": "Hola"
        },
        "xaxis": {
         "anchor": "y",
         "domain": [
          0,
          1
         ],
         "title": {
          "text": "value"
         }
        },
        "yaxis": {
         "anchor": "x",
         "domain": [
          0,
          1
         ],
         "title": {
          "text": ""
         }
        }
       }
      },
      "text/html": [
       "<div>\n",
       "        \n",
       "        \n",
       "            <div id=\"ccd56e4d-a6c7-41ee-a3e2-3992f6aeacd4\" class=\"plotly-graph-div\" style=\"height:525px; width:100%;\"></div>\n",
       "            <script type=\"text/javascript\">\n",
       "                require([\"plotly\"], function(Plotly) {\n",
       "                    window.PLOTLYENV=window.PLOTLYENV || {};\n",
       "                    \n",
       "                if (document.getElementById(\"ccd56e4d-a6c7-41ee-a3e2-3992f6aeacd4\")) {\n",
       "                    Plotly.newPlot(\n",
       "                        'ccd56e4d-a6c7-41ee-a3e2-3992f6aeacd4',\n",
       "                        [{\"hovertemplate\": \"Regi\\u00f3n=APAC<br>value=%{x}<br>=%{y}<extra></extra>\", \"legendgroup\": \"APAC\", \"marker\": {\"color\": \"#636efa\"}, \"name\": \"APAC\", \"orientation\": \"h\", \"showlegend\": true, \"type\": \"funnel\", \"x\": [2086, 1406, 979, 614], \"xaxis\": \"x\", \"y\": [\"Opportunity_ID\", \"Pricing, Delivery_Terms_Quote_Appr\", \"Pricing, Delivery_Terms_Approved\", \"Closed Won\"], \"yaxis\": \"y\"}, {\"hovertemplate\": \"Regi\\u00f3n=Americas<br>value=%{x}<br>=%{y}<extra></extra>\", \"legendgroup\": \"Americas\", \"marker\": {\"color\": \"#EF553B\"}, \"name\": \"Americas\", \"orientation\": \"h\", \"showlegend\": true, \"type\": \"funnel\", \"x\": [2459, 1759, 1140, 484], \"xaxis\": \"x\", \"y\": [\"Opportunity_ID\", \"Pricing, Delivery_Terms_Quote_Appr\", \"Pricing, Delivery_Terms_Approved\", \"Closed Won\"], \"yaxis\": \"y\"}, {\"hovertemplate\": \"Regi\\u00f3n=EMEA<br>value=%{x}<br>=%{y}<extra></extra>\", \"legendgroup\": \"EMEA\", \"marker\": {\"color\": \"#00cc96\"}, \"name\": \"EMEA\", \"orientation\": \"h\", \"showlegend\": true, \"type\": \"funnel\", \"x\": [3241, 2462, 1885, 837], \"xaxis\": \"x\", \"y\": [\"Opportunity_ID\", \"Pricing, Delivery_Terms_Quote_Appr\", \"Pricing, Delivery_Terms_Approved\", \"Closed Won\"], \"yaxis\": \"y\"}, {\"hovertemplate\": \"Regi\\u00f3n=Japan<br>value=%{x}<br>=%{y}<extra></extra>\", \"legendgroup\": \"Japan\", \"marker\": {\"color\": \"#ab63fa\"}, \"name\": \"Japan\", \"orientation\": \"h\", \"showlegend\": true, \"type\": \"funnel\", \"x\": [1906, 1738, 1287, 1103], \"xaxis\": \"x\", \"y\": [\"Opportunity_ID\", \"Pricing, Delivery_Terms_Quote_Appr\", \"Pricing, Delivery_Terms_Approved\", \"Closed Won\"], \"yaxis\": \"y\"}, {\"hovertemplate\": \"Regi\\u00f3n=Middle East<br>value=%{x}<br>=%{y}<extra></extra>\", \"legendgroup\": \"Middle East\", \"marker\": {\"color\": \"#FFA15A\"}, \"name\": \"Middle East\", \"orientation\": \"h\", \"showlegend\": true, \"type\": \"funnel\", \"x\": [149, 149, 125, 28], \"xaxis\": \"x\", \"y\": [\"Opportunity_ID\", \"Pricing, Delivery_Terms_Quote_Appr\", \"Pricing, Delivery_Terms_Approved\", \"Closed Won\"], \"yaxis\": \"y\"}],\n",
       "                        {\"legend\": {\"title\": {\"text\": \"Regi\\u00f3n\"}, \"tracegroupgap\": 0}, \"template\": {\"data\": {\"bar\": [{\"error_x\": {\"color\": \"#2a3f5f\"}, \"error_y\": {\"color\": \"#2a3f5f\"}, \"marker\": {\"line\": {\"color\": \"#E5ECF6\", \"width\": 0.5}}, \"type\": \"bar\"}], \"barpolar\": [{\"marker\": {\"line\": {\"color\": \"#E5ECF6\", \"width\": 0.5}}, \"type\": \"barpolar\"}], \"carpet\": [{\"aaxis\": {\"endlinecolor\": \"#2a3f5f\", \"gridcolor\": \"white\", \"linecolor\": \"white\", \"minorgridcolor\": \"white\", \"startlinecolor\": \"#2a3f5f\"}, \"baxis\": {\"endlinecolor\": \"#2a3f5f\", \"gridcolor\": \"white\", \"linecolor\": \"white\", \"minorgridcolor\": \"white\", \"startlinecolor\": \"#2a3f5f\"}, \"type\": \"carpet\"}], \"choropleth\": [{\"colorbar\": {\"outlinewidth\": 0, \"ticks\": \"\"}, \"type\": \"choropleth\"}], \"contour\": [{\"colorbar\": {\"outlinewidth\": 0, \"ticks\": \"\"}, \"colorscale\": [[0.0, \"#0d0887\"], [0.1111111111111111, \"#46039f\"], [0.2222222222222222, \"#7201a8\"], [0.3333333333333333, \"#9c179e\"], [0.4444444444444444, \"#bd3786\"], [0.5555555555555556, \"#d8576b\"], [0.6666666666666666, \"#ed7953\"], [0.7777777777777778, \"#fb9f3a\"], [0.8888888888888888, \"#fdca26\"], [1.0, \"#f0f921\"]], \"type\": \"contour\"}], \"contourcarpet\": [{\"colorbar\": {\"outlinewidth\": 0, \"ticks\": \"\"}, \"type\": \"contourcarpet\"}], \"heatmap\": [{\"colorbar\": {\"outlinewidth\": 0, \"ticks\": \"\"}, \"colorscale\": [[0.0, \"#0d0887\"], [0.1111111111111111, \"#46039f\"], [0.2222222222222222, \"#7201a8\"], [0.3333333333333333, \"#9c179e\"], [0.4444444444444444, \"#bd3786\"], [0.5555555555555556, \"#d8576b\"], [0.6666666666666666, \"#ed7953\"], [0.7777777777777778, \"#fb9f3a\"], [0.8888888888888888, \"#fdca26\"], [1.0, \"#f0f921\"]], \"type\": \"heatmap\"}], \"heatmapgl\": [{\"colorbar\": {\"outlinewidth\": 0, \"ticks\": \"\"}, \"colorscale\": [[0.0, \"#0d0887\"], [0.1111111111111111, \"#46039f\"], [0.2222222222222222, \"#7201a8\"], [0.3333333333333333, \"#9c179e\"], [0.4444444444444444, \"#bd3786\"], [0.5555555555555556, \"#d8576b\"], [0.6666666666666666, \"#ed7953\"], [0.7777777777777778, \"#fb9f3a\"], [0.8888888888888888, \"#fdca26\"], [1.0, \"#f0f921\"]], \"type\": \"heatmapgl\"}], \"histogram\": [{\"marker\": {\"colorbar\": {\"outlinewidth\": 0, \"ticks\": \"\"}}, \"type\": \"histogram\"}], \"histogram2d\": [{\"colorbar\": {\"outlinewidth\": 0, \"ticks\": \"\"}, \"colorscale\": [[0.0, \"#0d0887\"], [0.1111111111111111, \"#46039f\"], [0.2222222222222222, \"#7201a8\"], [0.3333333333333333, \"#9c179e\"], [0.4444444444444444, \"#bd3786\"], [0.5555555555555556, \"#d8576b\"], [0.6666666666666666, \"#ed7953\"], [0.7777777777777778, \"#fb9f3a\"], [0.8888888888888888, \"#fdca26\"], [1.0, \"#f0f921\"]], \"type\": \"histogram2d\"}], \"histogram2dcontour\": [{\"colorbar\": {\"outlinewidth\": 0, \"ticks\": \"\"}, \"colorscale\": [[0.0, \"#0d0887\"], [0.1111111111111111, \"#46039f\"], [0.2222222222222222, \"#7201a8\"], [0.3333333333333333, \"#9c179e\"], [0.4444444444444444, \"#bd3786\"], [0.5555555555555556, \"#d8576b\"], [0.6666666666666666, \"#ed7953\"], [0.7777777777777778, \"#fb9f3a\"], [0.8888888888888888, \"#fdca26\"], [1.0, \"#f0f921\"]], \"type\": \"histogram2dcontour\"}], \"mesh3d\": [{\"colorbar\": {\"outlinewidth\": 0, \"ticks\": \"\"}, \"type\": \"mesh3d\"}], \"parcoords\": [{\"line\": {\"colorbar\": {\"outlinewidth\": 0, \"ticks\": \"\"}}, \"type\": \"parcoords\"}], \"pie\": [{\"automargin\": true, \"type\": \"pie\"}], \"scatter\": [{\"marker\": {\"colorbar\": {\"outlinewidth\": 0, \"ticks\": \"\"}}, \"type\": \"scatter\"}], \"scatter3d\": [{\"line\": {\"colorbar\": {\"outlinewidth\": 0, \"ticks\": \"\"}}, \"marker\": {\"colorbar\": {\"outlinewidth\": 0, \"ticks\": \"\"}}, \"type\": \"scatter3d\"}], \"scattercarpet\": [{\"marker\": {\"colorbar\": {\"outlinewidth\": 0, \"ticks\": \"\"}}, \"type\": \"scattercarpet\"}], \"scattergeo\": [{\"marker\": {\"colorbar\": {\"outlinewidth\": 0, \"ticks\": \"\"}}, \"type\": \"scattergeo\"}], \"scattergl\": [{\"marker\": {\"colorbar\": {\"outlinewidth\": 0, \"ticks\": \"\"}}, \"type\": \"scattergl\"}], \"scattermapbox\": [{\"marker\": {\"colorbar\": {\"outlinewidth\": 0, \"ticks\": \"\"}}, \"type\": \"scattermapbox\"}], \"scatterpolar\": [{\"marker\": {\"colorbar\": {\"outlinewidth\": 0, \"ticks\": \"\"}}, \"type\": \"scatterpolar\"}], \"scatterpolargl\": [{\"marker\": {\"colorbar\": {\"outlinewidth\": 0, \"ticks\": \"\"}}, \"type\": \"scatterpolargl\"}], \"scatterternary\": [{\"marker\": {\"colorbar\": {\"outlinewidth\": 0, \"ticks\": \"\"}}, \"type\": \"scatterternary\"}], \"surface\": [{\"colorbar\": {\"outlinewidth\": 0, \"ticks\": \"\"}, \"colorscale\": [[0.0, \"#0d0887\"], [0.1111111111111111, \"#46039f\"], [0.2222222222222222, \"#7201a8\"], [0.3333333333333333, \"#9c179e\"], [0.4444444444444444, \"#bd3786\"], [0.5555555555555556, \"#d8576b\"], [0.6666666666666666, \"#ed7953\"], [0.7777777777777778, \"#fb9f3a\"], [0.8888888888888888, \"#fdca26\"], [1.0, \"#f0f921\"]], \"type\": \"surface\"}], \"table\": [{\"cells\": {\"fill\": {\"color\": \"#EBF0F8\"}, \"line\": {\"color\": \"white\"}}, \"header\": {\"fill\": {\"color\": \"#C8D4E3\"}, \"line\": {\"color\": \"white\"}}, \"type\": \"table\"}]}, \"layout\": {\"annotationdefaults\": {\"arrowcolor\": \"#2a3f5f\", \"arrowhead\": 0, \"arrowwidth\": 1}, \"coloraxis\": {\"colorbar\": {\"outlinewidth\": 0, \"ticks\": \"\"}}, \"colorscale\": {\"diverging\": [[0, \"#8e0152\"], [0.1, \"#c51b7d\"], [0.2, \"#de77ae\"], [0.3, \"#f1b6da\"], [0.4, \"#fde0ef\"], [0.5, \"#f7f7f7\"], [0.6, \"#e6f5d0\"], [0.7, \"#b8e186\"], [0.8, \"#7fbc41\"], [0.9, \"#4d9221\"], [1, \"#276419\"]], \"sequential\": [[0.0, \"#0d0887\"], [0.1111111111111111, \"#46039f\"], [0.2222222222222222, \"#7201a8\"], [0.3333333333333333, \"#9c179e\"], [0.4444444444444444, \"#bd3786\"], [0.5555555555555556, \"#d8576b\"], [0.6666666666666666, \"#ed7953\"], [0.7777777777777778, \"#fb9f3a\"], [0.8888888888888888, \"#fdca26\"], [1.0, \"#f0f921\"]], \"sequentialminus\": [[0.0, \"#0d0887\"], [0.1111111111111111, \"#46039f\"], [0.2222222222222222, \"#7201a8\"], [0.3333333333333333, \"#9c179e\"], [0.4444444444444444, \"#bd3786\"], [0.5555555555555556, \"#d8576b\"], [0.6666666666666666, \"#ed7953\"], [0.7777777777777778, \"#fb9f3a\"], [0.8888888888888888, \"#fdca26\"], [1.0, \"#f0f921\"]]}, \"colorway\": [\"#636efa\", \"#EF553B\", \"#00cc96\", \"#ab63fa\", \"#FFA15A\", \"#19d3f3\", \"#FF6692\", \"#B6E880\", \"#FF97FF\", \"#FECB52\"], \"font\": {\"color\": \"#2a3f5f\"}, \"geo\": {\"bgcolor\": \"white\", \"lakecolor\": \"white\", \"landcolor\": \"#E5ECF6\", \"showlakes\": true, \"showland\": true, \"subunitcolor\": \"white\"}, \"hoverlabel\": {\"align\": \"left\"}, \"hovermode\": \"closest\", \"mapbox\": {\"style\": \"light\"}, \"paper_bgcolor\": \"white\", \"plot_bgcolor\": \"#E5ECF6\", \"polar\": {\"angularaxis\": {\"gridcolor\": \"white\", \"linecolor\": \"white\", \"ticks\": \"\"}, \"bgcolor\": \"#E5ECF6\", \"radialaxis\": {\"gridcolor\": \"white\", \"linecolor\": \"white\", \"ticks\": \"\"}}, \"scene\": {\"xaxis\": {\"backgroundcolor\": \"#E5ECF6\", \"gridcolor\": \"white\", \"gridwidth\": 2, \"linecolor\": \"white\", \"showbackground\": true, \"ticks\": \"\", \"zerolinecolor\": \"white\"}, \"yaxis\": {\"backgroundcolor\": \"#E5ECF6\", \"gridcolor\": \"white\", \"gridwidth\": 2, \"linecolor\": \"white\", \"showbackground\": true, \"ticks\": \"\", \"zerolinecolor\": \"white\"}, \"zaxis\": {\"backgroundcolor\": \"#E5ECF6\", \"gridcolor\": \"white\", \"gridwidth\": 2, \"linecolor\": \"white\", \"showbackground\": true, \"ticks\": \"\", \"zerolinecolor\": \"white\"}}, \"shapedefaults\": {\"line\": {\"color\": \"#2a3f5f\"}}, \"ternary\": {\"aaxis\": {\"gridcolor\": \"white\", \"linecolor\": \"white\", \"ticks\": \"\"}, \"baxis\": {\"gridcolor\": \"white\", \"linecolor\": \"white\", \"ticks\": \"\"}, \"bgcolor\": \"#E5ECF6\", \"caxis\": {\"gridcolor\": \"white\", \"linecolor\": \"white\", \"ticks\": \"\"}}, \"title\": {\"x\": 0.05}, \"xaxis\": {\"automargin\": true, \"gridcolor\": \"white\", \"linecolor\": \"white\", \"ticks\": \"\", \"title\": {\"standoff\": 15}, \"zerolinecolor\": \"white\", \"zerolinewidth\": 2}, \"yaxis\": {\"automargin\": true, \"gridcolor\": \"white\", \"linecolor\": \"white\", \"ticks\": \"\", \"title\": {\"standoff\": 15}, \"zerolinecolor\": \"white\", \"zerolinewidth\": 2}}}, \"title\": {\"text\": \"Hola\"}, \"xaxis\": {\"anchor\": \"y\", \"domain\": [0.0, 1.0], \"title\": {\"text\": \"value\"}}, \"yaxis\": {\"anchor\": \"x\", \"domain\": [0.0, 1.0], \"title\": {\"text\": \"\"}}},\n",
       "                        {\"responsive\": true}\n",
       "                    ).then(function(){\n",
       "                            \n",
       "var gd = document.getElementById('ccd56e4d-a6c7-41ee-a3e2-3992f6aeacd4');\n",
       "var x = new MutationObserver(function (mutations, observer) {{\n",
       "        var display = window.getComputedStyle(gd).display;\n",
       "        if (!display || display === 'none') {{\n",
       "            console.log([gd, 'removed!']);\n",
       "            Plotly.purge(gd);\n",
       "            observer.disconnect();\n",
       "        }}\n",
       "}});\n",
       "\n",
       "// Listen for the removal of the full notebook cells\n",
       "var notebookContainer = gd.closest('#notebook-container');\n",
       "if (notebookContainer) {{\n",
       "    x.observe(notebookContainer, {childList: true});\n",
       "}}\n",
       "\n",
       "// Listen for the clearing of the current output cell\n",
       "var outputEl = gd.closest('.output');\n",
       "if (outputEl) {{\n",
       "    x.observe(outputEl, {childList: true});\n",
       "}}\n",
       "\n",
       "                        })\n",
       "                };\n",
       "                });\n",
       "            </script>\n",
       "        </div>"
      ]
     },
     "metadata": {},
     "output_type": "display_data"
    }
   ],
   "source": [
    "\n",
    "px.funnel(df_bin, x='value', y='variable', color='Region',\n",
    "          title='Hola' , labels=dict(variable='', Region=\"Región\"))"
   ]
  },
  {
   "cell_type": "code",
   "execution_count": 82,
   "metadata": {},
   "outputs": [],
   "source": [
    "group_b= df.groupby('Region').agg({'Opportunity_ID': pd.Series.nunique}).reset_index()\n",
    "grouped_b = df.loc[df['Bureaucratic_Code_0_Approval'] == 1,:].groupby('Region').agg({'Opportunity_ID': pd.Series.nunique}).reset_index()\n",
    "grouped_b.rename(columns={'Opportunity_ID': 'Bureaucratic_Code_0_Approval'}, inplace= True)\n",
    "grouped2_b = df.loc[df['Bureaucratic_Code_0_Approved'] == 1,:].groupby('Region').agg({'Opportunity_ID': pd.Series.nunique}).reset_index()\n",
    "grouped2_b.rename(columns={'Opportunity_ID': 'Bureaucratic_Code_0_Approved'}, inplace= True)\n",
    "grouped3_b = df.loc[(df['Bureaucratic_Code_0_Approved'] == 1) & (df['Stage'] == 'Closed Won'),:].groupby('Region').agg({'Opportunity_ID': pd.Series.nunique}).reset_index()\n",
    "grouped3_b.rename(columns={'Opportunity_ID': 'Closed Won'}, inplace= True)\n",
    "df_binar_b = group_b.merge(grouped_b, on='Region').merge(grouped2_b, on='Region').merge(grouped3_b, on='Region')\n",
    "df_bin_b = df_binar_b.melt(id_vars=['Region'])"
   ]
  },
  {
   "cell_type": "code",
   "execution_count": 83,
   "metadata": {},
   "outputs": [
    {
     "data": {
      "application/vnd.plotly.v1+json": {
       "config": {
        "plotlyServerURL": "https://plot.ly"
       },
       "data": [
        {
         "hovertemplate": "Region=APAC<br>value=%{x}<br>variable=%{y}<extra></extra>",
         "legendgroup": "APAC",
         "marker": {
          "color": "#636efa"
         },
         "name": "APAC",
         "orientation": "h",
         "showlegend": true,
         "type": "funnel",
         "x": [
          2086,
          1238,
          829,
          530
         ],
         "xaxis": "x",
         "y": [
          "Opportunity_ID",
          "Bureaucratic_Code_0_Approval",
          "Bureaucratic_Code_0_Approved",
          "Closed Won"
         ],
         "yaxis": "y"
        },
        {
         "hovertemplate": "Region=Americas<br>value=%{x}<br>variable=%{y}<extra></extra>",
         "legendgroup": "Americas",
         "marker": {
          "color": "#EF553B"
         },
         "name": "Americas",
         "orientation": "h",
         "showlegend": true,
         "type": "funnel",
         "x": [
          2459,
          1313,
          775,
          277
         ],
         "xaxis": "x",
         "y": [
          "Opportunity_ID",
          "Bureaucratic_Code_0_Approval",
          "Bureaucratic_Code_0_Approved",
          "Closed Won"
         ],
         "yaxis": "y"
        },
        {
         "hovertemplate": "Region=EMEA<br>value=%{x}<br>variable=%{y}<extra></extra>",
         "legendgroup": "EMEA",
         "marker": {
          "color": "#00cc96"
         },
         "name": "EMEA",
         "orientation": "h",
         "showlegend": true,
         "type": "funnel",
         "x": [
          3241,
          1621,
          1198,
          461
         ],
         "xaxis": "x",
         "y": [
          "Opportunity_ID",
          "Bureaucratic_Code_0_Approval",
          "Bureaucratic_Code_0_Approved",
          "Closed Won"
         ],
         "yaxis": "y"
        },
        {
         "hovertemplate": "Region=Japan<br>value=%{x}<br>variable=%{y}<extra></extra>",
         "legendgroup": "Japan",
         "marker": {
          "color": "#ab63fa"
         },
         "name": "Japan",
         "orientation": "h",
         "showlegend": true,
         "type": "funnel",
         "x": [
          1906,
          614,
          416,
          315
         ],
         "xaxis": "x",
         "y": [
          "Opportunity_ID",
          "Bureaucratic_Code_0_Approval",
          "Bureaucratic_Code_0_Approved",
          "Closed Won"
         ],
         "yaxis": "y"
        },
        {
         "hovertemplate": "Region=Middle East<br>value=%{x}<br>variable=%{y}<extra></extra>",
         "legendgroup": "Middle East",
         "marker": {
          "color": "#FFA15A"
         },
         "name": "Middle East",
         "orientation": "h",
         "showlegend": true,
         "type": "funnel",
         "x": [
          149,
          147,
          119,
          28
         ],
         "xaxis": "x",
         "y": [
          "Opportunity_ID",
          "Bureaucratic_Code_0_Approval",
          "Bureaucratic_Code_0_Approved",
          "Closed Won"
         ],
         "yaxis": "y"
        }
       ],
       "layout": {
        "legend": {
         "title": {
          "text": "Region"
         },
         "tracegroupgap": 0
        },
        "margin": {
         "t": 60
        },
        "template": {
         "data": {
          "bar": [
           {
            "error_x": {
             "color": "#2a3f5f"
            },
            "error_y": {
             "color": "#2a3f5f"
            },
            "marker": {
             "line": {
              "color": "#E5ECF6",
              "width": 0.5
             }
            },
            "type": "bar"
           }
          ],
          "barpolar": [
           {
            "marker": {
             "line": {
              "color": "#E5ECF6",
              "width": 0.5
             }
            },
            "type": "barpolar"
           }
          ],
          "carpet": [
           {
            "aaxis": {
             "endlinecolor": "#2a3f5f",
             "gridcolor": "white",
             "linecolor": "white",
             "minorgridcolor": "white",
             "startlinecolor": "#2a3f5f"
            },
            "baxis": {
             "endlinecolor": "#2a3f5f",
             "gridcolor": "white",
             "linecolor": "white",
             "minorgridcolor": "white",
             "startlinecolor": "#2a3f5f"
            },
            "type": "carpet"
           }
          ],
          "choropleth": [
           {
            "colorbar": {
             "outlinewidth": 0,
             "ticks": ""
            },
            "type": "choropleth"
           }
          ],
          "contour": [
           {
            "colorbar": {
             "outlinewidth": 0,
             "ticks": ""
            },
            "colorscale": [
             [
              0,
              "#0d0887"
             ],
             [
              0.1111111111111111,
              "#46039f"
             ],
             [
              0.2222222222222222,
              "#7201a8"
             ],
             [
              0.3333333333333333,
              "#9c179e"
             ],
             [
              0.4444444444444444,
              "#bd3786"
             ],
             [
              0.5555555555555556,
              "#d8576b"
             ],
             [
              0.6666666666666666,
              "#ed7953"
             ],
             [
              0.7777777777777778,
              "#fb9f3a"
             ],
             [
              0.8888888888888888,
              "#fdca26"
             ],
             [
              1,
              "#f0f921"
             ]
            ],
            "type": "contour"
           }
          ],
          "contourcarpet": [
           {
            "colorbar": {
             "outlinewidth": 0,
             "ticks": ""
            },
            "type": "contourcarpet"
           }
          ],
          "heatmap": [
           {
            "colorbar": {
             "outlinewidth": 0,
             "ticks": ""
            },
            "colorscale": [
             [
              0,
              "#0d0887"
             ],
             [
              0.1111111111111111,
              "#46039f"
             ],
             [
              0.2222222222222222,
              "#7201a8"
             ],
             [
              0.3333333333333333,
              "#9c179e"
             ],
             [
              0.4444444444444444,
              "#bd3786"
             ],
             [
              0.5555555555555556,
              "#d8576b"
             ],
             [
              0.6666666666666666,
              "#ed7953"
             ],
             [
              0.7777777777777778,
              "#fb9f3a"
             ],
             [
              0.8888888888888888,
              "#fdca26"
             ],
             [
              1,
              "#f0f921"
             ]
            ],
            "type": "heatmap"
           }
          ],
          "heatmapgl": [
           {
            "colorbar": {
             "outlinewidth": 0,
             "ticks": ""
            },
            "colorscale": [
             [
              0,
              "#0d0887"
             ],
             [
              0.1111111111111111,
              "#46039f"
             ],
             [
              0.2222222222222222,
              "#7201a8"
             ],
             [
              0.3333333333333333,
              "#9c179e"
             ],
             [
              0.4444444444444444,
              "#bd3786"
             ],
             [
              0.5555555555555556,
              "#d8576b"
             ],
             [
              0.6666666666666666,
              "#ed7953"
             ],
             [
              0.7777777777777778,
              "#fb9f3a"
             ],
             [
              0.8888888888888888,
              "#fdca26"
             ],
             [
              1,
              "#f0f921"
             ]
            ],
            "type": "heatmapgl"
           }
          ],
          "histogram": [
           {
            "marker": {
             "colorbar": {
              "outlinewidth": 0,
              "ticks": ""
             }
            },
            "type": "histogram"
           }
          ],
          "histogram2d": [
           {
            "colorbar": {
             "outlinewidth": 0,
             "ticks": ""
            },
            "colorscale": [
             [
              0,
              "#0d0887"
             ],
             [
              0.1111111111111111,
              "#46039f"
             ],
             [
              0.2222222222222222,
              "#7201a8"
             ],
             [
              0.3333333333333333,
              "#9c179e"
             ],
             [
              0.4444444444444444,
              "#bd3786"
             ],
             [
              0.5555555555555556,
              "#d8576b"
             ],
             [
              0.6666666666666666,
              "#ed7953"
             ],
             [
              0.7777777777777778,
              "#fb9f3a"
             ],
             [
              0.8888888888888888,
              "#fdca26"
             ],
             [
              1,
              "#f0f921"
             ]
            ],
            "type": "histogram2d"
           }
          ],
          "histogram2dcontour": [
           {
            "colorbar": {
             "outlinewidth": 0,
             "ticks": ""
            },
            "colorscale": [
             [
              0,
              "#0d0887"
             ],
             [
              0.1111111111111111,
              "#46039f"
             ],
             [
              0.2222222222222222,
              "#7201a8"
             ],
             [
              0.3333333333333333,
              "#9c179e"
             ],
             [
              0.4444444444444444,
              "#bd3786"
             ],
             [
              0.5555555555555556,
              "#d8576b"
             ],
             [
              0.6666666666666666,
              "#ed7953"
             ],
             [
              0.7777777777777778,
              "#fb9f3a"
             ],
             [
              0.8888888888888888,
              "#fdca26"
             ],
             [
              1,
              "#f0f921"
             ]
            ],
            "type": "histogram2dcontour"
           }
          ],
          "mesh3d": [
           {
            "colorbar": {
             "outlinewidth": 0,
             "ticks": ""
            },
            "type": "mesh3d"
           }
          ],
          "parcoords": [
           {
            "line": {
             "colorbar": {
              "outlinewidth": 0,
              "ticks": ""
             }
            },
            "type": "parcoords"
           }
          ],
          "pie": [
           {
            "automargin": true,
            "type": "pie"
           }
          ],
          "scatter": [
           {
            "marker": {
             "colorbar": {
              "outlinewidth": 0,
              "ticks": ""
             }
            },
            "type": "scatter"
           }
          ],
          "scatter3d": [
           {
            "line": {
             "colorbar": {
              "outlinewidth": 0,
              "ticks": ""
             }
            },
            "marker": {
             "colorbar": {
              "outlinewidth": 0,
              "ticks": ""
             }
            },
            "type": "scatter3d"
           }
          ],
          "scattercarpet": [
           {
            "marker": {
             "colorbar": {
              "outlinewidth": 0,
              "ticks": ""
             }
            },
            "type": "scattercarpet"
           }
          ],
          "scattergeo": [
           {
            "marker": {
             "colorbar": {
              "outlinewidth": 0,
              "ticks": ""
             }
            },
            "type": "scattergeo"
           }
          ],
          "scattergl": [
           {
            "marker": {
             "colorbar": {
              "outlinewidth": 0,
              "ticks": ""
             }
            },
            "type": "scattergl"
           }
          ],
          "scattermapbox": [
           {
            "marker": {
             "colorbar": {
              "outlinewidth": 0,
              "ticks": ""
             }
            },
            "type": "scattermapbox"
           }
          ],
          "scatterpolar": [
           {
            "marker": {
             "colorbar": {
              "outlinewidth": 0,
              "ticks": ""
             }
            },
            "type": "scatterpolar"
           }
          ],
          "scatterpolargl": [
           {
            "marker": {
             "colorbar": {
              "outlinewidth": 0,
              "ticks": ""
             }
            },
            "type": "scatterpolargl"
           }
          ],
          "scatterternary": [
           {
            "marker": {
             "colorbar": {
              "outlinewidth": 0,
              "ticks": ""
             }
            },
            "type": "scatterternary"
           }
          ],
          "surface": [
           {
            "colorbar": {
             "outlinewidth": 0,
             "ticks": ""
            },
            "colorscale": [
             [
              0,
              "#0d0887"
             ],
             [
              0.1111111111111111,
              "#46039f"
             ],
             [
              0.2222222222222222,
              "#7201a8"
             ],
             [
              0.3333333333333333,
              "#9c179e"
             ],
             [
              0.4444444444444444,
              "#bd3786"
             ],
             [
              0.5555555555555556,
              "#d8576b"
             ],
             [
              0.6666666666666666,
              "#ed7953"
             ],
             [
              0.7777777777777778,
              "#fb9f3a"
             ],
             [
              0.8888888888888888,
              "#fdca26"
             ],
             [
              1,
              "#f0f921"
             ]
            ],
            "type": "surface"
           }
          ],
          "table": [
           {
            "cells": {
             "fill": {
              "color": "#EBF0F8"
             },
             "line": {
              "color": "white"
             }
            },
            "header": {
             "fill": {
              "color": "#C8D4E3"
             },
             "line": {
              "color": "white"
             }
            },
            "type": "table"
           }
          ]
         },
         "layout": {
          "annotationdefaults": {
           "arrowcolor": "#2a3f5f",
           "arrowhead": 0,
           "arrowwidth": 1
          },
          "coloraxis": {
           "colorbar": {
            "outlinewidth": 0,
            "ticks": ""
           }
          },
          "colorscale": {
           "diverging": [
            [
             0,
             "#8e0152"
            ],
            [
             0.1,
             "#c51b7d"
            ],
            [
             0.2,
             "#de77ae"
            ],
            [
             0.3,
             "#f1b6da"
            ],
            [
             0.4,
             "#fde0ef"
            ],
            [
             0.5,
             "#f7f7f7"
            ],
            [
             0.6,
             "#e6f5d0"
            ],
            [
             0.7,
             "#b8e186"
            ],
            [
             0.8,
             "#7fbc41"
            ],
            [
             0.9,
             "#4d9221"
            ],
            [
             1,
             "#276419"
            ]
           ],
           "sequential": [
            [
             0,
             "#0d0887"
            ],
            [
             0.1111111111111111,
             "#46039f"
            ],
            [
             0.2222222222222222,
             "#7201a8"
            ],
            [
             0.3333333333333333,
             "#9c179e"
            ],
            [
             0.4444444444444444,
             "#bd3786"
            ],
            [
             0.5555555555555556,
             "#d8576b"
            ],
            [
             0.6666666666666666,
             "#ed7953"
            ],
            [
             0.7777777777777778,
             "#fb9f3a"
            ],
            [
             0.8888888888888888,
             "#fdca26"
            ],
            [
             1,
             "#f0f921"
            ]
           ],
           "sequentialminus": [
            [
             0,
             "#0d0887"
            ],
            [
             0.1111111111111111,
             "#46039f"
            ],
            [
             0.2222222222222222,
             "#7201a8"
            ],
            [
             0.3333333333333333,
             "#9c179e"
            ],
            [
             0.4444444444444444,
             "#bd3786"
            ],
            [
             0.5555555555555556,
             "#d8576b"
            ],
            [
             0.6666666666666666,
             "#ed7953"
            ],
            [
             0.7777777777777778,
             "#fb9f3a"
            ],
            [
             0.8888888888888888,
             "#fdca26"
            ],
            [
             1,
             "#f0f921"
            ]
           ]
          },
          "colorway": [
           "#636efa",
           "#EF553B",
           "#00cc96",
           "#ab63fa",
           "#FFA15A",
           "#19d3f3",
           "#FF6692",
           "#B6E880",
           "#FF97FF",
           "#FECB52"
          ],
          "font": {
           "color": "#2a3f5f"
          },
          "geo": {
           "bgcolor": "white",
           "lakecolor": "white",
           "landcolor": "#E5ECF6",
           "showlakes": true,
           "showland": true,
           "subunitcolor": "white"
          },
          "hoverlabel": {
           "align": "left"
          },
          "hovermode": "closest",
          "mapbox": {
           "style": "light"
          },
          "paper_bgcolor": "white",
          "plot_bgcolor": "#E5ECF6",
          "polar": {
           "angularaxis": {
            "gridcolor": "white",
            "linecolor": "white",
            "ticks": ""
           },
           "bgcolor": "#E5ECF6",
           "radialaxis": {
            "gridcolor": "white",
            "linecolor": "white",
            "ticks": ""
           }
          },
          "scene": {
           "xaxis": {
            "backgroundcolor": "#E5ECF6",
            "gridcolor": "white",
            "gridwidth": 2,
            "linecolor": "white",
            "showbackground": true,
            "ticks": "",
            "zerolinecolor": "white"
           },
           "yaxis": {
            "backgroundcolor": "#E5ECF6",
            "gridcolor": "white",
            "gridwidth": 2,
            "linecolor": "white",
            "showbackground": true,
            "ticks": "",
            "zerolinecolor": "white"
           },
           "zaxis": {
            "backgroundcolor": "#E5ECF6",
            "gridcolor": "white",
            "gridwidth": 2,
            "linecolor": "white",
            "showbackground": true,
            "ticks": "",
            "zerolinecolor": "white"
           }
          },
          "shapedefaults": {
           "line": {
            "color": "#2a3f5f"
           }
          },
          "ternary": {
           "aaxis": {
            "gridcolor": "white",
            "linecolor": "white",
            "ticks": ""
           },
           "baxis": {
            "gridcolor": "white",
            "linecolor": "white",
            "ticks": ""
           },
           "bgcolor": "#E5ECF6",
           "caxis": {
            "gridcolor": "white",
            "linecolor": "white",
            "ticks": ""
           }
          },
          "title": {
           "x": 0.05
          },
          "xaxis": {
           "automargin": true,
           "gridcolor": "white",
           "linecolor": "white",
           "ticks": "",
           "title": {
            "standoff": 15
           },
           "zerolinecolor": "white",
           "zerolinewidth": 2
          },
          "yaxis": {
           "automargin": true,
           "gridcolor": "white",
           "linecolor": "white",
           "ticks": "",
           "title": {
            "standoff": 15
           },
           "zerolinecolor": "white",
           "zerolinewidth": 2
          }
         }
        },
        "xaxis": {
         "anchor": "y",
         "domain": [
          0,
          1
         ],
         "title": {
          "text": "value"
         }
        },
        "yaxis": {
         "anchor": "x",
         "domain": [
          0,
          1
         ],
         "title": {
          "text": "variable"
         }
        }
       }
      },
      "text/html": [
       "<div>\n",
       "        \n",
       "        \n",
       "            <div id=\"c62eee4f-efbf-4093-822e-76612c3b38f4\" class=\"plotly-graph-div\" style=\"height:525px; width:100%;\"></div>\n",
       "            <script type=\"text/javascript\">\n",
       "                require([\"plotly\"], function(Plotly) {\n",
       "                    window.PLOTLYENV=window.PLOTLYENV || {};\n",
       "                    \n",
       "                if (document.getElementById(\"c62eee4f-efbf-4093-822e-76612c3b38f4\")) {\n",
       "                    Plotly.newPlot(\n",
       "                        'c62eee4f-efbf-4093-822e-76612c3b38f4',\n",
       "                        [{\"hovertemplate\": \"Region=APAC<br>value=%{x}<br>variable=%{y}<extra></extra>\", \"legendgroup\": \"APAC\", \"marker\": {\"color\": \"#636efa\"}, \"name\": \"APAC\", \"orientation\": \"h\", \"showlegend\": true, \"type\": \"funnel\", \"x\": [2086, 1238, 829, 530], \"xaxis\": \"x\", \"y\": [\"Opportunity_ID\", \"Bureaucratic_Code_0_Approval\", \"Bureaucratic_Code_0_Approved\", \"Closed Won\"], \"yaxis\": \"y\"}, {\"hovertemplate\": \"Region=Americas<br>value=%{x}<br>variable=%{y}<extra></extra>\", \"legendgroup\": \"Americas\", \"marker\": {\"color\": \"#EF553B\"}, \"name\": \"Americas\", \"orientation\": \"h\", \"showlegend\": true, \"type\": \"funnel\", \"x\": [2459, 1313, 775, 277], \"xaxis\": \"x\", \"y\": [\"Opportunity_ID\", \"Bureaucratic_Code_0_Approval\", \"Bureaucratic_Code_0_Approved\", \"Closed Won\"], \"yaxis\": \"y\"}, {\"hovertemplate\": \"Region=EMEA<br>value=%{x}<br>variable=%{y}<extra></extra>\", \"legendgroup\": \"EMEA\", \"marker\": {\"color\": \"#00cc96\"}, \"name\": \"EMEA\", \"orientation\": \"h\", \"showlegend\": true, \"type\": \"funnel\", \"x\": [3241, 1621, 1198, 461], \"xaxis\": \"x\", \"y\": [\"Opportunity_ID\", \"Bureaucratic_Code_0_Approval\", \"Bureaucratic_Code_0_Approved\", \"Closed Won\"], \"yaxis\": \"y\"}, {\"hovertemplate\": \"Region=Japan<br>value=%{x}<br>variable=%{y}<extra></extra>\", \"legendgroup\": \"Japan\", \"marker\": {\"color\": \"#ab63fa\"}, \"name\": \"Japan\", \"orientation\": \"h\", \"showlegend\": true, \"type\": \"funnel\", \"x\": [1906, 614, 416, 315], \"xaxis\": \"x\", \"y\": [\"Opportunity_ID\", \"Bureaucratic_Code_0_Approval\", \"Bureaucratic_Code_0_Approved\", \"Closed Won\"], \"yaxis\": \"y\"}, {\"hovertemplate\": \"Region=Middle East<br>value=%{x}<br>variable=%{y}<extra></extra>\", \"legendgroup\": \"Middle East\", \"marker\": {\"color\": \"#FFA15A\"}, \"name\": \"Middle East\", \"orientation\": \"h\", \"showlegend\": true, \"type\": \"funnel\", \"x\": [149, 147, 119, 28], \"xaxis\": \"x\", \"y\": [\"Opportunity_ID\", \"Bureaucratic_Code_0_Approval\", \"Bureaucratic_Code_0_Approved\", \"Closed Won\"], \"yaxis\": \"y\"}],\n",
       "                        {\"legend\": {\"title\": {\"text\": \"Region\"}, \"tracegroupgap\": 0}, \"margin\": {\"t\": 60}, \"template\": {\"data\": {\"bar\": [{\"error_x\": {\"color\": \"#2a3f5f\"}, \"error_y\": {\"color\": \"#2a3f5f\"}, \"marker\": {\"line\": {\"color\": \"#E5ECF6\", \"width\": 0.5}}, \"type\": \"bar\"}], \"barpolar\": [{\"marker\": {\"line\": {\"color\": \"#E5ECF6\", \"width\": 0.5}}, \"type\": \"barpolar\"}], \"carpet\": [{\"aaxis\": {\"endlinecolor\": \"#2a3f5f\", \"gridcolor\": \"white\", \"linecolor\": \"white\", \"minorgridcolor\": \"white\", \"startlinecolor\": \"#2a3f5f\"}, \"baxis\": {\"endlinecolor\": \"#2a3f5f\", \"gridcolor\": \"white\", \"linecolor\": \"white\", \"minorgridcolor\": \"white\", \"startlinecolor\": \"#2a3f5f\"}, \"type\": \"carpet\"}], \"choropleth\": [{\"colorbar\": {\"outlinewidth\": 0, \"ticks\": \"\"}, \"type\": \"choropleth\"}], \"contour\": [{\"colorbar\": {\"outlinewidth\": 0, \"ticks\": \"\"}, \"colorscale\": [[0.0, \"#0d0887\"], [0.1111111111111111, \"#46039f\"], [0.2222222222222222, \"#7201a8\"], [0.3333333333333333, \"#9c179e\"], [0.4444444444444444, \"#bd3786\"], [0.5555555555555556, \"#d8576b\"], [0.6666666666666666, \"#ed7953\"], [0.7777777777777778, \"#fb9f3a\"], [0.8888888888888888, \"#fdca26\"], [1.0, \"#f0f921\"]], \"type\": \"contour\"}], \"contourcarpet\": [{\"colorbar\": {\"outlinewidth\": 0, \"ticks\": \"\"}, \"type\": \"contourcarpet\"}], \"heatmap\": [{\"colorbar\": {\"outlinewidth\": 0, \"ticks\": \"\"}, \"colorscale\": [[0.0, \"#0d0887\"], [0.1111111111111111, \"#46039f\"], [0.2222222222222222, \"#7201a8\"], [0.3333333333333333, \"#9c179e\"], [0.4444444444444444, \"#bd3786\"], [0.5555555555555556, \"#d8576b\"], [0.6666666666666666, \"#ed7953\"], [0.7777777777777778, \"#fb9f3a\"], [0.8888888888888888, \"#fdca26\"], [1.0, \"#f0f921\"]], \"type\": \"heatmap\"}], \"heatmapgl\": [{\"colorbar\": {\"outlinewidth\": 0, \"ticks\": \"\"}, \"colorscale\": [[0.0, \"#0d0887\"], [0.1111111111111111, \"#46039f\"], [0.2222222222222222, \"#7201a8\"], [0.3333333333333333, \"#9c179e\"], [0.4444444444444444, \"#bd3786\"], [0.5555555555555556, \"#d8576b\"], [0.6666666666666666, \"#ed7953\"], [0.7777777777777778, \"#fb9f3a\"], [0.8888888888888888, \"#fdca26\"], [1.0, \"#f0f921\"]], \"type\": \"heatmapgl\"}], \"histogram\": [{\"marker\": {\"colorbar\": {\"outlinewidth\": 0, \"ticks\": \"\"}}, \"type\": \"histogram\"}], \"histogram2d\": [{\"colorbar\": {\"outlinewidth\": 0, \"ticks\": \"\"}, \"colorscale\": [[0.0, \"#0d0887\"], [0.1111111111111111, \"#46039f\"], [0.2222222222222222, \"#7201a8\"], [0.3333333333333333, \"#9c179e\"], [0.4444444444444444, \"#bd3786\"], [0.5555555555555556, \"#d8576b\"], [0.6666666666666666, \"#ed7953\"], [0.7777777777777778, \"#fb9f3a\"], [0.8888888888888888, \"#fdca26\"], [1.0, \"#f0f921\"]], \"type\": \"histogram2d\"}], \"histogram2dcontour\": [{\"colorbar\": {\"outlinewidth\": 0, \"ticks\": \"\"}, \"colorscale\": [[0.0, \"#0d0887\"], [0.1111111111111111, \"#46039f\"], [0.2222222222222222, \"#7201a8\"], [0.3333333333333333, \"#9c179e\"], [0.4444444444444444, \"#bd3786\"], [0.5555555555555556, \"#d8576b\"], [0.6666666666666666, \"#ed7953\"], [0.7777777777777778, \"#fb9f3a\"], [0.8888888888888888, \"#fdca26\"], [1.0, \"#f0f921\"]], \"type\": \"histogram2dcontour\"}], \"mesh3d\": [{\"colorbar\": {\"outlinewidth\": 0, \"ticks\": \"\"}, \"type\": \"mesh3d\"}], \"parcoords\": [{\"line\": {\"colorbar\": {\"outlinewidth\": 0, \"ticks\": \"\"}}, \"type\": \"parcoords\"}], \"pie\": [{\"automargin\": true, \"type\": \"pie\"}], \"scatter\": [{\"marker\": {\"colorbar\": {\"outlinewidth\": 0, \"ticks\": \"\"}}, \"type\": \"scatter\"}], \"scatter3d\": [{\"line\": {\"colorbar\": {\"outlinewidth\": 0, \"ticks\": \"\"}}, \"marker\": {\"colorbar\": {\"outlinewidth\": 0, \"ticks\": \"\"}}, \"type\": \"scatter3d\"}], \"scattercarpet\": [{\"marker\": {\"colorbar\": {\"outlinewidth\": 0, \"ticks\": \"\"}}, \"type\": \"scattercarpet\"}], \"scattergeo\": [{\"marker\": {\"colorbar\": {\"outlinewidth\": 0, \"ticks\": \"\"}}, \"type\": \"scattergeo\"}], \"scattergl\": [{\"marker\": {\"colorbar\": {\"outlinewidth\": 0, \"ticks\": \"\"}}, \"type\": \"scattergl\"}], \"scattermapbox\": [{\"marker\": {\"colorbar\": {\"outlinewidth\": 0, \"ticks\": \"\"}}, \"type\": \"scattermapbox\"}], \"scatterpolar\": [{\"marker\": {\"colorbar\": {\"outlinewidth\": 0, \"ticks\": \"\"}}, \"type\": \"scatterpolar\"}], \"scatterpolargl\": [{\"marker\": {\"colorbar\": {\"outlinewidth\": 0, \"ticks\": \"\"}}, \"type\": \"scatterpolargl\"}], \"scatterternary\": [{\"marker\": {\"colorbar\": {\"outlinewidth\": 0, \"ticks\": \"\"}}, \"type\": \"scatterternary\"}], \"surface\": [{\"colorbar\": {\"outlinewidth\": 0, \"ticks\": \"\"}, \"colorscale\": [[0.0, \"#0d0887\"], [0.1111111111111111, \"#46039f\"], [0.2222222222222222, \"#7201a8\"], [0.3333333333333333, \"#9c179e\"], [0.4444444444444444, \"#bd3786\"], [0.5555555555555556, \"#d8576b\"], [0.6666666666666666, \"#ed7953\"], [0.7777777777777778, \"#fb9f3a\"], [0.8888888888888888, \"#fdca26\"], [1.0, \"#f0f921\"]], \"type\": \"surface\"}], \"table\": [{\"cells\": {\"fill\": {\"color\": \"#EBF0F8\"}, \"line\": {\"color\": \"white\"}}, \"header\": {\"fill\": {\"color\": \"#C8D4E3\"}, \"line\": {\"color\": \"white\"}}, \"type\": \"table\"}]}, \"layout\": {\"annotationdefaults\": {\"arrowcolor\": \"#2a3f5f\", \"arrowhead\": 0, \"arrowwidth\": 1}, \"coloraxis\": {\"colorbar\": {\"outlinewidth\": 0, \"ticks\": \"\"}}, \"colorscale\": {\"diverging\": [[0, \"#8e0152\"], [0.1, \"#c51b7d\"], [0.2, \"#de77ae\"], [0.3, \"#f1b6da\"], [0.4, \"#fde0ef\"], [0.5, \"#f7f7f7\"], [0.6, \"#e6f5d0\"], [0.7, \"#b8e186\"], [0.8, \"#7fbc41\"], [0.9, \"#4d9221\"], [1, \"#276419\"]], \"sequential\": [[0.0, \"#0d0887\"], [0.1111111111111111, \"#46039f\"], [0.2222222222222222, \"#7201a8\"], [0.3333333333333333, \"#9c179e\"], [0.4444444444444444, \"#bd3786\"], [0.5555555555555556, \"#d8576b\"], [0.6666666666666666, \"#ed7953\"], [0.7777777777777778, \"#fb9f3a\"], [0.8888888888888888, \"#fdca26\"], [1.0, \"#f0f921\"]], \"sequentialminus\": [[0.0, \"#0d0887\"], [0.1111111111111111, \"#46039f\"], [0.2222222222222222, \"#7201a8\"], [0.3333333333333333, \"#9c179e\"], [0.4444444444444444, \"#bd3786\"], [0.5555555555555556, \"#d8576b\"], [0.6666666666666666, \"#ed7953\"], [0.7777777777777778, \"#fb9f3a\"], [0.8888888888888888, \"#fdca26\"], [1.0, \"#f0f921\"]]}, \"colorway\": [\"#636efa\", \"#EF553B\", \"#00cc96\", \"#ab63fa\", \"#FFA15A\", \"#19d3f3\", \"#FF6692\", \"#B6E880\", \"#FF97FF\", \"#FECB52\"], \"font\": {\"color\": \"#2a3f5f\"}, \"geo\": {\"bgcolor\": \"white\", \"lakecolor\": \"white\", \"landcolor\": \"#E5ECF6\", \"showlakes\": true, \"showland\": true, \"subunitcolor\": \"white\"}, \"hoverlabel\": {\"align\": \"left\"}, \"hovermode\": \"closest\", \"mapbox\": {\"style\": \"light\"}, \"paper_bgcolor\": \"white\", \"plot_bgcolor\": \"#E5ECF6\", \"polar\": {\"angularaxis\": {\"gridcolor\": \"white\", \"linecolor\": \"white\", \"ticks\": \"\"}, \"bgcolor\": \"#E5ECF6\", \"radialaxis\": {\"gridcolor\": \"white\", \"linecolor\": \"white\", \"ticks\": \"\"}}, \"scene\": {\"xaxis\": {\"backgroundcolor\": \"#E5ECF6\", \"gridcolor\": \"white\", \"gridwidth\": 2, \"linecolor\": \"white\", \"showbackground\": true, \"ticks\": \"\", \"zerolinecolor\": \"white\"}, \"yaxis\": {\"backgroundcolor\": \"#E5ECF6\", \"gridcolor\": \"white\", \"gridwidth\": 2, \"linecolor\": \"white\", \"showbackground\": true, \"ticks\": \"\", \"zerolinecolor\": \"white\"}, \"zaxis\": {\"backgroundcolor\": \"#E5ECF6\", \"gridcolor\": \"white\", \"gridwidth\": 2, \"linecolor\": \"white\", \"showbackground\": true, \"ticks\": \"\", \"zerolinecolor\": \"white\"}}, \"shapedefaults\": {\"line\": {\"color\": \"#2a3f5f\"}}, \"ternary\": {\"aaxis\": {\"gridcolor\": \"white\", \"linecolor\": \"white\", \"ticks\": \"\"}, \"baxis\": {\"gridcolor\": \"white\", \"linecolor\": \"white\", \"ticks\": \"\"}, \"bgcolor\": \"#E5ECF6\", \"caxis\": {\"gridcolor\": \"white\", \"linecolor\": \"white\", \"ticks\": \"\"}}, \"title\": {\"x\": 0.05}, \"xaxis\": {\"automargin\": true, \"gridcolor\": \"white\", \"linecolor\": \"white\", \"ticks\": \"\", \"title\": {\"standoff\": 15}, \"zerolinecolor\": \"white\", \"zerolinewidth\": 2}, \"yaxis\": {\"automargin\": true, \"gridcolor\": \"white\", \"linecolor\": \"white\", \"ticks\": \"\", \"title\": {\"standoff\": 15}, \"zerolinecolor\": \"white\", \"zerolinewidth\": 2}}}, \"xaxis\": {\"anchor\": \"y\", \"domain\": [0.0, 1.0], \"title\": {\"text\": \"value\"}}, \"yaxis\": {\"anchor\": \"x\", \"domain\": [0.0, 1.0], \"title\": {\"text\": \"variable\"}}},\n",
       "                        {\"responsive\": true}\n",
       "                    ).then(function(){\n",
       "                            \n",
       "var gd = document.getElementById('c62eee4f-efbf-4093-822e-76612c3b38f4');\n",
       "var x = new MutationObserver(function (mutations, observer) {{\n",
       "        var display = window.getComputedStyle(gd).display;\n",
       "        if (!display || display === 'none') {{\n",
       "            console.log([gd, 'removed!']);\n",
       "            Plotly.purge(gd);\n",
       "            observer.disconnect();\n",
       "        }}\n",
       "}});\n",
       "\n",
       "// Listen for the removal of the full notebook cells\n",
       "var notebookContainer = gd.closest('#notebook-container');\n",
       "if (notebookContainer) {{\n",
       "    x.observe(notebookContainer, {childList: true});\n",
       "}}\n",
       "\n",
       "// Listen for the clearing of the current output cell\n",
       "var outputEl = gd.closest('.output');\n",
       "if (outputEl) {{\n",
       "    x.observe(outputEl, {childList: true});\n",
       "}}\n",
       "\n",
       "                        })\n",
       "                };\n",
       "                });\n",
       "            </script>\n",
       "        </div>"
      ]
     },
     "metadata": {},
     "output_type": "display_data"
    }
   ],
   "source": [
    "px.funnel(df_bin_b, x='value', y='variable', color='Region')"
   ]
  },
  {
   "cell_type": "code",
   "execution_count": 84,
   "metadata": {},
   "outputs": [
    {
     "data": {
      "text/plain": [
       "Non Binding    16777\n",
       "Binding          170\n",
       "Name: Quote_Type, dtype: int64"
      ]
     },
     "execution_count": 84,
     "metadata": {},
     "output_type": "execute_result"
    }
   ],
   "source": [
    "df.Quote_Type.value_counts()"
   ]
  },
  {
   "cell_type": "code",
   "execution_count": 85,
   "metadata": {},
   "outputs": [
    {
     "data": {
      "text/plain": [
       "Delivery_Terms_4    7712\n",
       "Delivery_Terms_2    4633\n",
       "Delivery_Terms_1    2936\n",
       "Delivery_Terms_6     781\n",
       "Delivery_Terms_5     636\n",
       "Delivery_Terms_8     164\n",
       "Delivery_Terms_3      41\n",
       "Delivery_Terms_7      38\n",
       "Delivery_Terms_0       6\n",
       "Name: Delivery_Terms, dtype: int64"
      ]
     },
     "execution_count": 85,
     "metadata": {},
     "output_type": "execute_result"
    }
   ],
   "source": [
    "df.Delivery_Terms.value_counts()"
   ]
  },
  {
   "cell_type": "code",
   "execution_count": 86,
   "metadata": {},
   "outputs": [
    {
     "data": {
      "text/plain": [
       "Opportunity_Type_1     6819\n",
       "Opportunity_Type_7     5763\n",
       "Opportunity_Type_19    1900\n",
       "Opportunity_Type_8     1458\n",
       "Opportunity_Type_12     279\n",
       "Opportunity_Type_3      275\n",
       "Opportunity_Type_20     175\n",
       "Opportunity_Type_2       70\n",
       "Opportunity_Type_4       51\n",
       "Opportunity_Type_10      34\n",
       "Opportunity_Type_9       23\n",
       "Opportunity_Type_14      15\n",
       "Opportunity_Type_5       14\n",
       "Opportunity_Type_18      11\n",
       "Opportunity_Type_22      10\n",
       "Opportunity_Type_15       9\n",
       "Opportunity_Type_0        8\n",
       "Opportunity_Type_17       8\n",
       "Opportunity_Type_21       6\n",
       "Opportunity_Type_23       5\n",
       "Opportunity_Type_16       4\n",
       "Opportunity_Type_13       4\n",
       "Opportunity_Type_11       3\n",
       "Opportunity_Type_6        2\n",
       "Opportunity_Type_24       1\n",
       "Name: Opportunity_Type, dtype: int64"
      ]
     },
     "execution_count": 86,
     "metadata": {},
     "output_type": "execute_result"
    }
   ],
   "source": [
    "df.Opportunity_Type.value_counts()"
   ]
  },
  {
   "cell_type": "code",
   "execution_count": 87,
   "metadata": {},
   "outputs": [
    {
     "data": {
      "text/plain": [
       "Opportunity_Type_7     3941\n",
       "Opportunity_Type_1     3617\n",
       "Opportunity_Type_8     1024\n",
       "Opportunity_Type_19     399\n",
       "Opportunity_Type_12     259\n",
       "Opportunity_Type_3      141\n",
       "Opportunity_Type_20      36\n",
       "Opportunity_Type_10      24\n",
       "Opportunity_Type_2       23\n",
       "Opportunity_Type_4       21\n",
       "Opportunity_Type_14      11\n",
       "Opportunity_Type_17       8\n",
       "Opportunity_Type_5        8\n",
       "Opportunity_Type_9        8\n",
       "Opportunity_Type_0        6\n",
       "Opportunity_Type_15       3\n",
       "Opportunity_Type_18       2\n",
       "Opportunity_Type_11       1\n",
       "Opportunity_Type_23       1\n",
       "Opportunity_Type_16       0\n",
       "Opportunity_Type_21       0\n",
       "Opportunity_Type_13       0\n",
       "Opportunity_Type_22       0\n",
       "Opportunity_Type_6        0\n",
       "Opportunity_Type_24       0\n",
       "Name: Opportunity_Type, dtype: int64"
      ]
     },
     "execution_count": 87,
     "metadata": {},
     "output_type": "execute_result"
    }
   ],
   "source": [
    "df_won.Opportunity_Type.value_counts()"
   ]
  },
  {
   "cell_type": "code",
   "execution_count": 227,
   "metadata": {},
   "outputs": [],
   "source": [
    "df_tree = df.groupby('Opportunity_ID').agg({'Total_Amount_(converted)':'sum','Region':'first',\n",
    "                                            'Territory':'first', 'Stage':'first'}).reset_index()\n",
    "df_tree = df.groupby(['Region', 'Territory']).agg({'Opportunity_ID':'count', 'Total_Amount_(converted)':'sum'}).reset_index()"
   ]
  },
  {
   "cell_type": "code",
   "execution_count": 228,
   "metadata": {},
   "outputs": [],
   "source": [
    "df_tree.dropna(inplace = True)\n",
    "df_tree= df_tree[df_tree['Total_Amount_(converted)']>0]\n",
    "df_tree.rename(columns={'Opportunity_ID': 'Cantidad de Oportunidades'}, inplace= True)"
   ]
  },
  {
   "cell_type": "code",
   "execution_count": 229,
   "metadata": {},
   "outputs": [
    {
     "data": {
      "text/plain": [
       "Cantidad de Oportunidades    4.211000e+03\n",
       "Total_Amount_(converted)     2.410151e+09\n",
       "dtype: float64"
      ]
     },
     "execution_count": 229,
     "metadata": {},
     "output_type": "execute_result"
    }
   ],
   "source": [
    "df_tree.max()"
   ]
  },
  {
   "cell_type": "code",
   "execution_count": 350,
   "metadata": {
    "scrolled": true
   },
   "outputs": [
    {
     "data": {
      "application/vnd.plotly.v1+json": {
       "config": {
        "plotlyServerURL": "https://plot.ly"
       },
       "data": [
        {
         "branchvalues": "total",
         "customdata": [
          [
           null
          ],
          [
           null
          ],
          [
           2
          ],
          [
           null
          ],
          [
           null
          ],
          [
           null
          ],
          [
           null
          ],
          [
           2
          ],
          [
           null
          ],
          [
           null
          ],
          [
           1208
          ],
          [
           null
          ],
          [
           null
          ],
          [
           null
          ],
          [
           null
          ],
          [
           null
          ],
          [
           null
          ],
          [
           145
          ],
          [
           null
          ],
          [
           null
          ],
          [
           null
          ],
          [
           null
          ],
          [
           4
          ],
          [
           null
          ],
          [
           null
          ],
          [
           null
          ],
          [
           null
          ],
          [
           285
          ],
          [
           null
          ],
          [
           null
          ],
          [
           null
          ],
          [
           null
          ],
          [
           4
          ],
          [
           null
          ],
          [
           null
          ],
          [
           null
          ],
          [
           null
          ],
          [
           5
          ],
          [
           null
          ],
          [
           null
          ],
          [
           1
          ],
          [
           null
          ],
          [
           null
          ],
          [
           null
          ],
          [
           null
          ],
          [
           4
          ],
          [
           null
          ],
          [
           null
          ],
          [
           null
          ],
          [
           null
          ],
          [
           null
          ],
          [
           74
          ],
          [
           null
          ],
          [
           null
          ],
          [
           null
          ],
          [
           null
          ],
          [
           31.000000000000004
          ],
          [
           null
          ],
          [
           null
          ],
          [
           null
          ],
          [
           null
          ],
          [
           null
          ],
          [
           9
          ],
          [
           null
          ],
          [
           null
          ],
          [
           null
          ],
          [
           254
          ],
          [
           null
          ],
          [
           null
          ],
          [
           null
          ],
          [
           218
          ],
          [
           null
          ],
          [
           null
          ],
          [
           null
          ],
          [
           null
          ],
          [
           null
          ],
          [
           null
          ],
          [
           1
          ],
          [
           null
          ],
          [
           null
          ],
          [
           null
          ],
          [
           null
          ],
          [
           44
          ],
          [
           null
          ],
          [
           null
          ],
          [
           null
          ],
          [
           null
          ],
          [
           1
          ],
          [
           null
          ],
          [
           null
          ],
          [
           null
          ],
          [
           null
          ],
          [
           38
          ],
          [
           null
          ],
          [
           null
          ],
          [
           null
          ],
          [
           null
          ],
          [
           1
          ],
          [
           null
          ],
          [
           null
          ],
          [
           null
          ],
          [
           null
          ],
          [
           8
          ],
          [
           null
          ],
          [
           null
          ],
          [
           null
          ],
          [
           null
          ],
          [
           449
          ],
          [
           null
          ],
          [
           null
          ],
          [
           null
          ],
          [
           null
          ],
          [
           1
          ],
          [
           null
          ],
          [
           null
          ],
          [
           null
          ],
          [
           null
          ],
          [
           1682
          ],
          [
           null
          ],
          [
           null
          ],
          [
           null
          ],
          [
           null
          ],
          [
           9
          ],
          [
           null
          ],
          [
           null
          ],
          [
           null
          ],
          [
           null
          ],
          [
           28
          ],
          [
           null
          ],
          [
           null
          ],
          [
           809.0000000000001
          ],
          [
           null
          ],
          [
           null
          ],
          [
           null
          ],
          [
           null
          ],
          [
           154
          ],
          [
           null
          ],
          [
           null
          ],
          [
           null
          ],
          [
           null
          ],
          [
           null
          ],
          [
           null
          ],
          [
           9
          ],
          [
           null
          ],
          [
           null
          ],
          [
           null
          ],
          [
           null
          ],
          [
           283
          ],
          [
           null
          ],
          [
           null
          ],
          [
           null
          ],
          [
           null
          ],
          [
           null
          ],
          [
           681
          ],
          [
           null
          ],
          [
           null
          ],
          [
           null
          ],
          [
           1
          ],
          [
           null
          ],
          [
           101
          ],
          [
           null
          ],
          [
           null
          ],
          [
           2
          ],
          [
           null
          ],
          [
           11
          ],
          [
           null
          ],
          [
           null
          ],
          [
           7
          ],
          [
           null
          ],
          [
           null
          ],
          [
           null
          ],
          [
           null
          ],
          [
           2
          ],
          [
           null
          ],
          [
           null
          ],
          [
           null
          ],
          [
           null
          ],
          [
           null
          ],
          [
           null
          ],
          [
           2.9999999999999996
          ],
          [
           null
          ],
          [
           null
          ],
          [
           null
          ],
          [
           null
          ],
          [
           2
          ],
          [
           null
          ],
          [
           null
          ],
          [
           70
          ],
          [
           null
          ],
          [
           null
          ],
          [
           null
          ],
          [
           null
          ],
          [
           6
          ],
          [
           null
          ],
          [
           null
          ],
          [
           5
          ],
          [
           null
          ],
          [
           null
          ],
          [
           null
          ],
          [
           null
          ],
          [
           null
          ],
          [
           null
          ],
          [
           6
          ],
          [
           null
          ],
          [
           null
          ],
          [
           null
          ],
          [
           null
          ],
          [
           1
          ],
          [
           null
          ],
          [
           null
          ],
          [
           null
          ],
          [
           null
          ],
          [
           3
          ],
          [
           null
          ],
          [
           null
          ],
          [
           null
          ],
          [
           760
          ],
          [
           null
          ],
          [
           null
          ],
          [
           null
          ],
          [
           null
          ],
          [
           1568
          ],
          [
           null
          ],
          [
           null
          ],
          [
           null
          ],
          [
           null
          ],
          [
           null
          ],
          [
           533
          ],
          [
           null
          ],
          [
           null
          ],
          [
           38
          ],
          [
           null
          ],
          [
           null
          ],
          [
           null
          ],
          [
           null
          ],
          [
           null
          ],
          [
           571
          ],
          [
           187
          ],
          [
           4211
          ],
          [
           30
          ],
          [
           null
          ],
          [
           null
          ],
          [
           20
          ],
          [
           null
          ],
          [
           null
          ],
          [
           null
          ],
          [
           null
          ],
          [
           null
          ],
          [
           null
          ],
          [
           4
          ],
          [
           null
          ],
          [
           null
          ],
          [
           null
          ],
          [
           null
          ],
          [
           6
          ],
          [
           109
          ],
          [
           null
          ],
          [
           null
          ],
          [
           null
          ],
          [
           null
          ],
          [
           null
          ],
          [
           null
          ],
          [
           60
          ],
          [
           null
          ],
          [
           null
          ],
          [
           null
          ],
          [
           null
          ],
          [
           66
          ],
          [
           null
          ],
          [
           null
          ],
          [
           null
          ],
          [
           null
          ],
          [
           2
          ],
          [
           null
          ],
          [
           null
          ],
          [
           null
          ],
          [
           483
          ],
          [
           10
          ],
          [
           null
          ],
          [
           null
          ],
          [
           null
          ],
          [
           204.00000000000003
          ],
          [
           2
          ],
          [
           null
          ],
          [
           null
          ],
          [
           null
          ],
          [
           null
          ],
          [
           null
          ],
          [
           null
          ],
          [
           6
          ],
          [
           441
          ],
          [
           null
          ],
          [
           null
          ],
          [
           null
          ],
          [
           null
          ],
          [
           null
          ],
          [
           null
          ],
          [
           1
          ],
          [
           null
          ],
          [
           null
          ],
          [
           1
          ],
          [
           null
          ],
          [
           null
          ],
          [
           null
          ],
          [
           null
          ],
          [
           null
          ],
          [
           null
          ],
          [
           9
          ],
          [
           null
          ],
          [
           null
          ],
          [
           2
          ],
          [
           null
          ],
          [
           null
          ],
          [
           null
          ],
          [
           null
          ],
          [
           15
          ],
          [
           null
          ],
          [
           null
          ],
          [
           null
          ],
          [
           null
          ],
          [
           null
          ],
          [
           null
          ],
          [
           268
          ],
          [
           null
          ],
          [
           null
          ],
          [
           null
          ],
          [
           null
          ],
          [
           12
          ],
          [
           null
          ],
          [
           null
          ],
          [
           null
          ],
          [
           null
          ],
          [
           21
          ],
          [
           null
          ],
          [
           null
          ],
          [
           33
          ],
          [
           null
          ],
          [
           null
          ],
          [
           null
          ],
          [
           null
          ],
          [
           173
          ],
          [
           null
          ],
          [
           null
          ],
          [
           null
          ],
          [
           null
          ],
          [
           null
          ],
          [
           null
          ],
          [
           5
          ],
          [
           null
          ],
          [
           null
          ],
          [
           null
          ],
          [
           null
          ],
          [
           29
          ],
          [
           null
          ],
          [
           null
          ],
          [
           null
          ],
          [
           null
          ],
          [
           12
          ],
          [
           null
          ],
          [
           19
          ],
          [
           null
          ],
          [
           null
          ],
          [
           null
          ],
          [
           null
          ],
          [
           2
          ],
          [
           null
          ],
          [
           null
          ],
          [
           5
          ],
          [
           null
          ],
          [
           null
          ],
          [
           null
          ],
          [
           null
          ],
          [
           313
          ],
          [
           null
          ],
          [
           null
          ],
          [
           51
          ],
          [
           null
          ],
          [
           null
          ],
          [
           null
          ],
          [
           null
          ],
          [
           918.7468515426681
          ],
          [
           842.5434396258795
          ],
          [
           636.1490464808302
          ],
          [
           2726.2025248376917
          ],
          [
           50.53068526362415
          ],
          [
           831.4279561676445
          ]
         ],
         "domain": {
          "x": [
           0,
           1
          ],
          "y": [
           0,
           1
          ]
         },
         "hovertemplate": "labels=%{label}<br>Total_Amount_(converted)=%{value}<br>parent=%{parent}<br>id=%{id}<br>Cantidad de Oportunidades=%{color}<extra></extra>",
         "ids": [
          "world/APAC/Albania",
          "world/Americas/Albania",
          "world/EMEA/Albania",
          "world/Japan/Albania",
          "world/Middle East/Albania",
          "world/APAC/Armenia",
          "world/Americas/Armenia",
          "world/EMEA/Armenia",
          "world/Japan/Armenia",
          "world/Middle East/Armenia",
          "world/APAC/Australia",
          "world/Americas/Australia",
          "world/EMEA/Australia",
          "world/Japan/Australia",
          "world/Middle East/Australia",
          "world/APAC/Austria",
          "world/Americas/Austria",
          "world/EMEA/Austria",
          "world/Japan/Austria",
          "world/Middle East/Austria",
          "world/APAC/Belarus",
          "world/Americas/Belarus",
          "world/EMEA/Belarus",
          "world/Japan/Belarus",
          "world/Middle East/Belarus",
          "world/APAC/Belgium",
          "world/Americas/Belgium",
          "world/EMEA/Belgium",
          "world/Japan/Belgium",
          "world/Middle East/Belgium",
          "world/APAC/Bosnia & Herzegovina",
          "world/Americas/Bosnia & Herzegovina",
          "world/EMEA/Bosnia & Herzegovina",
          "world/Japan/Bosnia & Herzegovina",
          "world/Middle East/Bosnia & Herzegovina",
          "world/APAC/Bulgaria",
          "world/Americas/Bulgaria",
          "world/EMEA/Bulgaria",
          "world/Japan/Bulgaria",
          "world/Middle East/Bulgaria",
          "world/APAC/Burma",
          "world/Americas/Burma",
          "world/EMEA/Burma",
          "world/Japan/Burma",
          "world/Middle East/Burma",
          "world/APAC/Cambodia",
          "world/Americas/Cambodia",
          "world/EMEA/Cambodia",
          "world/Japan/Cambodia",
          "world/Middle East/Cambodia",
          "world/APAC/Canada",
          "world/Americas/Canada",
          "world/EMEA/Canada",
          "world/Japan/Canada",
          "world/Middle East/Canada",
          "world/APAC/Carribean",
          "world/Americas/Carribean",
          "world/EMEA/Carribean",
          "world/Japan/Carribean",
          "world/Middle East/Carribean",
          "world/APAC/Central America",
          "world/Americas/Central America",
          "world/EMEA/Central America",
          "world/Japan/Central America",
          "world/Middle East/Central America",
          "world/APAC/Central US",
          "world/Americas/Central US",
          "world/EMEA/Central US",
          "world/Japan/Central US",
          "world/Middle East/Central US",
          "world/APAC/China (PRC)",
          "world/Americas/China (PRC)",
          "world/EMEA/China (PRC)",
          "world/Japan/China (PRC)",
          "world/Middle East/China (PRC)",
          "world/APAC/Croatia",
          "world/Americas/Croatia",
          "world/EMEA/Croatia",
          "world/Japan/Croatia",
          "world/Middle East/Croatia",
          "world/APAC/Cyprus",
          "world/Americas/Cyprus",
          "world/EMEA/Cyprus",
          "world/Japan/Cyprus",
          "world/Middle East/Cyprus",
          "world/APAC/Czech Republic",
          "world/Americas/Czech Republic",
          "world/EMEA/Czech Republic",
          "world/Japan/Czech Republic",
          "world/Middle East/Czech Republic",
          "world/APAC/Denmark",
          "world/Americas/Denmark",
          "world/EMEA/Denmark",
          "world/Japan/Denmark",
          "world/Middle East/Denmark",
          "world/APAC/Egypt",
          "world/Americas/Egypt",
          "world/EMEA/Egypt",
          "world/Japan/Egypt",
          "world/Middle East/Egypt",
          "world/APAC/Estonia",
          "world/Americas/Estonia",
          "world/EMEA/Estonia",
          "world/Japan/Estonia",
          "world/Middle East/Estonia",
          "world/APAC/France",
          "world/Americas/France",
          "world/EMEA/France",
          "world/Japan/France",
          "world/Middle East/France",
          "world/APAC/Georgia",
          "world/Americas/Georgia",
          "world/EMEA/Georgia",
          "world/Japan/Georgia",
          "world/Middle East/Georgia",
          "world/APAC/Germany",
          "world/Americas/Germany",
          "world/EMEA/Germany",
          "world/Japan/Germany",
          "world/Middle East/Germany",
          "world/APAC/Greece",
          "world/Americas/Greece",
          "world/EMEA/Greece",
          "world/Japan/Greece",
          "world/Middle East/Greece",
          "world/APAC/Hungary",
          "world/Americas/Hungary",
          "world/EMEA/Hungary",
          "world/Japan/Hungary",
          "world/Middle East/Hungary",
          "world/APAC/India",
          "world/Americas/India",
          "world/EMEA/India",
          "world/Japan/India",
          "world/Middle East/India",
          "world/APAC/Indonesia",
          "world/Americas/Indonesia",
          "world/EMEA/Indonesia",
          "world/Japan/Indonesia",
          "world/Middle East/Indonesia",
          "world/APAC/Ireland",
          "world/Americas/Ireland",
          "world/EMEA/Ireland",
          "world/Japan/Ireland",
          "world/Middle East/Ireland",
          "world/APAC/Italy",
          "world/Americas/Italy",
          "world/EMEA/Italy",
          "world/Japan/Italy",
          "world/Middle East/Italy",
          "world/APAC/Japan",
          "world/Americas/Japan",
          "world/EMEA/Japan",
          "world/Japan/Japan",
          "world/Middle East/Japan",
          "world/APAC/Jordan",
          "world/Americas/Jordan",
          "world/EMEA/Jordan",
          "world/Japan/Jordan",
          "world/Middle East/Jordan",
          "world/APAC/KSA",
          "world/Americas/KSA",
          "world/EMEA/KSA",
          "world/Japan/KSA",
          "world/Middle East/KSA",
          "world/APAC/Kazakhstan",
          "world/Americas/Kazakhstan",
          "world/EMEA/Kazakhstan",
          "world/Japan/Kazakhstan",
          "world/Middle East/Kazakhstan",
          "world/APAC/Kosovo",
          "world/Americas/Kosovo",
          "world/EMEA/Kosovo",
          "world/Japan/Kosovo",
          "world/Middle East/Kosovo",
          "world/APAC/Kuwait",
          "world/Americas/Kuwait",
          "world/EMEA/Kuwait",
          "world/Japan/Kuwait",
          "world/Middle East/Kuwait",
          "world/APAC/Lebanon",
          "world/Americas/Lebanon",
          "world/EMEA/Lebanon",
          "world/Japan/Lebanon",
          "world/Middle East/Lebanon",
          "world/APAC/Luxembourg",
          "world/Americas/Luxembourg",
          "world/EMEA/Luxembourg",
          "world/Japan/Luxembourg",
          "world/Middle East/Luxembourg",
          "world/APAC/Macedonia",
          "world/Americas/Macedonia",
          "world/EMEA/Macedonia",
          "world/Japan/Macedonia",
          "world/Middle East/Macedonia",
          "world/APAC/Malaysia",
          "world/Americas/Malaysia",
          "world/EMEA/Malaysia",
          "world/Japan/Malaysia",
          "world/Middle East/Malaysia",
          "world/APAC/Malta",
          "world/Americas/Malta",
          "world/EMEA/Malta",
          "world/Japan/Malta",
          "world/Middle East/Malta",
          "world/APAC/Monaco",
          "world/Americas/Monaco",
          "world/EMEA/Monaco",
          "world/Japan/Monaco",
          "world/Middle East/Monaco",
          "world/APAC/Morocco",
          "world/Americas/Morocco",
          "world/EMEA/Morocco",
          "world/Japan/Morocco",
          "world/Middle East/Morocco",
          "world/APAC/NE America",
          "world/Americas/NE America",
          "world/EMEA/NE America",
          "world/Japan/NE America",
          "world/Middle East/NE America",
          "world/APAC/NW America",
          "world/Americas/NW America",
          "world/EMEA/NW America",
          "world/Japan/NW America",
          "world/Middle East/NW America",
          "world/APAC/Netherlands",
          "world/Americas/Netherlands",
          "world/EMEA/Netherlands",
          "world/Japan/Netherlands",
          "world/Middle East/Netherlands",
          "world/APAC/New Zealand",
          "world/Americas/New Zealand",
          "world/EMEA/New Zealand",
          "world/Japan/New Zealand",
          "world/Middle East/New Zealand",
          "world/APAC/None",
          "world/Americas/None",
          "world/EMEA/None",
          "world/Japan/None",
          "world/Middle East/None",
          "world/APAC/Norway",
          "world/Americas/Norway",
          "world/EMEA/Norway",
          "world/Japan/Norway",
          "world/Middle East/Norway",
          "world/APAC/Oman",
          "world/Americas/Oman",
          "world/EMEA/Oman",
          "world/Japan/Oman",
          "world/Middle East/Oman",
          "world/APAC/Pakistan",
          "world/Americas/Pakistan",
          "world/EMEA/Pakistan",
          "world/Japan/Pakistan",
          "world/Middle East/Pakistan",
          "world/APAC/Philippines",
          "world/Americas/Philippines",
          "world/EMEA/Philippines",
          "world/Japan/Philippines",
          "world/Middle East/Philippines",
          "world/APAC/Poland",
          "world/Americas/Poland",
          "world/EMEA/Poland",
          "world/Japan/Poland",
          "world/Middle East/Poland",
          "world/APAC/Portugal",
          "world/Americas/Portugal",
          "world/EMEA/Portugal",
          "world/Japan/Portugal",
          "world/Middle East/Portugal",
          "world/APAC/Romania",
          "world/Americas/Romania",
          "world/EMEA/Romania",
          "world/Japan/Romania",
          "world/Middle East/Romania",
          "world/APAC/SE America",
          "world/Americas/SE America",
          "world/EMEA/SE America",
          "world/Japan/SE America",
          "world/Middle East/SE America",
          "world/APAC/SW America",
          "world/Americas/SW America",
          "world/EMEA/SW America",
          "world/Japan/SW America",
          "world/Middle East/SW America",
          "world/APAC/Saudi Arabia",
          "world/Americas/Saudi Arabia",
          "world/EMEA/Saudi Arabia",
          "world/Japan/Saudi Arabia",
          "world/Middle East/Saudi Arabia",
          "world/APAC/Singapore",
          "world/Americas/Singapore",
          "world/EMEA/Singapore",
          "world/Japan/Singapore",
          "world/Middle East/Singapore",
          "world/APAC/Slovenia",
          "world/Americas/Slovenia",
          "world/EMEA/Slovenia",
          "world/Japan/Slovenia",
          "world/Middle East/Slovenia",
          "world/APAC/Solomon Islands",
          "world/Americas/Solomon Islands",
          "world/EMEA/Solomon Islands",
          "world/Japan/Solomon Islands",
          "world/Middle East/Solomon Islands",
          "world/APAC/South America",
          "world/Americas/South America",
          "world/EMEA/South America",
          "world/Japan/South America",
          "world/Middle East/South America",
          "world/APAC/South East Asia",
          "world/Americas/South East Asia",
          "world/EMEA/South East Asia",
          "world/Japan/South East Asia",
          "world/Middle East/South East Asia",
          "world/APAC/South Korea",
          "world/Americas/South Korea",
          "world/EMEA/South Korea",
          "world/Japan/South Korea",
          "world/Middle East/South Korea",
          "world/APAC/Spain",
          "world/Americas/Spain",
          "world/EMEA/Spain",
          "world/Japan/Spain",
          "world/Middle East/Spain",
          "world/APAC/Sweden",
          "world/Americas/Sweden",
          "world/EMEA/Sweden",
          "world/Japan/Sweden",
          "world/Middle East/Sweden",
          "world/APAC/Switzerland",
          "world/Americas/Switzerland",
          "world/EMEA/Switzerland",
          "world/Japan/Switzerland",
          "world/Middle East/Switzerland",
          "world/APAC/Taiwan",
          "world/Americas/Taiwan",
          "world/EMEA/Taiwan",
          "world/Japan/Taiwan",
          "world/Middle East/Taiwan",
          "world/APAC/Thailand",
          "world/Americas/Thailand",
          "world/EMEA/Thailand",
          "world/Japan/Thailand",
          "world/Middle East/Thailand",
          "world/APAC/Tunisia",
          "world/Americas/Tunisia",
          "world/EMEA/Tunisia",
          "world/Japan/Tunisia",
          "world/Middle East/Tunisia",
          "world/APAC/Turkey",
          "world/Americas/Turkey",
          "world/EMEA/Turkey",
          "world/Japan/Turkey",
          "world/Middle East/Turkey",
          "world/APAC/UAE (Dubai)",
          "world/Americas/UAE (Dubai)",
          "world/EMEA/UAE (Dubai)",
          "world/Japan/UAE (Dubai)",
          "world/Middle East/UAE (Dubai)",
          "world/APAC/UAE (Others)",
          "world/Americas/UAE (Others)",
          "world/EMEA/UAE (Others)",
          "world/Japan/UAE (Others)",
          "world/Middle East/UAE (Others)",
          "world/APAC/Ukraine",
          "world/Americas/Ukraine",
          "world/EMEA/Ukraine",
          "world/Japan/Ukraine",
          "world/Middle East/Ukraine",
          "world/APAC/United Kingdom",
          "world/Americas/United Kingdom",
          "world/EMEA/United Kingdom",
          "world/Japan/United Kingdom",
          "world/Middle East/United Kingdom",
          "world/APAC/Vietnam",
          "world/Americas/Vietnam",
          "world/EMEA/Vietnam",
          "world/Japan/Vietnam",
          "world/Middle East/Vietnam",
          "world/APAC",
          "world/Americas",
          "world/EMEA",
          "world/Japan",
          "world/Middle East",
          "world"
         ],
         "labels": [
          "Albania",
          "Albania",
          "Albania",
          "Albania",
          "Albania",
          "Armenia",
          "Armenia",
          "Armenia",
          "Armenia",
          "Armenia",
          "Australia",
          "Australia",
          "Australia",
          "Australia",
          "Australia",
          "Austria",
          "Austria",
          "Austria",
          "Austria",
          "Austria",
          "Belarus",
          "Belarus",
          "Belarus",
          "Belarus",
          "Belarus",
          "Belgium",
          "Belgium",
          "Belgium",
          "Belgium",
          "Belgium",
          "Bosnia & Herzegovina",
          "Bosnia & Herzegovina",
          "Bosnia & Herzegovina",
          "Bosnia & Herzegovina",
          "Bosnia & Herzegovina",
          "Bulgaria",
          "Bulgaria",
          "Bulgaria",
          "Bulgaria",
          "Bulgaria",
          "Burma",
          "Burma",
          "Burma",
          "Burma",
          "Burma",
          "Cambodia",
          "Cambodia",
          "Cambodia",
          "Cambodia",
          "Cambodia",
          "Canada",
          "Canada",
          "Canada",
          "Canada",
          "Canada",
          "Carribean",
          "Carribean",
          "Carribean",
          "Carribean",
          "Carribean",
          "Central America",
          "Central America",
          "Central America",
          "Central America",
          "Central America",
          "Central US",
          "Central US",
          "Central US",
          "Central US",
          "Central US",
          "China (PRC)",
          "China (PRC)",
          "China (PRC)",
          "China (PRC)",
          "China (PRC)",
          "Croatia",
          "Croatia",
          "Croatia",
          "Croatia",
          "Croatia",
          "Cyprus",
          "Cyprus",
          "Cyprus",
          "Cyprus",
          "Cyprus",
          "Czech Republic",
          "Czech Republic",
          "Czech Republic",
          "Czech Republic",
          "Czech Republic",
          "Denmark",
          "Denmark",
          "Denmark",
          "Denmark",
          "Denmark",
          "Egypt",
          "Egypt",
          "Egypt",
          "Egypt",
          "Egypt",
          "Estonia",
          "Estonia",
          "Estonia",
          "Estonia",
          "Estonia",
          "France",
          "France",
          "France",
          "France",
          "France",
          "Georgia",
          "Georgia",
          "Georgia",
          "Georgia",
          "Georgia",
          "Germany",
          "Germany",
          "Germany",
          "Germany",
          "Germany",
          "Greece",
          "Greece",
          "Greece",
          "Greece",
          "Greece",
          "Hungary",
          "Hungary",
          "Hungary",
          "Hungary",
          "Hungary",
          "India",
          "India",
          "India",
          "India",
          "India",
          "Indonesia",
          "Indonesia",
          "Indonesia",
          "Indonesia",
          "Indonesia",
          "Ireland",
          "Ireland",
          "Ireland",
          "Ireland",
          "Ireland",
          "Italy",
          "Italy",
          "Italy",
          "Italy",
          "Italy",
          "Japan",
          "Japan",
          "Japan",
          "Japan",
          "Japan",
          "Jordan",
          "Jordan",
          "Jordan",
          "Jordan",
          "Jordan",
          "KSA",
          "KSA",
          "KSA",
          "KSA",
          "KSA",
          "Kazakhstan",
          "Kazakhstan",
          "Kazakhstan",
          "Kazakhstan",
          "Kazakhstan",
          "Kosovo",
          "Kosovo",
          "Kosovo",
          "Kosovo",
          "Kosovo",
          "Kuwait",
          "Kuwait",
          "Kuwait",
          "Kuwait",
          "Kuwait",
          "Lebanon",
          "Lebanon",
          "Lebanon",
          "Lebanon",
          "Lebanon",
          "Luxembourg",
          "Luxembourg",
          "Luxembourg",
          "Luxembourg",
          "Luxembourg",
          "Macedonia",
          "Macedonia",
          "Macedonia",
          "Macedonia",
          "Macedonia",
          "Malaysia",
          "Malaysia",
          "Malaysia",
          "Malaysia",
          "Malaysia",
          "Malta",
          "Malta",
          "Malta",
          "Malta",
          "Malta",
          "Monaco",
          "Monaco",
          "Monaco",
          "Monaco",
          "Monaco",
          "Morocco",
          "Morocco",
          "Morocco",
          "Morocco",
          "Morocco",
          "NE America",
          "NE America",
          "NE America",
          "NE America",
          "NE America",
          "NW America",
          "NW America",
          "NW America",
          "NW America",
          "NW America",
          "Netherlands",
          "Netherlands",
          "Netherlands",
          "Netherlands",
          "Netherlands",
          "New Zealand",
          "New Zealand",
          "New Zealand",
          "New Zealand",
          "New Zealand",
          "None",
          "None",
          "None",
          "None",
          "None",
          "Norway",
          "Norway",
          "Norway",
          "Norway",
          "Norway",
          "Oman",
          "Oman",
          "Oman",
          "Oman",
          "Oman",
          "Pakistan",
          "Pakistan",
          "Pakistan",
          "Pakistan",
          "Pakistan",
          "Philippines",
          "Philippines",
          "Philippines",
          "Philippines",
          "Philippines",
          "Poland",
          "Poland",
          "Poland",
          "Poland",
          "Poland",
          "Portugal",
          "Portugal",
          "Portugal",
          "Portugal",
          "Portugal",
          "Romania",
          "Romania",
          "Romania",
          "Romania",
          "Romania",
          "SE America",
          "SE America",
          "SE America",
          "SE America",
          "SE America",
          "SW America",
          "SW America",
          "SW America",
          "SW America",
          "SW America",
          "Saudi Arabia",
          "Saudi Arabia",
          "Saudi Arabia",
          "Saudi Arabia",
          "Saudi Arabia",
          "Singapore",
          "Singapore",
          "Singapore",
          "Singapore",
          "Singapore",
          "Slovenia",
          "Slovenia",
          "Slovenia",
          "Slovenia",
          "Slovenia",
          "Solomon Islands",
          "Solomon Islands",
          "Solomon Islands",
          "Solomon Islands",
          "Solomon Islands",
          "South America",
          "South America",
          "South America",
          "South America",
          "South America",
          "South East Asia",
          "South East Asia",
          "South East Asia",
          "South East Asia",
          "South East Asia",
          "South Korea",
          "South Korea",
          "South Korea",
          "South Korea",
          "South Korea",
          "Spain",
          "Spain",
          "Spain",
          "Spain",
          "Spain",
          "Sweden",
          "Sweden",
          "Sweden",
          "Sweden",
          "Sweden",
          "Switzerland",
          "Switzerland",
          "Switzerland",
          "Switzerland",
          "Switzerland",
          "Taiwan",
          "Taiwan",
          "Taiwan",
          "Taiwan",
          "Taiwan",
          "Thailand",
          "Thailand",
          "Thailand",
          "Thailand",
          "Thailand",
          "Tunisia",
          "Tunisia",
          "Tunisia",
          "Tunisia",
          "Tunisia",
          "Turkey",
          "Turkey",
          "Turkey",
          "Turkey",
          "Turkey",
          "UAE (Dubai)",
          "UAE (Dubai)",
          "UAE (Dubai)",
          "UAE (Dubai)",
          "UAE (Dubai)",
          "UAE (Others)",
          "UAE (Others)",
          "UAE (Others)",
          "UAE (Others)",
          "UAE (Others)",
          "Ukraine",
          "Ukraine",
          "Ukraine",
          "Ukraine",
          "Ukraine",
          "United Kingdom",
          "United Kingdom",
          "United Kingdom",
          "United Kingdom",
          "United Kingdom",
          "Vietnam",
          "Vietnam",
          "Vietnam",
          "Vietnam",
          "Vietnam",
          "APAC",
          "Americas",
          "EMEA",
          "Japan",
          "Middle East",
          "world"
         ],
         "marker": {
          "coloraxis": "coloraxis",
          "colors": [
           null,
           null,
           2,
           null,
           null,
           null,
           null,
           2,
           null,
           null,
           1208,
           null,
           null,
           null,
           null,
           null,
           null,
           145,
           null,
           null,
           null,
           null,
           4,
           null,
           null,
           null,
           null,
           285,
           null,
           null,
           null,
           null,
           4,
           null,
           null,
           null,
           null,
           5,
           null,
           null,
           1,
           null,
           null,
           null,
           null,
           4,
           null,
           null,
           null,
           null,
           null,
           74,
           null,
           null,
           null,
           null,
           31.000000000000004,
           null,
           null,
           null,
           null,
           null,
           9,
           null,
           null,
           null,
           254,
           null,
           null,
           null,
           218,
           null,
           null,
           null,
           null,
           null,
           null,
           1,
           null,
           null,
           null,
           null,
           44,
           null,
           null,
           null,
           null,
           1,
           null,
           null,
           null,
           null,
           38,
           null,
           null,
           null,
           null,
           1,
           null,
           null,
           null,
           null,
           8,
           null,
           null,
           null,
           null,
           449,
           null,
           null,
           null,
           null,
           1,
           null,
           null,
           null,
           null,
           1682,
           null,
           null,
           null,
           null,
           9,
           null,
           null,
           null,
           null,
           28,
           null,
           null,
           809.0000000000001,
           null,
           null,
           null,
           null,
           154,
           null,
           null,
           null,
           null,
           null,
           null,
           9,
           null,
           null,
           null,
           null,
           283,
           null,
           null,
           null,
           null,
           null,
           681,
           null,
           null,
           null,
           1,
           null,
           101,
           null,
           null,
           2,
           null,
           11,
           null,
           null,
           7,
           null,
           null,
           null,
           null,
           2,
           null,
           null,
           null,
           null,
           null,
           null,
           2.9999999999999996,
           null,
           null,
           null,
           null,
           2,
           null,
           null,
           70,
           null,
           null,
           null,
           null,
           6,
           null,
           null,
           5,
           null,
           null,
           null,
           null,
           null,
           null,
           6,
           null,
           null,
           null,
           null,
           1,
           null,
           null,
           null,
           null,
           3,
           null,
           null,
           null,
           760,
           null,
           null,
           null,
           null,
           1568,
           null,
           null,
           null,
           null,
           null,
           533,
           null,
           null,
           38,
           null,
           null,
           null,
           null,
           null,
           571,
           187,
           4211,
           30,
           null,
           null,
           20,
           null,
           null,
           null,
           null,
           null,
           null,
           4,
           null,
           null,
           null,
           null,
           6,
           109,
           null,
           null,
           null,
           null,
           null,
           null,
           60,
           null,
           null,
           null,
           null,
           66,
           null,
           null,
           null,
           null,
           2,
           null,
           null,
           null,
           483,
           10,
           null,
           null,
           null,
           204.00000000000003,
           2,
           null,
           null,
           null,
           null,
           null,
           null,
           6,
           441,
           null,
           null,
           null,
           null,
           null,
           null,
           1,
           null,
           null,
           1,
           null,
           null,
           null,
           null,
           null,
           null,
           9,
           null,
           null,
           2,
           null,
           null,
           null,
           null,
           15,
           null,
           null,
           null,
           null,
           null,
           null,
           268,
           null,
           null,
           null,
           null,
           12,
           null,
           null,
           null,
           null,
           21,
           null,
           null,
           33,
           null,
           null,
           null,
           null,
           173,
           null,
           null,
           null,
           null,
           null,
           null,
           5,
           null,
           null,
           null,
           null,
           29,
           null,
           null,
           null,
           null,
           12,
           null,
           19,
           null,
           null,
           null,
           null,
           2,
           null,
           null,
           5,
           null,
           null,
           null,
           null,
           313,
           null,
           null,
           51,
           null,
           null,
           null,
           null,
           918.7468515426681,
           842.5434396258795,
           636.1490464808302,
           2726.2025248376917,
           50.53068526362415,
           831.4279561676445
          ]
         },
         "name": "",
         "parents": [
          "world/APAC",
          "world/Americas",
          "world/EMEA",
          "world/Japan",
          "world/Middle East",
          "world/APAC",
          "world/Americas",
          "world/EMEA",
          "world/Japan",
          "world/Middle East",
          "world/APAC",
          "world/Americas",
          "world/EMEA",
          "world/Japan",
          "world/Middle East",
          "world/APAC",
          "world/Americas",
          "world/EMEA",
          "world/Japan",
          "world/Middle East",
          "world/APAC",
          "world/Americas",
          "world/EMEA",
          "world/Japan",
          "world/Middle East",
          "world/APAC",
          "world/Americas",
          "world/EMEA",
          "world/Japan",
          "world/Middle East",
          "world/APAC",
          "world/Americas",
          "world/EMEA",
          "world/Japan",
          "world/Middle East",
          "world/APAC",
          "world/Americas",
          "world/EMEA",
          "world/Japan",
          "world/Middle East",
          "world/APAC",
          "world/Americas",
          "world/EMEA",
          "world/Japan",
          "world/Middle East",
          "world/APAC",
          "world/Americas",
          "world/EMEA",
          "world/Japan",
          "world/Middle East",
          "world/APAC",
          "world/Americas",
          "world/EMEA",
          "world/Japan",
          "world/Middle East",
          "world/APAC",
          "world/Americas",
          "world/EMEA",
          "world/Japan",
          "world/Middle East",
          "world/APAC",
          "world/Americas",
          "world/EMEA",
          "world/Japan",
          "world/Middle East",
          "world/APAC",
          "world/Americas",
          "world/EMEA",
          "world/Japan",
          "world/Middle East",
          "world/APAC",
          "world/Americas",
          "world/EMEA",
          "world/Japan",
          "world/Middle East",
          "world/APAC",
          "world/Americas",
          "world/EMEA",
          "world/Japan",
          "world/Middle East",
          "world/APAC",
          "world/Americas",
          "world/EMEA",
          "world/Japan",
          "world/Middle East",
          "world/APAC",
          "world/Americas",
          "world/EMEA",
          "world/Japan",
          "world/Middle East",
          "world/APAC",
          "world/Americas",
          "world/EMEA",
          "world/Japan",
          "world/Middle East",
          "world/APAC",
          "world/Americas",
          "world/EMEA",
          "world/Japan",
          "world/Middle East",
          "world/APAC",
          "world/Americas",
          "world/EMEA",
          "world/Japan",
          "world/Middle East",
          "world/APAC",
          "world/Americas",
          "world/EMEA",
          "world/Japan",
          "world/Middle East",
          "world/APAC",
          "world/Americas",
          "world/EMEA",
          "world/Japan",
          "world/Middle East",
          "world/APAC",
          "world/Americas",
          "world/EMEA",
          "world/Japan",
          "world/Middle East",
          "world/APAC",
          "world/Americas",
          "world/EMEA",
          "world/Japan",
          "world/Middle East",
          "world/APAC",
          "world/Americas",
          "world/EMEA",
          "world/Japan",
          "world/Middle East",
          "world/APAC",
          "world/Americas",
          "world/EMEA",
          "world/Japan",
          "world/Middle East",
          "world/APAC",
          "world/Americas",
          "world/EMEA",
          "world/Japan",
          "world/Middle East",
          "world/APAC",
          "world/Americas",
          "world/EMEA",
          "world/Japan",
          "world/Middle East",
          "world/APAC",
          "world/Americas",
          "world/EMEA",
          "world/Japan",
          "world/Middle East",
          "world/APAC",
          "world/Americas",
          "world/EMEA",
          "world/Japan",
          "world/Middle East",
          "world/APAC",
          "world/Americas",
          "world/EMEA",
          "world/Japan",
          "world/Middle East",
          "world/APAC",
          "world/Americas",
          "world/EMEA",
          "world/Japan",
          "world/Middle East",
          "world/APAC",
          "world/Americas",
          "world/EMEA",
          "world/Japan",
          "world/Middle East",
          "world/APAC",
          "world/Americas",
          "world/EMEA",
          "world/Japan",
          "world/Middle East",
          "world/APAC",
          "world/Americas",
          "world/EMEA",
          "world/Japan",
          "world/Middle East",
          "world/APAC",
          "world/Americas",
          "world/EMEA",
          "world/Japan",
          "world/Middle East",
          "world/APAC",
          "world/Americas",
          "world/EMEA",
          "world/Japan",
          "world/Middle East",
          "world/APAC",
          "world/Americas",
          "world/EMEA",
          "world/Japan",
          "world/Middle East",
          "world/APAC",
          "world/Americas",
          "world/EMEA",
          "world/Japan",
          "world/Middle East",
          "world/APAC",
          "world/Americas",
          "world/EMEA",
          "world/Japan",
          "world/Middle East",
          "world/APAC",
          "world/Americas",
          "world/EMEA",
          "world/Japan",
          "world/Middle East",
          "world/APAC",
          "world/Americas",
          "world/EMEA",
          "world/Japan",
          "world/Middle East",
          "world/APAC",
          "world/Americas",
          "world/EMEA",
          "world/Japan",
          "world/Middle East",
          "world/APAC",
          "world/Americas",
          "world/EMEA",
          "world/Japan",
          "world/Middle East",
          "world/APAC",
          "world/Americas",
          "world/EMEA",
          "world/Japan",
          "world/Middle East",
          "world/APAC",
          "world/Americas",
          "world/EMEA",
          "world/Japan",
          "world/Middle East",
          "world/APAC",
          "world/Americas",
          "world/EMEA",
          "world/Japan",
          "world/Middle East",
          "world/APAC",
          "world/Americas",
          "world/EMEA",
          "world/Japan",
          "world/Middle East",
          "world/APAC",
          "world/Americas",
          "world/EMEA",
          "world/Japan",
          "world/Middle East",
          "world/APAC",
          "world/Americas",
          "world/EMEA",
          "world/Japan",
          "world/Middle East",
          "world/APAC",
          "world/Americas",
          "world/EMEA",
          "world/Japan",
          "world/Middle East",
          "world/APAC",
          "world/Americas",
          "world/EMEA",
          "world/Japan",
          "world/Middle East",
          "world/APAC",
          "world/Americas",
          "world/EMEA",
          "world/Japan",
          "world/Middle East",
          "world/APAC",
          "world/Americas",
          "world/EMEA",
          "world/Japan",
          "world/Middle East",
          "world/APAC",
          "world/Americas",
          "world/EMEA",
          "world/Japan",
          "world/Middle East",
          "world/APAC",
          "world/Americas",
          "world/EMEA",
          "world/Japan",
          "world/Middle East",
          "world/APAC",
          "world/Americas",
          "world/EMEA",
          "world/Japan",
          "world/Middle East",
          "world/APAC",
          "world/Americas",
          "world/EMEA",
          "world/Japan",
          "world/Middle East",
          "world/APAC",
          "world/Americas",
          "world/EMEA",
          "world/Japan",
          "world/Middle East",
          "world/APAC",
          "world/Americas",
          "world/EMEA",
          "world/Japan",
          "world/Middle East",
          "world/APAC",
          "world/Americas",
          "world/EMEA",
          "world/Japan",
          "world/Middle East",
          "world/APAC",
          "world/Americas",
          "world/EMEA",
          "world/Japan",
          "world/Middle East",
          "world/APAC",
          "world/Americas",
          "world/EMEA",
          "world/Japan",
          "world/Middle East",
          "world/APAC",
          "world/Americas",
          "world/EMEA",
          "world/Japan",
          "world/Middle East",
          "world/APAC",
          "world/Americas",
          "world/EMEA",
          "world/Japan",
          "world/Middle East",
          "world/APAC",
          "world/Americas",
          "world/EMEA",
          "world/Japan",
          "world/Middle East",
          "world/APAC",
          "world/Americas",
          "world/EMEA",
          "world/Japan",
          "world/Middle East",
          "world/APAC",
          "world/Americas",
          "world/EMEA",
          "world/Japan",
          "world/Middle East",
          "world/APAC",
          "world/Americas",
          "world/EMEA",
          "world/Japan",
          "world/Middle East",
          "world/APAC",
          "world/Americas",
          "world/EMEA",
          "world/Japan",
          "world/Middle East",
          "world/APAC",
          "world/Americas",
          "world/EMEA",
          "world/Japan",
          "world/Middle East",
          "world/APAC",
          "world/Americas",
          "world/EMEA",
          "world/Japan",
          "world/Middle East",
          "world/APAC",
          "world/Americas",
          "world/EMEA",
          "world/Japan",
          "world/Middle East",
          "world/APAC",
          "world/Americas",
          "world/EMEA",
          "world/Japan",
          "world/Middle East",
          "world/APAC",
          "world/Americas",
          "world/EMEA",
          "world/Japan",
          "world/Middle East",
          "world",
          "world",
          "world",
          "world",
          "world",
          ""
         ],
         "type": "treemap",
         "values": [
          null,
          null,
          4742030.898,
          null,
          null,
          null,
          null,
          20395113.182400003,
          null,
          null,
          2410150902.362137,
          null,
          null,
          null,
          null,
          null,
          null,
          21006410.92998,
          null,
          null,
          null,
          null,
          20176612.716000002,
          null,
          null,
          null,
          null,
          99447920.37016197,
          null,
          null,
          null,
          null,
          294572.8566480001,
          null,
          null,
          null,
          null,
          1309883.8553219999,
          null,
          null,
          28421.25,
          null,
          null,
          null,
          null,
          2387920.5,
          null,
          null,
          null,
          null,
          null,
          45324011.050000004,
          null,
          null,
          null,
          null,
          25678685.05,
          null,
          null,
          null,
          null,
          null,
          28354241.9615,
          null,
          null,
          null,
          227041308.95,
          null,
          null,
          null,
          15120444.089999998,
          null,
          null,
          null,
          null,
          null,
          null,
          2372838.6528000003,
          null,
          null,
          null,
          null,
          5193185.071343333,
          null,
          null,
          null,
          null,
          108802.2,
          null,
          null,
          null,
          null,
          63909392.38967702,
          null,
          null,
          null,
          null,
          9375,
          null,
          null,
          null,
          null,
          1640998.5920350004,
          null,
          null,
          null,
          null,
          483255121.14818907,
          null,
          null,
          null,
          null,
          95529.15,
          null,
          null,
          null,
          null,
          1375354129.4455154,
          null,
          null,
          null,
          null,
          1595224.7818099996,
          null,
          null,
          null,
          null,
          52880798.30104401,
          null,
          null,
          789508757.9499997,
          null,
          null,
          null,
          null,
          142313914.82999998,
          null,
          null,
          null,
          null,
          null,
          null,
          3976591.9312509997,
          null,
          null,
          null,
          null,
          82080941.06270503,
          null,
          null,
          null,
          null,
          null,
          164903725.61142436,
          null,
          null,
          null,
          14850123.75,
          null,
          113499325.13000001,
          null,
          null,
          131439,
          null,
          85797149.85,
          null,
          null,
          171175320.25,
          null,
          null,
          null,
          null,
          3413920.0831400002,
          null,
          null,
          null,
          null,
          null,
          null,
          945877.2,
          null,
          null,
          null,
          null,
          1968390,
          null,
          null,
          7137140.780514003,
          null,
          null,
          null,
          null,
          745519.9632,
          null,
          null,
          29318206.66,
          null,
          null,
          null,
          null,
          null,
          null,
          419388.36303999997,
          null,
          null,
          null,
          null,
          121248.85500000001,
          null,
          null,
          null,
          null,
          3586704.716,
          null,
          null,
          null,
          1637582829.61,
          null,
          null,
          null,
          null,
          2161057492.830001,
          null,
          null,
          null,
          null,
          null,
          361985046.3687522,
          null,
          null,
          1557911.3000000003,
          null,
          null,
          null,
          null,
          null,
          1077340604.2800002,
          517595202.973462,
          227143109.8296822,
          85839155.95,
          null,
          null,
          8002400.974374999,
          null,
          null,
          null,
          null,
          null,
          null,
          1564905.6,
          null,
          null,
          null,
          null,
          910314,
          126326412.08000001,
          null,
          null,
          null,
          null,
          null,
          null,
          68523539.920719,
          null,
          null,
          null,
          null,
          62580774.99486501,
          null,
          null,
          null,
          null,
          73781841.09600002,
          null,
          null,
          null,
          1820096288.2099998,
          237676551.85799998,
          null,
          null,
          null,
          464082209.29999995,
          21194700,
          null,
          null,
          null,
          null,
          null,
          null,
          1054008.0999999999,
          64086895.67999999,
          null,
          null,
          null,
          null,
          null,
          null,
          649246.8262499999,
          null,
          null,
          8467149.6,
          null,
          null,
          null,
          null,
          null,
          null,
          57025560.986,
          null,
          null,
          890869.705,
          null,
          null,
          null,
          null,
          10837912,
          null,
          null,
          null,
          null,
          null,
          null,
          153329165.12998903,
          null,
          null,
          null,
          null,
          5120680.70865,
          null,
          null,
          null,
          null,
          52610546.334602006,
          null,
          null,
          61119374.15,
          null,
          null,
          null,
          null,
          92936072.07000002,
          null,
          null,
          null,
          null,
          null,
          null,
          20915471.97385,
          null,
          null,
          null,
          null,
          135024637.407252,
          null,
          null,
          null,
          null,
          172657651.25,
          null,
          7513674.7,
          null,
          null,
          null,
          null,
          753972.1,
          null,
          null,
          17330606.2869,
          null,
          null,
          null,
          null,
          368585318.6384455,
          null,
          null,
          214303294.96,
          null,
          null,
          null,
          null,
          3969354459.1871367,
          7458203429.280001,
          4804369463.985388,
          392046835.44110656,
          299846772.63000005,
          16923820960.523628
         ]
        }
       ],
       "layout": {
        "coloraxis": {
         "colorbar": {
          "title": {
           "text": "Cantidad de Oportunidades"
          }
         },
         "colorscale": [
          [
           0,
           "rgb(247,251,255)"
          ],
          [
           0.125,
           "rgb(222,235,247)"
          ],
          [
           0.25,
           "rgb(198,219,239)"
          ],
          [
           0.375,
           "rgb(158,202,225)"
          ],
          [
           0.5,
           "rgb(107,174,214)"
          ],
          [
           0.625,
           "rgb(66,146,198)"
          ],
          [
           0.75,
           "rgb(33,113,181)"
          ],
          [
           0.875,
           "rgb(8,81,156)"
          ],
          [
           1,
           "rgb(8,48,107)"
          ]
         ]
        },
        "height": 900,
        "legend": {
         "tracegroupgap": 0
        },
        "margin": {
         "t": 60
        },
        "template": {
         "data": {
          "bar": [
           {
            "error_x": {
             "color": "#2a3f5f"
            },
            "error_y": {
             "color": "#2a3f5f"
            },
            "marker": {
             "line": {
              "color": "#E5ECF6",
              "width": 0.5
             }
            },
            "type": "bar"
           }
          ],
          "barpolar": [
           {
            "marker": {
             "line": {
              "color": "#E5ECF6",
              "width": 0.5
             }
            },
            "type": "barpolar"
           }
          ],
          "carpet": [
           {
            "aaxis": {
             "endlinecolor": "#2a3f5f",
             "gridcolor": "white",
             "linecolor": "white",
             "minorgridcolor": "white",
             "startlinecolor": "#2a3f5f"
            },
            "baxis": {
             "endlinecolor": "#2a3f5f",
             "gridcolor": "white",
             "linecolor": "white",
             "minorgridcolor": "white",
             "startlinecolor": "#2a3f5f"
            },
            "type": "carpet"
           }
          ],
          "choropleth": [
           {
            "colorbar": {
             "outlinewidth": 0,
             "ticks": ""
            },
            "type": "choropleth"
           }
          ],
          "contour": [
           {
            "colorbar": {
             "outlinewidth": 0,
             "ticks": ""
            },
            "colorscale": [
             [
              0,
              "#0d0887"
             ],
             [
              0.1111111111111111,
              "#46039f"
             ],
             [
              0.2222222222222222,
              "#7201a8"
             ],
             [
              0.3333333333333333,
              "#9c179e"
             ],
             [
              0.4444444444444444,
              "#bd3786"
             ],
             [
              0.5555555555555556,
              "#d8576b"
             ],
             [
              0.6666666666666666,
              "#ed7953"
             ],
             [
              0.7777777777777778,
              "#fb9f3a"
             ],
             [
              0.8888888888888888,
              "#fdca26"
             ],
             [
              1,
              "#f0f921"
             ]
            ],
            "type": "contour"
           }
          ],
          "contourcarpet": [
           {
            "colorbar": {
             "outlinewidth": 0,
             "ticks": ""
            },
            "type": "contourcarpet"
           }
          ],
          "heatmap": [
           {
            "colorbar": {
             "outlinewidth": 0,
             "ticks": ""
            },
            "colorscale": [
             [
              0,
              "#0d0887"
             ],
             [
              0.1111111111111111,
              "#46039f"
             ],
             [
              0.2222222222222222,
              "#7201a8"
             ],
             [
              0.3333333333333333,
              "#9c179e"
             ],
             [
              0.4444444444444444,
              "#bd3786"
             ],
             [
              0.5555555555555556,
              "#d8576b"
             ],
             [
              0.6666666666666666,
              "#ed7953"
             ],
             [
              0.7777777777777778,
              "#fb9f3a"
             ],
             [
              0.8888888888888888,
              "#fdca26"
             ],
             [
              1,
              "#f0f921"
             ]
            ],
            "type": "heatmap"
           }
          ],
          "heatmapgl": [
           {
            "colorbar": {
             "outlinewidth": 0,
             "ticks": ""
            },
            "colorscale": [
             [
              0,
              "#0d0887"
             ],
             [
              0.1111111111111111,
              "#46039f"
             ],
             [
              0.2222222222222222,
              "#7201a8"
             ],
             [
              0.3333333333333333,
              "#9c179e"
             ],
             [
              0.4444444444444444,
              "#bd3786"
             ],
             [
              0.5555555555555556,
              "#d8576b"
             ],
             [
              0.6666666666666666,
              "#ed7953"
             ],
             [
              0.7777777777777778,
              "#fb9f3a"
             ],
             [
              0.8888888888888888,
              "#fdca26"
             ],
             [
              1,
              "#f0f921"
             ]
            ],
            "type": "heatmapgl"
           }
          ],
          "histogram": [
           {
            "marker": {
             "colorbar": {
              "outlinewidth": 0,
              "ticks": ""
             }
            },
            "type": "histogram"
           }
          ],
          "histogram2d": [
           {
            "colorbar": {
             "outlinewidth": 0,
             "ticks": ""
            },
            "colorscale": [
             [
              0,
              "#0d0887"
             ],
             [
              0.1111111111111111,
              "#46039f"
             ],
             [
              0.2222222222222222,
              "#7201a8"
             ],
             [
              0.3333333333333333,
              "#9c179e"
             ],
             [
              0.4444444444444444,
              "#bd3786"
             ],
             [
              0.5555555555555556,
              "#d8576b"
             ],
             [
              0.6666666666666666,
              "#ed7953"
             ],
             [
              0.7777777777777778,
              "#fb9f3a"
             ],
             [
              0.8888888888888888,
              "#fdca26"
             ],
             [
              1,
              "#f0f921"
             ]
            ],
            "type": "histogram2d"
           }
          ],
          "histogram2dcontour": [
           {
            "colorbar": {
             "outlinewidth": 0,
             "ticks": ""
            },
            "colorscale": [
             [
              0,
              "#0d0887"
             ],
             [
              0.1111111111111111,
              "#46039f"
             ],
             [
              0.2222222222222222,
              "#7201a8"
             ],
             [
              0.3333333333333333,
              "#9c179e"
             ],
             [
              0.4444444444444444,
              "#bd3786"
             ],
             [
              0.5555555555555556,
              "#d8576b"
             ],
             [
              0.6666666666666666,
              "#ed7953"
             ],
             [
              0.7777777777777778,
              "#fb9f3a"
             ],
             [
              0.8888888888888888,
              "#fdca26"
             ],
             [
              1,
              "#f0f921"
             ]
            ],
            "type": "histogram2dcontour"
           }
          ],
          "mesh3d": [
           {
            "colorbar": {
             "outlinewidth": 0,
             "ticks": ""
            },
            "type": "mesh3d"
           }
          ],
          "parcoords": [
           {
            "line": {
             "colorbar": {
              "outlinewidth": 0,
              "ticks": ""
             }
            },
            "type": "parcoords"
           }
          ],
          "pie": [
           {
            "automargin": true,
            "type": "pie"
           }
          ],
          "scatter": [
           {
            "marker": {
             "colorbar": {
              "outlinewidth": 0,
              "ticks": ""
             }
            },
            "type": "scatter"
           }
          ],
          "scatter3d": [
           {
            "line": {
             "colorbar": {
              "outlinewidth": 0,
              "ticks": ""
             }
            },
            "marker": {
             "colorbar": {
              "outlinewidth": 0,
              "ticks": ""
             }
            },
            "type": "scatter3d"
           }
          ],
          "scattercarpet": [
           {
            "marker": {
             "colorbar": {
              "outlinewidth": 0,
              "ticks": ""
             }
            },
            "type": "scattercarpet"
           }
          ],
          "scattergeo": [
           {
            "marker": {
             "colorbar": {
              "outlinewidth": 0,
              "ticks": ""
             }
            },
            "type": "scattergeo"
           }
          ],
          "scattergl": [
           {
            "marker": {
             "colorbar": {
              "outlinewidth": 0,
              "ticks": ""
             }
            },
            "type": "scattergl"
           }
          ],
          "scattermapbox": [
           {
            "marker": {
             "colorbar": {
              "outlinewidth": 0,
              "ticks": ""
             }
            },
            "type": "scattermapbox"
           }
          ],
          "scatterpolar": [
           {
            "marker": {
             "colorbar": {
              "outlinewidth": 0,
              "ticks": ""
             }
            },
            "type": "scatterpolar"
           }
          ],
          "scatterpolargl": [
           {
            "marker": {
             "colorbar": {
              "outlinewidth": 0,
              "ticks": ""
             }
            },
            "type": "scatterpolargl"
           }
          ],
          "scatterternary": [
           {
            "marker": {
             "colorbar": {
              "outlinewidth": 0,
              "ticks": ""
             }
            },
            "type": "scatterternary"
           }
          ],
          "surface": [
           {
            "colorbar": {
             "outlinewidth": 0,
             "ticks": ""
            },
            "colorscale": [
             [
              0,
              "#0d0887"
             ],
             [
              0.1111111111111111,
              "#46039f"
             ],
             [
              0.2222222222222222,
              "#7201a8"
             ],
             [
              0.3333333333333333,
              "#9c179e"
             ],
             [
              0.4444444444444444,
              "#bd3786"
             ],
             [
              0.5555555555555556,
              "#d8576b"
             ],
             [
              0.6666666666666666,
              "#ed7953"
             ],
             [
              0.7777777777777778,
              "#fb9f3a"
             ],
             [
              0.8888888888888888,
              "#fdca26"
             ],
             [
              1,
              "#f0f921"
             ]
            ],
            "type": "surface"
           }
          ],
          "table": [
           {
            "cells": {
             "fill": {
              "color": "#EBF0F8"
             },
             "line": {
              "color": "white"
             }
            },
            "header": {
             "fill": {
              "color": "#C8D4E3"
             },
             "line": {
              "color": "white"
             }
            },
            "type": "table"
           }
          ]
         },
         "layout": {
          "annotationdefaults": {
           "arrowcolor": "#2a3f5f",
           "arrowhead": 0,
           "arrowwidth": 1
          },
          "coloraxis": {
           "colorbar": {
            "outlinewidth": 0,
            "ticks": ""
           }
          },
          "colorscale": {
           "diverging": [
            [
             0,
             "#8e0152"
            ],
            [
             0.1,
             "#c51b7d"
            ],
            [
             0.2,
             "#de77ae"
            ],
            [
             0.3,
             "#f1b6da"
            ],
            [
             0.4,
             "#fde0ef"
            ],
            [
             0.5,
             "#f7f7f7"
            ],
            [
             0.6,
             "#e6f5d0"
            ],
            [
             0.7,
             "#b8e186"
            ],
            [
             0.8,
             "#7fbc41"
            ],
            [
             0.9,
             "#4d9221"
            ],
            [
             1,
             "#276419"
            ]
           ],
           "sequential": [
            [
             0,
             "#0d0887"
            ],
            [
             0.1111111111111111,
             "#46039f"
            ],
            [
             0.2222222222222222,
             "#7201a8"
            ],
            [
             0.3333333333333333,
             "#9c179e"
            ],
            [
             0.4444444444444444,
             "#bd3786"
            ],
            [
             0.5555555555555556,
             "#d8576b"
            ],
            [
             0.6666666666666666,
             "#ed7953"
            ],
            [
             0.7777777777777778,
             "#fb9f3a"
            ],
            [
             0.8888888888888888,
             "#fdca26"
            ],
            [
             1,
             "#f0f921"
            ]
           ],
           "sequentialminus": [
            [
             0,
             "#0d0887"
            ],
            [
             0.1111111111111111,
             "#46039f"
            ],
            [
             0.2222222222222222,
             "#7201a8"
            ],
            [
             0.3333333333333333,
             "#9c179e"
            ],
            [
             0.4444444444444444,
             "#bd3786"
            ],
            [
             0.5555555555555556,
             "#d8576b"
            ],
            [
             0.6666666666666666,
             "#ed7953"
            ],
            [
             0.7777777777777778,
             "#fb9f3a"
            ],
            [
             0.8888888888888888,
             "#fdca26"
            ],
            [
             1,
             "#f0f921"
            ]
           ]
          },
          "colorway": [
           "#636efa",
           "#EF553B",
           "#00cc96",
           "#ab63fa",
           "#FFA15A",
           "#19d3f3",
           "#FF6692",
           "#B6E880",
           "#FF97FF",
           "#FECB52"
          ],
          "font": {
           "color": "#2a3f5f"
          },
          "geo": {
           "bgcolor": "white",
           "lakecolor": "white",
           "landcolor": "#E5ECF6",
           "showlakes": true,
           "showland": true,
           "subunitcolor": "white"
          },
          "hoverlabel": {
           "align": "left"
          },
          "hovermode": "closest",
          "mapbox": {
           "style": "light"
          },
          "paper_bgcolor": "white",
          "plot_bgcolor": "#E5ECF6",
          "polar": {
           "angularaxis": {
            "gridcolor": "white",
            "linecolor": "white",
            "ticks": ""
           },
           "bgcolor": "#E5ECF6",
           "radialaxis": {
            "gridcolor": "white",
            "linecolor": "white",
            "ticks": ""
           }
          },
          "scene": {
           "xaxis": {
            "backgroundcolor": "#E5ECF6",
            "gridcolor": "white",
            "gridwidth": 2,
            "linecolor": "white",
            "showbackground": true,
            "ticks": "",
            "zerolinecolor": "white"
           },
           "yaxis": {
            "backgroundcolor": "#E5ECF6",
            "gridcolor": "white",
            "gridwidth": 2,
            "linecolor": "white",
            "showbackground": true,
            "ticks": "",
            "zerolinecolor": "white"
           },
           "zaxis": {
            "backgroundcolor": "#E5ECF6",
            "gridcolor": "white",
            "gridwidth": 2,
            "linecolor": "white",
            "showbackground": true,
            "ticks": "",
            "zerolinecolor": "white"
           }
          },
          "shapedefaults": {
           "line": {
            "color": "#2a3f5f"
           }
          },
          "ternary": {
           "aaxis": {
            "gridcolor": "white",
            "linecolor": "white",
            "ticks": ""
           },
           "baxis": {
            "gridcolor": "white",
            "linecolor": "white",
            "ticks": ""
           },
           "bgcolor": "#E5ECF6",
           "caxis": {
            "gridcolor": "white",
            "linecolor": "white",
            "ticks": ""
           }
          },
          "title": {
           "x": 0.05
          },
          "xaxis": {
           "automargin": true,
           "gridcolor": "white",
           "linecolor": "white",
           "ticks": "",
           "title": {
            "standoff": 15
           },
           "zerolinecolor": "white",
           "zerolinewidth": 2
          },
          "yaxis": {
           "automargin": true,
           "gridcolor": "white",
           "linecolor": "white",
           "ticks": "",
           "title": {
            "standoff": 15
           },
           "zerolinecolor": "white",
           "zerolinewidth": 2
          }
         }
        },
        "width": 1800
       }
      },
      "text/html": [
       "<div>\n",
       "        \n",
       "        \n",
       "            <div id=\"6778fb75-0b7b-4e07-aa2a-be18c8cd8bb6\" class=\"plotly-graph-div\" style=\"height:900px; width:1800px;\"></div>\n",
       "            <script type=\"text/javascript\">\n",
       "                require([\"plotly\"], function(Plotly) {\n",
       "                    window.PLOTLYENV=window.PLOTLYENV || {};\n",
       "                    \n",
       "                if (document.getElementById(\"6778fb75-0b7b-4e07-aa2a-be18c8cd8bb6\")) {\n",
       "                    Plotly.newPlot(\n",
       "                        '6778fb75-0b7b-4e07-aa2a-be18c8cd8bb6',\n",
       "                        [{\"branchvalues\": \"total\", \"customdata\": [[null], [null], [2.0], [null], [null], [null], [null], [2.0], [null], [null], [1208.0], [null], [null], [null], [null], [null], [null], [145.0], [null], [null], [null], [null], [4.0], [null], [null], [null], [null], [285.0], [null], [null], [null], [null], [4.0], [null], [null], [null], [null], [5.0], [null], [null], [1.0], [null], [null], [null], [null], [4.0], [null], [null], [null], [null], [null], [74.0], [null], [null], [null], [null], [31.000000000000004], [null], [null], [null], [null], [null], [9.0], [null], [null], [null], [254.0], [null], [null], [null], [218.0], [null], [null], [null], [null], [null], [null], [1.0], [null], [null], [null], [null], [44.0], [null], [null], [null], [null], [1.0], [null], [null], [null], [null], [38.0], [null], [null], [null], [null], [1.0], [null], [null], [null], [null], [8.0], [null], [null], [null], [null], [449.0], [null], [null], [null], [null], [1.0], [null], [null], [null], [null], [1682.0], [null], [null], [null], [null], [9.0], [null], [null], [null], [null], [28.0], [null], [null], [809.0000000000001], [null], [null], [null], [null], [154.0], [null], [null], [null], [null], [null], [null], [9.0], [null], [null], [null], [null], [283.0], [null], [null], [null], [null], [null], [681.0], [null], [null], [null], [1.0], [null], [101.0], [null], [null], [2.0], [null], [11.0], [null], [null], [7.0], [null], [null], [null], [null], [2.0], [null], [null], [null], [null], [null], [null], [2.9999999999999996], [null], [null], [null], [null], [2.0], [null], [null], [70.0], [null], [null], [null], [null], [6.0], [null], [null], [5.0], [null], [null], [null], [null], [null], [null], [6.0], [null], [null], [null], [null], [1.0], [null], [null], [null], [null], [3.0], [null], [null], [null], [760.0], [null], [null], [null], [null], [1568.0], [null], [null], [null], [null], [null], [533.0], [null], [null], [38.0], [null], [null], [null], [null], [null], [571.0], [187.0], [4211.0], [30.0], [null], [null], [20.0], [null], [null], [null], [null], [null], [null], [4.0], [null], [null], [null], [null], [6.0], [109.0], [null], [null], [null], [null], [null], [null], [60.0], [null], [null], [null], [null], [66.0], [null], [null], [null], [null], [2.0], [null], [null], [null], [483.0], [10.0], [null], [null], [null], [204.00000000000003], [2.0], [null], [null], [null], [null], [null], [null], [6.0], [441.0], [null], [null], [null], [null], [null], [null], [1.0], [null], [null], [1.0], [null], [null], [null], [null], [null], [null], [9.0], [null], [null], [2.0], [null], [null], [null], [null], [15.0], [null], [null], [null], [null], [null], [null], [268.0], [null], [null], [null], [null], [12.0], [null], [null], [null], [null], [21.0], [null], [null], [33.0], [null], [null], [null], [null], [173.0], [null], [null], [null], [null], [null], [null], [5.0], [null], [null], [null], [null], [29.0], [null], [null], [null], [null], [12.0], [null], [19.0], [null], [null], [null], [null], [2.0], [null], [null], [5.0], [null], [null], [null], [null], [313.0], [null], [null], [51.0], [null], [null], [null], [null], [918.7468515426681], [842.5434396258795], [636.1490464808302], [2726.2025248376917], [50.53068526362415], [831.4279561676445]], \"domain\": {\"x\": [0.0, 1.0], \"y\": [0.0, 1.0]}, \"hovertemplate\": \"labels=%{label}<br>Total_Amount_(converted)=%{value}<br>parent=%{parent}<br>id=%{id}<br>Cantidad de Oportunidades=%{color}<extra></extra>\", \"ids\": [\"world/APAC/Albania\", \"world/Americas/Albania\", \"world/EMEA/Albania\", \"world/Japan/Albania\", \"world/Middle East/Albania\", \"world/APAC/Armenia\", \"world/Americas/Armenia\", \"world/EMEA/Armenia\", \"world/Japan/Armenia\", \"world/Middle East/Armenia\", \"world/APAC/Australia\", \"world/Americas/Australia\", \"world/EMEA/Australia\", \"world/Japan/Australia\", \"world/Middle East/Australia\", \"world/APAC/Austria\", \"world/Americas/Austria\", \"world/EMEA/Austria\", \"world/Japan/Austria\", \"world/Middle East/Austria\", \"world/APAC/Belarus\", \"world/Americas/Belarus\", \"world/EMEA/Belarus\", \"world/Japan/Belarus\", \"world/Middle East/Belarus\", \"world/APAC/Belgium\", \"world/Americas/Belgium\", \"world/EMEA/Belgium\", \"world/Japan/Belgium\", \"world/Middle East/Belgium\", \"world/APAC/Bosnia & Herzegovina\", \"world/Americas/Bosnia & Herzegovina\", \"world/EMEA/Bosnia & Herzegovina\", \"world/Japan/Bosnia & Herzegovina\", \"world/Middle East/Bosnia & Herzegovina\", \"world/APAC/Bulgaria\", \"world/Americas/Bulgaria\", \"world/EMEA/Bulgaria\", \"world/Japan/Bulgaria\", \"world/Middle East/Bulgaria\", \"world/APAC/Burma\", \"world/Americas/Burma\", \"world/EMEA/Burma\", \"world/Japan/Burma\", \"world/Middle East/Burma\", \"world/APAC/Cambodia\", \"world/Americas/Cambodia\", \"world/EMEA/Cambodia\", \"world/Japan/Cambodia\", \"world/Middle East/Cambodia\", \"world/APAC/Canada\", \"world/Americas/Canada\", \"world/EMEA/Canada\", \"world/Japan/Canada\", \"world/Middle East/Canada\", \"world/APAC/Carribean\", \"world/Americas/Carribean\", \"world/EMEA/Carribean\", \"world/Japan/Carribean\", \"world/Middle East/Carribean\", \"world/APAC/Central America\", \"world/Americas/Central America\", \"world/EMEA/Central America\", \"world/Japan/Central America\", \"world/Middle East/Central America\", \"world/APAC/Central US\", \"world/Americas/Central US\", \"world/EMEA/Central US\", \"world/Japan/Central US\", \"world/Middle East/Central US\", \"world/APAC/China (PRC)\", \"world/Americas/China (PRC)\", \"world/EMEA/China (PRC)\", \"world/Japan/China (PRC)\", \"world/Middle East/China (PRC)\", \"world/APAC/Croatia\", \"world/Americas/Croatia\", \"world/EMEA/Croatia\", \"world/Japan/Croatia\", \"world/Middle East/Croatia\", \"world/APAC/Cyprus\", \"world/Americas/Cyprus\", \"world/EMEA/Cyprus\", \"world/Japan/Cyprus\", \"world/Middle East/Cyprus\", \"world/APAC/Czech Republic\", \"world/Americas/Czech Republic\", \"world/EMEA/Czech Republic\", \"world/Japan/Czech Republic\", \"world/Middle East/Czech Republic\", \"world/APAC/Denmark\", \"world/Americas/Denmark\", \"world/EMEA/Denmark\", \"world/Japan/Denmark\", \"world/Middle East/Denmark\", \"world/APAC/Egypt\", \"world/Americas/Egypt\", \"world/EMEA/Egypt\", \"world/Japan/Egypt\", \"world/Middle East/Egypt\", \"world/APAC/Estonia\", \"world/Americas/Estonia\", \"world/EMEA/Estonia\", \"world/Japan/Estonia\", \"world/Middle East/Estonia\", \"world/APAC/France\", \"world/Americas/France\", \"world/EMEA/France\", \"world/Japan/France\", \"world/Middle East/France\", \"world/APAC/Georgia\", \"world/Americas/Georgia\", \"world/EMEA/Georgia\", \"world/Japan/Georgia\", \"world/Middle East/Georgia\", \"world/APAC/Germany\", \"world/Americas/Germany\", \"world/EMEA/Germany\", \"world/Japan/Germany\", \"world/Middle East/Germany\", \"world/APAC/Greece\", \"world/Americas/Greece\", \"world/EMEA/Greece\", \"world/Japan/Greece\", \"world/Middle East/Greece\", \"world/APAC/Hungary\", \"world/Americas/Hungary\", \"world/EMEA/Hungary\", \"world/Japan/Hungary\", \"world/Middle East/Hungary\", \"world/APAC/India\", \"world/Americas/India\", \"world/EMEA/India\", \"world/Japan/India\", \"world/Middle East/India\", \"world/APAC/Indonesia\", \"world/Americas/Indonesia\", \"world/EMEA/Indonesia\", \"world/Japan/Indonesia\", \"world/Middle East/Indonesia\", \"world/APAC/Ireland\", \"world/Americas/Ireland\", \"world/EMEA/Ireland\", \"world/Japan/Ireland\", \"world/Middle East/Ireland\", \"world/APAC/Italy\", \"world/Americas/Italy\", \"world/EMEA/Italy\", \"world/Japan/Italy\", \"world/Middle East/Italy\", \"world/APAC/Japan\", \"world/Americas/Japan\", \"world/EMEA/Japan\", \"world/Japan/Japan\", \"world/Middle East/Japan\", \"world/APAC/Jordan\", \"world/Americas/Jordan\", \"world/EMEA/Jordan\", \"world/Japan/Jordan\", \"world/Middle East/Jordan\", \"world/APAC/KSA\", \"world/Americas/KSA\", \"world/EMEA/KSA\", \"world/Japan/KSA\", \"world/Middle East/KSA\", \"world/APAC/Kazakhstan\", \"world/Americas/Kazakhstan\", \"world/EMEA/Kazakhstan\", \"world/Japan/Kazakhstan\", \"world/Middle East/Kazakhstan\", \"world/APAC/Kosovo\", \"world/Americas/Kosovo\", \"world/EMEA/Kosovo\", \"world/Japan/Kosovo\", \"world/Middle East/Kosovo\", \"world/APAC/Kuwait\", \"world/Americas/Kuwait\", \"world/EMEA/Kuwait\", \"world/Japan/Kuwait\", \"world/Middle East/Kuwait\", \"world/APAC/Lebanon\", \"world/Americas/Lebanon\", \"world/EMEA/Lebanon\", \"world/Japan/Lebanon\", \"world/Middle East/Lebanon\", \"world/APAC/Luxembourg\", \"world/Americas/Luxembourg\", \"world/EMEA/Luxembourg\", \"world/Japan/Luxembourg\", \"world/Middle East/Luxembourg\", \"world/APAC/Macedonia\", \"world/Americas/Macedonia\", \"world/EMEA/Macedonia\", \"world/Japan/Macedonia\", \"world/Middle East/Macedonia\", \"world/APAC/Malaysia\", \"world/Americas/Malaysia\", \"world/EMEA/Malaysia\", \"world/Japan/Malaysia\", \"world/Middle East/Malaysia\", \"world/APAC/Malta\", \"world/Americas/Malta\", \"world/EMEA/Malta\", \"world/Japan/Malta\", \"world/Middle East/Malta\", \"world/APAC/Monaco\", \"world/Americas/Monaco\", \"world/EMEA/Monaco\", \"world/Japan/Monaco\", \"world/Middle East/Monaco\", \"world/APAC/Morocco\", \"world/Americas/Morocco\", \"world/EMEA/Morocco\", \"world/Japan/Morocco\", \"world/Middle East/Morocco\", \"world/APAC/NE America\", \"world/Americas/NE America\", \"world/EMEA/NE America\", \"world/Japan/NE America\", \"world/Middle East/NE America\", \"world/APAC/NW America\", \"world/Americas/NW America\", \"world/EMEA/NW America\", \"world/Japan/NW America\", \"world/Middle East/NW America\", \"world/APAC/Netherlands\", \"world/Americas/Netherlands\", \"world/EMEA/Netherlands\", \"world/Japan/Netherlands\", \"world/Middle East/Netherlands\", \"world/APAC/New Zealand\", \"world/Americas/New Zealand\", \"world/EMEA/New Zealand\", \"world/Japan/New Zealand\", \"world/Middle East/New Zealand\", \"world/APAC/None\", \"world/Americas/None\", \"world/EMEA/None\", \"world/Japan/None\", \"world/Middle East/None\", \"world/APAC/Norway\", \"world/Americas/Norway\", \"world/EMEA/Norway\", \"world/Japan/Norway\", \"world/Middle East/Norway\", \"world/APAC/Oman\", \"world/Americas/Oman\", \"world/EMEA/Oman\", \"world/Japan/Oman\", \"world/Middle East/Oman\", \"world/APAC/Pakistan\", \"world/Americas/Pakistan\", \"world/EMEA/Pakistan\", \"world/Japan/Pakistan\", \"world/Middle East/Pakistan\", \"world/APAC/Philippines\", \"world/Americas/Philippines\", \"world/EMEA/Philippines\", \"world/Japan/Philippines\", \"world/Middle East/Philippines\", \"world/APAC/Poland\", \"world/Americas/Poland\", \"world/EMEA/Poland\", \"world/Japan/Poland\", \"world/Middle East/Poland\", \"world/APAC/Portugal\", \"world/Americas/Portugal\", \"world/EMEA/Portugal\", \"world/Japan/Portugal\", \"world/Middle East/Portugal\", \"world/APAC/Romania\", \"world/Americas/Romania\", \"world/EMEA/Romania\", \"world/Japan/Romania\", \"world/Middle East/Romania\", \"world/APAC/SE America\", \"world/Americas/SE America\", \"world/EMEA/SE America\", \"world/Japan/SE America\", \"world/Middle East/SE America\", \"world/APAC/SW America\", \"world/Americas/SW America\", \"world/EMEA/SW America\", \"world/Japan/SW America\", \"world/Middle East/SW America\", \"world/APAC/Saudi Arabia\", \"world/Americas/Saudi Arabia\", \"world/EMEA/Saudi Arabia\", \"world/Japan/Saudi Arabia\", \"world/Middle East/Saudi Arabia\", \"world/APAC/Singapore\", \"world/Americas/Singapore\", \"world/EMEA/Singapore\", \"world/Japan/Singapore\", \"world/Middle East/Singapore\", \"world/APAC/Slovenia\", \"world/Americas/Slovenia\", \"world/EMEA/Slovenia\", \"world/Japan/Slovenia\", \"world/Middle East/Slovenia\", \"world/APAC/Solomon Islands\", \"world/Americas/Solomon Islands\", \"world/EMEA/Solomon Islands\", \"world/Japan/Solomon Islands\", \"world/Middle East/Solomon Islands\", \"world/APAC/South America\", \"world/Americas/South America\", \"world/EMEA/South America\", \"world/Japan/South America\", \"world/Middle East/South America\", \"world/APAC/South East Asia\", \"world/Americas/South East Asia\", \"world/EMEA/South East Asia\", \"world/Japan/South East Asia\", \"world/Middle East/South East Asia\", \"world/APAC/South Korea\", \"world/Americas/South Korea\", \"world/EMEA/South Korea\", \"world/Japan/South Korea\", \"world/Middle East/South Korea\", \"world/APAC/Spain\", \"world/Americas/Spain\", \"world/EMEA/Spain\", \"world/Japan/Spain\", \"world/Middle East/Spain\", \"world/APAC/Sweden\", \"world/Americas/Sweden\", \"world/EMEA/Sweden\", \"world/Japan/Sweden\", \"world/Middle East/Sweden\", \"world/APAC/Switzerland\", \"world/Americas/Switzerland\", \"world/EMEA/Switzerland\", \"world/Japan/Switzerland\", \"world/Middle East/Switzerland\", \"world/APAC/Taiwan\", \"world/Americas/Taiwan\", \"world/EMEA/Taiwan\", \"world/Japan/Taiwan\", \"world/Middle East/Taiwan\", \"world/APAC/Thailand\", \"world/Americas/Thailand\", \"world/EMEA/Thailand\", \"world/Japan/Thailand\", \"world/Middle East/Thailand\", \"world/APAC/Tunisia\", \"world/Americas/Tunisia\", \"world/EMEA/Tunisia\", \"world/Japan/Tunisia\", \"world/Middle East/Tunisia\", \"world/APAC/Turkey\", \"world/Americas/Turkey\", \"world/EMEA/Turkey\", \"world/Japan/Turkey\", \"world/Middle East/Turkey\", \"world/APAC/UAE (Dubai)\", \"world/Americas/UAE (Dubai)\", \"world/EMEA/UAE (Dubai)\", \"world/Japan/UAE (Dubai)\", \"world/Middle East/UAE (Dubai)\", \"world/APAC/UAE (Others)\", \"world/Americas/UAE (Others)\", \"world/EMEA/UAE (Others)\", \"world/Japan/UAE (Others)\", \"world/Middle East/UAE (Others)\", \"world/APAC/Ukraine\", \"world/Americas/Ukraine\", \"world/EMEA/Ukraine\", \"world/Japan/Ukraine\", \"world/Middle East/Ukraine\", \"world/APAC/United Kingdom\", \"world/Americas/United Kingdom\", \"world/EMEA/United Kingdom\", \"world/Japan/United Kingdom\", \"world/Middle East/United Kingdom\", \"world/APAC/Vietnam\", \"world/Americas/Vietnam\", \"world/EMEA/Vietnam\", \"world/Japan/Vietnam\", \"world/Middle East/Vietnam\", \"world/APAC\", \"world/Americas\", \"world/EMEA\", \"world/Japan\", \"world/Middle East\", \"world\"], \"labels\": [\"Albania\", \"Albania\", \"Albania\", \"Albania\", \"Albania\", \"Armenia\", \"Armenia\", \"Armenia\", \"Armenia\", \"Armenia\", \"Australia\", \"Australia\", \"Australia\", \"Australia\", \"Australia\", \"Austria\", \"Austria\", \"Austria\", \"Austria\", \"Austria\", \"Belarus\", \"Belarus\", \"Belarus\", \"Belarus\", \"Belarus\", \"Belgium\", \"Belgium\", \"Belgium\", \"Belgium\", \"Belgium\", \"Bosnia & Herzegovina\", \"Bosnia & Herzegovina\", \"Bosnia & Herzegovina\", \"Bosnia & Herzegovina\", \"Bosnia & Herzegovina\", \"Bulgaria\", \"Bulgaria\", \"Bulgaria\", \"Bulgaria\", \"Bulgaria\", \"Burma\", \"Burma\", \"Burma\", \"Burma\", \"Burma\", \"Cambodia\", \"Cambodia\", \"Cambodia\", \"Cambodia\", \"Cambodia\", \"Canada\", \"Canada\", \"Canada\", \"Canada\", \"Canada\", \"Carribean\", \"Carribean\", \"Carribean\", \"Carribean\", \"Carribean\", \"Central America\", \"Central America\", \"Central America\", \"Central America\", \"Central America\", \"Central US\", \"Central US\", \"Central US\", \"Central US\", \"Central US\", \"China (PRC)\", \"China (PRC)\", \"China (PRC)\", \"China (PRC)\", \"China (PRC)\", \"Croatia\", \"Croatia\", \"Croatia\", \"Croatia\", \"Croatia\", \"Cyprus\", \"Cyprus\", \"Cyprus\", \"Cyprus\", \"Cyprus\", \"Czech Republic\", \"Czech Republic\", \"Czech Republic\", \"Czech Republic\", \"Czech Republic\", \"Denmark\", \"Denmark\", \"Denmark\", \"Denmark\", \"Denmark\", \"Egypt\", \"Egypt\", \"Egypt\", \"Egypt\", \"Egypt\", \"Estonia\", \"Estonia\", \"Estonia\", \"Estonia\", \"Estonia\", \"France\", \"France\", \"France\", \"France\", \"France\", \"Georgia\", \"Georgia\", \"Georgia\", \"Georgia\", \"Georgia\", \"Germany\", \"Germany\", \"Germany\", \"Germany\", \"Germany\", \"Greece\", \"Greece\", \"Greece\", \"Greece\", \"Greece\", \"Hungary\", \"Hungary\", \"Hungary\", \"Hungary\", \"Hungary\", \"India\", \"India\", \"India\", \"India\", \"India\", \"Indonesia\", \"Indonesia\", \"Indonesia\", \"Indonesia\", \"Indonesia\", \"Ireland\", \"Ireland\", \"Ireland\", \"Ireland\", \"Ireland\", \"Italy\", \"Italy\", \"Italy\", \"Italy\", \"Italy\", \"Japan\", \"Japan\", \"Japan\", \"Japan\", \"Japan\", \"Jordan\", \"Jordan\", \"Jordan\", \"Jordan\", \"Jordan\", \"KSA\", \"KSA\", \"KSA\", \"KSA\", \"KSA\", \"Kazakhstan\", \"Kazakhstan\", \"Kazakhstan\", \"Kazakhstan\", \"Kazakhstan\", \"Kosovo\", \"Kosovo\", \"Kosovo\", \"Kosovo\", \"Kosovo\", \"Kuwait\", \"Kuwait\", \"Kuwait\", \"Kuwait\", \"Kuwait\", \"Lebanon\", \"Lebanon\", \"Lebanon\", \"Lebanon\", \"Lebanon\", \"Luxembourg\", \"Luxembourg\", \"Luxembourg\", \"Luxembourg\", \"Luxembourg\", \"Macedonia\", \"Macedonia\", \"Macedonia\", \"Macedonia\", \"Macedonia\", \"Malaysia\", \"Malaysia\", \"Malaysia\", \"Malaysia\", \"Malaysia\", \"Malta\", \"Malta\", \"Malta\", \"Malta\", \"Malta\", \"Monaco\", \"Monaco\", \"Monaco\", \"Monaco\", \"Monaco\", \"Morocco\", \"Morocco\", \"Morocco\", \"Morocco\", \"Morocco\", \"NE America\", \"NE America\", \"NE America\", \"NE America\", \"NE America\", \"NW America\", \"NW America\", \"NW America\", \"NW America\", \"NW America\", \"Netherlands\", \"Netherlands\", \"Netherlands\", \"Netherlands\", \"Netherlands\", \"New Zealand\", \"New Zealand\", \"New Zealand\", \"New Zealand\", \"New Zealand\", \"None\", \"None\", \"None\", \"None\", \"None\", \"Norway\", \"Norway\", \"Norway\", \"Norway\", \"Norway\", \"Oman\", \"Oman\", \"Oman\", \"Oman\", \"Oman\", \"Pakistan\", \"Pakistan\", \"Pakistan\", \"Pakistan\", \"Pakistan\", \"Philippines\", \"Philippines\", \"Philippines\", \"Philippines\", \"Philippines\", \"Poland\", \"Poland\", \"Poland\", \"Poland\", \"Poland\", \"Portugal\", \"Portugal\", \"Portugal\", \"Portugal\", \"Portugal\", \"Romania\", \"Romania\", \"Romania\", \"Romania\", \"Romania\", \"SE America\", \"SE America\", \"SE America\", \"SE America\", \"SE America\", \"SW America\", \"SW America\", \"SW America\", \"SW America\", \"SW America\", \"Saudi Arabia\", \"Saudi Arabia\", \"Saudi Arabia\", \"Saudi Arabia\", \"Saudi Arabia\", \"Singapore\", \"Singapore\", \"Singapore\", \"Singapore\", \"Singapore\", \"Slovenia\", \"Slovenia\", \"Slovenia\", \"Slovenia\", \"Slovenia\", \"Solomon Islands\", \"Solomon Islands\", \"Solomon Islands\", \"Solomon Islands\", \"Solomon Islands\", \"South America\", \"South America\", \"South America\", \"South America\", \"South America\", \"South East Asia\", \"South East Asia\", \"South East Asia\", \"South East Asia\", \"South East Asia\", \"South Korea\", \"South Korea\", \"South Korea\", \"South Korea\", \"South Korea\", \"Spain\", \"Spain\", \"Spain\", \"Spain\", \"Spain\", \"Sweden\", \"Sweden\", \"Sweden\", \"Sweden\", \"Sweden\", \"Switzerland\", \"Switzerland\", \"Switzerland\", \"Switzerland\", \"Switzerland\", \"Taiwan\", \"Taiwan\", \"Taiwan\", \"Taiwan\", \"Taiwan\", \"Thailand\", \"Thailand\", \"Thailand\", \"Thailand\", \"Thailand\", \"Tunisia\", \"Tunisia\", \"Tunisia\", \"Tunisia\", \"Tunisia\", \"Turkey\", \"Turkey\", \"Turkey\", \"Turkey\", \"Turkey\", \"UAE (Dubai)\", \"UAE (Dubai)\", \"UAE (Dubai)\", \"UAE (Dubai)\", \"UAE (Dubai)\", \"UAE (Others)\", \"UAE (Others)\", \"UAE (Others)\", \"UAE (Others)\", \"UAE (Others)\", \"Ukraine\", \"Ukraine\", \"Ukraine\", \"Ukraine\", \"Ukraine\", \"United Kingdom\", \"United Kingdom\", \"United Kingdom\", \"United Kingdom\", \"United Kingdom\", \"Vietnam\", \"Vietnam\", \"Vietnam\", \"Vietnam\", \"Vietnam\", \"APAC\", \"Americas\", \"EMEA\", \"Japan\", \"Middle East\", \"world\"], \"marker\": {\"coloraxis\": \"coloraxis\", \"colors\": [null, null, 2.0, null, null, null, null, 2.0, null, null, 1208.0, null, null, null, null, null, null, 145.0, null, null, null, null, 4.0, null, null, null, null, 285.0, null, null, null, null, 4.0, null, null, null, null, 5.0, null, null, 1.0, null, null, null, null, 4.0, null, null, null, null, null, 74.0, null, null, null, null, 31.000000000000004, null, null, null, null, null, 9.0, null, null, null, 254.0, null, null, null, 218.0, null, null, null, null, null, null, 1.0, null, null, null, null, 44.0, null, null, null, null, 1.0, null, null, null, null, 38.0, null, null, null, null, 1.0, null, null, null, null, 8.0, null, null, null, null, 449.0, null, null, null, null, 1.0, null, null, null, null, 1682.0, null, null, null, null, 9.0, null, null, null, null, 28.0, null, null, 809.0000000000001, null, null, null, null, 154.0, null, null, null, null, null, null, 9.0, null, null, null, null, 283.0, null, null, null, null, null, 681.0, null, null, null, 1.0, null, 101.0, null, null, 2.0, null, 11.0, null, null, 7.0, null, null, null, null, 2.0, null, null, null, null, null, null, 2.9999999999999996, null, null, null, null, 2.0, null, null, 70.0, null, null, null, null, 6.0, null, null, 5.0, null, null, null, null, null, null, 6.0, null, null, null, null, 1.0, null, null, null, null, 3.0, null, null, null, 760.0, null, null, null, null, 1568.0, null, null, null, null, null, 533.0, null, null, 38.0, null, null, null, null, null, 571.0, 187.0, 4211.0, 30.0, null, null, 20.0, null, null, null, null, null, null, 4.0, null, null, null, null, 6.0, 109.0, null, null, null, null, null, null, 60.0, null, null, null, null, 66.0, null, null, null, null, 2.0, null, null, null, 483.0, 10.0, null, null, null, 204.00000000000003, 2.0, null, null, null, null, null, null, 6.0, 441.0, null, null, null, null, null, null, 1.0, null, null, 1.0, null, null, null, null, null, null, 9.0, null, null, 2.0, null, null, null, null, 15.0, null, null, null, null, null, null, 268.0, null, null, null, null, 12.0, null, null, null, null, 21.0, null, null, 33.0, null, null, null, null, 173.0, null, null, null, null, null, null, 5.0, null, null, null, null, 29.0, null, null, null, null, 12.0, null, 19.0, null, null, null, null, 2.0, null, null, 5.0, null, null, null, null, 313.0, null, null, 51.0, null, null, null, null, 918.7468515426681, 842.5434396258795, 636.1490464808302, 2726.2025248376917, 50.53068526362415, 831.4279561676445]}, \"name\": \"\", \"parents\": [\"world/APAC\", \"world/Americas\", \"world/EMEA\", \"world/Japan\", \"world/Middle East\", \"world/APAC\", \"world/Americas\", \"world/EMEA\", \"world/Japan\", \"world/Middle East\", \"world/APAC\", \"world/Americas\", \"world/EMEA\", \"world/Japan\", \"world/Middle East\", \"world/APAC\", \"world/Americas\", \"world/EMEA\", \"world/Japan\", \"world/Middle East\", \"world/APAC\", \"world/Americas\", \"world/EMEA\", \"world/Japan\", \"world/Middle East\", \"world/APAC\", \"world/Americas\", \"world/EMEA\", \"world/Japan\", \"world/Middle East\", \"world/APAC\", \"world/Americas\", \"world/EMEA\", \"world/Japan\", \"world/Middle East\", \"world/APAC\", \"world/Americas\", \"world/EMEA\", \"world/Japan\", \"world/Middle East\", \"world/APAC\", \"world/Americas\", \"world/EMEA\", \"world/Japan\", \"world/Middle East\", \"world/APAC\", \"world/Americas\", \"world/EMEA\", \"world/Japan\", \"world/Middle East\", \"world/APAC\", \"world/Americas\", \"world/EMEA\", \"world/Japan\", \"world/Middle East\", \"world/APAC\", \"world/Americas\", \"world/EMEA\", \"world/Japan\", \"world/Middle East\", \"world/APAC\", \"world/Americas\", \"world/EMEA\", \"world/Japan\", \"world/Middle East\", \"world/APAC\", \"world/Americas\", \"world/EMEA\", \"world/Japan\", \"world/Middle East\", \"world/APAC\", \"world/Americas\", \"world/EMEA\", \"world/Japan\", \"world/Middle East\", \"world/APAC\", \"world/Americas\", \"world/EMEA\", \"world/Japan\", \"world/Middle East\", \"world/APAC\", \"world/Americas\", \"world/EMEA\", \"world/Japan\", \"world/Middle East\", \"world/APAC\", \"world/Americas\", \"world/EMEA\", \"world/Japan\", \"world/Middle East\", \"world/APAC\", \"world/Americas\", \"world/EMEA\", \"world/Japan\", \"world/Middle East\", \"world/APAC\", \"world/Americas\", \"world/EMEA\", \"world/Japan\", \"world/Middle East\", \"world/APAC\", \"world/Americas\", \"world/EMEA\", \"world/Japan\", \"world/Middle East\", \"world/APAC\", \"world/Americas\", \"world/EMEA\", \"world/Japan\", \"world/Middle East\", \"world/APAC\", \"world/Americas\", \"world/EMEA\", \"world/Japan\", \"world/Middle East\", \"world/APAC\", \"world/Americas\", \"world/EMEA\", \"world/Japan\", \"world/Middle East\", \"world/APAC\", \"world/Americas\", \"world/EMEA\", \"world/Japan\", \"world/Middle East\", \"world/APAC\", \"world/Americas\", \"world/EMEA\", \"world/Japan\", \"world/Middle East\", \"world/APAC\", \"world/Americas\", \"world/EMEA\", \"world/Japan\", \"world/Middle East\", \"world/APAC\", \"world/Americas\", \"world/EMEA\", \"world/Japan\", \"world/Middle East\", \"world/APAC\", \"world/Americas\", \"world/EMEA\", \"world/Japan\", \"world/Middle East\", \"world/APAC\", \"world/Americas\", \"world/EMEA\", \"world/Japan\", \"world/Middle East\", \"world/APAC\", \"world/Americas\", \"world/EMEA\", \"world/Japan\", \"world/Middle East\", \"world/APAC\", \"world/Americas\", \"world/EMEA\", \"world/Japan\", \"world/Middle East\", \"world/APAC\", \"world/Americas\", \"world/EMEA\", \"world/Japan\", \"world/Middle East\", \"world/APAC\", \"world/Americas\", \"world/EMEA\", \"world/Japan\", \"world/Middle East\", \"world/APAC\", \"world/Americas\", \"world/EMEA\", \"world/Japan\", \"world/Middle East\", \"world/APAC\", \"world/Americas\", \"world/EMEA\", \"world/Japan\", \"world/Middle East\", \"world/APAC\", \"world/Americas\", \"world/EMEA\", \"world/Japan\", \"world/Middle East\", \"world/APAC\", \"world/Americas\", \"world/EMEA\", \"world/Japan\", \"world/Middle East\", \"world/APAC\", \"world/Americas\", \"world/EMEA\", \"world/Japan\", \"world/Middle East\", \"world/APAC\", \"world/Americas\", \"world/EMEA\", \"world/Japan\", \"world/Middle East\", \"world/APAC\", \"world/Americas\", \"world/EMEA\", \"world/Japan\", \"world/Middle East\", \"world/APAC\", \"world/Americas\", \"world/EMEA\", \"world/Japan\", \"world/Middle East\", \"world/APAC\", \"world/Americas\", \"world/EMEA\", \"world/Japan\", \"world/Middle East\", \"world/APAC\", \"world/Americas\", \"world/EMEA\", \"world/Japan\", \"world/Middle East\", \"world/APAC\", \"world/Americas\", \"world/EMEA\", \"world/Japan\", \"world/Middle East\", \"world/APAC\", \"world/Americas\", \"world/EMEA\", \"world/Japan\", \"world/Middle East\", \"world/APAC\", \"world/Americas\", \"world/EMEA\", \"world/Japan\", \"world/Middle East\", \"world/APAC\", \"world/Americas\", \"world/EMEA\", \"world/Japan\", \"world/Middle East\", \"world/APAC\", \"world/Americas\", \"world/EMEA\", \"world/Japan\", \"world/Middle East\", \"world/APAC\", \"world/Americas\", \"world/EMEA\", \"world/Japan\", \"world/Middle East\", \"world/APAC\", \"world/Americas\", \"world/EMEA\", \"world/Japan\", \"world/Middle East\", \"world/APAC\", \"world/Americas\", \"world/EMEA\", \"world/Japan\", \"world/Middle East\", \"world/APAC\", \"world/Americas\", \"world/EMEA\", \"world/Japan\", \"world/Middle East\", \"world/APAC\", \"world/Americas\", \"world/EMEA\", \"world/Japan\", \"world/Middle East\", \"world/APAC\", \"world/Americas\", \"world/EMEA\", \"world/Japan\", \"world/Middle East\", \"world/APAC\", \"world/Americas\", \"world/EMEA\", \"world/Japan\", \"world/Middle East\", \"world/APAC\", \"world/Americas\", \"world/EMEA\", \"world/Japan\", \"world/Middle East\", \"world/APAC\", \"world/Americas\", \"world/EMEA\", \"world/Japan\", \"world/Middle East\", \"world/APAC\", \"world/Americas\", \"world/EMEA\", \"world/Japan\", \"world/Middle East\", \"world/APAC\", \"world/Americas\", \"world/EMEA\", \"world/Japan\", \"world/Middle East\", \"world/APAC\", \"world/Americas\", \"world/EMEA\", \"world/Japan\", \"world/Middle East\", \"world/APAC\", \"world/Americas\", \"world/EMEA\", \"world/Japan\", \"world/Middle East\", \"world/APAC\", \"world/Americas\", \"world/EMEA\", \"world/Japan\", \"world/Middle East\", \"world/APAC\", \"world/Americas\", \"world/EMEA\", \"world/Japan\", \"world/Middle East\", \"world/APAC\", \"world/Americas\", \"world/EMEA\", \"world/Japan\", \"world/Middle East\", \"world/APAC\", \"world/Americas\", \"world/EMEA\", \"world/Japan\", \"world/Middle East\", \"world/APAC\", \"world/Americas\", \"world/EMEA\", \"world/Japan\", \"world/Middle East\", \"world/APAC\", \"world/Americas\", \"world/EMEA\", \"world/Japan\", \"world/Middle East\", \"world/APAC\", \"world/Americas\", \"world/EMEA\", \"world/Japan\", \"world/Middle East\", \"world/APAC\", \"world/Americas\", \"world/EMEA\", \"world/Japan\", \"world/Middle East\", \"world/APAC\", \"world/Americas\", \"world/EMEA\", \"world/Japan\", \"world/Middle East\", \"world/APAC\", \"world/Americas\", \"world/EMEA\", \"world/Japan\", \"world/Middle East\", \"world/APAC\", \"world/Americas\", \"world/EMEA\", \"world/Japan\", \"world/Middle East\", \"world/APAC\", \"world/Americas\", \"world/EMEA\", \"world/Japan\", \"world/Middle East\", \"world/APAC\", \"world/Americas\", \"world/EMEA\", \"world/Japan\", \"world/Middle East\", \"world/APAC\", \"world/Americas\", \"world/EMEA\", \"world/Japan\", \"world/Middle East\", \"world\", \"world\", \"world\", \"world\", \"world\", \"\"], \"type\": \"treemap\", \"values\": [null, null, 4742030.898, null, null, null, null, 20395113.182400003, null, null, 2410150902.362137, null, null, null, null, null, null, 21006410.92998, null, null, null, null, 20176612.716000002, null, null, null, null, 99447920.37016197, null, null, null, null, 294572.8566480001, null, null, null, null, 1309883.8553219999, null, null, 28421.25, null, null, null, null, 2387920.5, null, null, null, null, null, 45324011.050000004, null, null, null, null, 25678685.05, null, null, null, null, null, 28354241.9615, null, null, null, 227041308.95, null, null, null, 15120444.089999998, null, null, null, null, null, null, 2372838.6528000003, null, null, null, null, 5193185.071343333, null, null, null, null, 108802.2, null, null, null, null, 63909392.38967702, null, null, null, null, 9375.0, null, null, null, null, 1640998.5920350004, null, null, null, null, 483255121.14818907, null, null, null, null, 95529.15, null, null, null, null, 1375354129.4455154, null, null, null, null, 1595224.7818099996, null, null, null, null, 52880798.30104401, null, null, 789508757.9499997, null, null, null, null, 142313914.82999998, null, null, null, null, null, null, 3976591.9312509997, null, null, null, null, 82080941.06270503, null, null, null, null, null, 164903725.61142436, null, null, null, 14850123.75, null, 113499325.13000001, null, null, 131439.0, null, 85797149.85, null, null, 171175320.25, null, null, null, null, 3413920.0831400002, null, null, null, null, null, null, 945877.2, null, null, null, null, 1968390.0, null, null, 7137140.780514003, null, null, null, null, 745519.9632, null, null, 29318206.66, null, null, null, null, null, null, 419388.36303999997, null, null, null, null, 121248.85500000001, null, null, null, null, 3586704.716, null, null, null, 1637582829.61, null, null, null, null, 2161057492.830001, null, null, null, null, null, 361985046.3687522, null, null, 1557911.3000000003, null, null, null, null, null, 1077340604.2800002, 517595202.973462, 227143109.8296822, 85839155.95, null, null, 8002400.974374999, null, null, null, null, null, null, 1564905.6, null, null, null, null, 910314.0, 126326412.08000001, null, null, null, null, null, null, 68523539.920719, null, null, null, null, 62580774.99486501, null, null, null, null, 73781841.09600002, null, null, null, 1820096288.2099998, 237676551.85799998, null, null, null, 464082209.29999995, 21194700.0, null, null, null, null, null, null, 1054008.0999999999, 64086895.67999999, null, null, null, null, null, null, 649246.8262499999, null, null, 8467149.6, null, null, null, null, null, null, 57025560.986, null, null, 890869.705, null, null, null, null, 10837912.0, null, null, null, null, null, null, 153329165.12998903, null, null, null, null, 5120680.70865, null, null, null, null, 52610546.334602006, null, null, 61119374.15, null, null, null, null, 92936072.07000002, null, null, null, null, null, null, 20915471.97385, null, null, null, null, 135024637.407252, null, null, null, null, 172657651.25, null, 7513674.7, null, null, null, null, 753972.1, null, null, 17330606.2869, null, null, null, null, 368585318.6384455, null, null, 214303294.96, null, null, null, null, 3969354459.1871367, 7458203429.280001, 4804369463.985388, 392046835.44110656, 299846772.63000005, 16923820960.523628]}],\n",
       "                        {\"coloraxis\": {\"colorbar\": {\"title\": {\"text\": \"Cantidad de Oportunidades\"}}, \"colorscale\": [[0.0, \"rgb(247,251,255)\"], [0.125, \"rgb(222,235,247)\"], [0.25, \"rgb(198,219,239)\"], [0.375, \"rgb(158,202,225)\"], [0.5, \"rgb(107,174,214)\"], [0.625, \"rgb(66,146,198)\"], [0.75, \"rgb(33,113,181)\"], [0.875, \"rgb(8,81,156)\"], [1.0, \"rgb(8,48,107)\"]]}, \"height\": 900, \"legend\": {\"tracegroupgap\": 0}, \"margin\": {\"t\": 60}, \"template\": {\"data\": {\"bar\": [{\"error_x\": {\"color\": \"#2a3f5f\"}, \"error_y\": {\"color\": \"#2a3f5f\"}, \"marker\": {\"line\": {\"color\": \"#E5ECF6\", \"width\": 0.5}}, \"type\": \"bar\"}], \"barpolar\": [{\"marker\": {\"line\": {\"color\": \"#E5ECF6\", \"width\": 0.5}}, \"type\": \"barpolar\"}], \"carpet\": [{\"aaxis\": {\"endlinecolor\": \"#2a3f5f\", \"gridcolor\": \"white\", \"linecolor\": \"white\", \"minorgridcolor\": \"white\", \"startlinecolor\": \"#2a3f5f\"}, \"baxis\": {\"endlinecolor\": \"#2a3f5f\", \"gridcolor\": \"white\", \"linecolor\": \"white\", \"minorgridcolor\": \"white\", \"startlinecolor\": \"#2a3f5f\"}, \"type\": \"carpet\"}], \"choropleth\": [{\"colorbar\": {\"outlinewidth\": 0, \"ticks\": \"\"}, \"type\": \"choropleth\"}], \"contour\": [{\"colorbar\": {\"outlinewidth\": 0, \"ticks\": \"\"}, \"colorscale\": [[0.0, \"#0d0887\"], [0.1111111111111111, \"#46039f\"], [0.2222222222222222, \"#7201a8\"], [0.3333333333333333, \"#9c179e\"], [0.4444444444444444, \"#bd3786\"], [0.5555555555555556, \"#d8576b\"], [0.6666666666666666, \"#ed7953\"], [0.7777777777777778, \"#fb9f3a\"], [0.8888888888888888, \"#fdca26\"], [1.0, \"#f0f921\"]], \"type\": \"contour\"}], \"contourcarpet\": [{\"colorbar\": {\"outlinewidth\": 0, \"ticks\": \"\"}, \"type\": \"contourcarpet\"}], \"heatmap\": [{\"colorbar\": {\"outlinewidth\": 0, \"ticks\": \"\"}, \"colorscale\": [[0.0, \"#0d0887\"], [0.1111111111111111, \"#46039f\"], [0.2222222222222222, \"#7201a8\"], [0.3333333333333333, \"#9c179e\"], [0.4444444444444444, \"#bd3786\"], [0.5555555555555556, \"#d8576b\"], [0.6666666666666666, \"#ed7953\"], [0.7777777777777778, \"#fb9f3a\"], [0.8888888888888888, \"#fdca26\"], [1.0, \"#f0f921\"]], \"type\": \"heatmap\"}], \"heatmapgl\": [{\"colorbar\": {\"outlinewidth\": 0, \"ticks\": \"\"}, \"colorscale\": [[0.0, \"#0d0887\"], [0.1111111111111111, \"#46039f\"], [0.2222222222222222, \"#7201a8\"], [0.3333333333333333, \"#9c179e\"], [0.4444444444444444, \"#bd3786\"], [0.5555555555555556, \"#d8576b\"], [0.6666666666666666, \"#ed7953\"], [0.7777777777777778, \"#fb9f3a\"], [0.8888888888888888, \"#fdca26\"], [1.0, \"#f0f921\"]], \"type\": \"heatmapgl\"}], \"histogram\": [{\"marker\": {\"colorbar\": {\"outlinewidth\": 0, \"ticks\": \"\"}}, \"type\": \"histogram\"}], \"histogram2d\": [{\"colorbar\": {\"outlinewidth\": 0, \"ticks\": \"\"}, \"colorscale\": [[0.0, \"#0d0887\"], [0.1111111111111111, \"#46039f\"], [0.2222222222222222, \"#7201a8\"], [0.3333333333333333, \"#9c179e\"], [0.4444444444444444, \"#bd3786\"], [0.5555555555555556, \"#d8576b\"], [0.6666666666666666, \"#ed7953\"], [0.7777777777777778, \"#fb9f3a\"], [0.8888888888888888, \"#fdca26\"], [1.0, \"#f0f921\"]], \"type\": \"histogram2d\"}], \"histogram2dcontour\": [{\"colorbar\": {\"outlinewidth\": 0, \"ticks\": \"\"}, \"colorscale\": [[0.0, \"#0d0887\"], [0.1111111111111111, \"#46039f\"], [0.2222222222222222, \"#7201a8\"], [0.3333333333333333, \"#9c179e\"], [0.4444444444444444, \"#bd3786\"], [0.5555555555555556, \"#d8576b\"], [0.6666666666666666, \"#ed7953\"], [0.7777777777777778, \"#fb9f3a\"], [0.8888888888888888, \"#fdca26\"], [1.0, \"#f0f921\"]], \"type\": \"histogram2dcontour\"}], \"mesh3d\": [{\"colorbar\": {\"outlinewidth\": 0, \"ticks\": \"\"}, \"type\": \"mesh3d\"}], \"parcoords\": [{\"line\": {\"colorbar\": {\"outlinewidth\": 0, \"ticks\": \"\"}}, \"type\": \"parcoords\"}], \"pie\": [{\"automargin\": true, \"type\": \"pie\"}], \"scatter\": [{\"marker\": {\"colorbar\": {\"outlinewidth\": 0, \"ticks\": \"\"}}, \"type\": \"scatter\"}], \"scatter3d\": [{\"line\": {\"colorbar\": {\"outlinewidth\": 0, \"ticks\": \"\"}}, \"marker\": {\"colorbar\": {\"outlinewidth\": 0, \"ticks\": \"\"}}, \"type\": \"scatter3d\"}], \"scattercarpet\": [{\"marker\": {\"colorbar\": {\"outlinewidth\": 0, \"ticks\": \"\"}}, \"type\": \"scattercarpet\"}], \"scattergeo\": [{\"marker\": {\"colorbar\": {\"outlinewidth\": 0, \"ticks\": \"\"}}, \"type\": \"scattergeo\"}], \"scattergl\": [{\"marker\": {\"colorbar\": {\"outlinewidth\": 0, \"ticks\": \"\"}}, \"type\": \"scattergl\"}], \"scattermapbox\": [{\"marker\": {\"colorbar\": {\"outlinewidth\": 0, \"ticks\": \"\"}}, \"type\": \"scattermapbox\"}], \"scatterpolar\": [{\"marker\": {\"colorbar\": {\"outlinewidth\": 0, \"ticks\": \"\"}}, \"type\": \"scatterpolar\"}], \"scatterpolargl\": [{\"marker\": {\"colorbar\": {\"outlinewidth\": 0, \"ticks\": \"\"}}, \"type\": \"scatterpolargl\"}], \"scatterternary\": [{\"marker\": {\"colorbar\": {\"outlinewidth\": 0, \"ticks\": \"\"}}, \"type\": \"scatterternary\"}], \"surface\": [{\"colorbar\": {\"outlinewidth\": 0, \"ticks\": \"\"}, \"colorscale\": [[0.0, \"#0d0887\"], [0.1111111111111111, \"#46039f\"], [0.2222222222222222, \"#7201a8\"], [0.3333333333333333, \"#9c179e\"], [0.4444444444444444, \"#bd3786\"], [0.5555555555555556, \"#d8576b\"], [0.6666666666666666, \"#ed7953\"], [0.7777777777777778, \"#fb9f3a\"], [0.8888888888888888, \"#fdca26\"], [1.0, \"#f0f921\"]], \"type\": \"surface\"}], \"table\": [{\"cells\": {\"fill\": {\"color\": \"#EBF0F8\"}, \"line\": {\"color\": \"white\"}}, \"header\": {\"fill\": {\"color\": \"#C8D4E3\"}, \"line\": {\"color\": \"white\"}}, \"type\": \"table\"}]}, \"layout\": {\"annotationdefaults\": {\"arrowcolor\": \"#2a3f5f\", \"arrowhead\": 0, \"arrowwidth\": 1}, \"coloraxis\": {\"colorbar\": {\"outlinewidth\": 0, \"ticks\": \"\"}}, \"colorscale\": {\"diverging\": [[0, \"#8e0152\"], [0.1, \"#c51b7d\"], [0.2, \"#de77ae\"], [0.3, \"#f1b6da\"], [0.4, \"#fde0ef\"], [0.5, \"#f7f7f7\"], [0.6, \"#e6f5d0\"], [0.7, \"#b8e186\"], [0.8, \"#7fbc41\"], [0.9, \"#4d9221\"], [1, \"#276419\"]], \"sequential\": [[0.0, \"#0d0887\"], [0.1111111111111111, \"#46039f\"], [0.2222222222222222, \"#7201a8\"], [0.3333333333333333, \"#9c179e\"], [0.4444444444444444, \"#bd3786\"], [0.5555555555555556, \"#d8576b\"], [0.6666666666666666, \"#ed7953\"], [0.7777777777777778, \"#fb9f3a\"], [0.8888888888888888, \"#fdca26\"], [1.0, \"#f0f921\"]], \"sequentialminus\": [[0.0, \"#0d0887\"], [0.1111111111111111, \"#46039f\"], [0.2222222222222222, \"#7201a8\"], [0.3333333333333333, \"#9c179e\"], [0.4444444444444444, \"#bd3786\"], [0.5555555555555556, \"#d8576b\"], [0.6666666666666666, \"#ed7953\"], [0.7777777777777778, \"#fb9f3a\"], [0.8888888888888888, \"#fdca26\"], [1.0, \"#f0f921\"]]}, \"colorway\": [\"#636efa\", \"#EF553B\", \"#00cc96\", \"#ab63fa\", \"#FFA15A\", \"#19d3f3\", \"#FF6692\", \"#B6E880\", \"#FF97FF\", \"#FECB52\"], \"font\": {\"color\": \"#2a3f5f\"}, \"geo\": {\"bgcolor\": \"white\", \"lakecolor\": \"white\", \"landcolor\": \"#E5ECF6\", \"showlakes\": true, \"showland\": true, \"subunitcolor\": \"white\"}, \"hoverlabel\": {\"align\": \"left\"}, \"hovermode\": \"closest\", \"mapbox\": {\"style\": \"light\"}, \"paper_bgcolor\": \"white\", \"plot_bgcolor\": \"#E5ECF6\", \"polar\": {\"angularaxis\": {\"gridcolor\": \"white\", \"linecolor\": \"white\", \"ticks\": \"\"}, \"bgcolor\": \"#E5ECF6\", \"radialaxis\": {\"gridcolor\": \"white\", \"linecolor\": \"white\", \"ticks\": \"\"}}, \"scene\": {\"xaxis\": {\"backgroundcolor\": \"#E5ECF6\", \"gridcolor\": \"white\", \"gridwidth\": 2, \"linecolor\": \"white\", \"showbackground\": true, \"ticks\": \"\", \"zerolinecolor\": \"white\"}, \"yaxis\": {\"backgroundcolor\": \"#E5ECF6\", \"gridcolor\": \"white\", \"gridwidth\": 2, \"linecolor\": \"white\", \"showbackground\": true, \"ticks\": \"\", \"zerolinecolor\": \"white\"}, \"zaxis\": {\"backgroundcolor\": \"#E5ECF6\", \"gridcolor\": \"white\", \"gridwidth\": 2, \"linecolor\": \"white\", \"showbackground\": true, \"ticks\": \"\", \"zerolinecolor\": \"white\"}}, \"shapedefaults\": {\"line\": {\"color\": \"#2a3f5f\"}}, \"ternary\": {\"aaxis\": {\"gridcolor\": \"white\", \"linecolor\": \"white\", \"ticks\": \"\"}, \"baxis\": {\"gridcolor\": \"white\", \"linecolor\": \"white\", \"ticks\": \"\"}, \"bgcolor\": \"#E5ECF6\", \"caxis\": {\"gridcolor\": \"white\", \"linecolor\": \"white\", \"ticks\": \"\"}}, \"title\": {\"x\": 0.05}, \"xaxis\": {\"automargin\": true, \"gridcolor\": \"white\", \"linecolor\": \"white\", \"ticks\": \"\", \"title\": {\"standoff\": 15}, \"zerolinecolor\": \"white\", \"zerolinewidth\": 2}, \"yaxis\": {\"automargin\": true, \"gridcolor\": \"white\", \"linecolor\": \"white\", \"ticks\": \"\", \"title\": {\"standoff\": 15}, \"zerolinecolor\": \"white\", \"zerolinewidth\": 2}}}, \"width\": 1800},\n",
       "                        {\"responsive\": true}\n",
       "                    ).then(function(){\n",
       "                            \n",
       "var gd = document.getElementById('6778fb75-0b7b-4e07-aa2a-be18c8cd8bb6');\n",
       "var x = new MutationObserver(function (mutations, observer) {{\n",
       "        var display = window.getComputedStyle(gd).display;\n",
       "        if (!display || display === 'none') {{\n",
       "            console.log([gd, 'removed!']);\n",
       "            Plotly.purge(gd);\n",
       "            observer.disconnect();\n",
       "        }}\n",
       "}});\n",
       "\n",
       "// Listen for the removal of the full notebook cells\n",
       "var notebookContainer = gd.closest('#notebook-container');\n",
       "if (notebookContainer) {{\n",
       "    x.observe(notebookContainer, {childList: true});\n",
       "}}\n",
       "\n",
       "// Listen for the clearing of the current output cell\n",
       "var outputEl = gd.closest('.output');\n",
       "if (outputEl) {{\n",
       "    x.observe(outputEl, {childList: true});\n",
       "}}\n",
       "\n",
       "                        })\n",
       "                };\n",
       "                });\n",
       "            </script>\n",
       "        </div>"
      ]
     },
     "metadata": {},
     "output_type": "display_data"
    }
   ],
   "source": [
    "px.treemap(df_tree, path=[px.Constant('world'), 'Region', 'Territory'], values='Total_Amount_(converted)',\n",
    "                  color='Cantidad de Oportunidades', color_continuous_scale='Blues', width=1800, height=900)"
   ]
  },
  {
   "cell_type": "code",
   "execution_count": 100,
   "metadata": {},
   "outputs": [],
   "source": [
    "df_product = df.groupby(['Stage', 'Product_Type', 'Total_Taxable_Amount_(converted)']).agg({'Opportunity_ID':pd.Series.nunique}).reset_index().dropna()"
   ]
  },
  {
   "cell_type": "code",
   "execution_count": 101,
   "metadata": {},
   "outputs": [
    {
     "data": {
      "text/html": [
       "<div>\n",
       "<style scoped>\n",
       "    .dataframe tbody tr th:only-of-type {\n",
       "        vertical-align: middle;\n",
       "    }\n",
       "\n",
       "    .dataframe tbody tr th {\n",
       "        vertical-align: top;\n",
       "    }\n",
       "\n",
       "    .dataframe thead th {\n",
       "        text-align: right;\n",
       "    }\n",
       "</style>\n",
       "<table border=\"1\" class=\"dataframe\">\n",
       "  <thead>\n",
       "    <tr style=\"text-align: right;\">\n",
       "      <th></th>\n",
       "      <th>Stage</th>\n",
       "      <th>Product_Type</th>\n",
       "      <th>Total_Taxable_Amount_(converted)</th>\n",
       "      <th>Opportunity_ID</th>\n",
       "    </tr>\n",
       "  </thead>\n",
       "  <tbody>\n",
       "    <tr>\n",
       "      <th>0</th>\n",
       "      <td>Closed Lost</td>\n",
       "      <td>None</td>\n",
       "      <td>0.000000e+00</td>\n",
       "      <td>522.0</td>\n",
       "    </tr>\n",
       "    <tr>\n",
       "      <th>5</th>\n",
       "      <td>Closed Lost</td>\n",
       "      <td>None</td>\n",
       "      <td>4.500000e+01</td>\n",
       "      <td>1.0</td>\n",
       "    </tr>\n",
       "    <tr>\n",
       "      <th>43</th>\n",
       "      <td>Closed Lost</td>\n",
       "      <td>None</td>\n",
       "      <td>1.534351e+02</td>\n",
       "      <td>1.0</td>\n",
       "    </tr>\n",
       "    <tr>\n",
       "      <th>51</th>\n",
       "      <td>Closed Lost</td>\n",
       "      <td>None</td>\n",
       "      <td>1.917728e+02</td>\n",
       "      <td>1.0</td>\n",
       "    </tr>\n",
       "    <tr>\n",
       "      <th>104</th>\n",
       "      <td>Closed Lost</td>\n",
       "      <td>None</td>\n",
       "      <td>4.716028e+02</td>\n",
       "      <td>1.0</td>\n",
       "    </tr>\n",
       "    <tr>\n",
       "      <th>...</th>\n",
       "      <td>...</td>\n",
       "      <td>...</td>\n",
       "      <td>...</td>\n",
       "      <td>...</td>\n",
       "    </tr>\n",
       "    <tr>\n",
       "      <th>220684</th>\n",
       "      <td>Qualification</td>\n",
       "      <td>None</td>\n",
       "      <td>1.442662e+05</td>\n",
       "      <td>1.0</td>\n",
       "    </tr>\n",
       "    <tr>\n",
       "      <th>221373</th>\n",
       "      <td>Qualification</td>\n",
       "      <td>None</td>\n",
       "      <td>2.196867e+05</td>\n",
       "      <td>1.0</td>\n",
       "    </tr>\n",
       "    <tr>\n",
       "      <th>221806</th>\n",
       "      <td>Qualification</td>\n",
       "      <td>None</td>\n",
       "      <td>2.947560e+05</td>\n",
       "      <td>1.0</td>\n",
       "    </tr>\n",
       "    <tr>\n",
       "      <th>223890</th>\n",
       "      <td>Qualification</td>\n",
       "      <td>None</td>\n",
       "      <td>3.000165e+06</td>\n",
       "      <td>1.0</td>\n",
       "    </tr>\n",
       "    <tr>\n",
       "      <th>224152</th>\n",
       "      <td>Qualification</td>\n",
       "      <td>None</td>\n",
       "      <td>5.821904e+06</td>\n",
       "      <td>1.0</td>\n",
       "    </tr>\n",
       "  </tbody>\n",
       "</table>\n",
       "<p>7978 rows × 4 columns</p>\n",
       "</div>"
      ],
      "text/plain": [
       "                Stage Product_Type  Total_Taxable_Amount_(converted)  \\\n",
       "0         Closed Lost         None                      0.000000e+00   \n",
       "5         Closed Lost         None                      4.500000e+01   \n",
       "43        Closed Lost         None                      1.534351e+02   \n",
       "51        Closed Lost         None                      1.917728e+02   \n",
       "104       Closed Lost         None                      4.716028e+02   \n",
       "...               ...          ...                               ...   \n",
       "220684  Qualification         None                      1.442662e+05   \n",
       "221373  Qualification         None                      2.196867e+05   \n",
       "221806  Qualification         None                      2.947560e+05   \n",
       "223890  Qualification         None                      3.000165e+06   \n",
       "224152  Qualification         None                      5.821904e+06   \n",
       "\n",
       "        Opportunity_ID  \n",
       "0                522.0  \n",
       "5                  1.0  \n",
       "43                 1.0  \n",
       "51                 1.0  \n",
       "104                1.0  \n",
       "...                ...  \n",
       "220684             1.0  \n",
       "221373             1.0  \n",
       "221806             1.0  \n",
       "223890             1.0  \n",
       "224152             1.0  \n",
       "\n",
       "[7978 rows x 4 columns]"
      ]
     },
     "execution_count": 101,
     "metadata": {},
     "output_type": "execute_result"
    }
   ],
   "source": [
    "df_product"
   ]
  },
  {
   "cell_type": "code",
   "execution_count": 324,
   "metadata": {},
   "outputs": [
    {
     "data": {
      "text/plain": [
       "<AxesSubplot:xlabel='Stage', ylabel='Total_Taxable_Amount_(converted)'>"
      ]
     },
     "execution_count": 324,
     "metadata": {},
     "output_type": "execute_result"
    },
    {
     "data": {
      "image/png": "[encoded data removed]",
      "text/plain": [
       "<Figure size 1152x576 with 1 Axes>"
      ]
     },
     "metadata": {
      "needs_background": "light"
     },
     "output_type": "display_data"
    }
   ],
   "source": [
    "plt.figure(figsize=(16,8))\n",
    "plt.yscale('log')\n",
    "plt.ylim(1, 10e8)\n",
    "sns.stripplot(df_product.Stage, df_product[\"Total_Taxable_Amount_(converted)\"], jitter=0.3, size=2)\n"
   ]
  },
  {
   "cell_type": "code",
   "execution_count": 105,
   "metadata": {},
   "outputs": [],
   "source": [
    "df_wonlost= df[(df['Stage']== 'Closed Won') | (df['Stage']== 'Closed Lost')]"
   ]
  },
  {
   "cell_type": "code",
   "execution_count": 232,
   "metadata": {},
   "outputs": [],
   "source": [
    "df_wonlost_regionID = df_wonlost.groupby(['Stage', 'Region', 'Opportunity_ID']).agg({'Total_Amount_(converted)':'sum'}).reset_index().dropna()"
   ]
  },
  {
   "cell_type": "code",
   "execution_count": 233,
   "metadata": {},
   "outputs": [],
   "source": [
    "df_wonlost_regionID.Stage.cat.remove_unused_categories(inplace = True)"
   ]
  },
  {
   "cell_type": "code",
   "execution_count": 325,
   "metadata": {},
   "outputs": [],
   "source": [
    "df_wonlost_regionID = df_wonlost_regionID[df_wonlost_regionID['Total_Amount_(converted)'] >10]"
   ]
  },
  {
   "cell_type": "code",
   "execution_count": 326,
   "metadata": {},
   "outputs": [
    {
     "data": {
      "text/plain": [
       "40.13759213759214"
      ]
     },
     "execution_count": 326,
     "metadata": {},
     "output_type": "execute_result"
    }
   ],
   "source": [
    "df_wonlost_regionID['Total_Amount_(converted)'].min()"
   ]
  },
  {
   "cell_type": "code",
   "execution_count": 327,
   "metadata": {},
   "outputs": [
    {
     "data": {
      "text/plain": [
       "<AxesSubplot:xlabel='Region', ylabel='Total_Amount_(converted)'>"
      ]
     },
     "execution_count": 327,
     "metadata": {},
     "output_type": "execute_result"
    },
    {
     "data": {
      "image/png": "[encoded data removed]",
      "text/plain": [
       "<Figure size 1152x576 with 1 Axes>"
      ]
     },
     "metadata": {
      "needs_background": "light"
     },
     "output_type": "display_data"
    }
   ],
   "source": [
    "plt.figure(figsize=(16,8))\n",
    "plt.yscale('log')\n",
    "plt.ylim(1, 10e8)\n",
    "sns.violinplot(data=df_wonlost_regionID, x='Region', y='Total_Amount_(converted)', hue='Stage',\n",
    "               split=True, inner=\"quart\", linewidth=1,\n",
    "               palette={\"Closed Won\": \"springgreen\", 'Closed Lost': \"lightcoral\"})"
   ]
  },
  {
   "cell_type": "code",
   "execution_count": 182,
   "metadata": {},
   "outputs": [
    {
     "data": {
      "text/plain": [
       "ID                                                   4854\n",
       "Pricing, Delivery_Terms_Quote_Appr                  False\n",
       "Pricing, Delivery_Terms_Approved                    False\n",
       "Bureaucratic_Code_0_Approval                        False\n",
       "Bureaucratic_Code_0_Approved                        False\n",
       "Submitted_for_Approval                              False\n",
       "Account_Created_Date                  2013-07-27 00:00:00\n",
       "Source                                               None\n",
       "Opportunity_ID                                          0\n",
       "Sales_Contract_No                                       0\n",
       "Opportunity_Created_Date              2013-11-05 00:00:00\n",
       "Price                                                   0\n",
       "Quote_Expiry_Date                     2015-01-09 00:00:00\n",
       "Last_Modified_Date                    2015-07-08 00:00:00\n",
       "ASP                                                     0\n",
       "ASP_(converted)                                         0\n",
       "Planned_Delivery_Start_Date           2016-01-01 00:00:00\n",
       "Planned_Delivery_End_Date             2016-01-05 00:00:00\n",
       "Month                                 2016-01-01 00:00:00\n",
       "Delivery_Year                                        2016\n",
       "TRF                                                     0\n",
       "Total_Amount                                            0\n",
       "Total_Taxable_Amount                                 0.15\n",
       "Total_Amount_(converted)                                0\n",
       "Total_Taxable_Amount_(converted)                  0.18414\n",
       "delta_oportunidad                         0 days 00:00:00\n",
       "dtype: object"
      ]
     },
     "execution_count": 182,
     "metadata": {},
     "output_type": "execute_result"
    }
   ],
   "source": [
    "df[df['Total_Taxable_Amount_(converted)']>0].min()"
   ]
  },
  {
   "cell_type": "code",
   "execution_count": 245,
   "metadata": {},
   "outputs": [],
   "source": [
    "df_impuesto = df.groupby(['Territory', 'Opportunity_ID']).agg({'Total_Amount_(converted)':'sum', 'Total_Taxable_Amount_(converted)':'first', 'Stage':'first'}).reset_index().dropna()"
   ]
  },
  {
   "cell_type": "code",
   "execution_count": 246,
   "metadata": {},
   "outputs": [],
   "source": [
    "df_impuesto['Tax']= df_impuesto['Total_Amount_(converted)']==df_impuesto['Total_Taxable_Amount_(converted)']"
   ]
  },
  {
   "cell_type": "code",
   "execution_count": 247,
   "metadata": {},
   "outputs": [],
   "source": [
    "df_impuesto_fil = df_impuesto[df_impuesto['Tax'] == False]"
   ]
  },
  {
   "cell_type": "code",
   "execution_count": 255,
   "metadata": {},
   "outputs": [
    {
     "name": "stderr",
     "output_type": "stream",
     "text": [
      "c:\\python37\\lib\\site-packages\\ipykernel_launcher.py:1: SettingWithCopyWarning:\n",
      "\n",
      "\n",
      "A value is trying to be set on a copy of a slice from a DataFrame.\n",
      "Try using .loc[row_indexer,col_indexer] = value instead\n",
      "\n",
      "See the caveats in the documentation: https://pandas.pydata.org/pandas-docs/stable/user_guide/indexing.html#returning-a-view-versus-a-copy\n",
      "\n"
     ]
    }
   ],
   "source": [
    "df_impuesto_fil['Tasa_impuesto'] = df_impuesto['Total_Taxable_Amount_(converted)']/df_impuesto['Total_Amount_(converted)']"
   ]
  },
  {
   "cell_type": "code",
   "execution_count": 256,
   "metadata": {},
   "outputs": [
    {
     "data": {
      "text/plain": [
       "1460"
      ]
     },
     "execution_count": 256,
     "metadata": {},
     "output_type": "execute_result"
    }
   ],
   "source": [
    "df_impuesto_fil.Tasa_impuesto.count()"
   ]
  },
  {
   "cell_type": "code",
   "execution_count": 257,
   "metadata": {},
   "outputs": [
    {
     "data": {
      "text/html": [
       "<div>\n",
       "<style scoped>\n",
       "    .dataframe tbody tr th:only-of-type {\n",
       "        vertical-align: middle;\n",
       "    }\n",
       "\n",
       "    .dataframe tbody tr th {\n",
       "        vertical-align: top;\n",
       "    }\n",
       "\n",
       "    .dataframe thead th {\n",
       "        text-align: right;\n",
       "    }\n",
       "</style>\n",
       "<table border=\"1\" class=\"dataframe\">\n",
       "  <thead>\n",
       "    <tr style=\"text-align: right;\">\n",
       "      <th></th>\n",
       "      <th>Territory</th>\n",
       "      <th>Opportunity_ID</th>\n",
       "      <th>Total_Amount_(converted)</th>\n",
       "      <th>Total_Taxable_Amount_(converted)</th>\n",
       "      <th>Stage</th>\n",
       "      <th>Tax</th>\n",
       "      <th>Tasa_impuesto</th>\n",
       "    </tr>\n",
       "  </thead>\n",
       "  <tbody>\n",
       "    <tr>\n",
       "      <th>20488</th>\n",
       "      <td>Australia</td>\n",
       "      <td>863</td>\n",
       "      <td>3.800201e+06</td>\n",
       "      <td>3.800201e+06</td>\n",
       "      <td>Closed Lost</td>\n",
       "      <td>False</td>\n",
       "      <td>1.000</td>\n",
       "    </tr>\n",
       "    <tr>\n",
       "      <th>20548</th>\n",
       "      <td>Australia</td>\n",
       "      <td>927</td>\n",
       "      <td>2.069990e+07</td>\n",
       "      <td>2.069990e+07</td>\n",
       "      <td>Closed Lost</td>\n",
       "      <td>False</td>\n",
       "      <td>1.000</td>\n",
       "    </tr>\n",
       "    <tr>\n",
       "      <th>21560</th>\n",
       "      <td>Australia</td>\n",
       "      <td>1964</td>\n",
       "      <td>4.444557e+05</td>\n",
       "      <td>4.444557e+05</td>\n",
       "      <td>Closed Won</td>\n",
       "      <td>False</td>\n",
       "      <td>1.000</td>\n",
       "    </tr>\n",
       "    <tr>\n",
       "      <th>21561</th>\n",
       "      <td>Australia</td>\n",
       "      <td>1965</td>\n",
       "      <td>4.444557e+05</td>\n",
       "      <td>4.444557e+05</td>\n",
       "      <td>Closed Won</td>\n",
       "      <td>False</td>\n",
       "      <td>1.000</td>\n",
       "    </tr>\n",
       "    <tr>\n",
       "      <th>22804</th>\n",
       "      <td>Australia</td>\n",
       "      <td>3250</td>\n",
       "      <td>2.186361e+07</td>\n",
       "      <td>0.000000e+00</td>\n",
       "      <td>Closed Lost</td>\n",
       "      <td>False</td>\n",
       "      <td>0.000</td>\n",
       "    </tr>\n",
       "    <tr>\n",
       "      <th>...</th>\n",
       "      <td>...</td>\n",
       "      <td>...</td>\n",
       "      <td>...</td>\n",
       "      <td>...</td>\n",
       "      <td>...</td>\n",
       "      <td>...</td>\n",
       "      <td>...</td>\n",
       "    </tr>\n",
       "    <tr>\n",
       "      <th>737811</th>\n",
       "      <td>United Kingdom</td>\n",
       "      <td>12536</td>\n",
       "      <td>3.654466e+06</td>\n",
       "      <td>5.938508e+06</td>\n",
       "      <td>Closed Lost</td>\n",
       "      <td>False</td>\n",
       "      <td>1.625</td>\n",
       "    </tr>\n",
       "    <tr>\n",
       "      <th>737882</th>\n",
       "      <td>United Kingdom</td>\n",
       "      <td>12610</td>\n",
       "      <td>1.708575e+06</td>\n",
       "      <td>1.708575e+06</td>\n",
       "      <td>Closed Lost</td>\n",
       "      <td>False</td>\n",
       "      <td>1.000</td>\n",
       "    </tr>\n",
       "    <tr>\n",
       "      <th>737967</th>\n",
       "      <td>United Kingdom</td>\n",
       "      <td>12695</td>\n",
       "      <td>1.624276e+06</td>\n",
       "      <td>3.248552e+06</td>\n",
       "      <td>Closed Won</td>\n",
       "      <td>False</td>\n",
       "      <td>2.000</td>\n",
       "    </tr>\n",
       "    <tr>\n",
       "      <th>738019</th>\n",
       "      <td>United Kingdom</td>\n",
       "      <td>12748</td>\n",
       "      <td>3.311024e+05</td>\n",
       "      <td>6.622048e+05</td>\n",
       "      <td>Closed Won</td>\n",
       "      <td>False</td>\n",
       "      <td>2.000</td>\n",
       "    </tr>\n",
       "    <tr>\n",
       "      <th>740781</th>\n",
       "      <td>Vietnam</td>\n",
       "      <td>2816</td>\n",
       "      <td>6.600132e+06</td>\n",
       "      <td>0.000000e+00</td>\n",
       "      <td>Closed Lost</td>\n",
       "      <td>False</td>\n",
       "      <td>0.000</td>\n",
       "    </tr>\n",
       "  </tbody>\n",
       "</table>\n",
       "<p>1460 rows × 7 columns</p>\n",
       "</div>"
      ],
      "text/plain": [
       "             Territory  Opportunity_ID  Total_Amount_(converted)  \\\n",
       "20488        Australia             863              3.800201e+06   \n",
       "20548        Australia             927              2.069990e+07   \n",
       "21560        Australia            1964              4.444557e+05   \n",
       "21561        Australia            1965              4.444557e+05   \n",
       "22804        Australia            3250              2.186361e+07   \n",
       "...                ...             ...                       ...   \n",
       "737811  United Kingdom           12536              3.654466e+06   \n",
       "737882  United Kingdom           12610              1.708575e+06   \n",
       "737967  United Kingdom           12695              1.624276e+06   \n",
       "738019  United Kingdom           12748              3.311024e+05   \n",
       "740781         Vietnam            2816              6.600132e+06   \n",
       "\n",
       "        Total_Taxable_Amount_(converted)        Stage    Tax  Tasa_impuesto  \n",
       "20488                       3.800201e+06  Closed Lost  False          1.000  \n",
       "20548                       2.069990e+07  Closed Lost  False          1.000  \n",
       "21560                       4.444557e+05   Closed Won  False          1.000  \n",
       "21561                       4.444557e+05   Closed Won  False          1.000  \n",
       "22804                       0.000000e+00  Closed Lost  False          0.000  \n",
       "...                                  ...          ...    ...            ...  \n",
       "737811                      5.938508e+06  Closed Lost  False          1.625  \n",
       "737882                      1.708575e+06  Closed Lost  False          1.000  \n",
       "737967                      3.248552e+06   Closed Won  False          2.000  \n",
       "738019                      6.622048e+05   Closed Won  False          2.000  \n",
       "740781                      0.000000e+00  Closed Lost  False          0.000  \n",
       "\n",
       "[1460 rows x 7 columns]"
      ]
     },
     "execution_count": 257,
     "metadata": {},
     "output_type": "execute_result"
    }
   ],
   "source": [
    "df_impuesto_fil"
   ]
  },
  {
   "cell_type": "code",
   "execution_count": 258,
   "metadata": {},
   "outputs": [],
   "source": [
    "df_impuesto['Taxable']= df.Total_Taxable_Amount >= df.Total_Amount"
   ]
  },
  {
   "cell_type": "code",
   "execution_count": 259,
   "metadata": {},
   "outputs": [
    {
     "data": {
      "text/plain": [
       "True    3\n",
       "Name: Taxable, dtype: int64"
      ]
     },
     "execution_count": 259,
     "metadata": {},
     "output_type": "execute_result"
    }
   ],
   "source": [
    "df_impuesto.Taxable.value_counts()"
   ]
  },
  {
   "cell_type": "code",
   "execution_count": 260,
   "metadata": {},
   "outputs": [
    {
     "data": {
      "text/plain": [
       "True     8381\n",
       "False    1460\n",
       "Name: Tax, dtype: int64"
      ]
     },
     "execution_count": 260,
     "metadata": {},
     "output_type": "execute_result"
    }
   ],
   "source": [
    "df_impuesto.Tax.value_counts()"
   ]
  },
  {
   "cell_type": "code",
   "execution_count": 279,
   "metadata": {},
   "outputs": [],
   "source": [
    "df_impuesto_fil=df_impuesto_fil[(df_impuesto_fil['Tasa_impuesto']>0)&(round(df_impuesto_fil['Tasa_impuesto'], 1) != 1.0)]"
   ]
  },
  {
   "cell_type": "code",
   "execution_count": 281,
   "metadata": {},
   "outputs": [
    {
     "data": {
      "application/vnd.plotly.v1+json": {
       "config": {
        "plotlyServerURL": "https://plot.ly"
       },
       "data": [
        {
         "hovertemplate": "Stage=Closed Won<br>Total_Amount_(converted)=%{x}<br>Tasa_impuesto=%{y}<extra></extra>",
         "legendgroup": "Closed Won",
         "marker": {
          "color": "#636efa",
          "symbol": "circle"
         },
         "mode": "markers",
         "name": "Closed Won",
         "orientation": "v",
         "showlegend": true,
         "type": "scatter",
         "x": [
          125284.74052478133,
          10335,
          10057887.6,
          385106.4,
          192124.8,
          255255,
          12241.25,
          295188,
          9431903.25,
          546105,
          346623,
          11111133.92,
          51599056.57,
          6282156,
          109260,
          12615483,
          339191.73750000005,
          87548.19750000001,
          1624275.9000000001,
          331102.395
         ],
         "xaxis": "x",
         "y": [
          0.9472111336378339,
          5.226415094339623,
          0.5807384246369983,
          0.05771495877502944,
          0.4459601259181532,
          0.3384615384615385,
          0.43328908403962013,
          0.3953006219765031,
          0.020097772949483977,
          0.2079407806191117,
          0.20543356903609974,
          2.6050275613994223,
          3.4424595042552335,
          5,
          0.3780889621087314,
          2.507845811373215,
          1.3246753246753247,
          1.2093938598792966,
          2,
          2
         ],
         "yaxis": "y"
        },
        {
         "hovertemplate": "Stage=Closed Lost<br>Total_Amount_(converted)=%{x}<br>Tasa_impuesto=%{y}<extra></extra>",
         "legendgroup": "Closed Lost",
         "marker": {
          "color": "#EF553B",
          "symbol": "circle"
         },
         "mode": "markers",
         "name": "Closed Lost",
         "orientation": "v",
         "showlegend": true,
         "type": "scatter",
         "x": [
          10848600,
          902211.7,
          732294,
          9009950,
          15231.6864,
          1092000,
          1239840,
          1241799,
          7501000,
          2352294,
          3654466.1999999997
         ],
         "xaxis": "x",
         "y": [
          1.08319932,
          0.48404570678921593,
          0.2876303779629493,
          0.4500579914427938,
          0.9231911260988146,
          0.9297195600000001,
          1.08753141,
          0.9441303900859963,
          0.9441303900000001,
          0.9441303898184071,
          1.6250000000000002
         ],
         "yaxis": "y"
        }
       ],
       "layout": {
        "legend": {
         "title": {
          "text": "Stage"
         },
         "tracegroupgap": 0
        },
        "template": {
         "data": {
          "bar": [
           {
            "error_x": {
             "color": "#2a3f5f"
            },
            "error_y": {
             "color": "#2a3f5f"
            },
            "marker": {
             "line": {
              "color": "#E5ECF6",
              "width": 0.5
             }
            },
            "type": "bar"
           }
          ],
          "barpolar": [
           {
            "marker": {
             "line": {
              "color": "#E5ECF6",
              "width": 0.5
             }
            },
            "type": "barpolar"
           }
          ],
          "carpet": [
           {
            "aaxis": {
             "endlinecolor": "#2a3f5f",
             "gridcolor": "white",
             "linecolor": "white",
             "minorgridcolor": "white",
             "startlinecolor": "#2a3f5f"
            },
            "baxis": {
             "endlinecolor": "#2a3f5f",
             "gridcolor": "white",
             "linecolor": "white",
             "minorgridcolor": "white",
             "startlinecolor": "#2a3f5f"
            },
            "type": "carpet"
           }
          ],
          "choropleth": [
           {
            "colorbar": {
             "outlinewidth": 0,
             "ticks": ""
            },
            "type": "choropleth"
           }
          ],
          "contour": [
           {
            "colorbar": {
             "outlinewidth": 0,
             "ticks": ""
            },
            "colorscale": [
             [
              0,
              "#0d0887"
             ],
             [
              0.1111111111111111,
              "#46039f"
             ],
             [
              0.2222222222222222,
              "#7201a8"
             ],
             [
              0.3333333333333333,
              "#9c179e"
             ],
             [
              0.4444444444444444,
              "#bd3786"
             ],
             [
              0.5555555555555556,
              "#d8576b"
             ],
             [
              0.6666666666666666,
              "#ed7953"
             ],
             [
              0.7777777777777778,
              "#fb9f3a"
             ],
             [
              0.8888888888888888,
              "#fdca26"
             ],
             [
              1,
              "#f0f921"
             ]
            ],
            "type": "contour"
           }
          ],
          "contourcarpet": [
           {
            "colorbar": {
             "outlinewidth": 0,
             "ticks": ""
            },
            "type": "contourcarpet"
           }
          ],
          "heatmap": [
           {
            "colorbar": {
             "outlinewidth": 0,
             "ticks": ""
            },
            "colorscale": [
             [
              0,
              "#0d0887"
             ],
             [
              0.1111111111111111,
              "#46039f"
             ],
             [
              0.2222222222222222,
              "#7201a8"
             ],
             [
              0.3333333333333333,
              "#9c179e"
             ],
             [
              0.4444444444444444,
              "#bd3786"
             ],
             [
              0.5555555555555556,
              "#d8576b"
             ],
             [
              0.6666666666666666,
              "#ed7953"
             ],
             [
              0.7777777777777778,
              "#fb9f3a"
             ],
             [
              0.8888888888888888,
              "#fdca26"
             ],
             [
              1,
              "#f0f921"
             ]
            ],
            "type": "heatmap"
           }
          ],
          "heatmapgl": [
           {
            "colorbar": {
             "outlinewidth": 0,
             "ticks": ""
            },
            "colorscale": [
             [
              0,
              "#0d0887"
             ],
             [
              0.1111111111111111,
              "#46039f"
             ],
             [
              0.2222222222222222,
              "#7201a8"
             ],
             [
              0.3333333333333333,
              "#9c179e"
             ],
             [
              0.4444444444444444,
              "#bd3786"
             ],
             [
              0.5555555555555556,
              "#d8576b"
             ],
             [
              0.6666666666666666,
              "#ed7953"
             ],
             [
              0.7777777777777778,
              "#fb9f3a"
             ],
             [
              0.8888888888888888,
              "#fdca26"
             ],
             [
              1,
              "#f0f921"
             ]
            ],
            "type": "heatmapgl"
           }
          ],
          "histogram": [
           {
            "marker": {
             "colorbar": {
              "outlinewidth": 0,
              "ticks": ""
             }
            },
            "type": "histogram"
           }
          ],
          "histogram2d": [
           {
            "colorbar": {
             "outlinewidth": 0,
             "ticks": ""
            },
            "colorscale": [
             [
              0,
              "#0d0887"
             ],
             [
              0.1111111111111111,
              "#46039f"
             ],
             [
              0.2222222222222222,
              "#7201a8"
             ],
             [
              0.3333333333333333,
              "#9c179e"
             ],
             [
              0.4444444444444444,
              "#bd3786"
             ],
             [
              0.5555555555555556,
              "#d8576b"
             ],
             [
              0.6666666666666666,
              "#ed7953"
             ],
             [
              0.7777777777777778,
              "#fb9f3a"
             ],
             [
              0.8888888888888888,
              "#fdca26"
             ],
             [
              1,
              "#f0f921"
             ]
            ],
            "type": "histogram2d"
           }
          ],
          "histogram2dcontour": [
           {
            "colorbar": {
             "outlinewidth": 0,
             "ticks": ""
            },
            "colorscale": [
             [
              0,
              "#0d0887"
             ],
             [
              0.1111111111111111,
              "#46039f"
             ],
             [
              0.2222222222222222,
              "#7201a8"
             ],
             [
              0.3333333333333333,
              "#9c179e"
             ],
             [
              0.4444444444444444,
              "#bd3786"
             ],
             [
              0.5555555555555556,
              "#d8576b"
             ],
             [
              0.6666666666666666,
              "#ed7953"
             ],
             [
              0.7777777777777778,
              "#fb9f3a"
             ],
             [
              0.8888888888888888,
              "#fdca26"
             ],
             [
              1,
              "#f0f921"
             ]
            ],
            "type": "histogram2dcontour"
           }
          ],
          "mesh3d": [
           {
            "colorbar": {
             "outlinewidth": 0,
             "ticks": ""
            },
            "type": "mesh3d"
           }
          ],
          "parcoords": [
           {
            "line": {
             "colorbar": {
              "outlinewidth": 0,
              "ticks": ""
             }
            },
            "type": "parcoords"
           }
          ],
          "pie": [
           {
            "automargin": true,
            "type": "pie"
           }
          ],
          "scatter": [
           {
            "marker": {
             "colorbar": {
              "outlinewidth": 0,
              "ticks": ""
             }
            },
            "type": "scatter"
           }
          ],
          "scatter3d": [
           {
            "line": {
             "colorbar": {
              "outlinewidth": 0,
              "ticks": ""
             }
            },
            "marker": {
             "colorbar": {
              "outlinewidth": 0,
              "ticks": ""
             }
            },
            "type": "scatter3d"
           }
          ],
          "scattercarpet": [
           {
            "marker": {
             "colorbar": {
              "outlinewidth": 0,
              "ticks": ""
             }
            },
            "type": "scattercarpet"
           }
          ],
          "scattergeo": [
           {
            "marker": {
             "colorbar": {
              "outlinewidth": 0,
              "ticks": ""
             }
            },
            "type": "scattergeo"
           }
          ],
          "scattergl": [
           {
            "marker": {
             "colorbar": {
              "outlinewidth": 0,
              "ticks": ""
             }
            },
            "type": "scattergl"
           }
          ],
          "scattermapbox": [
           {
            "marker": {
             "colorbar": {
              "outlinewidth": 0,
              "ticks": ""
             }
            },
            "type": "scattermapbox"
           }
          ],
          "scatterpolar": [
           {
            "marker": {
             "colorbar": {
              "outlinewidth": 0,
              "ticks": ""
             }
            },
            "type": "scatterpolar"
           }
          ],
          "scatterpolargl": [
           {
            "marker": {
             "colorbar": {
              "outlinewidth": 0,
              "ticks": ""
             }
            },
            "type": "scatterpolargl"
           }
          ],
          "scatterternary": [
           {
            "marker": {
             "colorbar": {
              "outlinewidth": 0,
              "ticks": ""
             }
            },
            "type": "scatterternary"
           }
          ],
          "surface": [
           {
            "colorbar": {
             "outlinewidth": 0,
             "ticks": ""
            },
            "colorscale": [
             [
              0,
              "#0d0887"
             ],
             [
              0.1111111111111111,
              "#46039f"
             ],
             [
              0.2222222222222222,
              "#7201a8"
             ],
             [
              0.3333333333333333,
              "#9c179e"
             ],
             [
              0.4444444444444444,
              "#bd3786"
             ],
             [
              0.5555555555555556,
              "#d8576b"
             ],
             [
              0.6666666666666666,
              "#ed7953"
             ],
             [
              0.7777777777777778,
              "#fb9f3a"
             ],
             [
              0.8888888888888888,
              "#fdca26"
             ],
             [
              1,
              "#f0f921"
             ]
            ],
            "type": "surface"
           }
          ],
          "table": [
           {
            "cells": {
             "fill": {
              "color": "#EBF0F8"
             },
             "line": {
              "color": "white"
             }
            },
            "header": {
             "fill": {
              "color": "#C8D4E3"
             },
             "line": {
              "color": "white"
             }
            },
            "type": "table"
           }
          ]
         },
         "layout": {
          "annotationdefaults": {
           "arrowcolor": "#2a3f5f",
           "arrowhead": 0,
           "arrowwidth": 1
          },
          "coloraxis": {
           "colorbar": {
            "outlinewidth": 0,
            "ticks": ""
           }
          },
          "colorscale": {
           "diverging": [
            [
             0,
             "#8e0152"
            ],
            [
             0.1,
             "#c51b7d"
            ],
            [
             0.2,
             "#de77ae"
            ],
            [
             0.3,
             "#f1b6da"
            ],
            [
             0.4,
             "#fde0ef"
            ],
            [
             0.5,
             "#f7f7f7"
            ],
            [
             0.6,
             "#e6f5d0"
            ],
            [
             0.7,
             "#b8e186"
            ],
            [
             0.8,
             "#7fbc41"
            ],
            [
             0.9,
             "#4d9221"
            ],
            [
             1,
             "#276419"
            ]
           ],
           "sequential": [
            [
             0,
             "#0d0887"
            ],
            [
             0.1111111111111111,
             "#46039f"
            ],
            [
             0.2222222222222222,
             "#7201a8"
            ],
            [
             0.3333333333333333,
             "#9c179e"
            ],
            [
             0.4444444444444444,
             "#bd3786"
            ],
            [
             0.5555555555555556,
             "#d8576b"
            ],
            [
             0.6666666666666666,
             "#ed7953"
            ],
            [
             0.7777777777777778,
             "#fb9f3a"
            ],
            [
             0.8888888888888888,
             "#fdca26"
            ],
            [
             1,
             "#f0f921"
            ]
           ],
           "sequentialminus": [
            [
             0,
             "#0d0887"
            ],
            [
             0.1111111111111111,
             "#46039f"
            ],
            [
             0.2222222222222222,
             "#7201a8"
            ],
            [
             0.3333333333333333,
             "#9c179e"
            ],
            [
             0.4444444444444444,
             "#bd3786"
            ],
            [
             0.5555555555555556,
             "#d8576b"
            ],
            [
             0.6666666666666666,
             "#ed7953"
            ],
            [
             0.7777777777777778,
             "#fb9f3a"
            ],
            [
             0.8888888888888888,
             "#fdca26"
            ],
            [
             1,
             "#f0f921"
            ]
           ]
          },
          "colorway": [
           "#636efa",
           "#EF553B",
           "#00cc96",
           "#ab63fa",
           "#FFA15A",
           "#19d3f3",
           "#FF6692",
           "#B6E880",
           "#FF97FF",
           "#FECB52"
          ],
          "font": {
           "color": "#2a3f5f"
          },
          "geo": {
           "bgcolor": "white",
           "lakecolor": "white",
           "landcolor": "#E5ECF6",
           "showlakes": true,
           "showland": true,
           "subunitcolor": "white"
          },
          "hoverlabel": {
           "align": "left"
          },
          "hovermode": "closest",
          "mapbox": {
           "style": "light"
          },
          "paper_bgcolor": "white",
          "plot_bgcolor": "#E5ECF6",
          "polar": {
           "angularaxis": {
            "gridcolor": "white",
            "linecolor": "white",
            "ticks": ""
           },
           "bgcolor": "#E5ECF6",
           "radialaxis": {
            "gridcolor": "white",
            "linecolor": "white",
            "ticks": ""
           }
          },
          "scene": {
           "xaxis": {
            "backgroundcolor": "#E5ECF6",
            "gridcolor": "white",
            "gridwidth": 2,
            "linecolor": "white",
            "showbackground": true,
            "ticks": "",
            "zerolinecolor": "white"
           },
           "yaxis": {
            "backgroundcolor": "#E5ECF6",
            "gridcolor": "white",
            "gridwidth": 2,
            "linecolor": "white",
            "showbackground": true,
            "ticks": "",
            "zerolinecolor": "white"
           },
           "zaxis": {
            "backgroundcolor": "#E5ECF6",
            "gridcolor": "white",
            "gridwidth": 2,
            "linecolor": "white",
            "showbackground": true,
            "ticks": "",
            "zerolinecolor": "white"
           }
          },
          "shapedefaults": {
           "line": {
            "color": "#2a3f5f"
           }
          },
          "ternary": {
           "aaxis": {
            "gridcolor": "white",
            "linecolor": "white",
            "ticks": ""
           },
           "baxis": {
            "gridcolor": "white",
            "linecolor": "white",
            "ticks": ""
           },
           "bgcolor": "#E5ECF6",
           "caxis": {
            "gridcolor": "white",
            "linecolor": "white",
            "ticks": ""
           }
          },
          "title": {
           "x": 0.05
          },
          "xaxis": {
           "automargin": true,
           "gridcolor": "white",
           "linecolor": "white",
           "ticks": "",
           "title": {
            "standoff": 15
           },
           "zerolinecolor": "white",
           "zerolinewidth": 2
          },
          "yaxis": {
           "automargin": true,
           "gridcolor": "white",
           "linecolor": "white",
           "ticks": "",
           "title": {
            "standoff": 15
           },
           "zerolinecolor": "white",
           "zerolinewidth": 2
          }
         }
        },
        "title": {
         "text": "Relación entre impuestos, montos, y "
        },
        "xaxis": {
         "anchor": "y",
         "domain": [
          0,
          1
         ],
         "title": {
          "text": "Total_Amount_(converted)"
         }
        },
        "yaxis": {
         "anchor": "x",
         "domain": [
          0,
          1
         ],
         "title": {
          "text": "Tasa_impuesto"
         }
        }
       }
      },
      "text/html": [
       "<div>\n",
       "        \n",
       "        \n",
       "            <div id=\"2f82b9a0-cc97-4fd9-b90c-f88a7a363e5d\" class=\"plotly-graph-div\" style=\"height:525px; width:100%;\"></div>\n",
       "            <script type=\"text/javascript\">\n",
       "                require([\"plotly\"], function(Plotly) {\n",
       "                    window.PLOTLYENV=window.PLOTLYENV || {};\n",
       "                    \n",
       "                if (document.getElementById(\"2f82b9a0-cc97-4fd9-b90c-f88a7a363e5d\")) {\n",
       "                    Plotly.newPlot(\n",
       "                        '2f82b9a0-cc97-4fd9-b90c-f88a7a363e5d',\n",
       "                        [{\"hovertemplate\": \"Stage=Closed Won<br>Total_Amount_(converted)=%{x}<br>Tasa_impuesto=%{y}<extra></extra>\", \"legendgroup\": \"Closed Won\", \"marker\": {\"color\": \"#636efa\", \"symbol\": \"circle\"}, \"mode\": \"markers\", \"name\": \"Closed Won\", \"orientation\": \"v\", \"showlegend\": true, \"type\": \"scatter\", \"x\": [125284.74052478133, 10335.0, 10057887.6, 385106.4, 192124.8, 255255.0, 12241.25, 295188.0, 9431903.25, 546105.0, 346623.0, 11111133.92, 51599056.57, 6282156.0, 109260.0, 12615483.0, 339191.73750000005, 87548.19750000001, 1624275.9000000001, 331102.395], \"xaxis\": \"x\", \"y\": [0.9472111336378339, 5.226415094339623, 0.5807384246369983, 0.05771495877502944, 0.4459601259181532, 0.3384615384615385, 0.43328908403962013, 0.3953006219765031, 0.020097772949483977, 0.2079407806191117, 0.20543356903609974, 2.6050275613994223, 3.4424595042552335, 5.0, 0.3780889621087314, 2.507845811373215, 1.3246753246753247, 1.2093938598792966, 2.0, 2.0], \"yaxis\": \"y\"}, {\"hovertemplate\": \"Stage=Closed Lost<br>Total_Amount_(converted)=%{x}<br>Tasa_impuesto=%{y}<extra></extra>\", \"legendgroup\": \"Closed Lost\", \"marker\": {\"color\": \"#EF553B\", \"symbol\": \"circle\"}, \"mode\": \"markers\", \"name\": \"Closed Lost\", \"orientation\": \"v\", \"showlegend\": true, \"type\": \"scatter\", \"x\": [10848600.0, 902211.7, 732294.0, 9009950.0, 15231.6864, 1092000.0, 1239840.0, 1241799.0, 7501000.0, 2352294.0, 3654466.1999999997], \"xaxis\": \"x\", \"y\": [1.08319932, 0.48404570678921593, 0.2876303779629493, 0.4500579914427938, 0.9231911260988146, 0.9297195600000001, 1.08753141, 0.9441303900859963, 0.9441303900000001, 0.9441303898184071, 1.6250000000000002], \"yaxis\": \"y\"}],\n",
       "                        {\"legend\": {\"title\": {\"text\": \"Stage\"}, \"tracegroupgap\": 0}, \"template\": {\"data\": {\"bar\": [{\"error_x\": {\"color\": \"#2a3f5f\"}, \"error_y\": {\"color\": \"#2a3f5f\"}, \"marker\": {\"line\": {\"color\": \"#E5ECF6\", \"width\": 0.5}}, \"type\": \"bar\"}], \"barpolar\": [{\"marker\": {\"line\": {\"color\": \"#E5ECF6\", \"width\": 0.5}}, \"type\": \"barpolar\"}], \"carpet\": [{\"aaxis\": {\"endlinecolor\": \"#2a3f5f\", \"gridcolor\": \"white\", \"linecolor\": \"white\", \"minorgridcolor\": \"white\", \"startlinecolor\": \"#2a3f5f\"}, \"baxis\": {\"endlinecolor\": \"#2a3f5f\", \"gridcolor\": \"white\", \"linecolor\": \"white\", \"minorgridcolor\": \"white\", \"startlinecolor\": \"#2a3f5f\"}, \"type\": \"carpet\"}], \"choropleth\": [{\"colorbar\": {\"outlinewidth\": 0, \"ticks\": \"\"}, \"type\": \"choropleth\"}], \"contour\": [{\"colorbar\": {\"outlinewidth\": 0, \"ticks\": \"\"}, \"colorscale\": [[0.0, \"#0d0887\"], [0.1111111111111111, \"#46039f\"], [0.2222222222222222, \"#7201a8\"], [0.3333333333333333, \"#9c179e\"], [0.4444444444444444, \"#bd3786\"], [0.5555555555555556, \"#d8576b\"], [0.6666666666666666, \"#ed7953\"], [0.7777777777777778, \"#fb9f3a\"], [0.8888888888888888, \"#fdca26\"], [1.0, \"#f0f921\"]], \"type\": \"contour\"}], \"contourcarpet\": [{\"colorbar\": {\"outlinewidth\": 0, \"ticks\": \"\"}, \"type\": \"contourcarpet\"}], \"heatmap\": [{\"colorbar\": {\"outlinewidth\": 0, \"ticks\": \"\"}, \"colorscale\": [[0.0, \"#0d0887\"], [0.1111111111111111, \"#46039f\"], [0.2222222222222222, \"#7201a8\"], [0.3333333333333333, \"#9c179e\"], [0.4444444444444444, \"#bd3786\"], [0.5555555555555556, \"#d8576b\"], [0.6666666666666666, \"#ed7953\"], [0.7777777777777778, \"#fb9f3a\"], [0.8888888888888888, \"#fdca26\"], [1.0, \"#f0f921\"]], \"type\": \"heatmap\"}], \"heatmapgl\": [{\"colorbar\": {\"outlinewidth\": 0, \"ticks\": \"\"}, \"colorscale\": [[0.0, \"#0d0887\"], [0.1111111111111111, \"#46039f\"], [0.2222222222222222, \"#7201a8\"], [0.3333333333333333, \"#9c179e\"], [0.4444444444444444, \"#bd3786\"], [0.5555555555555556, \"#d8576b\"], [0.6666666666666666, \"#ed7953\"], [0.7777777777777778, \"#fb9f3a\"], [0.8888888888888888, \"#fdca26\"], [1.0, \"#f0f921\"]], \"type\": \"heatmapgl\"}], \"histogram\": [{\"marker\": {\"colorbar\": {\"outlinewidth\": 0, \"ticks\": \"\"}}, \"type\": \"histogram\"}], \"histogram2d\": [{\"colorbar\": {\"outlinewidth\": 0, \"ticks\": \"\"}, \"colorscale\": [[0.0, \"#0d0887\"], [0.1111111111111111, \"#46039f\"], [0.2222222222222222, \"#7201a8\"], [0.3333333333333333, \"#9c179e\"], [0.4444444444444444, \"#bd3786\"], [0.5555555555555556, \"#d8576b\"], [0.6666666666666666, \"#ed7953\"], [0.7777777777777778, \"#fb9f3a\"], [0.8888888888888888, \"#fdca26\"], [1.0, \"#f0f921\"]], \"type\": \"histogram2d\"}], \"histogram2dcontour\": [{\"colorbar\": {\"outlinewidth\": 0, \"ticks\": \"\"}, \"colorscale\": [[0.0, \"#0d0887\"], [0.1111111111111111, \"#46039f\"], [0.2222222222222222, \"#7201a8\"], [0.3333333333333333, \"#9c179e\"], [0.4444444444444444, \"#bd3786\"], [0.5555555555555556, \"#d8576b\"], [0.6666666666666666, \"#ed7953\"], [0.7777777777777778, \"#fb9f3a\"], [0.8888888888888888, \"#fdca26\"], [1.0, \"#f0f921\"]], \"type\": \"histogram2dcontour\"}], \"mesh3d\": [{\"colorbar\": {\"outlinewidth\": 0, \"ticks\": \"\"}, \"type\": \"mesh3d\"}], \"parcoords\": [{\"line\": {\"colorbar\": {\"outlinewidth\": 0, \"ticks\": \"\"}}, \"type\": \"parcoords\"}], \"pie\": [{\"automargin\": true, \"type\": \"pie\"}], \"scatter\": [{\"marker\": {\"colorbar\": {\"outlinewidth\": 0, \"ticks\": \"\"}}, \"type\": \"scatter\"}], \"scatter3d\": [{\"line\": {\"colorbar\": {\"outlinewidth\": 0, \"ticks\": \"\"}}, \"marker\": {\"colorbar\": {\"outlinewidth\": 0, \"ticks\": \"\"}}, \"type\": \"scatter3d\"}], \"scattercarpet\": [{\"marker\": {\"colorbar\": {\"outlinewidth\": 0, \"ticks\": \"\"}}, \"type\": \"scattercarpet\"}], \"scattergeo\": [{\"marker\": {\"colorbar\": {\"outlinewidth\": 0, \"ticks\": \"\"}}, \"type\": \"scattergeo\"}], \"scattergl\": [{\"marker\": {\"colorbar\": {\"outlinewidth\": 0, \"ticks\": \"\"}}, \"type\": \"scattergl\"}], \"scattermapbox\": [{\"marker\": {\"colorbar\": {\"outlinewidth\": 0, \"ticks\": \"\"}}, \"type\": \"scattermapbox\"}], \"scatterpolar\": [{\"marker\": {\"colorbar\": {\"outlinewidth\": 0, \"ticks\": \"\"}}, \"type\": \"scatterpolar\"}], \"scatterpolargl\": [{\"marker\": {\"colorbar\": {\"outlinewidth\": 0, \"ticks\": \"\"}}, \"type\": \"scatterpolargl\"}], \"scatterternary\": [{\"marker\": {\"colorbar\": {\"outlinewidth\": 0, \"ticks\": \"\"}}, \"type\": \"scatterternary\"}], \"surface\": [{\"colorbar\": {\"outlinewidth\": 0, \"ticks\": \"\"}, \"colorscale\": [[0.0, \"#0d0887\"], [0.1111111111111111, \"#46039f\"], [0.2222222222222222, \"#7201a8\"], [0.3333333333333333, \"#9c179e\"], [0.4444444444444444, \"#bd3786\"], [0.5555555555555556, \"#d8576b\"], [0.6666666666666666, \"#ed7953\"], [0.7777777777777778, \"#fb9f3a\"], [0.8888888888888888, \"#fdca26\"], [1.0, \"#f0f921\"]], \"type\": \"surface\"}], \"table\": [{\"cells\": {\"fill\": {\"color\": \"#EBF0F8\"}, \"line\": {\"color\": \"white\"}}, \"header\": {\"fill\": {\"color\": \"#C8D4E3\"}, \"line\": {\"color\": \"white\"}}, \"type\": \"table\"}]}, \"layout\": {\"annotationdefaults\": {\"arrowcolor\": \"#2a3f5f\", \"arrowhead\": 0, \"arrowwidth\": 1}, \"coloraxis\": {\"colorbar\": {\"outlinewidth\": 0, \"ticks\": \"\"}}, \"colorscale\": {\"diverging\": [[0, \"#8e0152\"], [0.1, \"#c51b7d\"], [0.2, \"#de77ae\"], [0.3, \"#f1b6da\"], [0.4, \"#fde0ef\"], [0.5, \"#f7f7f7\"], [0.6, \"#e6f5d0\"], [0.7, \"#b8e186\"], [0.8, \"#7fbc41\"], [0.9, \"#4d9221\"], [1, \"#276419\"]], \"sequential\": [[0.0, \"#0d0887\"], [0.1111111111111111, \"#46039f\"], [0.2222222222222222, \"#7201a8\"], [0.3333333333333333, \"#9c179e\"], [0.4444444444444444, \"#bd3786\"], [0.5555555555555556, \"#d8576b\"], [0.6666666666666666, \"#ed7953\"], [0.7777777777777778, \"#fb9f3a\"], [0.8888888888888888, \"#fdca26\"], [1.0, \"#f0f921\"]], \"sequentialminus\": [[0.0, \"#0d0887\"], [0.1111111111111111, \"#46039f\"], [0.2222222222222222, \"#7201a8\"], [0.3333333333333333, \"#9c179e\"], [0.4444444444444444, \"#bd3786\"], [0.5555555555555556, \"#d8576b\"], [0.6666666666666666, \"#ed7953\"], [0.7777777777777778, \"#fb9f3a\"], [0.8888888888888888, \"#fdca26\"], [1.0, \"#f0f921\"]]}, \"colorway\": [\"#636efa\", \"#EF553B\", \"#00cc96\", \"#ab63fa\", \"#FFA15A\", \"#19d3f3\", \"#FF6692\", \"#B6E880\", \"#FF97FF\", \"#FECB52\"], \"font\": {\"color\": \"#2a3f5f\"}, \"geo\": {\"bgcolor\": \"white\", \"lakecolor\": \"white\", \"landcolor\": \"#E5ECF6\", \"showlakes\": true, \"showland\": true, \"subunitcolor\": \"white\"}, \"hoverlabel\": {\"align\": \"left\"}, \"hovermode\": \"closest\", \"mapbox\": {\"style\": \"light\"}, \"paper_bgcolor\": \"white\", \"plot_bgcolor\": \"#E5ECF6\", \"polar\": {\"angularaxis\": {\"gridcolor\": \"white\", \"linecolor\": \"white\", \"ticks\": \"\"}, \"bgcolor\": \"#E5ECF6\", \"radialaxis\": {\"gridcolor\": \"white\", \"linecolor\": \"white\", \"ticks\": \"\"}}, \"scene\": {\"xaxis\": {\"backgroundcolor\": \"#E5ECF6\", \"gridcolor\": \"white\", \"gridwidth\": 2, \"linecolor\": \"white\", \"showbackground\": true, \"ticks\": \"\", \"zerolinecolor\": \"white\"}, \"yaxis\": {\"backgroundcolor\": \"#E5ECF6\", \"gridcolor\": \"white\", \"gridwidth\": 2, \"linecolor\": \"white\", \"showbackground\": true, \"ticks\": \"\", \"zerolinecolor\": \"white\"}, \"zaxis\": {\"backgroundcolor\": \"#E5ECF6\", \"gridcolor\": \"white\", \"gridwidth\": 2, \"linecolor\": \"white\", \"showbackground\": true, \"ticks\": \"\", \"zerolinecolor\": \"white\"}}, \"shapedefaults\": {\"line\": {\"color\": \"#2a3f5f\"}}, \"ternary\": {\"aaxis\": {\"gridcolor\": \"white\", \"linecolor\": \"white\", \"ticks\": \"\"}, \"baxis\": {\"gridcolor\": \"white\", \"linecolor\": \"white\", \"ticks\": \"\"}, \"bgcolor\": \"#E5ECF6\", \"caxis\": {\"gridcolor\": \"white\", \"linecolor\": \"white\", \"ticks\": \"\"}}, \"title\": {\"x\": 0.05}, \"xaxis\": {\"automargin\": true, \"gridcolor\": \"white\", \"linecolor\": \"white\", \"ticks\": \"\", \"title\": {\"standoff\": 15}, \"zerolinecolor\": \"white\", \"zerolinewidth\": 2}, \"yaxis\": {\"automargin\": true, \"gridcolor\": \"white\", \"linecolor\": \"white\", \"ticks\": \"\", \"title\": {\"standoff\": 15}, \"zerolinecolor\": \"white\", \"zerolinewidth\": 2}}}, \"title\": {\"text\": \"Relaci\\u00f3n entre impuestos, montos, y \"}, \"xaxis\": {\"anchor\": \"y\", \"domain\": [0.0, 1.0], \"title\": {\"text\": \"Total_Amount_(converted)\"}}, \"yaxis\": {\"anchor\": \"x\", \"domain\": [0.0, 1.0], \"title\": {\"text\": \"Tasa_impuesto\"}}},\n",
       "                        {\"responsive\": true}\n",
       "                    ).then(function(){\n",
       "                            \n",
       "var gd = document.getElementById('2f82b9a0-cc97-4fd9-b90c-f88a7a363e5d');\n",
       "var x = new MutationObserver(function (mutations, observer) {{\n",
       "        var display = window.getComputedStyle(gd).display;\n",
       "        if (!display || display === 'none') {{\n",
       "            console.log([gd, 'removed!']);\n",
       "            Plotly.purge(gd);\n",
       "            observer.disconnect();\n",
       "        }}\n",
       "}});\n",
       "\n",
       "// Listen for the removal of the full notebook cells\n",
       "var notebookContainer = gd.closest('#notebook-container');\n",
       "if (notebookContainer) {{\n",
       "    x.observe(notebookContainer, {childList: true});\n",
       "}}\n",
       "\n",
       "// Listen for the clearing of the current output cell\n",
       "var outputEl = gd.closest('.output');\n",
       "if (outputEl) {{\n",
       "    x.observe(outputEl, {childList: true});\n",
       "}}\n",
       "\n",
       "                        })\n",
       "                };\n",
       "                });\n",
       "            </script>\n",
       "        </div>"
      ]
     },
     "metadata": {},
     "output_type": "display_data"
    }
   ],
   "source": [
    "px.scatter(df_impuesto_fil, x=\"Total_Amount_(converted)\", y=\"Tasa_impuesto\", color= 'Stage', title='Relación entre impuestos, montos, y ')\n",
    "#Considero que no llega a una conclusión significante"
   ]
  },
  {
   "cell_type": "code",
   "execution_count": 345,
   "metadata": {},
   "outputs": [],
   "source": [
    "dfproducts = df_won.groupby(['Opportunity_ID', 'Month', 'Region']).agg({'Total_Taxable_Amount_(converted)':'sum','Product_Type':'count', 'Stage':'first'}).reset_index().dropna()"
   ]
  },
  {
   "cell_type": "code",
   "execution_count": 346,
   "metadata": {},
   "outputs": [],
   "source": [
    "dfproducts = dfproducts.groupby(['Month', 'Region']).agg({'Product_Type':'sum'}).reset_index().dropna()"
   ]
  },
  {
   "cell_type": "code",
   "execution_count": 347,
   "metadata": {},
   "outputs": [
    {
     "data": {
      "text/plain": [
       "[Text(0.5, 0, 'Mes de inicio de entrega'),\n",
       " Text(0, 0.5, 'Cantidad de productos')]"
      ]
     },
     "execution_count": 347,
     "metadata": {},
     "output_type": "execute_result"
    },
    {
     "data": {
      "image/png": "[encoded data removed]",
      "text/plain": [
       "<Figure size 1152x576 with 1 Axes>"
      ]
     },
     "metadata": {
      "needs_background": "light"
     },
     "output_type": "display_data"
    }
   ],
   "source": [
    "plt.figure(figsize=(16,8))\n",
    "plt.title('Demanda de productos por mes de entrega en oportunidades ganadas')\n",
    "ax = sns.lineplot(x=dfproducts.Month, y=dfproducts['Product_Type'], hue=dfproducts.Region ,palette=\"Dark2\", linewidth=2)\n",
    "ax.set(xlabel='Mes de inicio de entrega', ylabel='Cantidad de productos')"
   ]
  },
  {
   "cell_type": "code",
   "execution_count": null,
   "metadata": {},
   "outputs": [],
   "source": []
  }
 ],
 "metadata": {
  "kernelspec": {
   "display_name": "Python 3",
   "language": "python",
   "name": "python3"
  },
  "language_info": {
   "codemirror_mode": {
    "name": "ipython",
    "version": 3
   },
   "file_extension": ".py",
   "mimetype": "text/x-python",
   "name": "python",
   "nbconvert_exporter": "python",
   "pygments_lexer": "ipython3",
   "version": "3.7.0"
  }
 },
 "nbformat": 4,
 "nbformat_minor": 4
}
